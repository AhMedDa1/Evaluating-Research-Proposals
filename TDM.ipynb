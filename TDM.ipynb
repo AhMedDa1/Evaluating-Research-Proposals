{
  "cells": [
    {
      "cell_type": "markdown",
      "source": [
        "# Import necessary libraries\n",
        "This cell imports the necessary libraries required for data processing, model building, and evaluation.\n"
      ],
      "metadata": {
        "id": "7nwkfLpFMk5X"
      }
    },
    {
      "cell_type": "code",
      "execution_count": null,
      "metadata": {
        "id": "ZlT7PGFG55nb",
        "cellView": "form"
      },
      "outputs": [],
      "source": [
        "#@title 4- Import necessary libraries\n",
        "\n",
        "# Import necessary libraries\n",
        "import os\n",
        "import json\n",
        "from sklearn.feature_extraction.text import TfidfVectorizer\n",
        "from sklearn.ensemble import RandomForestClassifier\n",
        "from sklearn.metrics import classification_report, accuracy_score, precision_recall_curve\n",
        "from sklearn.model_selection import train_test_split\n",
        "from imblearn.over_sampling import ADASYN\n",
        "from imblearn.pipeline import make_pipeline\n",
        "import numpy as np\n",
        "import matplotlib.pyplot as plt\n",
        "import joblib"
      ]
    },
    {
      "cell_type": "code",
      "source": [
        "#@title 5- Load The Data\n",
        "\n",
        "import ipywidgets as widgets\n",
        "from IPython.display import display\n",
        "\n",
        "# Define function to load data (assuming it's already defined in another cell)\n",
        "def load_proposal_data(dataset_path, proposal_type):\n",
        "    texts, labels = [], []\n",
        "    proposal_path = os.path.join(dataset_path, proposal_type)\n",
        "    for filename in os.listdir(proposal_path):\n",
        "        if filename.endswith('.json'):\n",
        "            with open(os.path.join(proposal_path, filename), 'r') as file:\n",
        "                content = json.load(file)\n",
        "                texts.append(content.get('ExtractedText', '').replace('\\n', ' '))\n",
        "                labels.append(1 if 'Approved' in filename else 0)\n",
        "    return texts, np.array(labels)\n",
        "\n",
        "# Widgets\n",
        "dataset_path_widget = widgets.Text(\n",
        "    value='/content/drive/MyDrive/TDM/',\n",
        "    placeholder='Enter dataset path',\n",
        "    description='Dataset Path:',\n",
        "    disabled=False\n",
        ")\n",
        "\n",
        "proposal_types_widget = widgets.SelectMultiple(\n",
        "    options=['IG', 'SR', 'RC'],\n",
        "    value=['IG', 'SR', 'RC'],\n",
        "    description='Proposal Types:',\n",
        "    disabled=False\n",
        ")\n",
        "\n",
        "# Display widgets\n",
        "display(dataset_path_widget, proposal_types_widget)\n",
        "\n",
        "# Button to load data\n",
        "load_data_button = widgets.Button(description=\"Load Data\")\n",
        "\n",
        "output = widgets.Output()\n",
        "\n",
        "def load_data(button):\n",
        "    with output:\n",
        "        output.clear_output()\n",
        "        dataset_path = dataset_path_widget.value\n",
        "        proposal_types = proposal_types_widget.value\n",
        "        data = {}\n",
        "        for proposal_type in proposal_types:\n",
        "            texts, labels = load_proposal_data(dataset_path, proposal_type)\n",
        "            data[proposal_type] = (texts, labels)\n",
        "            print(f\"Loaded {len(texts)} texts and {len(labels)} labels for {proposal_type}\")\n",
        "\n",
        "load_data_button.on_click(load_data)\n",
        "display(load_data_button, output)\n"
      ],
      "metadata": {
        "colab": {
          "base_uri": "https://localhost:8080/",
          "height": 225,
          "referenced_widgets": [
            "cf6d4ba03773405bb025bddb66698fc5",
            "5f1a9835057546c488f594388ffd3380",
            "3bf176331b7c4b4cb8bbbeaaa850a92e",
            "e08ec931d5ff48479834af18dcee8ead",
            "7a389ec125cb40a09900e3a500195a53",
            "be83152045d7441db48bfcb84a5a1305",
            "1dead673ee5a43ea8758c2b23ad71d6c",
            "5bd38e23fba5476094a096b3fa47d223",
            "493548b9b71c4159bec349aca05137bc",
            "40f38945e6a143db9ada614cd849d624",
            "7b088a72c26b4226b030aba75d557522"
          ]
        },
        "cellView": "form",
        "id": "ZEws3QQBQxZq",
        "outputId": "167b993c-c036-407c-bc3b-b6be6deeb653"
      },
      "execution_count": null,
      "outputs": [
        {
          "output_type": "display_data",
          "data": {
            "text/plain": [
              "Text(value='/content/drive/MyDrive/TDM/', description='Dataset Path:', placeholder='Enter dataset path')"
            ],
            "application/vnd.jupyter.widget-view+json": {
              "version_major": 2,
              "version_minor": 0,
              "model_id": "cf6d4ba03773405bb025bddb66698fc5"
            }
          },
          "metadata": {}
        },
        {
          "output_type": "display_data",
          "data": {
            "text/plain": [
              "SelectMultiple(description='Proposal Types:', index=(0, 1, 2), options=('IG', 'SR', 'RC'), value=('IG', 'SR', …"
            ],
            "application/vnd.jupyter.widget-view+json": {
              "version_major": 2,
              "version_minor": 0,
              "model_id": "e08ec931d5ff48479834af18dcee8ead"
            }
          },
          "metadata": {}
        },
        {
          "output_type": "display_data",
          "data": {
            "text/plain": [
              "Button(description='Load Data', style=ButtonStyle())"
            ],
            "application/vnd.jupyter.widget-view+json": {
              "version_major": 2,
              "version_minor": 0,
              "model_id": "1dead673ee5a43ea8758c2b23ad71d6c"
            }
          },
          "metadata": {}
        },
        {
          "output_type": "display_data",
          "data": {
            "text/plain": [
              "Output()"
            ],
            "application/vnd.jupyter.widget-view+json": {
              "version_major": 2,
              "version_minor": 0,
              "model_id": "40f38945e6a143db9ada614cd849d624"
            }
          },
          "metadata": {}
        }
      ]
    },
    {
      "cell_type": "code",
      "execution_count": null,
      "metadata": {
        "id": "pQNA527ogkE0",
        "cellView": "form"
      },
      "outputs": [],
      "source": [
        "#@title 5.1-  Load data from IG, RC and SR datasets\n",
        "dataset_path = '/content/drive/MyDrive/TDM/'\n",
        "ig_texts, ig_labels = load_proposal_data(dataset_path, 'IG')\n",
        "sr_texts, sr_labels = load_proposal_data(dataset_path, 'SR')\n",
        "rc_texts, rc_labels = load_proposal_data(dataset_path, 'RC')"
      ]
    },
    {
      "cell_type": "code",
      "execution_count": null,
      "metadata": {
        "id": "ooiXBBjlgnhX",
        "cellView": "form"
      },
      "outputs": [],
      "source": [
        "#@title 6- Combine texts and labels from IG, RC and SR for a more robust model\n",
        "texts = ig_texts + sr_texts + rc_texts\n",
        "labels = np.concatenate((ig_labels, sr_labels, rc_labels))"
      ]
    },
    {
      "cell_type": "code",
      "execution_count": null,
      "metadata": {
        "id": "q0bs3a8X7R4A",
        "colab": {
          "base_uri": "https://localhost:8080/",
          "height": 116,
          "referenced_widgets": [
            "9279956ed6d64202b1ff42eaaa1c8c71",
            "553e9301ffd04f72b1f19941fba69193",
            "d46a28c183a0439995ee05bf71097123",
            "f9241de216b6400bab43f3956a27f587",
            "45f27eddffa7485bb6b7afc1aabc4d84",
            "27330a24fdc34a76aa3c634dff1659ae",
            "bc689b58032e4ed78a29f4a5780bb345",
            "8bbaca3c24c04dbd8068611548379653"
          ]
        },
        "cellView": "form",
        "outputId": "bb1dbd43-0694-47ff-e938-5cf5b6b54346"
      },
      "outputs": [
        {
          "output_type": "display_data",
          "data": {
            "text/plain": [
              "FloatSlider(value=0.2, continuous_update=False, description='Test Size:', max=0.9, min=0.1, step=0.05)"
            ],
            "application/vnd.jupyter.widget-view+json": {
              "version_major": 2,
              "version_minor": 0,
              "model_id": "9279956ed6d64202b1ff42eaaa1c8c71"
            }
          },
          "metadata": {}
        },
        {
          "output_type": "display_data",
          "data": {
            "text/plain": [
              "Button(description='Split Data', style=ButtonStyle())"
            ],
            "application/vnd.jupyter.widget-view+json": {
              "version_major": 2,
              "version_minor": 0,
              "model_id": "f9241de216b6400bab43f3956a27f587"
            }
          },
          "metadata": {}
        },
        {
          "output_type": "display_data",
          "data": {
            "text/plain": [
              "Output()"
            ],
            "application/vnd.jupyter.widget-view+json": {
              "version_major": 2,
              "version_minor": 0,
              "model_id": "bc689b58032e4ed78a29f4a5780bb345"
            }
          },
          "metadata": {}
        }
      ],
      "source": [
        "#@title #7-  Split into training and testing sets\n",
        "\n",
        "\n",
        "import ipywidgets as widgets\n",
        "from IPython.display import display, clear_output\n",
        "from sklearn.model_selection import train_test_split\n",
        "import numpy as np\n",
        "\n",
        "\n",
        "# Slider widget for test size\n",
        "test_size_slider = widgets.FloatSlider(\n",
        "    value=0.2,\n",
        "    min=0.1,\n",
        "    max=0.9,\n",
        "    step=0.05,\n",
        "    description='Test Size:',\n",
        "    continuous_update=False,\n",
        ")\n",
        "\n",
        "# Display the slider\n",
        "display(test_size_slider)\n",
        "\n",
        "# Button to split data\n",
        "split_data_button = widgets.Button(description=\"Split Data\")\n",
        "\n",
        "output = widgets.Output()\n",
        "\n",
        "def split_data(button):\n",
        "    global X_train, X_test, y_train, y_test\n",
        "    with output:\n",
        "        clear_output()\n",
        "        test_size = test_size_slider.value\n",
        "        try:\n",
        "            X_train, X_test, y_train, y_test = train_test_split(texts, labels, test_size=test_size, stratify=labels, random_state=42)\n",
        "            print(f\"Training set size: {len(X_train)}\")\n",
        "            print(f\"Testing set size: {len(X_test)}\")\n",
        "        except ValueError as e:\n",
        "            print(f\"Error: {e}\")\n",
        "\n",
        "split_data_button.on_click(split_data)\n",
        "display(split_data_button, output)\n",
        "\n"
      ]
    },
    {
      "cell_type": "code",
      "execution_count": null,
      "metadata": {
        "id": "DqJcHMrG7UTK"
      },
      "outputs": [],
      "source": [
        "#@title # 8- Define the pipeline components with GridSearch for hyperparameter tuning\n",
        "pipeline = make_pipeline(\n",
        "    TfidfVectorizer(max_features=10000, ngram_range=(1, 3)), # tokenization\n",
        "    ADASYN(random_state=42, sampling_strategy='auto'), # to balance our dat\n",
        "    RandomForestClassifier(random_state=42) # our clasaifier\n",
        ")"
      ]
    },
    {
      "cell_type": "code",
      "execution_count": null,
      "metadata": {
        "id": "m0PQmpnffKVm",
        "colab": {
          "base_uri": "https://localhost:8080/",
          "height": 161
        },
        "outputId": "14a8b566-a4ab-4827-ecab-35e0a132f242"
      },
      "outputs": [
        {
          "output_type": "execute_result",
          "data": {
            "text/plain": [
              "Pipeline(steps=[('tfidfvectorizer',\n",
              "                 TfidfVectorizer(max_features=10000, ngram_range=(1, 3))),\n",
              "                ('adasyn', ADASYN(random_state=42)),\n",
              "                ('randomforestclassifier',\n",
              "                 RandomForestClassifier(random_state=42))])"
            ],
            "text/html": [
              "<style>#sk-container-id-1 {color: black;background-color: white;}#sk-container-id-1 pre{padding: 0;}#sk-container-id-1 div.sk-toggleable {background-color: white;}#sk-container-id-1 label.sk-toggleable__label {cursor: pointer;display: block;width: 100%;margin-bottom: 0;padding: 0.3em;box-sizing: border-box;text-align: center;}#sk-container-id-1 label.sk-toggleable__label-arrow:before {content: \"▸\";float: left;margin-right: 0.25em;color: #696969;}#sk-container-id-1 label.sk-toggleable__label-arrow:hover:before {color: black;}#sk-container-id-1 div.sk-estimator:hover label.sk-toggleable__label-arrow:before {color: black;}#sk-container-id-1 div.sk-toggleable__content {max-height: 0;max-width: 0;overflow: hidden;text-align: left;background-color: #f0f8ff;}#sk-container-id-1 div.sk-toggleable__content pre {margin: 0.2em;color: black;border-radius: 0.25em;background-color: #f0f8ff;}#sk-container-id-1 input.sk-toggleable__control:checked~div.sk-toggleable__content {max-height: 200px;max-width: 100%;overflow: auto;}#sk-container-id-1 input.sk-toggleable__control:checked~label.sk-toggleable__label-arrow:before {content: \"▾\";}#sk-container-id-1 div.sk-estimator input.sk-toggleable__control:checked~label.sk-toggleable__label {background-color: #d4ebff;}#sk-container-id-1 div.sk-label input.sk-toggleable__control:checked~label.sk-toggleable__label {background-color: #d4ebff;}#sk-container-id-1 input.sk-hidden--visually {border: 0;clip: rect(1px 1px 1px 1px);clip: rect(1px, 1px, 1px, 1px);height: 1px;margin: -1px;overflow: hidden;padding: 0;position: absolute;width: 1px;}#sk-container-id-1 div.sk-estimator {font-family: monospace;background-color: #f0f8ff;border: 1px dotted black;border-radius: 0.25em;box-sizing: border-box;margin-bottom: 0.5em;}#sk-container-id-1 div.sk-estimator:hover {background-color: #d4ebff;}#sk-container-id-1 div.sk-parallel-item::after {content: \"\";width: 100%;border-bottom: 1px solid gray;flex-grow: 1;}#sk-container-id-1 div.sk-label:hover label.sk-toggleable__label {background-color: #d4ebff;}#sk-container-id-1 div.sk-serial::before {content: \"\";position: absolute;border-left: 1px solid gray;box-sizing: border-box;top: 0;bottom: 0;left: 50%;z-index: 0;}#sk-container-id-1 div.sk-serial {display: flex;flex-direction: column;align-items: center;background-color: white;padding-right: 0.2em;padding-left: 0.2em;position: relative;}#sk-container-id-1 div.sk-item {position: relative;z-index: 1;}#sk-container-id-1 div.sk-parallel {display: flex;align-items: stretch;justify-content: center;background-color: white;position: relative;}#sk-container-id-1 div.sk-item::before, #sk-container-id-1 div.sk-parallel-item::before {content: \"\";position: absolute;border-left: 1px solid gray;box-sizing: border-box;top: 0;bottom: 0;left: 50%;z-index: -1;}#sk-container-id-1 div.sk-parallel-item {display: flex;flex-direction: column;z-index: 1;position: relative;background-color: white;}#sk-container-id-1 div.sk-parallel-item:first-child::after {align-self: flex-end;width: 50%;}#sk-container-id-1 div.sk-parallel-item:last-child::after {align-self: flex-start;width: 50%;}#sk-container-id-1 div.sk-parallel-item:only-child::after {width: 0;}#sk-container-id-1 div.sk-dashed-wrapped {border: 1px dashed gray;margin: 0 0.4em 0.5em 0.4em;box-sizing: border-box;padding-bottom: 0.4em;background-color: white;}#sk-container-id-1 div.sk-label label {font-family: monospace;font-weight: bold;display: inline-block;line-height: 1.2em;}#sk-container-id-1 div.sk-label-container {text-align: center;}#sk-container-id-1 div.sk-container {/* jupyter's `normalize.less` sets `[hidden] { display: none; }` but bootstrap.min.css set `[hidden] { display: none !important; }` so we also need the `!important` here to be able to override the default hidden behavior on the sphinx rendered scikit-learn.org. See: https://github.com/scikit-learn/scikit-learn/issues/21755 */display: inline-block !important;position: relative;}#sk-container-id-1 div.sk-text-repr-fallback {display: none;}</style><div id=\"sk-container-id-1\" class=\"sk-top-container\"><div class=\"sk-text-repr-fallback\"><pre>Pipeline(steps=[(&#x27;tfidfvectorizer&#x27;,\n",
              "                 TfidfVectorizer(max_features=10000, ngram_range=(1, 3))),\n",
              "                (&#x27;adasyn&#x27;, ADASYN(random_state=42)),\n",
              "                (&#x27;randomforestclassifier&#x27;,\n",
              "                 RandomForestClassifier(random_state=42))])</pre><b>In a Jupyter environment, please rerun this cell to show the HTML representation or trust the notebook. <br />On GitHub, the HTML representation is unable to render, please try loading this page with nbviewer.org.</b></div><div class=\"sk-container\" hidden><div class=\"sk-item sk-dashed-wrapped\"><div class=\"sk-label-container\"><div class=\"sk-label sk-toggleable\"><input class=\"sk-toggleable__control sk-hidden--visually\" id=\"sk-estimator-id-1\" type=\"checkbox\" ><label for=\"sk-estimator-id-1\" class=\"sk-toggleable__label sk-toggleable__label-arrow\">Pipeline</label><div class=\"sk-toggleable__content\"><pre>Pipeline(steps=[(&#x27;tfidfvectorizer&#x27;,\n",
              "                 TfidfVectorizer(max_features=10000, ngram_range=(1, 3))),\n",
              "                (&#x27;adasyn&#x27;, ADASYN(random_state=42)),\n",
              "                (&#x27;randomforestclassifier&#x27;,\n",
              "                 RandomForestClassifier(random_state=42))])</pre></div></div></div><div class=\"sk-serial\"><div class=\"sk-item\"><div class=\"sk-estimator sk-toggleable\"><input class=\"sk-toggleable__control sk-hidden--visually\" id=\"sk-estimator-id-2\" type=\"checkbox\" ><label for=\"sk-estimator-id-2\" class=\"sk-toggleable__label sk-toggleable__label-arrow\">TfidfVectorizer</label><div class=\"sk-toggleable__content\"><pre>TfidfVectorizer(max_features=10000, ngram_range=(1, 3))</pre></div></div></div><div class=\"sk-item\"><div class=\"sk-estimator sk-toggleable\"><input class=\"sk-toggleable__control sk-hidden--visually\" id=\"sk-estimator-id-3\" type=\"checkbox\" ><label for=\"sk-estimator-id-3\" class=\"sk-toggleable__label sk-toggleable__label-arrow\">ADASYN</label><div class=\"sk-toggleable__content\"><pre>ADASYN(random_state=42)</pre></div></div></div><div class=\"sk-item\"><div class=\"sk-estimator sk-toggleable\"><input class=\"sk-toggleable__control sk-hidden--visually\" id=\"sk-estimator-id-4\" type=\"checkbox\" ><label for=\"sk-estimator-id-4\" class=\"sk-toggleable__label sk-toggleable__label-arrow\">RandomForestClassifier</label><div class=\"sk-toggleable__content\"><pre>RandomForestClassifier(random_state=42)</pre></div></div></div></div></div></div></div>"
            ]
          },
          "metadata": {},
          "execution_count": 8
        }
      ],
      "source": [
        "#@title #9- Train the model\n",
        "pipeline.fit(X_train, y_train)"
      ]
    },
    {
      "cell_type": "code",
      "source": [
        "#@title #10- Predict probabilities to adjust the classification threshold\n",
        "y_probs = pipeline.predict_proba(X_test)[:, 1]"
      ],
      "metadata": {
        "id": "R59luGHQuGvN"
      },
      "execution_count": null,
      "outputs": []
    },
    {
      "cell_type": "code",
      "source": [
        " #@title #11- Calculate precision-recall pairs for different probability thresholds\n",
        "precisions, recalls, thresholds = precision_recall_curve(y_test, y_probs)"
      ],
      "metadata": {
        "id": "0PzvrR69uKKm"
      },
      "execution_count": null,
      "outputs": []
    },
    {
      "cell_type": "code",
      "execution_count": null,
      "metadata": {
        "id": "WfH6dqKnfQuT",
        "colab": {
          "base_uri": "https://localhost:8080/",
          "height": 564
        },
        "outputId": "215cba6c-3b6f-4b63-af5a-6ba2ff9a6b3f"
      },
      "outputs": [
        {
          "output_type": "display_data",
          "data": {
            "text/plain": [
              "<Figure size 800x600 with 1 Axes>"
            ],
            "image/png": "[encoded data removed]"
          },
          "metadata": {}
        }
      ],
      "source": [
        "#@title #12- Plot Precision-Recall curve\n",
        "plt.figure(figsize=(8, 6))\n",
        "plt.plot(thresholds, precisions[:-1], 'b--', label='Precision')\n",
        "plt.plot(thresholds, recalls[:-1], 'g-', label='Recall')\n",
        "plt.title('Precision and Recall Curves')\n",
        "plt.xlabel('Threshold')\n",
        "plt.ylabel('Precision/Recall')\n",
        "plt.legend(loc='upper left')\n",
        "plt.ylim([0, 1])\n",
        "plt.show()"
      ]
    },
    {
      "cell_type": "code",
      "execution_count": null,
      "metadata": {
        "id": "0x_7t7AkfTyH"
      },
      "outputs": [],
      "source": [
        "#@title #13- Finding the best threshold for maximum F1 score\n",
        "optimal_idx = np.argmax(precisions * recalls)  # F1 optimization\n",
        "optimal_threshold = thresholds[optimal_idx]"
      ]
    },
    {
      "cell_type": "code",
      "source": [
        "#@title 14- Print sample of prediction against actual calsses\n",
        "import ipywidgets as widgets\n",
        "from IPython.display import display, clear_output\n",
        "import pandas as pd\n",
        "import numpy as np\n",
        "\n",
        "# Assuming 'pipeline', 'X_test', 'y_test', 'precisions', 'recalls', and 'thresholds' are defined\n",
        "\n",
        "# Finding the best threshold for maximum F1 score\n",
        "optimal_idx = np.argmax(precisions * recalls)  # F1 optimization\n",
        "optimal_threshold = thresholds[optimal_idx]\n",
        "\n",
        "# Slider widget for number of rows to display\n",
        "num_rows_slider = widgets.IntSlider(\n",
        "    value=10,\n",
        "    min=1,\n",
        "    max=50,\n",
        "    step=1,\n",
        "    description='Num Rows:',\n",
        "    continuous_update=False,\n",
        ")\n",
        "\n",
        "# Button to predict and display table\n",
        "predict_button = widgets.Button(description=\"Predict and Create Table\")\n",
        "\n",
        "output_predict = widgets.Output()\n",
        "\n",
        "def predict_and_create_table(button):\n",
        "    with output_predict:\n",
        "        clear_output()\n",
        "        num_rows = num_rows_slider.value\n",
        "        y_probs = pipeline.predict_proba(X_test)[:, 1]\n",
        "        y_pred = (y_probs >= optimal_threshold).astype(int)\n",
        "\n",
        "        table_data = {\n",
        "            \"Proposal\": X_test[:num_rows],\n",
        "            \"Actual Class\": y_test[:num_rows],\n",
        "            \"Predicted Class\": y_pred[:num_rows]\n",
        "        }\n",
        "\n",
        "        table_df = pd.DataFrame(table_data)\n",
        "\n",
        "        print(\"Table of proposals with their actual and predicted classes:\")\n",
        "        display(table_df)\n",
        "\n",
        "predict_button.on_click(predict_and_create_table)\n",
        "\n",
        "# Display the widgets and button\n",
        "display(num_rows_slider, predict_button, output_predict)\n"
      ],
      "metadata": {
        "colab": {
          "base_uri": "https://localhost:8080/",
          "height": 319,
          "referenced_widgets": [
            "d15d4b1bb5d04656b104190a7d27a032",
            "983b816ecfeb4418bc39f756503cff87",
            "2f98fe57e1e84207807a48f0cbddd717",
            "5c83bd48d59242ae86f48c74bd3a544b",
            "f79cb9bf84d5412baa72578794f15377",
            "9890c8cc3e514f2589b73333f1dd2f28",
            "42cde5794cba4b98b768ae339b22f9d4",
            "d7a90cb09bea4954973c94892d94a9bc"
          ]
        },
        "cellView": "form",
        "id": "qrJaP_cfc-6V",
        "outputId": "fe8da1a7-c4dd-4685-d557-be46ff53f15a"
      },
      "execution_count": null,
      "outputs": [
        {
          "output_type": "display_data",
          "data": {
            "text/plain": [
              "IntSlider(value=10, continuous_update=False, description='Num Rows:', max=50, min=1)"
            ],
            "application/vnd.jupyter.widget-view+json": {
              "version_major": 2,
              "version_minor": 0,
              "model_id": "d15d4b1bb5d04656b104190a7d27a032"
            }
          },
          "metadata": {}
        },
        {
          "output_type": "display_data",
          "data": {
            "text/plain": [
              "Button(description='Predict and Create Table', style=ButtonStyle())"
            ],
            "application/vnd.jupyter.widget-view+json": {
              "version_major": 2,
              "version_minor": 0,
              "model_id": "5c83bd48d59242ae86f48c74bd3a544b"
            }
          },
          "metadata": {}
        },
        {
          "output_type": "display_data",
          "data": {
            "text/plain": [
              "Output()"
            ],
            "application/vnd.jupyter.widget-view+json": {
              "version_major": 2,
              "version_minor": 0,
              "model_id": "42cde5794cba4b98b768ae339b22f9d4"
            }
          },
          "metadata": {}
        }
      ]
    },
    {
      "cell_type": "code",
      "execution_count": null,
      "metadata": {
        "id": "aq-FJU4nfWsf"
      },
      "outputs": [],
      "source": [
        "#@title # 15- Apply the new threshold\n",
        "y_pred_adj = (y_probs >= optimal_threshold).astype(int)"
      ]
    },
    {
      "cell_type": "code",
      "execution_count": null,
      "metadata": {
        "id": "zWHdsA_WfYde",
        "colab": {
          "base_uri": "https://localhost:8080/",
          "height": 232
        },
        "outputId": "6ee15061-709c-477e-82c4-f578ab033d86"
      },
      "outputs": [
        {
          "output_type": "stream",
          "name": "stdout",
          "text": [
            "\n",
            "Adjusted Classification Report:\n"
          ]
        },
        {
          "output_type": "display_data",
          "data": {
            "text/plain": [
              "<IPython.core.display.HTML object>"
            ],
            "text/html": [
              "<style type=\"text/css\">\n",
              "#T_e20b1 tr:hover {\n",
              "  background-color: #f5f5f5;\n",
              "}\n",
              "#T_e20b1 th {\n",
              "  background-color: #4CAF50;\n",
              "  color: white;\n",
              "  text-align: center;\n",
              "}\n",
              "#T_e20b1 td {\n",
              "  text-align: center;\n",
              "}\n",
              "#T_e20b1_row0_col0, #T_e20b1_row0_col1, #T_e20b1_row0_col2, #T_e20b1_row0_col3, #T_e20b1_row1_col0, #T_e20b1_row1_col1, #T_e20b1_row1_col2, #T_e20b1_row1_col3, #T_e20b1_row2_col0, #T_e20b1_row2_col1, #T_e20b1_row2_col2, #T_e20b1_row2_col3, #T_e20b1_row3_col0, #T_e20b1_row3_col1, #T_e20b1_row3_col2, #T_e20b1_row3_col3, #T_e20b1_row4_col0, #T_e20b1_row4_col1, #T_e20b1_row4_col2, #T_e20b1_row4_col3 {\n",
              "  border: 1px solid black;\n",
              "  padding: 5px;\n",
              "}\n",
              "</style>\n",
              "<table id=\"T_e20b1\">\n",
              "  <thead>\n",
              "    <tr>\n",
              "      <th class=\"blank level0\" >&nbsp;</th>\n",
              "      <th id=\"T_e20b1_level0_col0\" class=\"col_heading level0 col0\" >precision</th>\n",
              "      <th id=\"T_e20b1_level0_col1\" class=\"col_heading level0 col1\" >recall</th>\n",
              "      <th id=\"T_e20b1_level0_col2\" class=\"col_heading level0 col2\" >f1-score</th>\n",
              "      <th id=\"T_e20b1_level0_col3\" class=\"col_heading level0 col3\" >support</th>\n",
              "    </tr>\n",
              "  </thead>\n",
              "  <tbody>\n",
              "    <tr>\n",
              "      <th id=\"T_e20b1_level0_row0\" class=\"row_heading level0 row0\" >Rejected</th>\n",
              "      <td id=\"T_e20b1_row0_col0\" class=\"data row0 col0\" >0.906542</td>\n",
              "      <td id=\"T_e20b1_row0_col1\" class=\"data row0 col1\" >0.866071</td>\n",
              "      <td id=\"T_e20b1_row0_col2\" class=\"data row0 col2\" >0.885845</td>\n",
              "      <td id=\"T_e20b1_row0_col3\" class=\"data row0 col3\" >112.000000</td>\n",
              "    </tr>\n",
              "    <tr>\n",
              "      <th id=\"T_e20b1_level0_row1\" class=\"row_heading level0 row1\" >Approved</th>\n",
              "      <td id=\"T_e20b1_row1_col0\" class=\"data row1 col0\" >0.918033</td>\n",
              "      <td id=\"T_e20b1_row1_col1\" class=\"data row1 col1\" >0.943820</td>\n",
              "      <td id=\"T_e20b1_row1_col2\" class=\"data row1 col2\" >0.930748</td>\n",
              "      <td id=\"T_e20b1_row1_col3\" class=\"data row1 col3\" >178.000000</td>\n",
              "    </tr>\n",
              "    <tr>\n",
              "      <th id=\"T_e20b1_level0_row2\" class=\"row_heading level0 row2\" >accuracy</th>\n",
              "      <td id=\"T_e20b1_row2_col0\" class=\"data row2 col0\" >0.913793</td>\n",
              "      <td id=\"T_e20b1_row2_col1\" class=\"data row2 col1\" >0.913793</td>\n",
              "      <td id=\"T_e20b1_row2_col2\" class=\"data row2 col2\" >0.913793</td>\n",
              "      <td id=\"T_e20b1_row2_col3\" class=\"data row2 col3\" >0.913793</td>\n",
              "    </tr>\n",
              "    <tr>\n",
              "      <th id=\"T_e20b1_level0_row3\" class=\"row_heading level0 row3\" >macro avg</th>\n",
              "      <td id=\"T_e20b1_row3_col0\" class=\"data row3 col0\" >0.912287</td>\n",
              "      <td id=\"T_e20b1_row3_col1\" class=\"data row3 col1\" >0.904946</td>\n",
              "      <td id=\"T_e20b1_row3_col2\" class=\"data row3 col2\" >0.908296</td>\n",
              "      <td id=\"T_e20b1_row3_col3\" class=\"data row3 col3\" >290.000000</td>\n",
              "    </tr>\n",
              "    <tr>\n",
              "      <th id=\"T_e20b1_level0_row4\" class=\"row_heading level0 row4\" >weighted avg</th>\n",
              "      <td id=\"T_e20b1_row4_col0\" class=\"data row4 col0\" >0.913595</td>\n",
              "      <td id=\"T_e20b1_row4_col1\" class=\"data row4 col1\" >0.913793</td>\n",
              "      <td id=\"T_e20b1_row4_col2\" class=\"data row4 col2\" >0.913406</td>\n",
              "      <td id=\"T_e20b1_row4_col3\" class=\"data row4 col3\" >290.000000</td>\n",
              "    </tr>\n",
              "  </tbody>\n",
              "</table>\n"
            ]
          },
          "metadata": {}
        }
      ],
      "source": [
        "#@title #16-  Final evaluation\n",
        "from IPython.display import display, HTML\n",
        "\n",
        "# Final evaluation\n",
        "print(\"\\nAdjusted Classification Report:\")\n",
        "# print(classification_report(y_test, y_pred_adj, target_names=['Rejected', 'Approved']))\n",
        "\n",
        "# Create a DataFrame for the classification report\n",
        "report = classification_report(y_test, y_pred_adj, target_names=['Rejected', 'Approved'], output_dict=True)\n",
        "report_df = pd.DataFrame(report).transpose()\n",
        "\n",
        "# Display the classification report as a styled table\n",
        "styled_report = report_df.style.set_table_styles(\n",
        "    [{'selector': 'tr:hover', 'props': [('background-color', '#f5f5f5')]},\n",
        "     {'selector': 'th', 'props': [('background-color', '#4CAF50'), ('color', 'white'), ('text-align', 'center')]},\n",
        "     {'selector': 'td', 'props': [('text-align', 'center')]}]\n",
        ").set_properties(**{'border': '1px solid black', 'padding': '5px'})\n",
        "\n",
        "display(HTML(styled_report.to_html()))"
      ]
    },
    {
      "cell_type": "code",
      "execution_count": null,
      "metadata": {
        "colab": {
          "base_uri": "https://localhost:8080/"
        },
        "id": "NsdjCgZAToNn",
        "outputId": "7e9b81c4-e7cd-4363-d1a3-d842d7986884",
        "cellView": "form"
      },
      "outputs": [
        {
          "output_type": "execute_result",
          "data": {
            "text/plain": [
              "['proposal_classification_model.pkl']"
            ]
          },
          "metadata": {},
          "execution_count": 14
        }
      ],
      "source": [
        "#@title 17- Save the trained model to disk for later use\n",
        "joblib.dump(pipeline, 'proposal_classification_model.pkl')"
      ]
    },
    {
      "cell_type": "markdown",
      "metadata": {
        "id": "x_Q34eeKVm5S"
      },
      "source": [
        "# Live Classification"
      ]
    },
    {
      "cell_type": "code",
      "execution_count": null,
      "metadata": {
        "id": "Cu68HoUPU20A",
        "cellView": "form",
        "colab": {
          "base_uri": "https://localhost:8080/"
        },
        "outputId": "dab97731-81e6-411d-d5df-8d222397fb5c"
      },
      "outputs": [
        {
          "output_type": "stream",
          "name": "stdout",
          "text": [
            "Collecting PyPDF2\n",
            "  Downloading pypdf2-3.0.1-py3-none-any.whl (232 kB)\n",
            "\u001b[?25l     \u001b[90m━━━━━━━━━━━━━━━━━━━━━━━━━━━━━━━━━━━━━━━━\u001b[0m \u001b[32m0.0/232.6 kB\u001b[0m \u001b[31m?\u001b[0m eta \u001b[36m-:--:--\u001b[0m\r\u001b[2K     \u001b[91m━━━━━━━━━━━━━━━━━━━━━━\u001b[0m\u001b[91m╸\u001b[0m\u001b[90m━━━━━━━━━━━━━━━━━\u001b[0m \u001b[32m133.1/232.6 kB\u001b[0m \u001b[31m4.2 MB/s\u001b[0m eta \u001b[36m0:00:01\u001b[0m\r\u001b[2K     \u001b[90m━━━━━━━━━━━━━━━━━━━━━━━━━━━━━━━━━━━━━━━━\u001b[0m \u001b[32m232.6/232.6 kB\u001b[0m \u001b[31m4.7 MB/s\u001b[0m eta \u001b[36m0:00:00\u001b[0m\n",
            "\u001b[?25hInstalling collected packages: PyPDF2\n",
            "Successfully installed PyPDF2-3.0.1\n"
          ]
        }
      ],
      "source": [
        "#@title 1- Import Lib\n",
        "\n",
        "!pip install PyPDF2\n",
        "import os\n",
        "import json\n",
        "import PyPDF2\n",
        "import joblib\n",
        "from sklearn.pipeline import Pipeline"
      ]
    },
    {
      "cell_type": "code",
      "execution_count": null,
      "metadata": {
        "id": "DPOPT9iXU-AU",
        "cellView": "form",
        "collapsed": true
      },
      "outputs": [],
      "source": [
        "#@title #2-  Load the trained model\n",
        "model = joblib.load('proposal_classification_model.pkl')"
      ]
    },
    {
      "cell_type": "code",
      "source": [
        "#@title #3- Function to extract text based on file type\n",
        "def extract_text(file_path):\n",
        "    if file_path.endswith('.pdf'):\n",
        "        text = extract_text_from_pdf(file_path)\n",
        "    elif file_path.endswith('.json'):\n",
        "        text = extract_text_from_json(file_path)\n",
        "    else:\n",
        "        raise ValueError(\"Unsupported file type. Please provide a .pdf or .json file.\")\n",
        "    return text.strip()"
      ],
      "metadata": {
        "id": "N2JzVnIc1VCi",
        "cellView": "form"
      },
      "execution_count": null,
      "outputs": []
    },
    {
      "cell_type": "code",
      "source": [
        "#@title #4-  Extract text from PDF\n",
        "def extract_text_from_pdf(pdf_path):\n",
        "    with open(pdf_path, 'rb') as file:\n",
        "        reader = PyPDF2.PdfReader(file)\n",
        "        text = ''\n",
        "        for page in reader.pages:\n",
        "            text += page.extract_text() or ''  # Concatenate text, handle None\n",
        "    return text"
      ],
      "metadata": {
        "id": "eGbwKcyj1c3W"
      },
      "execution_count": null,
      "outputs": []
    },
    {
      "cell_type": "code",
      "source": [
        "#@title #5- Extract text from JSON\n",
        "def extract_text_from_json(json_path):\n",
        "    with open(json_path, 'r') as file:\n",
        "        content = json.load(file)\n",
        "    return content.get('ExtractedText', '').replace('\\n', ' ')"
      ],
      "metadata": {
        "id": "NUQS193g1fi4",
        "cellView": "form"
      },
      "execution_count": null,
      "outputs": []
    },
    {
      "cell_type": "code",
      "execution_count": null,
      "metadata": {
        "id": "53KbkqUPH3__",
        "cellView": "form"
      },
      "outputs": [],
      "source": [
        "#@title #6- Function to classify all proposals in a given folder\n",
        "def classify_all_proposals(folder_path):\n",
        "    for filename in os.listdir(folder_path):\n",
        "        file_path = os.path.join(folder_path, filename)\n",
        "        # Check if the file is PDF or JSON before proceeding\n",
        "        if file_path.endswith('.pdf') or file_path.endswith('.json'):\n",
        "            try:\n",
        "                text = extract_text(file_path)  # Utilize the existing extract_text function\n",
        "                # Get the probability of being 'Approved'\n",
        "                score = model.predict_proba([text])[0][1]\n",
        "                classification = 'Approved' if score >= 0.5 else 'Rejected'\n",
        "                print(f\"Proposal: {filename}\")\n",
        "                print(f\"Classification: {classification}, Score: {score:.2f}\")\n",
        "            except Exception as e:\n",
        "                print(f\"Error processing file {filename}: {e}\")"
      ]
    },
    {
      "cell_type": "code",
      "execution_count": null,
      "metadata": {
        "id": "HO4CW4dN9D5A"
      },
      "outputs": [],
      "source": [
        "#@title #7- Specify the folder containing your proposal files\n",
        "folder_path = '/content/drive/Shareddrives/TDM Project - Sheikha Al Mujaini/2023/IG/Approved'\n"
      ]
    },
    {
      "cell_type": "markdown",
      "source": [
        "8- See The Classification of the new Proposals"
      ],
      "metadata": {
        "id": "r1_2PnUfh9t-"
      }
    },
    {
      "cell_type": "code",
      "execution_count": null,
      "metadata": {
        "colab": {
          "base_uri": "https://localhost:8080/",
          "height": 1000
        },
        "id": "16GpUjd49e6S",
        "outputId": "b1bfa064-3948-4351-9e04-f45893fc6685",
        "collapsed": true
      },
      "outputs": [
        {
          "output_type": "stream",
          "name": "stdout",
          "text": [
            "Proposal: 90ccd7ad-34fb-4fb4-8e68-4358aee6b63d.pdf\n",
            "Classification: Approved, Score: 0.75\n",
            "Proposal: bc4d151c-d8eb-4e58-9a47-d77f70d0c60c.pdf\n",
            "Classification: Approved, Score: 0.71\n",
            "Proposal: 7b8b302e-86f0-4aba-b0ab-0ab3943fd01a.pdf\n",
            "Classification: Approved, Score: 0.75\n",
            "Proposal: 4b81228a-59e3-450b-aa7b-ee2b62e33636.pdf\n",
            "Classification: Approved, Score: 0.69\n",
            "Proposal: c11ec4ae-c4b9-4e2d-85dc-c75f404f8703.pdf\n",
            "Classification: Approved, Score: 0.72\n",
            "Proposal: d2e6f389-bfef-48b3-84b5-8d9fff08241c.pdf\n",
            "Classification: Approved, Score: 0.81\n",
            "Proposal: 3e707d01-ac18-46a4-aeaa-ae0f950900b4.pdf\n",
            "Classification: Approved, Score: 0.76\n",
            "Proposal: 66e1cc49-5c37-4aeb-9c8b-71b07c78ab36.pdf\n",
            "Classification: Approved, Score: 0.83\n",
            "Proposal: 11acb406-2e90-4efe-ba23-42d8c2ba755f.pdf\n",
            "Classification: Approved, Score: 0.86\n",
            "Proposal: 490c7d5e-355a-4f88-a58a-913f903cdf89.pdf\n",
            "Classification: Approved, Score: 0.63\n",
            "Proposal: 73a212d3-b042-4e0b-a380-0597d8d1ff68.pdf\n",
            "Classification: Approved, Score: 0.75\n",
            "Proposal: 6dbbfc47-d808-43d1-9b33-d3c3d19c893b.pdf\n",
            "Classification: Approved, Score: 0.85\n",
            "Proposal: 0ecf112a-a663-4402-a3aa-e60931a5db0e.pdf\n",
            "Classification: Approved, Score: 0.74\n",
            "Proposal: 15e650ac-d59a-4934-8470-545a26544ab7.pdf\n",
            "Classification: Approved, Score: 0.77\n",
            "Proposal: 4a39a93a-9903-4378-8a78-70fce1b2ad39.pdf\n",
            "Classification: Approved, Score: 0.80\n",
            "Proposal: e978631e-9d17-439d-b7c3-d4b4ddda6601.pdf\n",
            "Classification: Approved, Score: 0.93\n",
            "Proposal: a790abaf-5cdf-4270-9f26-2cf87ed97753.pdf\n",
            "Classification: Approved, Score: 0.70\n",
            "Proposal: eb0b8e24-c7dc-4945-90e9-a38e8258055e.pdf\n",
            "Classification: Approved, Score: 0.99\n",
            "Proposal: 7326f592-8b9c-488a-8452-8478f37f8b54.pdf\n",
            "Classification: Approved, Score: 0.60\n",
            "Proposal: 3c83c7ba-77e2-43f9-b089-c6c4cbab326e.pdf\n",
            "Classification: Approved, Score: 0.70\n",
            "Proposal: 9968d0a6-ac80-4a83-accc-9f88cde2f21b.pdf\n",
            "Classification: Approved, Score: 0.69\n",
            "Proposal: bfcfe013-7342-458d-a400-4140a268b5a5.pdf\n",
            "Classification: Approved, Score: 0.99\n",
            "Proposal: 05c85fbc-d417-453f-8432-25823f5215c6.pdf\n",
            "Classification: Approved, Score: 0.69\n",
            "Proposal: 6fab3eb8-9e1d-4b13-bb42-51f1fb2f63c7.pdf\n",
            "Classification: Approved, Score: 0.72\n",
            "Proposal: 6f9c0cf1-4e7e-4f02-90f2-c760e3d14d8a.pdf\n",
            "Classification: Approved, Score: 0.83\n",
            "Proposal: 0d82a239-d731-42a7-a6c8-2c2fbfe8702c.pdf\n",
            "Classification: Approved, Score: 0.88\n",
            "Proposal: 8182eddb-b7aa-4995-8190-495743a8fd0b.pdf\n",
            "Classification: Approved, Score: 0.67\n",
            "Proposal: 408fbb1e-8c73-455c-8a49-2ed24dcd38db.pdf\n",
            "Classification: Approved, Score: 0.74\n",
            "Proposal: e499595a-01cc-45e0-bcda-83960fa656d8.pdf\n",
            "Classification: Approved, Score: 0.91\n",
            "Proposal: a8a9d21f-98b3-4379-927f-70f490eedc2b.pdf\n",
            "Classification: Approved, Score: 0.72\n",
            "Proposal: 4cab5b7c-355d-4092-ae99-176051df2fb2.pdf\n",
            "Classification: Approved, Score: 0.74\n",
            "Proposal: 1c6c04f8-ffc2-4131-85ea-eb3952987b1e.pdf\n",
            "Classification: Approved, Score: 0.79\n",
            "Proposal: 62b1fbb7-f1b7-469c-a2e9-d6f9de748e9f.pdf\n",
            "Classification: Approved, Score: 0.64\n",
            "Proposal: 887ad095-31de-4e7d-87fb-313df686519a.pdf\n",
            "Classification: Approved, Score: 0.66\n",
            "Proposal: 14997374-db6e-429f-ba51-36ab139f6be2.pdf\n",
            "Classification: Approved, Score: 0.77\n",
            "Proposal: 35d5a443-7379-48fd-ac2b-8431e33dc357.pdf\n",
            "Classification: Approved, Score: 0.79\n",
            "Proposal: cd22a5dc-d4fe-4626-be3d-8ff5bd64e5d5.pdf\n",
            "Classification: Approved, Score: 0.74\n",
            "Proposal: 298a7936-7ca2-4104-b3aa-3485c84a53b4.pdf\n",
            "Classification: Approved, Score: 0.68\n",
            "Proposal: 5038b369-7be8-474c-8c79-d749fdd403e9.pdf\n",
            "Classification: Approved, Score: 0.69\n",
            "Proposal: da365f4e-f837-4197-b198-bc027c53e70c.pdf\n",
            "Classification: Approved, Score: 0.72\n",
            "Proposal: 62530565-2326-4c4b-92e8-46d72d8892da.pdf\n",
            "Classification: Approved, Score: 0.78\n",
            "Proposal: ba7268f0-27ce-41d5-9830-41c5e023a759.pdf\n",
            "Classification: Approved, Score: 0.68\n",
            "Proposal: ce3f8dd4-5730-4a56-8307-64bc3c08cf34.pdf\n",
            "Classification: Approved, Score: 0.70\n",
            "Proposal: 5589ee59-d5c2-4277-9ed8-46c16d212cc5.pdf\n",
            "Classification: Approved, Score: 0.68\n",
            "Proposal: 85b67ddf-1fc5-43eb-9177-046fb4859b0e.pdf\n",
            "Classification: Approved, Score: 0.76\n",
            "Proposal: 2c913396-bef5-4685-916d-591b6cb61e57.pdf\n",
            "Classification: Approved, Score: 0.58\n",
            "Proposal: 2964699e-380a-4242-aede-c07993249221.pdf\n",
            "Classification: Approved, Score: 0.73\n",
            "Proposal: a5f463e3-09a6-4b3c-ad59-11a21ee58bc4.pdf\n",
            "Classification: Approved, Score: 0.99\n",
            "Proposal: 3fcbe79c-e658-45c6-89c7-32d23d6f557b.pdf\n",
            "Classification: Approved, Score: 0.96\n",
            "Proposal: ba9baf68-0169-4c0d-b072-56a9a9279d01.pdf\n",
            "Classification: Approved, Score: 0.63\n",
            "Proposal: 9899a65e-9ee5-43b1-a5e6-c9ce469690fc.pdf\n",
            "Classification: Approved, Score: 0.99\n",
            "Proposal: 1a8025b5-5da1-4d0b-9cf5-d3d28d454bb8.pdf\n",
            "Classification: Approved, Score: 0.75\n",
            "Proposal: 6835fe9b-7362-435b-bd34-5466a8c03073.pdf\n",
            "Classification: Approved, Score: 0.71\n",
            "Proposal: 7040814e-8ddb-4559-8cff-991ca37ea230.pdf\n",
            "Classification: Approved, Score: 0.71\n",
            "Proposal: 504f993b-1b7e-46cd-87e3-c51de228e4c9.pdf\n",
            "Classification: Approved, Score: 0.67\n",
            "Proposal: ccf71c6c-f9f8-481e-9770-8ef058070db6.pdf\n",
            "Classification: Approved, Score: 0.63\n",
            "Proposal: b89a4575-c2a5-4db5-8cb6-011d03d5ca21.pdf\n",
            "Classification: Approved, Score: 0.66\n",
            "Proposal: 05d87486-b416-44d4-823e-cb405b5fc723.pdf\n",
            "Classification: Approved, Score: 0.74\n",
            "Proposal: Sultan Qaboos University.pdf\n",
            "Classification: Approved, Score: 0.84\n",
            "Proposal: 2ab30a93-fb5f-40b4-8979-b5df6965d9d7.pdf\n",
            "Classification: Approved, Score: 0.71\n",
            "Proposal: 88c0239c-60e5-41a9-a685-0657b1f78f43.pdf\n",
            "Classification: Approved, Score: 0.86\n",
            "Proposal: c1deae59-1be9-449b-834e-88635a1cc0d5.pdf\n",
            "Classification: Approved, Score: 0.76\n",
            "Proposal: f00470ce-31d1-4fbf-9ad1-9dc511bdb0a0.pdf\n",
            "Classification: Approved, Score: 0.72\n",
            "Proposal: bade4544-00df-454d-8e80-eb64f6e91c9d.pdf\n",
            "Classification: Approved, Score: 0.67\n",
            "Proposal: 339fa3ef-a17a-44b4-adf2-ab2f5e35efbd.pdf\n",
            "Classification: Approved, Score: 0.67\n"
          ]
        },
        {
          "output_type": "error",
          "ename": "KeyboardInterrupt",
          "evalue": "",
          "traceback": [
            "\u001b[0;31m---------------------------------------------------------------------------\u001b[0m",
            "\u001b[0;31mKeyboardInterrupt\u001b[0m                         Traceback (most recent call last)",
            "\u001b[0;32m<ipython-input-40-6fe6f47794b6>\u001b[0m in \u001b[0;36m<cell line: 1>\u001b[0;34m()\u001b[0m\n\u001b[0;32m----> 1\u001b[0;31m \u001b[0mclassify_all_proposals\u001b[0m\u001b[0;34m(\u001b[0m\u001b[0mfolder_path\u001b[0m\u001b[0;34m)\u001b[0m\u001b[0;34m\u001b[0m\u001b[0;34m\u001b[0m\u001b[0m\n\u001b[0m",
            "\u001b[0;32m<ipython-input-38-22c48a98fe4f>\u001b[0m in \u001b[0;36mclassify_all_proposals\u001b[0;34m(folder_path)\u001b[0m\n\u001b[1;32m      6\u001b[0m         \u001b[0;32mif\u001b[0m \u001b[0mfile_path\u001b[0m\u001b[0;34m.\u001b[0m\u001b[0mendswith\u001b[0m\u001b[0;34m(\u001b[0m\u001b[0;34m'.pdf'\u001b[0m\u001b[0;34m)\u001b[0m \u001b[0;32mor\u001b[0m \u001b[0mfile_path\u001b[0m\u001b[0;34m.\u001b[0m\u001b[0mendswith\u001b[0m\u001b[0;34m(\u001b[0m\u001b[0;34m'.json'\u001b[0m\u001b[0;34m)\u001b[0m\u001b[0;34m:\u001b[0m\u001b[0;34m\u001b[0m\u001b[0;34m\u001b[0m\u001b[0m\n\u001b[1;32m      7\u001b[0m             \u001b[0;32mtry\u001b[0m\u001b[0;34m:\u001b[0m\u001b[0;34m\u001b[0m\u001b[0;34m\u001b[0m\u001b[0m\n\u001b[0;32m----> 8\u001b[0;31m                 \u001b[0mtext\u001b[0m \u001b[0;34m=\u001b[0m \u001b[0mextract_text\u001b[0m\u001b[0;34m(\u001b[0m\u001b[0mfile_path\u001b[0m\u001b[0;34m)\u001b[0m  \u001b[0;31m# Utilize the existing extract_text function\u001b[0m\u001b[0;34m\u001b[0m\u001b[0;34m\u001b[0m\u001b[0m\n\u001b[0m\u001b[1;32m      9\u001b[0m                 \u001b[0;31m# Get the probability of being 'Approved'\u001b[0m\u001b[0;34m\u001b[0m\u001b[0;34m\u001b[0m\u001b[0m\n\u001b[1;32m     10\u001b[0m                 \u001b[0mscore\u001b[0m \u001b[0;34m=\u001b[0m \u001b[0mmodel\u001b[0m\u001b[0;34m.\u001b[0m\u001b[0mpredict_proba\u001b[0m\u001b[0;34m(\u001b[0m\u001b[0;34m[\u001b[0m\u001b[0mtext\u001b[0m\u001b[0;34m]\u001b[0m\u001b[0;34m)\u001b[0m\u001b[0;34m[\u001b[0m\u001b[0;36m0\u001b[0m\u001b[0;34m]\u001b[0m\u001b[0;34m[\u001b[0m\u001b[0;36m1\u001b[0m\u001b[0;34m]\u001b[0m\u001b[0;34m\u001b[0m\u001b[0;34m\u001b[0m\u001b[0m\n",
            "\u001b[0;32m<ipython-input-35-e3ba9e0d47c7>\u001b[0m in \u001b[0;36mextract_text\u001b[0;34m(file_path)\u001b[0m\n\u001b[1;32m      2\u001b[0m \u001b[0;32mdef\u001b[0m \u001b[0mextract_text\u001b[0m\u001b[0;34m(\u001b[0m\u001b[0mfile_path\u001b[0m\u001b[0;34m)\u001b[0m\u001b[0;34m:\u001b[0m\u001b[0;34m\u001b[0m\u001b[0;34m\u001b[0m\u001b[0m\n\u001b[1;32m      3\u001b[0m     \u001b[0;32mif\u001b[0m \u001b[0mfile_path\u001b[0m\u001b[0;34m.\u001b[0m\u001b[0mendswith\u001b[0m\u001b[0;34m(\u001b[0m\u001b[0;34m'.pdf'\u001b[0m\u001b[0;34m)\u001b[0m\u001b[0;34m:\u001b[0m\u001b[0;34m\u001b[0m\u001b[0;34m\u001b[0m\u001b[0m\n\u001b[0;32m----> 4\u001b[0;31m         \u001b[0mtext\u001b[0m \u001b[0;34m=\u001b[0m \u001b[0mextract_text_from_pdf\u001b[0m\u001b[0;34m(\u001b[0m\u001b[0mfile_path\u001b[0m\u001b[0;34m)\u001b[0m\u001b[0;34m\u001b[0m\u001b[0;34m\u001b[0m\u001b[0m\n\u001b[0m\u001b[1;32m      5\u001b[0m     \u001b[0;32melif\u001b[0m \u001b[0mfile_path\u001b[0m\u001b[0;34m.\u001b[0m\u001b[0mendswith\u001b[0m\u001b[0;34m(\u001b[0m\u001b[0;34m'.json'\u001b[0m\u001b[0;34m)\u001b[0m\u001b[0;34m:\u001b[0m\u001b[0;34m\u001b[0m\u001b[0;34m\u001b[0m\u001b[0m\n\u001b[1;32m      6\u001b[0m         \u001b[0mtext\u001b[0m \u001b[0;34m=\u001b[0m \u001b[0mextract_text_from_json\u001b[0m\u001b[0;34m(\u001b[0m\u001b[0mfile_path\u001b[0m\u001b[0;34m)\u001b[0m\u001b[0;34m\u001b[0m\u001b[0;34m\u001b[0m\u001b[0m\n",
            "\u001b[0;32m<ipython-input-36-78ab1e072c40>\u001b[0m in \u001b[0;36mextract_text_from_pdf\u001b[0;34m(pdf_path)\u001b[0m\n\u001b[1;32m      5\u001b[0m         \u001b[0mtext\u001b[0m \u001b[0;34m=\u001b[0m \u001b[0;34m''\u001b[0m\u001b[0;34m\u001b[0m\u001b[0;34m\u001b[0m\u001b[0m\n\u001b[1;32m      6\u001b[0m         \u001b[0;32mfor\u001b[0m \u001b[0mpage\u001b[0m \u001b[0;32min\u001b[0m \u001b[0mreader\u001b[0m\u001b[0;34m.\u001b[0m\u001b[0mpages\u001b[0m\u001b[0;34m:\u001b[0m\u001b[0;34m\u001b[0m\u001b[0;34m\u001b[0m\u001b[0m\n\u001b[0;32m----> 7\u001b[0;31m             \u001b[0mtext\u001b[0m \u001b[0;34m+=\u001b[0m \u001b[0mpage\u001b[0m\u001b[0;34m.\u001b[0m\u001b[0mextract_text\u001b[0m\u001b[0;34m(\u001b[0m\u001b[0;34m)\u001b[0m \u001b[0;32mor\u001b[0m \u001b[0;34m''\u001b[0m  \u001b[0;31m# Concatenate text, handle None\u001b[0m\u001b[0;34m\u001b[0m\u001b[0;34m\u001b[0m\u001b[0m\n\u001b[0m\u001b[1;32m      8\u001b[0m     \u001b[0;32mreturn\u001b[0m \u001b[0mtext\u001b[0m\u001b[0;34m\u001b[0m\u001b[0;34m\u001b[0m\u001b[0m\n",
            "\u001b[0;32m/usr/local/lib/python3.10/dist-packages/PyPDF2/_page.py\u001b[0m in \u001b[0;36mextract_text\u001b[0;34m(self, Tj_sep, TJ_sep, orientations, space_width, visitor_operand_before, visitor_operand_after, visitor_text, *args)\u001b[0m\n\u001b[1;32m   1849\u001b[0m             \u001b[0morientations\u001b[0m \u001b[0;34m=\u001b[0m \u001b[0;34m(\u001b[0m\u001b[0morientations\u001b[0m\u001b[0;34m,\u001b[0m\u001b[0;34m)\u001b[0m\u001b[0;34m\u001b[0m\u001b[0;34m\u001b[0m\u001b[0m\n\u001b[1;32m   1850\u001b[0m \u001b[0;34m\u001b[0m\u001b[0m\n\u001b[0;32m-> 1851\u001b[0;31m         return self._extract_text(\n\u001b[0m\u001b[1;32m   1852\u001b[0m             \u001b[0mself\u001b[0m\u001b[0;34m,\u001b[0m\u001b[0;34m\u001b[0m\u001b[0;34m\u001b[0m\u001b[0m\n\u001b[1;32m   1853\u001b[0m             \u001b[0mself\u001b[0m\u001b[0;34m.\u001b[0m\u001b[0mpdf\u001b[0m\u001b[0;34m,\u001b[0m\u001b[0;34m\u001b[0m\u001b[0;34m\u001b[0m\u001b[0m\n",
            "\u001b[0;32m/usr/local/lib/python3.10/dist-packages/PyPDF2/_page.py\u001b[0m in \u001b[0;36m_extract_text\u001b[0;34m(self, obj, pdf, orientations, space_width, content_key, visitor_operand_before, visitor_operand_after, visitor_text)\u001b[0m\n\u001b[1;32m   1701\u001b[0m                 \u001b[0mprocess_operation\u001b[0m\u001b[0;34m(\u001b[0m\u001b[0;34mb\"T*\"\u001b[0m\u001b[0;34m,\u001b[0m \u001b[0;34m[\u001b[0m\u001b[0;34m]\u001b[0m\u001b[0;34m)\u001b[0m\u001b[0;34m\u001b[0m\u001b[0;34m\u001b[0m\u001b[0m\n\u001b[1;32m   1702\u001b[0m                 \u001b[0mprocess_operation\u001b[0m\u001b[0;34m(\u001b[0m\u001b[0;34mb\"Tj\"\u001b[0m\u001b[0;34m,\u001b[0m \u001b[0moperands\u001b[0m\u001b[0;34m)\u001b[0m\u001b[0;34m\u001b[0m\u001b[0;34m\u001b[0m\u001b[0m\n\u001b[0;32m-> 1703\u001b[0;31m             \u001b[0;32melif\u001b[0m \u001b[0moperator\u001b[0m \u001b[0;34m==\u001b[0m \u001b[0;34mb'\"'\u001b[0m\u001b[0;34m:\u001b[0m\u001b[0;34m\u001b[0m\u001b[0;34m\u001b[0m\u001b[0m\n\u001b[0m\u001b[1;32m   1704\u001b[0m                 \u001b[0mprocess_operation\u001b[0m\u001b[0;34m(\u001b[0m\u001b[0;34mb\"Tw\"\u001b[0m\u001b[0;34m,\u001b[0m \u001b[0;34m[\u001b[0m\u001b[0moperands\u001b[0m\u001b[0;34m[\u001b[0m\u001b[0;36m0\u001b[0m\u001b[0;34m]\u001b[0m\u001b[0;34m]\u001b[0m\u001b[0;34m)\u001b[0m\u001b[0;34m\u001b[0m\u001b[0;34m\u001b[0m\u001b[0m\n\u001b[1;32m   1705\u001b[0m                 \u001b[0mprocess_operation\u001b[0m\u001b[0;34m(\u001b[0m\u001b[0;34mb\"Tc\"\u001b[0m\u001b[0;34m,\u001b[0m \u001b[0;34m[\u001b[0m\u001b[0moperands\u001b[0m\u001b[0;34m[\u001b[0m\u001b[0;36m1\u001b[0m\u001b[0;34m]\u001b[0m\u001b[0;34m]\u001b[0m\u001b[0;34m)\u001b[0m\u001b[0;34m\u001b[0m\u001b[0;34m\u001b[0m\u001b[0m\n",
            "\u001b[0;31mKeyboardInterrupt\u001b[0m: "
          ]
        }
      ],
      "source": [
        "classify_all_proposals(folder_path)"
      ]
    },
    {
      "cell_type": "code",
      "execution_count": null,
      "metadata": {
        "id": "3wrFu11n9uYm"
      },
      "outputs": [],
      "source": [
        "# Specify the folder containing your proposal files\n",
        "folder_path = '/content/drive/Shareddrives/TDM Project - Sheikha Al Mujaini/2023/IG/Rejected'"
      ]
    },
    {
      "cell_type": "code",
      "execution_count": null,
      "metadata": {
        "colab": {
          "base_uri": "https://localhost:8080/",
          "height": 809
        },
        "id": "pQnNJVkG95PC",
        "outputId": "c31b67c4-4754-4a25-c92e-579905d3c427",
        "collapsed": true
      },
      "outputs": [
        {
          "output_type": "stream",
          "name": "stdout",
          "text": [
            "Proposal: d8419f15-0e8a-43af-861b-d4e9070d6de8.pdf\n",
            "Classification: Rejected, Score: 0.27\n",
            "Proposal: 3e4920e2-7867-47c8-91d0-970b9d1bb938.pdf\n",
            "Classification: Approved, Score: 0.83\n",
            "Proposal: d6603fec-5160-44dd-944f-308b8b978a11.pdf\n",
            "Classification: Approved, Score: 0.66\n",
            "Proposal: 3651784b-ec7f-4cc3-ad25-62282d9b333a.pdf\n",
            "Classification: Approved, Score: 0.99\n",
            "Proposal: 7b5935b7-5f56-4b6a-bdba-5b70176b43ef.pdf\n",
            "Classification: Approved, Score: 0.71\n",
            "Proposal: dd1ff1b5-2355-4b6d-977b-0cf9b775fcde.pdf\n",
            "Classification: Approved, Score: 0.72\n",
            "Proposal: d5235d77-73a1-4a6c-859a-0f2056884110.pdf\n",
            "Classification: Approved, Score: 0.78\n",
            "Proposal: b411f084-6eee-4c10-b350-0725b43a3ead.pdf\n",
            "Classification: Approved, Score: 0.74\n",
            "Proposal: 5f4561ad-179f-4e39-9f75-475494579337.pdf\n",
            "Classification: Approved, Score: 0.77\n",
            "Proposal: c57c6fac-7a98-4fc4-a5dc-c3c1941f264e.pdf\n",
            "Classification: Approved, Score: 0.87\n",
            "Proposal: 4629f233-96e6-419f-95b9-960a1cbf5064.pdf\n",
            "Classification: Approved, Score: 0.76\n",
            "Proposal: 1dcf673b-b19e-45e9-8f59-82363ecc261e.pdf\n",
            "Classification: Approved, Score: 0.74\n",
            "Proposal: 7dd58e4d-dcaa-4ea8-81a2-c4ad556b7a31.pdf\n",
            "Classification: Approved, Score: 0.69\n",
            "Proposal: Sultan Qaboos University.pdf\n",
            "Classification: Approved, Score: 0.79\n"
          ]
        },
        {
          "output_type": "error",
          "ename": "KeyboardInterrupt",
          "evalue": "",
          "traceback": [
            "\u001b[0;31m---------------------------------------------------------------------------\u001b[0m",
            "\u001b[0;31mKeyboardInterrupt\u001b[0m                         Traceback (most recent call last)",
            "\u001b[0;32m<ipython-input-42-6fe6f47794b6>\u001b[0m in \u001b[0;36m<cell line: 1>\u001b[0;34m()\u001b[0m\n\u001b[0;32m----> 1\u001b[0;31m \u001b[0mclassify_all_proposals\u001b[0m\u001b[0;34m(\u001b[0m\u001b[0mfolder_path\u001b[0m\u001b[0;34m)\u001b[0m\u001b[0;34m\u001b[0m\u001b[0;34m\u001b[0m\u001b[0m\n\u001b[0m",
            "\u001b[0;32m<ipython-input-38-22c48a98fe4f>\u001b[0m in \u001b[0;36mclassify_all_proposals\u001b[0;34m(folder_path)\u001b[0m\n\u001b[1;32m      6\u001b[0m         \u001b[0;32mif\u001b[0m \u001b[0mfile_path\u001b[0m\u001b[0;34m.\u001b[0m\u001b[0mendswith\u001b[0m\u001b[0;34m(\u001b[0m\u001b[0;34m'.pdf'\u001b[0m\u001b[0;34m)\u001b[0m \u001b[0;32mor\u001b[0m \u001b[0mfile_path\u001b[0m\u001b[0;34m.\u001b[0m\u001b[0mendswith\u001b[0m\u001b[0;34m(\u001b[0m\u001b[0;34m'.json'\u001b[0m\u001b[0;34m)\u001b[0m\u001b[0;34m:\u001b[0m\u001b[0;34m\u001b[0m\u001b[0;34m\u001b[0m\u001b[0m\n\u001b[1;32m      7\u001b[0m             \u001b[0;32mtry\u001b[0m\u001b[0;34m:\u001b[0m\u001b[0;34m\u001b[0m\u001b[0;34m\u001b[0m\u001b[0m\n\u001b[0;32m----> 8\u001b[0;31m                 \u001b[0mtext\u001b[0m \u001b[0;34m=\u001b[0m \u001b[0mextract_text\u001b[0m\u001b[0;34m(\u001b[0m\u001b[0mfile_path\u001b[0m\u001b[0;34m)\u001b[0m  \u001b[0;31m# Utilize the existing extract_text function\u001b[0m\u001b[0;34m\u001b[0m\u001b[0;34m\u001b[0m\u001b[0m\n\u001b[0m\u001b[1;32m      9\u001b[0m                 \u001b[0;31m# Get the probability of being 'Approved'\u001b[0m\u001b[0;34m\u001b[0m\u001b[0;34m\u001b[0m\u001b[0m\n\u001b[1;32m     10\u001b[0m                 \u001b[0mscore\u001b[0m \u001b[0;34m=\u001b[0m \u001b[0mmodel\u001b[0m\u001b[0;34m.\u001b[0m\u001b[0mpredict_proba\u001b[0m\u001b[0;34m(\u001b[0m\u001b[0;34m[\u001b[0m\u001b[0mtext\u001b[0m\u001b[0;34m]\u001b[0m\u001b[0;34m)\u001b[0m\u001b[0;34m[\u001b[0m\u001b[0;36m0\u001b[0m\u001b[0;34m]\u001b[0m\u001b[0;34m[\u001b[0m\u001b[0;36m1\u001b[0m\u001b[0;34m]\u001b[0m\u001b[0;34m\u001b[0m\u001b[0;34m\u001b[0m\u001b[0m\n",
            "\u001b[0;32m<ipython-input-35-e3ba9e0d47c7>\u001b[0m in \u001b[0;36mextract_text\u001b[0;34m(file_path)\u001b[0m\n\u001b[1;32m      2\u001b[0m \u001b[0;32mdef\u001b[0m \u001b[0mextract_text\u001b[0m\u001b[0;34m(\u001b[0m\u001b[0mfile_path\u001b[0m\u001b[0;34m)\u001b[0m\u001b[0;34m:\u001b[0m\u001b[0;34m\u001b[0m\u001b[0;34m\u001b[0m\u001b[0m\n\u001b[1;32m      3\u001b[0m     \u001b[0;32mif\u001b[0m \u001b[0mfile_path\u001b[0m\u001b[0;34m.\u001b[0m\u001b[0mendswith\u001b[0m\u001b[0;34m(\u001b[0m\u001b[0;34m'.pdf'\u001b[0m\u001b[0;34m)\u001b[0m\u001b[0;34m:\u001b[0m\u001b[0;34m\u001b[0m\u001b[0;34m\u001b[0m\u001b[0m\n\u001b[0;32m----> 4\u001b[0;31m         \u001b[0mtext\u001b[0m \u001b[0;34m=\u001b[0m \u001b[0mextract_text_from_pdf\u001b[0m\u001b[0;34m(\u001b[0m\u001b[0mfile_path\u001b[0m\u001b[0;34m)\u001b[0m\u001b[0;34m\u001b[0m\u001b[0;34m\u001b[0m\u001b[0m\n\u001b[0m\u001b[1;32m      5\u001b[0m     \u001b[0;32melif\u001b[0m \u001b[0mfile_path\u001b[0m\u001b[0;34m.\u001b[0m\u001b[0mendswith\u001b[0m\u001b[0;34m(\u001b[0m\u001b[0;34m'.json'\u001b[0m\u001b[0;34m)\u001b[0m\u001b[0;34m:\u001b[0m\u001b[0;34m\u001b[0m\u001b[0;34m\u001b[0m\u001b[0m\n\u001b[1;32m      6\u001b[0m         \u001b[0mtext\u001b[0m \u001b[0;34m=\u001b[0m \u001b[0mextract_text_from_json\u001b[0m\u001b[0;34m(\u001b[0m\u001b[0mfile_path\u001b[0m\u001b[0;34m)\u001b[0m\u001b[0;34m\u001b[0m\u001b[0;34m\u001b[0m\u001b[0m\n",
            "\u001b[0;32m<ipython-input-36-78ab1e072c40>\u001b[0m in \u001b[0;36mextract_text_from_pdf\u001b[0;34m(pdf_path)\u001b[0m\n\u001b[1;32m      2\u001b[0m \u001b[0;32mdef\u001b[0m \u001b[0mextract_text_from_pdf\u001b[0m\u001b[0;34m(\u001b[0m\u001b[0mpdf_path\u001b[0m\u001b[0;34m)\u001b[0m\u001b[0;34m:\u001b[0m\u001b[0;34m\u001b[0m\u001b[0;34m\u001b[0m\u001b[0m\n\u001b[1;32m      3\u001b[0m     \u001b[0;32mwith\u001b[0m \u001b[0mopen\u001b[0m\u001b[0;34m(\u001b[0m\u001b[0mpdf_path\u001b[0m\u001b[0;34m,\u001b[0m \u001b[0;34m'rb'\u001b[0m\u001b[0;34m)\u001b[0m \u001b[0;32mas\u001b[0m \u001b[0mfile\u001b[0m\u001b[0;34m:\u001b[0m\u001b[0;34m\u001b[0m\u001b[0;34m\u001b[0m\u001b[0m\n\u001b[0;32m----> 4\u001b[0;31m         \u001b[0mreader\u001b[0m \u001b[0;34m=\u001b[0m \u001b[0mPyPDF2\u001b[0m\u001b[0;34m.\u001b[0m\u001b[0mPdfReader\u001b[0m\u001b[0;34m(\u001b[0m\u001b[0mfile\u001b[0m\u001b[0;34m)\u001b[0m\u001b[0;34m\u001b[0m\u001b[0;34m\u001b[0m\u001b[0m\n\u001b[0m\u001b[1;32m      5\u001b[0m         \u001b[0mtext\u001b[0m \u001b[0;34m=\u001b[0m \u001b[0;34m''\u001b[0m\u001b[0;34m\u001b[0m\u001b[0;34m\u001b[0m\u001b[0m\n\u001b[1;32m      6\u001b[0m         \u001b[0;32mfor\u001b[0m \u001b[0mpage\u001b[0m \u001b[0;32min\u001b[0m \u001b[0mreader\u001b[0m\u001b[0;34m.\u001b[0m\u001b[0mpages\u001b[0m\u001b[0;34m:\u001b[0m\u001b[0;34m\u001b[0m\u001b[0;34m\u001b[0m\u001b[0m\n",
            "\u001b[0;32m/usr/local/lib/python3.10/dist-packages/PyPDF2/_reader.py\u001b[0m in \u001b[0;36m__init__\u001b[0;34m(self, stream, strict, password)\u001b[0m\n\u001b[1;32m    317\u001b[0m             \u001b[0;32mwith\u001b[0m \u001b[0mopen\u001b[0m\u001b[0;34m(\u001b[0m\u001b[0mstream\u001b[0m\u001b[0;34m,\u001b[0m \u001b[0;34m\"rb\"\u001b[0m\u001b[0;34m)\u001b[0m \u001b[0;32mas\u001b[0m \u001b[0mfh\u001b[0m\u001b[0;34m:\u001b[0m\u001b[0;34m\u001b[0m\u001b[0;34m\u001b[0m\u001b[0m\n\u001b[1;32m    318\u001b[0m                 \u001b[0mstream\u001b[0m \u001b[0;34m=\u001b[0m \u001b[0mBytesIO\u001b[0m\u001b[0;34m(\u001b[0m\u001b[0mfh\u001b[0m\u001b[0;34m.\u001b[0m\u001b[0mread\u001b[0m\u001b[0;34m(\u001b[0m\u001b[0;34m)\u001b[0m\u001b[0;34m)\u001b[0m\u001b[0;34m\u001b[0m\u001b[0;34m\u001b[0m\u001b[0m\n\u001b[0;32m--> 319\u001b[0;31m         \u001b[0mself\u001b[0m\u001b[0;34m.\u001b[0m\u001b[0mread\u001b[0m\u001b[0;34m(\u001b[0m\u001b[0mstream\u001b[0m\u001b[0;34m)\u001b[0m\u001b[0;34m\u001b[0m\u001b[0;34m\u001b[0m\u001b[0m\n\u001b[0m\u001b[1;32m    320\u001b[0m         \u001b[0mself\u001b[0m\u001b[0;34m.\u001b[0m\u001b[0mstream\u001b[0m \u001b[0;34m=\u001b[0m \u001b[0mstream\u001b[0m\u001b[0;34m\u001b[0m\u001b[0;34m\u001b[0m\u001b[0m\n\u001b[1;32m    321\u001b[0m \u001b[0;34m\u001b[0m\u001b[0m\n",
            "\u001b[0;32m/usr/local/lib/python3.10/dist-packages/PyPDF2/_reader.py\u001b[0m in \u001b[0;36mread\u001b[0;34m(self, stream)\u001b[0m\n\u001b[1;32m   1424\u001b[0m \u001b[0;34m\u001b[0m\u001b[0m\n\u001b[1;32m   1425\u001b[0m         \u001b[0;31m# read all cross reference tables and their trailers\u001b[0m\u001b[0;34m\u001b[0m\u001b[0;34m\u001b[0m\u001b[0m\n\u001b[0;32m-> 1426\u001b[0;31m         \u001b[0mself\u001b[0m\u001b[0;34m.\u001b[0m\u001b[0m_read_xref_tables_and_trailers\u001b[0m\u001b[0;34m(\u001b[0m\u001b[0mstream\u001b[0m\u001b[0;34m,\u001b[0m \u001b[0mstartxref\u001b[0m\u001b[0;34m,\u001b[0m \u001b[0mxref_issue_nr\u001b[0m\u001b[0;34m)\u001b[0m\u001b[0;34m\u001b[0m\u001b[0;34m\u001b[0m\u001b[0m\n\u001b[0m\u001b[1;32m   1427\u001b[0m \u001b[0;34m\u001b[0m\u001b[0m\n\u001b[1;32m   1428\u001b[0m         \u001b[0;31m# if not zero-indexed, verify that the table is correct; change it if necessary\u001b[0m\u001b[0;34m\u001b[0m\u001b[0;34m\u001b[0m\u001b[0m\n",
            "\u001b[0;32m/usr/local/lib/python3.10/dist-packages/PyPDF2/_reader.py\u001b[0m in \u001b[0;36m_read_xref_tables_and_trailers\u001b[0;34m(self, stream, startxref, xref_issue_nr)\u001b[0m\n\u001b[1;32m   1612\u001b[0m                 \u001b[0mx\u001b[0m \u001b[0;34m=\u001b[0m \u001b[0mstream\u001b[0m\u001b[0;34m.\u001b[0m\u001b[0mread\u001b[0m\u001b[0;34m(\u001b[0m\u001b[0;36m1\u001b[0m\u001b[0;34m)\u001b[0m\u001b[0;34m\u001b[0m\u001b[0;34m\u001b[0m\u001b[0m\n\u001b[1;32m   1613\u001b[0m             \u001b[0;32mif\u001b[0m \u001b[0mx\u001b[0m \u001b[0;34m==\u001b[0m \u001b[0;34mb\"x\"\u001b[0m\u001b[0;34m:\u001b[0m\u001b[0;34m\u001b[0m\u001b[0;34m\u001b[0m\u001b[0m\n\u001b[0;32m-> 1614\u001b[0;31m                 \u001b[0mstartxref\u001b[0m \u001b[0;34m=\u001b[0m \u001b[0mself\u001b[0m\u001b[0;34m.\u001b[0m\u001b[0m_read_xref\u001b[0m\u001b[0;34m(\u001b[0m\u001b[0mstream\u001b[0m\u001b[0;34m)\u001b[0m\u001b[0;34m\u001b[0m\u001b[0;34m\u001b[0m\u001b[0m\n\u001b[0m\u001b[1;32m   1615\u001b[0m             \u001b[0;32melif\u001b[0m \u001b[0mxref_issue_nr\u001b[0m\u001b[0;34m:\u001b[0m\u001b[0;34m\u001b[0m\u001b[0;34m\u001b[0m\u001b[0m\n\u001b[1;32m   1616\u001b[0m                 \u001b[0;32mtry\u001b[0m\u001b[0;34m:\u001b[0m\u001b[0;34m\u001b[0m\u001b[0;34m\u001b[0m\u001b[0m\n",
            "\u001b[0;32m/usr/local/lib/python3.10/dist-packages/PyPDF2/_reader.py\u001b[0m in \u001b[0;36m_read_xref\u001b[0;34m(self, stream)\u001b[0m\n\u001b[1;32m   1659\u001b[0m             \u001b[0mstream\u001b[0m\u001b[0;34m.\u001b[0m\u001b[0mseek\u001b[0m\u001b[0;34m(\u001b[0m\u001b[0mcast\u001b[0m\u001b[0;34m(\u001b[0m\u001b[0mint\u001b[0m\u001b[0;34m,\u001b[0m \u001b[0mnew_trailer\u001b[0m\u001b[0;34m[\u001b[0m\u001b[0;34m\"/XRefStm\"\u001b[0m\u001b[0;34m]\u001b[0m\u001b[0;34m)\u001b[0m \u001b[0;34m+\u001b[0m \u001b[0;36m1\u001b[0m\u001b[0;34m,\u001b[0m \u001b[0;36m0\u001b[0m\u001b[0;34m)\u001b[0m\u001b[0;34m\u001b[0m\u001b[0;34m\u001b[0m\u001b[0m\n\u001b[1;32m   1660\u001b[0m             \u001b[0;32mtry\u001b[0m\u001b[0;34m:\u001b[0m\u001b[0;34m\u001b[0m\u001b[0;34m\u001b[0m\u001b[0m\n\u001b[0;32m-> 1661\u001b[0;31m                 \u001b[0mself\u001b[0m\u001b[0;34m.\u001b[0m\u001b[0m_read_pdf15_xref_stream\u001b[0m\u001b[0;34m(\u001b[0m\u001b[0mstream\u001b[0m\u001b[0;34m)\u001b[0m\u001b[0;34m\u001b[0m\u001b[0;34m\u001b[0m\u001b[0m\n\u001b[0m\u001b[1;32m   1662\u001b[0m             \u001b[0;32mexcept\u001b[0m \u001b[0mException\u001b[0m\u001b[0;34m:\u001b[0m\u001b[0;34m\u001b[0m\u001b[0;34m\u001b[0m\u001b[0m\n\u001b[1;32m   1663\u001b[0m                 logger_warning(\n",
            "\u001b[0;32m/usr/local/lib/python3.10/dist-packages/PyPDF2/_reader.py\u001b[0m in \u001b[0;36m_read_pdf15_xref_stream\u001b[0;34m(self, stream)\u001b[0m\n\u001b[1;32m   1718\u001b[0m         \u001b[0;31m# PDF 1.5+ Cross-Reference Stream\u001b[0m\u001b[0;34m\u001b[0m\u001b[0;34m\u001b[0m\u001b[0m\n\u001b[1;32m   1719\u001b[0m         \u001b[0mstream\u001b[0m\u001b[0;34m.\u001b[0m\u001b[0mseek\u001b[0m\u001b[0;34m(\u001b[0m\u001b[0;34m-\u001b[0m\u001b[0;36m1\u001b[0m\u001b[0;34m,\u001b[0m \u001b[0;36m1\u001b[0m\u001b[0;34m)\u001b[0m\u001b[0;34m\u001b[0m\u001b[0;34m\u001b[0m\u001b[0m\n\u001b[0;32m-> 1720\u001b[0;31m         \u001b[0midnum\u001b[0m\u001b[0;34m,\u001b[0m \u001b[0mgeneration\u001b[0m \u001b[0;34m=\u001b[0m \u001b[0mself\u001b[0m\u001b[0;34m.\u001b[0m\u001b[0mread_object_header\u001b[0m\u001b[0;34m(\u001b[0m\u001b[0mstream\u001b[0m\u001b[0;34m)\u001b[0m\u001b[0;34m\u001b[0m\u001b[0;34m\u001b[0m\u001b[0m\n\u001b[0m\u001b[1;32m   1721\u001b[0m         \u001b[0mxrefstream\u001b[0m \u001b[0;34m=\u001b[0m \u001b[0mcast\u001b[0m\u001b[0;34m(\u001b[0m\u001b[0mContentStream\u001b[0m\u001b[0;34m,\u001b[0m \u001b[0mread_object\u001b[0m\u001b[0;34m(\u001b[0m\u001b[0mstream\u001b[0m\u001b[0;34m,\u001b[0m \u001b[0mself\u001b[0m\u001b[0;34m)\u001b[0m\u001b[0;34m)\u001b[0m\u001b[0;34m\u001b[0m\u001b[0;34m\u001b[0m\u001b[0m\n\u001b[1;32m   1722\u001b[0m         \u001b[0;32massert\u001b[0m \u001b[0mcast\u001b[0m\u001b[0;34m(\u001b[0m\u001b[0mstr\u001b[0m\u001b[0;34m,\u001b[0m \u001b[0mxrefstream\u001b[0m\u001b[0;34m[\u001b[0m\u001b[0;34m\"/Type\"\u001b[0m\u001b[0;34m]\u001b[0m\u001b[0;34m)\u001b[0m \u001b[0;34m==\u001b[0m \u001b[0;34m\"/XRef\"\u001b[0m\u001b[0;34m\u001b[0m\u001b[0;34m\u001b[0m\u001b[0m\n",
            "\u001b[0;32m/usr/local/lib/python3.10/dist-packages/PyPDF2/_reader.py\u001b[0m in \u001b[0;36mread_object_header\u001b[0;34m(self, stream)\u001b[0m\n\u001b[1;32m   1336\u001b[0m         \u001b[0;31m# tables that are off by whitespace bytes.\u001b[0m\u001b[0;34m\u001b[0m\u001b[0;34m\u001b[0m\u001b[0m\n\u001b[1;32m   1337\u001b[0m         \u001b[0mextra\u001b[0m \u001b[0;34m=\u001b[0m \u001b[0;32mFalse\u001b[0m\u001b[0;34m\u001b[0m\u001b[0;34m\u001b[0m\u001b[0m\n\u001b[0;32m-> 1338\u001b[0;31m         \u001b[0mskip_over_comment\u001b[0m\u001b[0;34m(\u001b[0m\u001b[0mstream\u001b[0m\u001b[0;34m)\u001b[0m\u001b[0;34m\u001b[0m\u001b[0;34m\u001b[0m\u001b[0m\n\u001b[0m\u001b[1;32m   1339\u001b[0m         \u001b[0mextra\u001b[0m \u001b[0;34m|=\u001b[0m \u001b[0mskip_over_whitespace\u001b[0m\u001b[0;34m(\u001b[0m\u001b[0mstream\u001b[0m\u001b[0;34m)\u001b[0m\u001b[0;34m\u001b[0m\u001b[0;34m\u001b[0m\u001b[0m\n\u001b[1;32m   1340\u001b[0m         \u001b[0mstream\u001b[0m\u001b[0;34m.\u001b[0m\u001b[0mseek\u001b[0m\u001b[0;34m(\u001b[0m\u001b[0;34m-\u001b[0m\u001b[0;36m1\u001b[0m\u001b[0;34m,\u001b[0m \u001b[0;36m1\u001b[0m\u001b[0;34m)\u001b[0m\u001b[0;34m\u001b[0m\u001b[0;34m\u001b[0m\u001b[0m\n",
            "\u001b[0;32m/usr/local/lib/python3.10/dist-packages/PyPDF2/_utils.py\u001b[0m in \u001b[0;36mskip_over_comment\u001b[0;34m(stream)\u001b[0m\n\u001b[1;32m    135\u001b[0m \u001b[0;34m\u001b[0m\u001b[0m\n\u001b[1;32m    136\u001b[0m \u001b[0;32mdef\u001b[0m \u001b[0mskip_over_comment\u001b[0m\u001b[0;34m(\u001b[0m\u001b[0mstream\u001b[0m\u001b[0;34m:\u001b[0m \u001b[0mStreamType\u001b[0m\u001b[0;34m)\u001b[0m \u001b[0;34m->\u001b[0m \u001b[0;32mNone\u001b[0m\u001b[0;34m:\u001b[0m\u001b[0;34m\u001b[0m\u001b[0;34m\u001b[0m\u001b[0m\n\u001b[0;32m--> 137\u001b[0;31m     \u001b[0mtok\u001b[0m \u001b[0;34m=\u001b[0m \u001b[0mstream\u001b[0m\u001b[0;34m.\u001b[0m\u001b[0mread\u001b[0m\u001b[0;34m(\u001b[0m\u001b[0;36m1\u001b[0m\u001b[0;34m)\u001b[0m\u001b[0;34m\u001b[0m\u001b[0;34m\u001b[0m\u001b[0m\n\u001b[0m\u001b[1;32m    138\u001b[0m     \u001b[0mstream\u001b[0m\u001b[0;34m.\u001b[0m\u001b[0mseek\u001b[0m\u001b[0;34m(\u001b[0m\u001b[0;34m-\u001b[0m\u001b[0;36m1\u001b[0m\u001b[0;34m,\u001b[0m \u001b[0;36m1\u001b[0m\u001b[0;34m)\u001b[0m\u001b[0;34m\u001b[0m\u001b[0;34m\u001b[0m\u001b[0m\n\u001b[1;32m    139\u001b[0m     \u001b[0;32mif\u001b[0m \u001b[0mtok\u001b[0m \u001b[0;34m==\u001b[0m \u001b[0;34mb\"%\"\u001b[0m\u001b[0;34m:\u001b[0m\u001b[0;34m\u001b[0m\u001b[0;34m\u001b[0m\u001b[0m\n",
            "\u001b[0;31mKeyboardInterrupt\u001b[0m: "
          ]
        }
      ],
      "source": [
        "classify_all_proposals(folder_path)"
      ]
    },
    {
      "cell_type": "code",
      "execution_count": null,
      "metadata": {
        "id": "6SLAVwlaAKqz",
        "cellView": "form"
      },
      "outputs": [],
      "source": [
        "#@title #9- Define paths to 'Approved' and 'Rejected' folders\n",
        "approved_folder_path = '/content/drive/Shareddrives/TDM Project - Sheikha Al Mujaini/2023/IG/Approved'\n",
        "rejected_folder_path = '/content/drive/Shareddrives/TDM Project - Sheikha Al Mujaini/2023/IG/Rejected'"
      ]
    },
    {
      "cell_type": "code",
      "execution_count": null,
      "metadata": {
        "id": "G2XfNP4NAzF9",
        "cellView": "form"
      },
      "outputs": [],
      "source": [
        "#@title 10- Evaluation\n",
        "def evaluate_proposals(folder_path, true_label):\n",
        "    predictions, labels = [], []\n",
        "    for filename in os.listdir(folder_path):\n",
        "        file_path = os.path.join(folder_path, filename)\n",
        "        # Check if the file is PDF or JSON before proceeding\n",
        "        if file_path.endswith('.pdf') or file_path.endswith('.json'):\n",
        "            try:\n",
        "                text = extract_text(file_path)  # Utilize the existing extract_text function\n",
        "                score = model.predict_proba([text])[0][1]\n",
        "                prediction = 1 if score >= 0.6 else 0  # Convert 'Approved'/'Rejected' to binary labels\n",
        "                predictions.append(prediction)\n",
        "                labels.append(1 if true_label == 'Approved' else 0)  # True label in binary form\n",
        "            except Exception as e:\n",
        "                print(f\"Error processing file {filename}: {e}\")\n",
        "\n",
        "    return predictions, labels"
      ]
    },
    {
      "cell_type": "code",
      "execution_count": null,
      "metadata": {
        "id": "EALe-6b1A0i7",
        "cellView": "form"
      },
      "outputs": [],
      "source": [
        "#@title #11- Get predictions and true labels\n",
        "approved_predictions, approved_labels = evaluate_proposals(approved_folder_path, 'Approved')\n",
        "rejected_predictions, rejected_labels = evaluate_proposals(rejected_folder_path, 'Rejected')\n"
      ]
    },
    {
      "cell_type": "code",
      "execution_count": null,
      "metadata": {
        "id": "I673SSkkA41G",
        "cellView": "form"
      },
      "outputs": [],
      "source": [
        "#@title #12- Combine predictions and labels from both folders\n",
        "all_predictions = approved_predictions + rejected_predictions\n",
        "all_labels = approved_labels + rejected_labels"
      ]
    },
    {
      "cell_type": "code",
      "execution_count": null,
      "metadata": {
        "colab": {
          "base_uri": "https://localhost:8080/"
        },
        "id": "dqhCAiZRA61W",
        "outputId": "ce3c9e14-4d81-4736-8cee-3a1d19decd61",
        "cellView": "form"
      },
      "outputs": [
        {
          "output_type": "stream",
          "name": "stdout",
          "text": [
            "Classification Report:\n",
            "              precision    recall  f1-score   support\n",
            "\n",
            "    Rejected       0.44      0.16      0.24        25\n",
            "    Approved       0.84      0.96      0.89       114\n",
            "\n",
            "    accuracy                           0.81       139\n",
            "   macro avg       0.64      0.56      0.56       139\n",
            "weighted avg       0.77      0.81      0.78       139\n",
            "\n",
            "Accuracy: 0.8129496402877698\n"
          ]
        }
      ],
      "source": [
        "#@title #13- Calculate and print performance metrics\n",
        "print(\"Classification Report:\")\n",
        "print(classification_report(all_labels, all_predictions, target_names=['Rejected', 'Approved']))\n",
        "print(\"Accuracy:\", accuracy_score(all_labels, all_predictions))"
      ]
    },
    {
      "cell_type": "markdown",
      "source": [
        "# Similarity To Oman Vision 2040 and SQU's objectives"
      ],
      "metadata": {
        "id": "SFLkfqa6Gy9r"
      }
    },
    {
      "cell_type": "code",
      "execution_count": null,
      "metadata": {
        "id": "J7j4MIY0A8qa",
        "colab": {
          "base_uri": "https://localhost:8080/",
          "height": 336,
          "referenced_widgets": [
            "45019b2b4ec64388851cc0249e75549a",
            "e8ecc70b0ea4459da5ce17127ac8459c",
            "3fe95d4c29fe4e149ab2d7ddd71ed887",
            "e4a9049e1201433b80e653d43c7a9048",
            "377493d50c674ae8a2c0b9e3a20ddc2f",
            "76bebc6c367940488ac556784b3701a0",
            "548ca97942494799b589d0138e284a20",
            "ecf1f3802960445fb80481de3ccde403",
            "75db2dfa8a154cb19eb01000c461d056",
            "2860ddf2d6854931bbcae389c6b17bf3",
            "758e34ca8e7f4ba39157ced88c5ee1f4",
            "f4e6a45db38945758f54ce5a1734adf3",
            "bdf4b2f0fdad498e94a8d350e9440e86",
            "26e7e15c4042472bb52e966ff4e0f53a",
            "63a545e8977d4d73a4d7447aff600341",
            "da4a2639f3b44ce19cd2751153cf4157",
            "8359a2e21c3845ab9f12e32c7b6cb749",
            "d3fad367617246c289d34b53d3990410",
            "1674d477f54249718a1fcc8e5cd07288",
            "a1727d0214234f03be888bc9b514e7e9",
            "135adcf7687d4ee5ba118dfded7530de",
            "c28cc942866c4f91baad735aa81af5c4",
            "6d12c4dfca35490b96da8f618f446c2c",
            "05c6c935e23246b3b789be6df26b6228",
            "a1ad45fd02a141fb80c97e934268a75e",
            "f84c321bf0c345ff879be9bac51ce583",
            "e3ea2c4a55a54ad3b5a31dc692a608b2",
            "0ee051b4eda9489d9968bf4c3f5a4c9c",
            "f300ed43607b4345a096d72b3bae8eb8",
            "0a6219fd0d1d42f4b7678a4cff71f51f",
            "9d8d0e64628247829a50671d3a626f5a",
            "bddc406d535841d79349d91169590a3d",
            "e0e03e5bf07a48fb9a4b43df39398859",
            "78baa47220754a53aa390de16bb8101f",
            "a09f2a98a3fa49f9af3c28d9befd9861",
            "ae22c32936654ae091176ede5eeadbbe",
            "3e2b5af1228c4109bc402f27fc069e04",
            "4fad1c07ba7741ec8ab6b554458935e9",
            "240ae72ae21f48558d1771e57e8e8d40",
            "96d3a831edc247daba1bb2ac384fcb51",
            "ce870bd795a3492c8e4afd5ffe79f187",
            "d3b42765a63c43bfafb9b93541c00b31",
            "77c82516772c46e59459719245609d0b",
            "875c8a07bbd4446ca3a25ffa2746c057",
            "f53160b18d6840358c9ccf8f01a0dccc",
            "84d51dccd9e04b00aff6bb06f729bfc4",
            "2454c96b0525432b97e7617ac9c692e8",
            "dbe7a52b96c347458888eb1e7c72282c",
            "c24cb6fb30d54a2dbea1050797f4f96c",
            "90db24ba536e4e71b4761bd1cfbdf986",
            "0cc555dc218b4e7298da5b0c305acc3c",
            "7a7a68dca9484346b839dd083d5945ec",
            "01a213dc982e4660a2fb5a2b9a950813",
            "c7765fe7d59044efa355a605bd47cf26",
            "eb4477d8b74047298a484203b92a7412"
          ]
        },
        "cellView": "form",
        "outputId": "996fe62d-b5c4-4691-ef5b-8b3fe7b605c8"
      },
      "outputs": [
        {
          "output_type": "stream",
          "name": "stderr",
          "text": [
            "/usr/local/lib/python3.10/dist-packages/huggingface_hub/utils/_token.py:89: UserWarning: \n",
            "The secret `HF_TOKEN` does not exist in your Colab secrets.\n",
            "To authenticate with the Hugging Face Hub, create a token in your settings tab (https://huggingface.co/settings/tokens), set it as secret in your Google Colab and restart your session.\n",
            "You will be able to reuse this secret in all of your notebooks.\n",
            "Please note that authentication is recommended but still optional to access public models or datasets.\n",
            "  warnings.warn(\n"
          ]
        },
        {
          "output_type": "display_data",
          "data": {
            "text/plain": [
              "tokenizer_config.json:   0%|          | 0.00/49.0 [00:00<?, ?B/s]"
            ],
            "application/vnd.jupyter.widget-view+json": {
              "version_major": 2,
              "version_minor": 0,
              "model_id": "45019b2b4ec64388851cc0249e75549a"
            }
          },
          "metadata": {}
        },
        {
          "output_type": "display_data",
          "data": {
            "text/plain": [
              "vocab.txt:   0%|          | 0.00/996k [00:00<?, ?B/s]"
            ],
            "application/vnd.jupyter.widget-view+json": {
              "version_major": 2,
              "version_minor": 0,
              "model_id": "f4e6a45db38945758f54ce5a1734adf3"
            }
          },
          "metadata": {}
        },
        {
          "output_type": "display_data",
          "data": {
            "text/plain": [
              "tokenizer.json:   0%|          | 0.00/1.96M [00:00<?, ?B/s]"
            ],
            "application/vnd.jupyter.widget-view+json": {
              "version_major": 2,
              "version_minor": 0,
              "model_id": "6d12c4dfca35490b96da8f618f446c2c"
            }
          },
          "metadata": {}
        },
        {
          "output_type": "stream",
          "name": "stderr",
          "text": [
            "/usr/local/lib/python3.10/dist-packages/huggingface_hub/file_download.py:1132: FutureWarning: `resume_download` is deprecated and will be removed in version 1.0.0. Downloads always resume when possible. If you want to force a new download, use `force_download=True`.\n",
            "  warnings.warn(\n"
          ]
        },
        {
          "output_type": "display_data",
          "data": {
            "text/plain": [
              "config.json:   0%|          | 0.00/625 [00:00<?, ?B/s]"
            ],
            "application/vnd.jupyter.widget-view+json": {
              "version_major": 2,
              "version_minor": 0,
              "model_id": "78baa47220754a53aa390de16bb8101f"
            }
          },
          "metadata": {}
        },
        {
          "output_type": "display_data",
          "data": {
            "text/plain": [
              "model.safetensors:   0%|          | 0.00/714M [00:00<?, ?B/s]"
            ],
            "application/vnd.jupyter.widget-view+json": {
              "version_major": 2,
              "version_minor": 0,
              "model_id": "f53160b18d6840358c9ccf8f01a0dccc"
            }
          },
          "metadata": {}
        }
      ],
      "source": [
        "#@title #1- Import necessary libraries\n",
        "import os\n",
        "import json\n",
        "from sklearn.feature_extraction.text import TfidfVectorizer\n",
        "from sklearn.ensemble import RandomForestClassifier\n",
        "from sklearn.metrics import classification_report, accuracy_score, precision_recall_curve\n",
        "from sklearn.model_selection import train_test_split\n",
        "from imblearn.over_sampling import ADASYN\n",
        "from imblearn.pipeline import make_pipeline\n",
        "import numpy as np\n",
        "import matplotlib.pyplot as plt\n",
        "import joblib\n",
        "import torch\n",
        "from transformers import BertModel, BertTokenizer\n",
        "from sklearn.metrics.pairwise import cosine_similarity\n",
        "\n",
        "# Load tokenizer and model for Multilingual BERT\n",
        "tokenizer = BertTokenizer.from_pretrained('bert-base-multilingual-cased')\n",
        "bert_model = BertModel.from_pretrained('bert-base-multilingual-cased')\n"
      ]
    },
    {
      "cell_type": "code",
      "source": [
        "#@title 2- Gettign bert embedding & calculate similarity functions\n",
        "def get_bert_embeddings(text):\n",
        "    inputs = tokenizer(text, return_tensors=\"pt\", max_length=512, truncation=True)\n",
        "    with torch.no_grad():\n",
        "        outputs = bert_model(**inputs)\n",
        "    return outputs.pooler_output[0].numpy()\n",
        "\n",
        "def calculate_similarity(vec1, vec2):\n",
        "    return cosine_similarity([vec1], [vec2])[0][0]\n",
        "\n",
        "# Function to extract text based on file type\n",
        "def extract_text(file_path):\n",
        "    if file_path.endswith('.pdf'):\n",
        "        text = extract_text_from_pdf(file_path)\n",
        "    elif file_path.endswith('.json'):\n",
        "        text = extract_text_from_json(file_path)\n",
        "    else:\n",
        "        raise ValueError(\"Unsupported file type. Please provide a .pdf or .json file.\")\n",
        "    return text.strip()\n"
      ],
      "metadata": {
        "id": "a5WFGwFiZt7c"
      },
      "execution_count": null,
      "outputs": []
    },
    {
      "cell_type": "code",
      "source": [
        "#@title #3- Strategic priorities of Oman Vision 2040 and SQU focus areas\n",
        "\n",
        "import ipywidgets as widgets\n",
        "from IPython.display import display, clear_output\n",
        "\n",
        "\n",
        "strategic_texts = {\n",
        "    \"oman_vision_2040\": {\n",
        "        \"1\": \"الرفاه والحماية الاجتماعية: مجتمع مغطى بشبكة أمان اجتماعية فاعلة ومستدامة وعادلة؛ مجتمع واع متماسك ممكن اجتماعيا واقتصاديا، خاصة المرأة والطفل والشباب وذوي الإعاقة والفئات الأكثر احتياجا؛ خدمات وبرامج اجتماعية متطورة ملبية لاحتياجات المجتمع؛ حماية اجتماعية متكاملة؛ موجهة للفئات الأكثر احتياجا لتمكينها من الاعتماد على الذات، والمساهمة في الاقتصاد الوطني؛ بيئة وأنظمة محفزة لرياضة مساهمة اقتصاديا ومنافسة عالميا؛ مجتمع مدني ممكن ومشارك بفاعلية في التنمية المستدامة وإطار تنظيمي فاعل ومحفز لعمل مؤسساته؛ شراكة فاعلة بين القطاع الحكومي والقطاع الخاص، والمجتمع المدني في مجالات التنمية الاجتماعية.\",\n",
        "        \"2\": \"المواطنة والهوية والتراث والثقافة الوطنية: مجتمع معتز بهويته ومواطنته وثقافته، يعمل على المحافظة على تراثه، وتوثيقه، ونشره عالميا؛ منظومة شراكة مجتمعية مؤسسية متكاملة تعزز الهوية، والمواطنة، والترابط والتكافل الاجتماعي؛ مجتمع معرفي واع يحافظ على هويته، ذو مهارات وقدرات، ويواكب المستجدات المعرفية والمتغيرات التقنية؛ استثمار مستدام للتراث والثقافة والفنون، يسهم في نمو الاقتصاد الوطني؛ إعلام مهني معزز للوعي المجتمعي ومساهم في التنمية الاجتماعية والاقتصادية؛ مجتمع أفراده يتصفون بالمسؤولية مدركون لحقوقهم، وملتزمون بواجباتهم؛ مجتمع رائد عالميا في التفاهم والتعايش والسلام؛ مجتمع متمكن من تقييم المعرفة ونقدها وتوظيفها وإنتاجها ونشرها.\",\n",
        "        \"3\": \"الصحة: مجتمع يتمتع بصحة مستدامة تترسخ فيه ثقافة «الصحة مسؤولية الجميع» ومصان من الأخطار ومهددات الصحة؛ نظام صحي يتسم باللامركزية، والجودة، والشفافية، والعدالة، والمساءلة؛ مصادر تمويل متنوعة ومستدامة للنظام الصحي؛ أنظمة وخدمات طبية تقنية، ورعاية صحية وقائية وعلاجية ذات جودة عالية بجميع مستوياتها؛ كوادر وقدرات وطنية مؤهلة، ورائدة في البحث العلمي والابتكار الصحي.\",\n",
        "        \"4\": \"التعليم والتعلم والبحث العلمي والقدرات الوطنية: نظام تعليمي يتسم بالجودة العالية، والشراكة المجتمعية؛ نظام متكامل ومستقل لحوكمة المنظومة التعليمية وتقييمها وفق المعايير الوطنية والعالمية؛ مناهج تعليمية معززة للقيم، ومراعية لمبادئ الدين الإسلامي، والهوية العمانية، ومستلهمة من تاريخ عمان وتراثها، ومواكبة لمتطلبات التنمية المستدامة، ومهارات المستقبل، وتدعم تنوعا في المسارات التعليمية؛ كفاءات وطنية ذات قدرات ومهارات ديناميكية منافسة محليا وعالميا؛ مصادر تمويل متنوعة ومستدامة للتعليم والبحث العلمي والابتكار؛ منظومة وطنية فاعلة للبحث العلمي والإبداع والابتكار تسهم في بناء اقتصاد المعرفة ومجتمعها؛ نظام ممكن للقدرات البشرية في قطاع التعليم.\",\n",
        "        \"5\": \"حوكمة الجهاز الإداري للدولة والموارد والمشاريع: أداء وخدمات حكومية بجودة عالية؛ قرارات حكومية ذات توازن وموثوقية؛ قطاع حكومي فعال في مجال التخطيط والتنظيم والمتابعة والتقويم ذو هيكلة قطاعية ويستشرف المستقبل؛ حوكمة فاعلة للموارد والمشاريع؛ شراكة متوازنة ومستدامة وأدوار متكاملة بين أطراف العلاقة من القطاعين الحكومي والخاص والمجتمع المدني والأفراد لضمان أداء مؤسسي فعال؛ شفافية وإفصاح مؤسسي راسخ يكفل حق الوصول للمعلومات؛ معايير تنافسية واضحة لشغل المناصب القيادية في القطاع الحكومي والمؤسسات التابعة له.\",\n",
        "        \"6\": \"التشريع والقضاء والرقابة: نظام رقابي شامل يحمي المقدرات الوطنية ويحقق مبادئ المساءلة والمحاسبة؛ وسائل فاعلة بديلة للقضاء تجعل من السلطنة مركزا دوليا؛ قضاء ناجز، نزيه، ومتخصص يوظف تقنيات المستقبل؛ تشريعات مرنة وسلطة تشريعية مستقلة ذات صلاحيات كاملة؛ كفاءات وطنية تشريعية وقضائية ورقابية متخصصة ومؤهلة تحقق الثقة وتعمل في بيئة جاذبة؛ مجتمع واع قانونيا ومشارك بفاعلية في التشريع والرقابة؛ نظام رقابي فاعل ومستقل يوظف الشفافية والإفصاح ويكافح الفساد، ودور رقابي بصير وفاعل للإعلام.\",\n",
        "        \"7\": \"البيئة والموارد الطبيعية: بيئة تحقق التوازن بين المتطلبات البيئية والاقتصادية والاجتماعية والعمل بقواعد التنمية المستدامة؛ أوساط بيئية ذات جودة عالية وخالية من التلوث؛ أمن غذائي ومائي قائم على موارد متجددة وتقنيات متطورة واستغلال أمثل للموقع الاستراتيجي والتنوع الأحيائي للسلطنة؛ وعي بيئي ملازم للتطبيق الفعال لقواعد الاستهلاك والإنتاج المستدامين؛ اقتصاد أخضر ودائري يستجيب للاحتياجات الوطنية وينسجم مع التوجه العالمي؛ طاقة متجددة ومصادر متنوعة وترشيد للاستهلاك لتحقيق أمن الطاقة؛ استخدام مستدام للموارد والثروات الطبيعية واستثمارها بما يكفل تحقيق قيمة مضافة عالية.\",\n",
        "        \"8\": \"تنمية المحافظات والمدن المستدامة: تنمية متوازنة وعادلة تعزز الميزة النسبية والتنافسية للحواضر والمحافظات؛ مجتمعات ممكنة تسهم في صياغة أولوياتها الاجتماعية والاقتصادية والبيئية وتعمل ضمن إطار اللامركزية الإدارية والاقتصادية؛ نظام تسلسل هرمي للتجمعات السكانية فعال يوجه التنمية الحضرية المستدامة لاستيعاب النمو السكاني المتنامي ويوفر الخدمات والمرافق الأساسية؛ وسائل نقل متنوعة وسهلة الوصول، متكاملة مع التنمية العمرانية الموجهة بشكل سليم، وبنية أساسية مستدامة عالمية المستوى؛ مدن ذكية ومستدامة نابضة بالحياة وريف حيوي بجودة عمرانية عالية للمعيشة والعمل والترفيه؛ مناطق حضرية وريفية وتراث طبيعي وثقافي تتميز بمرونة وقدرة عالية على التعامل مع التغيرات المناخية.\",\n",
        "        \"9\": \"القطاع الخاص والاستثمار والتعاون الدولي: بيئة أعمال تنافسية وجاذبة للاستثمار تمارس فيها الحكومة الدور التنظيمي المقترن بكفاءة وسلاسة إدارية ناجعة؛ أنماط تمويل مرنة وميسرة تواكب المستجدات العالمية وتلبي الاحتياجات الاستثمارية؛ قطاع خاص ممكن وتنافسي يقود الاقتصاد ويراعي الأبعاد الاجتماعية والبيئية؛ شراكة وتكاملية بين المؤسسات الصغيرة والمتوسطة تحتضنها مؤسسات كبيرة؛ هوية اقتصادية فريدة تتكامل مع سلاسل الإنتاج والخدمات العالمية؛ صادرات وواردات متنوعة سلعيا وجغرافيا تزيد من القدرة على توظيف مكانة السلطنة الدولية وموقعها الجغرافي؛ شراكة فاعلة بين القطاعين الحكومي والخاص تحسن الكفاءة الإنتاجية وإطار حوكمة ينظم خصخصة المشاريع والخدمات العامة.\",\n",
        "        \"10\": \"سوق العمل والتشغيل: سوق عمل بقوى بشرية ذات مهارات وإنتاجية عالية وثقافة عمل إيجابية؛ سوق عمل جاذب للكفاءات والعمالة الماهرة ضمن سياسات استقطاب واضحة المعالم والمعايير؛ قوانين وتشريعات ناظمة لسوق العمل وفق معايير مهنية وبيئة عمل محفزة مستجيبة للمتغيرات؛ منظومة تشغيل، وتأهيل، وترقيات وحوافز مبنية على الكفاءة والإنتاجية، تذكي روح المبادرة والابتكار.\",\n",
        "        \"11\": \"التنويع الاقتصادي والاستدامة المالية: قطاعات قاطرة للتنويع الاقتصادي وأخرى متكاملة معها يتم تحديدها كل خمس سنوات؛ اقتصاد تنافسي متنوع ومتكامل وقائم على استشراف المستقبل والابتكار وريادة الأعمال؛ سياسات مالية ونقدية واقتصادية مستنيرة متكاملة ومستدامة وموازنات توظف الإيرادات العامة بفعالية؛ منظومة بحث وتطوير مترابطة بين مختلف القطاعات والمؤسسات؛ بنية أساسية وتقنية متطورة ممكنة لجميع القطاعات وقادرة على استيعاب المستجدات، وتحديات الأمن السيبراني؛ بيئة تنظيمية وتشريعات ذات حاكمية تتصف بالتجدد والمرونة ومواكبة المستجدات وضامنة لتكافؤ الفرص.\",\n",
        "        \"12\": \"القيادة والإدارة الاقتصادية: جهة مرجعية ممكنة للشأن الاقتصادي تعمل لتحقيق غايات التنمية الاقتصادية والعدالة الاجتماعية وحماية البيئة؛ قيادة اقتصادية فعالة بصلاحيات ملزمة ذات مهام واضحة وسريعة الاستجابة للاحتياجات التنموية وفقا لمؤشرات أداء محددة؛ منظومة تشريعات اقتصادية فعالة وممكنة تواكب المتغيرات؛ إدارات عليا متجددة قائمة على كفاءات تناسب ديناميكية السوق والتوقعات المستقبلية والتغيرات المتسارعة.\"\n",
        "    },\n",
        "\n",
        "    \"squ_focus_2021_2025\": [\n",
        "        \"جودة المخرجات\",\n",
        "        \"البحث العلمي والابتكار\",\n",
        "        \"بناء الشراكات\",\n",
        "        \"الاستدامة المالية\",\n",
        "        \"الحوكمة والاداء المؤسسي\"\n",
        "    ]\n",
        "}\n",
        "\n",
        "\n"
      ],
      "metadata": {
        "id": "s7fCszcKHqyE"
      },
      "execution_count": null,
      "outputs": []
    },
    {
      "cell_type": "code",
      "source": [
        "#@title 4- Load the trained model\n",
        "pipeline = joblib.load('proposal_classification_model.pkl')"
      ],
      "metadata": {
        "id": "1VajhQBJb8l6"
      },
      "execution_count": null,
      "outputs": []
    },
    {
      "cell_type": "code",
      "source": [
        "#@title 5- Function to classify all proposals in a given folder and calculate similarity\n",
        "def classify_all_proposals(folder_path):\n",
        "    for filename in os.listdir(folder_path):\n",
        "        file_path = os.path.join(folder_path, filename)\n",
        "        if file_path.endswith('.pdf') or file_path.endswith('.json'):\n",
        "            try:\n",
        "                text = extract_text(file_path)\n",
        "\n",
        "                # Classify using the trained RandomForest model\n",
        "                score = pipeline.predict_proba([text])[0][1]\n",
        "                classification = 'Approved' if score >= 0.5 else 'Rejected'\n",
        "\n",
        "                if classification == 'Approved':\n",
        "                    # Get BERT embeddings for the proposal\n",
        "                    proposal_embedding = get_bert_embeddings(text)\n",
        "\n",
        "                    # Calculate similarity with Oman Vision 2040 and SQU focus areas\n",
        "                    oman_similarity = max( #I should here return the average of the similarity not the max of the values\n",
        "                        calculate_similarity(proposal_embedding, get_bert_embeddings(value))\n",
        "                        for key, value in strategic_texts['oman_vision_2040'].items()\n",
        "                    )\n",
        "                    squ_similarity = max(# same as the above, i should return the average of the all similarities not just the max.\n",
        "                        calculate_similarity(proposal_embedding, get_bert_embeddings(focus))\n",
        "                        for focus in strategic_texts['squ_focus_2021_2025']\n",
        "                    )\n",
        "\n",
        "                    print(f\"Proposal: {filename}\")\n",
        "                    print(f\"Classification: {classification}, Score: {score:.2f}\")\n",
        "                    print(f\"Similarity to Oman Vision 2040: {oman_similarity:.2f}\")\n",
        "                    print(f\"Similarity to SQU Focus Areas: {squ_similarity:.2f}\")\n",
        "                else:\n",
        "                    print(f\"Proposal: {filename}\")\n",
        "                    print(f\"Classification: {classification}, Score: {score:.2f}\")\n",
        "            except Exception as e:\n",
        "                print(f\"Error processing file {filename}: {e}\")"
      ],
      "metadata": {
        "id": "ax5NjekWWL5W"
      },
      "execution_count": null,
      "outputs": []
    },
    {
      "cell_type": "markdown",
      "source": [
        "6- Specify the Path to your Proposals"
      ],
      "metadata": {
        "id": "UhOdQJd4l3UJ"
      }
    },
    {
      "cell_type": "code",
      "source": [
        "# Path:\n",
        "folder_path = '/content/drive/Shareddrives/TDM Project - Sheikha Al Mujaini/2023/IG/Approved'"
      ],
      "metadata": {
        "id": "qq0B1geXWchd"
      },
      "execution_count": null,
      "outputs": []
    },
    {
      "cell_type": "code",
      "source": [
        "# Example use:\n",
        "classify_all_proposals(folder_path)"
      ],
      "metadata": {
        "colab": {
          "base_uri": "https://localhost:8080/",
          "height": 1000
        },
        "id": "mb9mqMEdWehd",
        "outputId": "fc571717-59e8-4d01-8d69-4c931ab67258"
      },
      "execution_count": null,
      "outputs": [
        {
          "output_type": "stream",
          "name": "stdout",
          "text": [
            "Proposal: 90ccd7ad-34fb-4fb4-8e68-4358aee6b63d.pdf\n",
            "Classification: Approved, Score: 0.82\n",
            "Similarity to Oman Vision 2040: 0.91\n",
            "Similarity to SQU Focus Areas: 0.93\n",
            "Proposal: bc4d151c-d8eb-4e58-9a47-d77f70d0c60c.pdf\n",
            "Classification: Approved, Score: 0.69\n",
            "Similarity to Oman Vision 2040: 0.92\n",
            "Similarity to SQU Focus Areas: 0.93\n",
            "Proposal: 7b8b302e-86f0-4aba-b0ab-0ab3943fd01a.pdf\n",
            "Classification: Approved, Score: 0.60\n",
            "Similarity to Oman Vision 2040: 0.93\n",
            "Similarity to SQU Focus Areas: 0.94\n",
            "Proposal: 4b81228a-59e3-450b-aa7b-ee2b62e33636.pdf\n",
            "Classification: Approved, Score: 0.65\n",
            "Similarity to Oman Vision 2040: 0.87\n",
            "Similarity to SQU Focus Areas: 0.90\n",
            "Proposal: c11ec4ae-c4b9-4e2d-85dc-c75f404f8703.pdf\n",
            "Classification: Approved, Score: 0.64\n",
            "Similarity to Oman Vision 2040: 0.88\n",
            "Similarity to SQU Focus Areas: 0.92\n",
            "Proposal: d2e6f389-bfef-48b3-84b5-8d9fff08241c.pdf\n",
            "Classification: Approved, Score: 0.75\n",
            "Similarity to Oman Vision 2040: 0.93\n",
            "Similarity to SQU Focus Areas: 0.93\n",
            "Proposal: 3e707d01-ac18-46a4-aeaa-ae0f950900b4.pdf\n",
            "Classification: Approved, Score: 0.67\n",
            "Similarity to Oman Vision 2040: 0.92\n",
            "Similarity to SQU Focus Areas: 0.94\n",
            "Proposal: 66e1cc49-5c37-4aeb-9c8b-71b07c78ab36.pdf\n",
            "Classification: Approved, Score: 0.89\n",
            "Similarity to Oman Vision 2040: 0.88\n",
            "Similarity to SQU Focus Areas: 0.91\n",
            "Proposal: 11acb406-2e90-4efe-ba23-42d8c2ba755f.pdf\n",
            "Classification: Approved, Score: 0.85\n",
            "Similarity to Oman Vision 2040: 0.93\n",
            "Similarity to SQU Focus Areas: 0.91\n",
            "Proposal: 490c7d5e-355a-4f88-a58a-913f903cdf89.pdf\n",
            "Classification: Approved, Score: 0.66\n",
            "Similarity to Oman Vision 2040: 0.93\n",
            "Similarity to SQU Focus Areas: 0.94\n",
            "Proposal: 73a212d3-b042-4e0b-a380-0597d8d1ff68.pdf\n",
            "Classification: Approved, Score: 0.71\n",
            "Similarity to Oman Vision 2040: 0.91\n",
            "Similarity to SQU Focus Areas: 0.93\n",
            "Proposal: 6dbbfc47-d808-43d1-9b33-d3c3d19c893b.pdf\n",
            "Classification: Approved, Score: 0.78\n",
            "Similarity to Oman Vision 2040: 0.97\n",
            "Similarity to SQU Focus Areas: 0.93\n",
            "Proposal: 0ecf112a-a663-4402-a3aa-e60931a5db0e.pdf\n",
            "Classification: Approved, Score: 0.70\n",
            "Similarity to Oman Vision 2040: 0.93\n",
            "Similarity to SQU Focus Areas: 0.94\n",
            "Proposal: 15e650ac-d59a-4934-8470-545a26544ab7.pdf\n",
            "Classification: Approved, Score: 0.87\n",
            "Similarity to Oman Vision 2040: 0.90\n",
            "Similarity to SQU Focus Areas: 0.92\n",
            "Proposal: 4a39a93a-9903-4378-8a78-70fce1b2ad39.pdf\n",
            "Classification: Approved, Score: 0.77\n",
            "Similarity to Oman Vision 2040: 0.94\n",
            "Similarity to SQU Focus Areas: 0.94\n",
            "Proposal: e978631e-9d17-439d-b7c3-d4b4ddda6601.pdf\n",
            "Classification: Approved, Score: 0.83\n",
            "Similarity to Oman Vision 2040: 0.96\n",
            "Similarity to SQU Focus Areas: 0.93\n",
            "Proposal: a790abaf-5cdf-4270-9f26-2cf87ed97753.pdf\n",
            "Classification: Approved, Score: 0.76\n",
            "Similarity to Oman Vision 2040: 0.93\n",
            "Similarity to SQU Focus Areas: 0.93\n",
            "Proposal: eb0b8e24-c7dc-4945-90e9-a38e8258055e.pdf\n",
            "Classification: Approved, Score: 1.00\n",
            "Similarity to Oman Vision 2040: 0.85\n",
            "Similarity to SQU Focus Areas: 0.88\n",
            "Proposal: 7326f592-8b9c-488a-8452-8478f37f8b54.pdf\n",
            "Classification: Approved, Score: 0.56\n",
            "Similarity to Oman Vision 2040: 0.91\n",
            "Similarity to SQU Focus Areas: 0.93\n",
            "Proposal: 3c83c7ba-77e2-43f9-b089-c6c4cbab326e.pdf\n",
            "Classification: Approved, Score: 0.75\n",
            "Similarity to Oman Vision 2040: 0.96\n",
            "Similarity to SQU Focus Areas: 0.94\n",
            "Proposal: 9968d0a6-ac80-4a83-accc-9f88cde2f21b.pdf\n",
            "Classification: Approved, Score: 0.57\n",
            "Similarity to Oman Vision 2040: 0.92\n",
            "Similarity to SQU Focus Areas: 0.94\n",
            "Proposal: bfcfe013-7342-458d-a400-4140a268b5a5.pdf\n",
            "Classification: Approved, Score: 1.00\n",
            "Similarity to Oman Vision 2040: 0.85\n",
            "Similarity to SQU Focus Areas: 0.88\n"
          ]
        },
        {
          "output_type": "error",
          "ename": "KeyboardInterrupt",
          "evalue": "",
          "traceback": [
            "\u001b[0;31m---------------------------------------------------------------------------\u001b[0m",
            "\u001b[0;31mKeyboardInterrupt\u001b[0m                         Traceback (most recent call last)",
            "\u001b[0;32m<ipython-input-39-1f9a9d5a6bfb>\u001b[0m in \u001b[0;36m<cell line: 2>\u001b[0;34m()\u001b[0m\n\u001b[1;32m      1\u001b[0m \u001b[0;31m# Example use:\u001b[0m\u001b[0;34m\u001b[0m\u001b[0;34m\u001b[0m\u001b[0m\n\u001b[0;32m----> 2\u001b[0;31m \u001b[0mclassify_all_proposals\u001b[0m\u001b[0;34m(\u001b[0m\u001b[0mfolder_path\u001b[0m\u001b[0;34m)\u001b[0m\u001b[0;34m\u001b[0m\u001b[0;34m\u001b[0m\u001b[0m\n\u001b[0m",
            "\u001b[0;32m<ipython-input-37-864571c60693>\u001b[0m in \u001b[0;36mclassify_all_proposals\u001b[0;34m(folder_path)\u001b[0m\n\u001b[1;32m     16\u001b[0m \u001b[0;34m\u001b[0m\u001b[0m\n\u001b[1;32m     17\u001b[0m                     \u001b[0;31m# Calculate similarity with Oman Vision 2040 and SQU focus areas\u001b[0m\u001b[0;34m\u001b[0m\u001b[0;34m\u001b[0m\u001b[0m\n\u001b[0;32m---> 18\u001b[0;31m                     oman_similarity = max(\n\u001b[0m\u001b[1;32m     19\u001b[0m                         \u001b[0mcalculate_similarity\u001b[0m\u001b[0;34m(\u001b[0m\u001b[0mproposal_embedding\u001b[0m\u001b[0;34m,\u001b[0m \u001b[0mget_bert_embeddings\u001b[0m\u001b[0;34m(\u001b[0m\u001b[0mvalue\u001b[0m\u001b[0;34m)\u001b[0m\u001b[0;34m)\u001b[0m\u001b[0;34m\u001b[0m\u001b[0;34m\u001b[0m\u001b[0m\n\u001b[1;32m     20\u001b[0m                         \u001b[0;32mfor\u001b[0m \u001b[0mkey\u001b[0m\u001b[0;34m,\u001b[0m \u001b[0mvalue\u001b[0m \u001b[0;32min\u001b[0m \u001b[0mstrategic_texts\u001b[0m\u001b[0;34m[\u001b[0m\u001b[0;34m'oman_vision_2040'\u001b[0m\u001b[0;34m]\u001b[0m\u001b[0;34m.\u001b[0m\u001b[0mitems\u001b[0m\u001b[0;34m(\u001b[0m\u001b[0;34m)\u001b[0m\u001b[0;34m\u001b[0m\u001b[0;34m\u001b[0m\u001b[0m\n",
            "\u001b[0;32m<ipython-input-37-864571c60693>\u001b[0m in \u001b[0;36m<genexpr>\u001b[0;34m(.0)\u001b[0m\n\u001b[1;32m     17\u001b[0m                     \u001b[0;31m# Calculate similarity with Oman Vision 2040 and SQU focus areas\u001b[0m\u001b[0;34m\u001b[0m\u001b[0;34m\u001b[0m\u001b[0m\n\u001b[1;32m     18\u001b[0m                     oman_similarity = max(\n\u001b[0;32m---> 19\u001b[0;31m                         \u001b[0mcalculate_similarity\u001b[0m\u001b[0;34m(\u001b[0m\u001b[0mproposal_embedding\u001b[0m\u001b[0;34m,\u001b[0m \u001b[0mget_bert_embeddings\u001b[0m\u001b[0;34m(\u001b[0m\u001b[0mvalue\u001b[0m\u001b[0;34m)\u001b[0m\u001b[0;34m)\u001b[0m\u001b[0;34m\u001b[0m\u001b[0;34m\u001b[0m\u001b[0m\n\u001b[0m\u001b[1;32m     20\u001b[0m                         \u001b[0;32mfor\u001b[0m \u001b[0mkey\u001b[0m\u001b[0;34m,\u001b[0m \u001b[0mvalue\u001b[0m \u001b[0;32min\u001b[0m \u001b[0mstrategic_texts\u001b[0m\u001b[0;34m[\u001b[0m\u001b[0;34m'oman_vision_2040'\u001b[0m\u001b[0;34m]\u001b[0m\u001b[0;34m.\u001b[0m\u001b[0mitems\u001b[0m\u001b[0;34m(\u001b[0m\u001b[0;34m)\u001b[0m\u001b[0;34m\u001b[0m\u001b[0;34m\u001b[0m\u001b[0m\n\u001b[1;32m     21\u001b[0m                     )\n",
            "\u001b[0;32m<ipython-input-16-1026c246fcd2>\u001b[0m in \u001b[0;36mget_bert_embeddings\u001b[0;34m(text)\u001b[0m\n\u001b[1;32m      3\u001b[0m     \u001b[0minputs\u001b[0m \u001b[0;34m=\u001b[0m \u001b[0mtokenizer\u001b[0m\u001b[0;34m(\u001b[0m\u001b[0mtext\u001b[0m\u001b[0;34m,\u001b[0m \u001b[0mreturn_tensors\u001b[0m\u001b[0;34m=\u001b[0m\u001b[0;34m\"pt\"\u001b[0m\u001b[0;34m,\u001b[0m \u001b[0mmax_length\u001b[0m\u001b[0;34m=\u001b[0m\u001b[0;36m512\u001b[0m\u001b[0;34m,\u001b[0m \u001b[0mtruncation\u001b[0m\u001b[0;34m=\u001b[0m\u001b[0;32mTrue\u001b[0m\u001b[0;34m)\u001b[0m\u001b[0;34m\u001b[0m\u001b[0;34m\u001b[0m\u001b[0m\n\u001b[1;32m      4\u001b[0m     \u001b[0;32mwith\u001b[0m \u001b[0mtorch\u001b[0m\u001b[0;34m.\u001b[0m\u001b[0mno_grad\u001b[0m\u001b[0;34m(\u001b[0m\u001b[0;34m)\u001b[0m\u001b[0;34m:\u001b[0m\u001b[0;34m\u001b[0m\u001b[0;34m\u001b[0m\u001b[0m\n\u001b[0;32m----> 5\u001b[0;31m         \u001b[0moutputs\u001b[0m \u001b[0;34m=\u001b[0m \u001b[0mbert_model\u001b[0m\u001b[0;34m(\u001b[0m\u001b[0;34m**\u001b[0m\u001b[0minputs\u001b[0m\u001b[0;34m)\u001b[0m\u001b[0;34m\u001b[0m\u001b[0;34m\u001b[0m\u001b[0m\n\u001b[0m\u001b[1;32m      6\u001b[0m     \u001b[0;32mreturn\u001b[0m \u001b[0moutputs\u001b[0m\u001b[0;34m.\u001b[0m\u001b[0mpooler_output\u001b[0m\u001b[0;34m[\u001b[0m\u001b[0;36m0\u001b[0m\u001b[0;34m]\u001b[0m\u001b[0;34m.\u001b[0m\u001b[0mnumpy\u001b[0m\u001b[0;34m(\u001b[0m\u001b[0;34m)\u001b[0m\u001b[0;34m\u001b[0m\u001b[0;34m\u001b[0m\u001b[0m\n\u001b[1;32m      7\u001b[0m \u001b[0;34m\u001b[0m\u001b[0m\n",
            "\u001b[0;32m/usr/local/lib/python3.10/dist-packages/torch/nn/modules/module.py\u001b[0m in \u001b[0;36m_wrapped_call_impl\u001b[0;34m(self, *args, **kwargs)\u001b[0m\n\u001b[1;32m   1530\u001b[0m             \u001b[0;32mreturn\u001b[0m \u001b[0mself\u001b[0m\u001b[0;34m.\u001b[0m\u001b[0m_compiled_call_impl\u001b[0m\u001b[0;34m(\u001b[0m\u001b[0;34m*\u001b[0m\u001b[0margs\u001b[0m\u001b[0;34m,\u001b[0m \u001b[0;34m**\u001b[0m\u001b[0mkwargs\u001b[0m\u001b[0;34m)\u001b[0m  \u001b[0;31m# type: ignore[misc]\u001b[0m\u001b[0;34m\u001b[0m\u001b[0;34m\u001b[0m\u001b[0m\n\u001b[1;32m   1531\u001b[0m         \u001b[0;32melse\u001b[0m\u001b[0;34m:\u001b[0m\u001b[0;34m\u001b[0m\u001b[0;34m\u001b[0m\u001b[0m\n\u001b[0;32m-> 1532\u001b[0;31m             \u001b[0;32mreturn\u001b[0m \u001b[0mself\u001b[0m\u001b[0;34m.\u001b[0m\u001b[0m_call_impl\u001b[0m\u001b[0;34m(\u001b[0m\u001b[0;34m*\u001b[0m\u001b[0margs\u001b[0m\u001b[0;34m,\u001b[0m \u001b[0;34m**\u001b[0m\u001b[0mkwargs\u001b[0m\u001b[0;34m)\u001b[0m\u001b[0;34m\u001b[0m\u001b[0;34m\u001b[0m\u001b[0m\n\u001b[0m\u001b[1;32m   1533\u001b[0m \u001b[0;34m\u001b[0m\u001b[0m\n\u001b[1;32m   1534\u001b[0m     \u001b[0;32mdef\u001b[0m \u001b[0m_call_impl\u001b[0m\u001b[0;34m(\u001b[0m\u001b[0mself\u001b[0m\u001b[0;34m,\u001b[0m \u001b[0;34m*\u001b[0m\u001b[0margs\u001b[0m\u001b[0;34m,\u001b[0m \u001b[0;34m**\u001b[0m\u001b[0mkwargs\u001b[0m\u001b[0;34m)\u001b[0m\u001b[0;34m:\u001b[0m\u001b[0;34m\u001b[0m\u001b[0;34m\u001b[0m\u001b[0m\n",
            "\u001b[0;32m/usr/local/lib/python3.10/dist-packages/torch/nn/modules/module.py\u001b[0m in \u001b[0;36m_call_impl\u001b[0;34m(self, *args, **kwargs)\u001b[0m\n\u001b[1;32m   1539\u001b[0m                 \u001b[0;32mor\u001b[0m \u001b[0m_global_backward_pre_hooks\u001b[0m \u001b[0;32mor\u001b[0m \u001b[0m_global_backward_hooks\u001b[0m\u001b[0;34m\u001b[0m\u001b[0;34m\u001b[0m\u001b[0m\n\u001b[1;32m   1540\u001b[0m                 or _global_forward_hooks or _global_forward_pre_hooks):\n\u001b[0;32m-> 1541\u001b[0;31m             \u001b[0;32mreturn\u001b[0m \u001b[0mforward_call\u001b[0m\u001b[0;34m(\u001b[0m\u001b[0;34m*\u001b[0m\u001b[0margs\u001b[0m\u001b[0;34m,\u001b[0m \u001b[0;34m**\u001b[0m\u001b[0mkwargs\u001b[0m\u001b[0;34m)\u001b[0m\u001b[0;34m\u001b[0m\u001b[0;34m\u001b[0m\u001b[0m\n\u001b[0m\u001b[1;32m   1542\u001b[0m \u001b[0;34m\u001b[0m\u001b[0m\n\u001b[1;32m   1543\u001b[0m         \u001b[0;32mtry\u001b[0m\u001b[0;34m:\u001b[0m\u001b[0;34m\u001b[0m\u001b[0;34m\u001b[0m\u001b[0m\n",
            "\u001b[0;32m/usr/local/lib/python3.10/dist-packages/transformers/models/bert/modeling_bert.py\u001b[0m in \u001b[0;36mforward\u001b[0;34m(self, input_ids, attention_mask, token_type_ids, position_ids, head_mask, inputs_embeds, encoder_hidden_states, encoder_attention_mask, past_key_values, use_cache, output_attentions, output_hidden_states, return_dict)\u001b[0m\n\u001b[1;32m   1135\u001b[0m         \u001b[0mhead_mask\u001b[0m \u001b[0;34m=\u001b[0m \u001b[0mself\u001b[0m\u001b[0;34m.\u001b[0m\u001b[0mget_head_mask\u001b[0m\u001b[0;34m(\u001b[0m\u001b[0mhead_mask\u001b[0m\u001b[0;34m,\u001b[0m \u001b[0mself\u001b[0m\u001b[0;34m.\u001b[0m\u001b[0mconfig\u001b[0m\u001b[0;34m.\u001b[0m\u001b[0mnum_hidden_layers\u001b[0m\u001b[0;34m)\u001b[0m\u001b[0;34m\u001b[0m\u001b[0;34m\u001b[0m\u001b[0m\n\u001b[1;32m   1136\u001b[0m \u001b[0;34m\u001b[0m\u001b[0m\n\u001b[0;32m-> 1137\u001b[0;31m         encoder_outputs = self.encoder(\n\u001b[0m\u001b[1;32m   1138\u001b[0m             \u001b[0membedding_output\u001b[0m\u001b[0;34m,\u001b[0m\u001b[0;34m\u001b[0m\u001b[0;34m\u001b[0m\u001b[0m\n\u001b[1;32m   1139\u001b[0m             \u001b[0mattention_mask\u001b[0m\u001b[0;34m=\u001b[0m\u001b[0mextended_attention_mask\u001b[0m\u001b[0;34m,\u001b[0m\u001b[0;34m\u001b[0m\u001b[0;34m\u001b[0m\u001b[0m\n",
            "\u001b[0;32m/usr/local/lib/python3.10/dist-packages/torch/nn/modules/module.py\u001b[0m in \u001b[0;36m_wrapped_call_impl\u001b[0;34m(self, *args, **kwargs)\u001b[0m\n\u001b[1;32m   1530\u001b[0m             \u001b[0;32mreturn\u001b[0m \u001b[0mself\u001b[0m\u001b[0;34m.\u001b[0m\u001b[0m_compiled_call_impl\u001b[0m\u001b[0;34m(\u001b[0m\u001b[0;34m*\u001b[0m\u001b[0margs\u001b[0m\u001b[0;34m,\u001b[0m \u001b[0;34m**\u001b[0m\u001b[0mkwargs\u001b[0m\u001b[0;34m)\u001b[0m  \u001b[0;31m# type: ignore[misc]\u001b[0m\u001b[0;34m\u001b[0m\u001b[0;34m\u001b[0m\u001b[0m\n\u001b[1;32m   1531\u001b[0m         \u001b[0;32melse\u001b[0m\u001b[0;34m:\u001b[0m\u001b[0;34m\u001b[0m\u001b[0;34m\u001b[0m\u001b[0m\n\u001b[0;32m-> 1532\u001b[0;31m             \u001b[0;32mreturn\u001b[0m \u001b[0mself\u001b[0m\u001b[0;34m.\u001b[0m\u001b[0m_call_impl\u001b[0m\u001b[0;34m(\u001b[0m\u001b[0;34m*\u001b[0m\u001b[0margs\u001b[0m\u001b[0;34m,\u001b[0m \u001b[0;34m**\u001b[0m\u001b[0mkwargs\u001b[0m\u001b[0;34m)\u001b[0m\u001b[0;34m\u001b[0m\u001b[0;34m\u001b[0m\u001b[0m\n\u001b[0m\u001b[1;32m   1533\u001b[0m \u001b[0;34m\u001b[0m\u001b[0m\n\u001b[1;32m   1534\u001b[0m     \u001b[0;32mdef\u001b[0m \u001b[0m_call_impl\u001b[0m\u001b[0;34m(\u001b[0m\u001b[0mself\u001b[0m\u001b[0;34m,\u001b[0m \u001b[0;34m*\u001b[0m\u001b[0margs\u001b[0m\u001b[0;34m,\u001b[0m \u001b[0;34m**\u001b[0m\u001b[0mkwargs\u001b[0m\u001b[0;34m)\u001b[0m\u001b[0;34m:\u001b[0m\u001b[0;34m\u001b[0m\u001b[0;34m\u001b[0m\u001b[0m\n",
            "\u001b[0;32m/usr/local/lib/python3.10/dist-packages/torch/nn/modules/module.py\u001b[0m in \u001b[0;36m_call_impl\u001b[0;34m(self, *args, **kwargs)\u001b[0m\n\u001b[1;32m   1539\u001b[0m                 \u001b[0;32mor\u001b[0m \u001b[0m_global_backward_pre_hooks\u001b[0m \u001b[0;32mor\u001b[0m \u001b[0m_global_backward_hooks\u001b[0m\u001b[0;34m\u001b[0m\u001b[0;34m\u001b[0m\u001b[0m\n\u001b[1;32m   1540\u001b[0m                 or _global_forward_hooks or _global_forward_pre_hooks):\n\u001b[0;32m-> 1541\u001b[0;31m             \u001b[0;32mreturn\u001b[0m \u001b[0mforward_call\u001b[0m\u001b[0;34m(\u001b[0m\u001b[0;34m*\u001b[0m\u001b[0margs\u001b[0m\u001b[0;34m,\u001b[0m \u001b[0;34m**\u001b[0m\u001b[0mkwargs\u001b[0m\u001b[0;34m)\u001b[0m\u001b[0;34m\u001b[0m\u001b[0;34m\u001b[0m\u001b[0m\n\u001b[0m\u001b[1;32m   1542\u001b[0m \u001b[0;34m\u001b[0m\u001b[0m\n\u001b[1;32m   1543\u001b[0m         \u001b[0;32mtry\u001b[0m\u001b[0;34m:\u001b[0m\u001b[0;34m\u001b[0m\u001b[0;34m\u001b[0m\u001b[0m\n",
            "\u001b[0;32m/usr/local/lib/python3.10/dist-packages/transformers/models/bert/modeling_bert.py\u001b[0m in \u001b[0;36mforward\u001b[0;34m(self, hidden_states, attention_mask, head_mask, encoder_hidden_states, encoder_attention_mask, past_key_values, use_cache, output_attentions, output_hidden_states, return_dict)\u001b[0m\n\u001b[1;32m    688\u001b[0m                 )\n\u001b[1;32m    689\u001b[0m             \u001b[0;32melse\u001b[0m\u001b[0;34m:\u001b[0m\u001b[0;34m\u001b[0m\u001b[0;34m\u001b[0m\u001b[0m\n\u001b[0;32m--> 690\u001b[0;31m                 layer_outputs = layer_module(\n\u001b[0m\u001b[1;32m    691\u001b[0m                     \u001b[0mhidden_states\u001b[0m\u001b[0;34m,\u001b[0m\u001b[0;34m\u001b[0m\u001b[0;34m\u001b[0m\u001b[0m\n\u001b[1;32m    692\u001b[0m                     \u001b[0mattention_mask\u001b[0m\u001b[0;34m,\u001b[0m\u001b[0;34m\u001b[0m\u001b[0;34m\u001b[0m\u001b[0m\n",
            "\u001b[0;32m/usr/local/lib/python3.10/dist-packages/torch/nn/modules/module.py\u001b[0m in \u001b[0;36m_wrapped_call_impl\u001b[0;34m(self, *args, **kwargs)\u001b[0m\n\u001b[1;32m   1530\u001b[0m             \u001b[0;32mreturn\u001b[0m \u001b[0mself\u001b[0m\u001b[0;34m.\u001b[0m\u001b[0m_compiled_call_impl\u001b[0m\u001b[0;34m(\u001b[0m\u001b[0;34m*\u001b[0m\u001b[0margs\u001b[0m\u001b[0;34m,\u001b[0m \u001b[0;34m**\u001b[0m\u001b[0mkwargs\u001b[0m\u001b[0;34m)\u001b[0m  \u001b[0;31m# type: ignore[misc]\u001b[0m\u001b[0;34m\u001b[0m\u001b[0;34m\u001b[0m\u001b[0m\n\u001b[1;32m   1531\u001b[0m         \u001b[0;32melse\u001b[0m\u001b[0;34m:\u001b[0m\u001b[0;34m\u001b[0m\u001b[0;34m\u001b[0m\u001b[0m\n\u001b[0;32m-> 1532\u001b[0;31m             \u001b[0;32mreturn\u001b[0m \u001b[0mself\u001b[0m\u001b[0;34m.\u001b[0m\u001b[0m_call_impl\u001b[0m\u001b[0;34m(\u001b[0m\u001b[0;34m*\u001b[0m\u001b[0margs\u001b[0m\u001b[0;34m,\u001b[0m \u001b[0;34m**\u001b[0m\u001b[0mkwargs\u001b[0m\u001b[0;34m)\u001b[0m\u001b[0;34m\u001b[0m\u001b[0;34m\u001b[0m\u001b[0m\n\u001b[0m\u001b[1;32m   1533\u001b[0m \u001b[0;34m\u001b[0m\u001b[0m\n\u001b[1;32m   1534\u001b[0m     \u001b[0;32mdef\u001b[0m \u001b[0m_call_impl\u001b[0m\u001b[0;34m(\u001b[0m\u001b[0mself\u001b[0m\u001b[0;34m,\u001b[0m \u001b[0;34m*\u001b[0m\u001b[0margs\u001b[0m\u001b[0;34m,\u001b[0m \u001b[0;34m**\u001b[0m\u001b[0mkwargs\u001b[0m\u001b[0;34m)\u001b[0m\u001b[0;34m:\u001b[0m\u001b[0;34m\u001b[0m\u001b[0;34m\u001b[0m\u001b[0m\n",
            "\u001b[0;32m/usr/local/lib/python3.10/dist-packages/torch/nn/modules/module.py\u001b[0m in \u001b[0;36m_call_impl\u001b[0;34m(self, *args, **kwargs)\u001b[0m\n\u001b[1;32m   1539\u001b[0m                 \u001b[0;32mor\u001b[0m \u001b[0m_global_backward_pre_hooks\u001b[0m \u001b[0;32mor\u001b[0m \u001b[0m_global_backward_hooks\u001b[0m\u001b[0;34m\u001b[0m\u001b[0;34m\u001b[0m\u001b[0m\n\u001b[1;32m   1540\u001b[0m                 or _global_forward_hooks or _global_forward_pre_hooks):\n\u001b[0;32m-> 1541\u001b[0;31m             \u001b[0;32mreturn\u001b[0m \u001b[0mforward_call\u001b[0m\u001b[0;34m(\u001b[0m\u001b[0;34m*\u001b[0m\u001b[0margs\u001b[0m\u001b[0;34m,\u001b[0m \u001b[0;34m**\u001b[0m\u001b[0mkwargs\u001b[0m\u001b[0;34m)\u001b[0m\u001b[0;34m\u001b[0m\u001b[0;34m\u001b[0m\u001b[0m\n\u001b[0m\u001b[1;32m   1542\u001b[0m \u001b[0;34m\u001b[0m\u001b[0m\n\u001b[1;32m   1543\u001b[0m         \u001b[0;32mtry\u001b[0m\u001b[0;34m:\u001b[0m\u001b[0;34m\u001b[0m\u001b[0;34m\u001b[0m\u001b[0m\n",
            "\u001b[0;32m/usr/local/lib/python3.10/dist-packages/transformers/models/bert/modeling_bert.py\u001b[0m in \u001b[0;36mforward\u001b[0;34m(self, hidden_states, attention_mask, head_mask, encoder_hidden_states, encoder_attention_mask, past_key_value, output_attentions)\u001b[0m\n\u001b[1;32m    620\u001b[0m             \u001b[0mpresent_key_value\u001b[0m \u001b[0;34m=\u001b[0m \u001b[0mpresent_key_value\u001b[0m \u001b[0;34m+\u001b[0m \u001b[0mcross_attn_present_key_value\u001b[0m\u001b[0;34m\u001b[0m\u001b[0;34m\u001b[0m\u001b[0m\n\u001b[1;32m    621\u001b[0m \u001b[0;34m\u001b[0m\u001b[0m\n\u001b[0;32m--> 622\u001b[0;31m         layer_output = apply_chunking_to_forward(\n\u001b[0m\u001b[1;32m    623\u001b[0m             \u001b[0mself\u001b[0m\u001b[0;34m.\u001b[0m\u001b[0mfeed_forward_chunk\u001b[0m\u001b[0;34m,\u001b[0m \u001b[0mself\u001b[0m\u001b[0;34m.\u001b[0m\u001b[0mchunk_size_feed_forward\u001b[0m\u001b[0;34m,\u001b[0m \u001b[0mself\u001b[0m\u001b[0;34m.\u001b[0m\u001b[0mseq_len_dim\u001b[0m\u001b[0;34m,\u001b[0m \u001b[0mattention_output\u001b[0m\u001b[0;34m\u001b[0m\u001b[0;34m\u001b[0m\u001b[0m\n\u001b[1;32m    624\u001b[0m         )\n",
            "\u001b[0;32m/usr/local/lib/python3.10/dist-packages/transformers/pytorch_utils.py\u001b[0m in \u001b[0;36mapply_chunking_to_forward\u001b[0;34m(forward_fn, chunk_size, chunk_dim, *input_tensors)\u001b[0m\n\u001b[1;32m    236\u001b[0m         \u001b[0;32mreturn\u001b[0m \u001b[0mtorch\u001b[0m\u001b[0;34m.\u001b[0m\u001b[0mcat\u001b[0m\u001b[0;34m(\u001b[0m\u001b[0moutput_chunks\u001b[0m\u001b[0;34m,\u001b[0m \u001b[0mdim\u001b[0m\u001b[0;34m=\u001b[0m\u001b[0mchunk_dim\u001b[0m\u001b[0;34m)\u001b[0m\u001b[0;34m\u001b[0m\u001b[0;34m\u001b[0m\u001b[0m\n\u001b[1;32m    237\u001b[0m \u001b[0;34m\u001b[0m\u001b[0m\n\u001b[0;32m--> 238\u001b[0;31m     \u001b[0;32mreturn\u001b[0m \u001b[0mforward_fn\u001b[0m\u001b[0;34m(\u001b[0m\u001b[0;34m*\u001b[0m\u001b[0minput_tensors\u001b[0m\u001b[0;34m)\u001b[0m\u001b[0;34m\u001b[0m\u001b[0;34m\u001b[0m\u001b[0m\n\u001b[0m\u001b[1;32m    239\u001b[0m \u001b[0;34m\u001b[0m\u001b[0m\n\u001b[1;32m    240\u001b[0m \u001b[0;34m\u001b[0m\u001b[0m\n",
            "\u001b[0;32m/usr/local/lib/python3.10/dist-packages/transformers/models/bert/modeling_bert.py\u001b[0m in \u001b[0;36mfeed_forward_chunk\u001b[0;34m(self, attention_output)\u001b[0m\n\u001b[1;32m    632\u001b[0m \u001b[0;34m\u001b[0m\u001b[0m\n\u001b[1;32m    633\u001b[0m     \u001b[0;32mdef\u001b[0m \u001b[0mfeed_forward_chunk\u001b[0m\u001b[0;34m(\u001b[0m\u001b[0mself\u001b[0m\u001b[0;34m,\u001b[0m \u001b[0mattention_output\u001b[0m\u001b[0;34m)\u001b[0m\u001b[0;34m:\u001b[0m\u001b[0;34m\u001b[0m\u001b[0;34m\u001b[0m\u001b[0m\n\u001b[0;32m--> 634\u001b[0;31m         \u001b[0mintermediate_output\u001b[0m \u001b[0;34m=\u001b[0m \u001b[0mself\u001b[0m\u001b[0;34m.\u001b[0m\u001b[0mintermediate\u001b[0m\u001b[0;34m(\u001b[0m\u001b[0mattention_output\u001b[0m\u001b[0;34m)\u001b[0m\u001b[0;34m\u001b[0m\u001b[0;34m\u001b[0m\u001b[0m\n\u001b[0m\u001b[1;32m    635\u001b[0m         \u001b[0mlayer_output\u001b[0m \u001b[0;34m=\u001b[0m \u001b[0mself\u001b[0m\u001b[0;34m.\u001b[0m\u001b[0moutput\u001b[0m\u001b[0;34m(\u001b[0m\u001b[0mintermediate_output\u001b[0m\u001b[0;34m,\u001b[0m \u001b[0mattention_output\u001b[0m\u001b[0;34m)\u001b[0m\u001b[0;34m\u001b[0m\u001b[0;34m\u001b[0m\u001b[0m\n\u001b[1;32m    636\u001b[0m         \u001b[0;32mreturn\u001b[0m \u001b[0mlayer_output\u001b[0m\u001b[0;34m\u001b[0m\u001b[0;34m\u001b[0m\u001b[0m\n",
            "\u001b[0;32m/usr/local/lib/python3.10/dist-packages/torch/nn/modules/module.py\u001b[0m in \u001b[0;36m_wrapped_call_impl\u001b[0;34m(self, *args, **kwargs)\u001b[0m\n\u001b[1;32m   1530\u001b[0m             \u001b[0;32mreturn\u001b[0m \u001b[0mself\u001b[0m\u001b[0;34m.\u001b[0m\u001b[0m_compiled_call_impl\u001b[0m\u001b[0;34m(\u001b[0m\u001b[0;34m*\u001b[0m\u001b[0margs\u001b[0m\u001b[0;34m,\u001b[0m \u001b[0;34m**\u001b[0m\u001b[0mkwargs\u001b[0m\u001b[0;34m)\u001b[0m  \u001b[0;31m# type: ignore[misc]\u001b[0m\u001b[0;34m\u001b[0m\u001b[0;34m\u001b[0m\u001b[0m\n\u001b[1;32m   1531\u001b[0m         \u001b[0;32melse\u001b[0m\u001b[0;34m:\u001b[0m\u001b[0;34m\u001b[0m\u001b[0;34m\u001b[0m\u001b[0m\n\u001b[0;32m-> 1532\u001b[0;31m             \u001b[0;32mreturn\u001b[0m \u001b[0mself\u001b[0m\u001b[0;34m.\u001b[0m\u001b[0m_call_impl\u001b[0m\u001b[0;34m(\u001b[0m\u001b[0;34m*\u001b[0m\u001b[0margs\u001b[0m\u001b[0;34m,\u001b[0m \u001b[0;34m**\u001b[0m\u001b[0mkwargs\u001b[0m\u001b[0;34m)\u001b[0m\u001b[0;34m\u001b[0m\u001b[0;34m\u001b[0m\u001b[0m\n\u001b[0m\u001b[1;32m   1533\u001b[0m \u001b[0;34m\u001b[0m\u001b[0m\n\u001b[1;32m   1534\u001b[0m     \u001b[0;32mdef\u001b[0m \u001b[0m_call_impl\u001b[0m\u001b[0;34m(\u001b[0m\u001b[0mself\u001b[0m\u001b[0;34m,\u001b[0m \u001b[0;34m*\u001b[0m\u001b[0margs\u001b[0m\u001b[0;34m,\u001b[0m \u001b[0;34m**\u001b[0m\u001b[0mkwargs\u001b[0m\u001b[0;34m)\u001b[0m\u001b[0;34m:\u001b[0m\u001b[0;34m\u001b[0m\u001b[0;34m\u001b[0m\u001b[0m\n",
            "\u001b[0;32m/usr/local/lib/python3.10/dist-packages/torch/nn/modules/module.py\u001b[0m in \u001b[0;36m_call_impl\u001b[0;34m(self, *args, **kwargs)\u001b[0m\n\u001b[1;32m   1539\u001b[0m                 \u001b[0;32mor\u001b[0m \u001b[0m_global_backward_pre_hooks\u001b[0m \u001b[0;32mor\u001b[0m \u001b[0m_global_backward_hooks\u001b[0m\u001b[0;34m\u001b[0m\u001b[0;34m\u001b[0m\u001b[0m\n\u001b[1;32m   1540\u001b[0m                 or _global_forward_hooks or _global_forward_pre_hooks):\n\u001b[0;32m-> 1541\u001b[0;31m             \u001b[0;32mreturn\u001b[0m \u001b[0mforward_call\u001b[0m\u001b[0;34m(\u001b[0m\u001b[0;34m*\u001b[0m\u001b[0margs\u001b[0m\u001b[0;34m,\u001b[0m \u001b[0;34m**\u001b[0m\u001b[0mkwargs\u001b[0m\u001b[0;34m)\u001b[0m\u001b[0;34m\u001b[0m\u001b[0;34m\u001b[0m\u001b[0m\n\u001b[0m\u001b[1;32m   1542\u001b[0m \u001b[0;34m\u001b[0m\u001b[0m\n\u001b[1;32m   1543\u001b[0m         \u001b[0;32mtry\u001b[0m\u001b[0;34m:\u001b[0m\u001b[0;34m\u001b[0m\u001b[0;34m\u001b[0m\u001b[0m\n",
            "\u001b[0;32m/usr/local/lib/python3.10/dist-packages/transformers/models/bert/modeling_bert.py\u001b[0m in \u001b[0;36mforward\u001b[0;34m(self, hidden_states)\u001b[0m\n\u001b[1;32m    532\u001b[0m \u001b[0;34m\u001b[0m\u001b[0m\n\u001b[1;32m    533\u001b[0m     \u001b[0;32mdef\u001b[0m \u001b[0mforward\u001b[0m\u001b[0;34m(\u001b[0m\u001b[0mself\u001b[0m\u001b[0;34m,\u001b[0m \u001b[0mhidden_states\u001b[0m\u001b[0;34m:\u001b[0m \u001b[0mtorch\u001b[0m\u001b[0;34m.\u001b[0m\u001b[0mTensor\u001b[0m\u001b[0;34m)\u001b[0m \u001b[0;34m->\u001b[0m \u001b[0mtorch\u001b[0m\u001b[0;34m.\u001b[0m\u001b[0mTensor\u001b[0m\u001b[0;34m:\u001b[0m\u001b[0;34m\u001b[0m\u001b[0;34m\u001b[0m\u001b[0m\n\u001b[0;32m--> 534\u001b[0;31m         \u001b[0mhidden_states\u001b[0m \u001b[0;34m=\u001b[0m \u001b[0mself\u001b[0m\u001b[0;34m.\u001b[0m\u001b[0mdense\u001b[0m\u001b[0;34m(\u001b[0m\u001b[0mhidden_states\u001b[0m\u001b[0;34m)\u001b[0m\u001b[0;34m\u001b[0m\u001b[0;34m\u001b[0m\u001b[0m\n\u001b[0m\u001b[1;32m    535\u001b[0m         \u001b[0mhidden_states\u001b[0m \u001b[0;34m=\u001b[0m \u001b[0mself\u001b[0m\u001b[0;34m.\u001b[0m\u001b[0mintermediate_act_fn\u001b[0m\u001b[0;34m(\u001b[0m\u001b[0mhidden_states\u001b[0m\u001b[0;34m)\u001b[0m\u001b[0;34m\u001b[0m\u001b[0;34m\u001b[0m\u001b[0m\n\u001b[1;32m    536\u001b[0m         \u001b[0;32mreturn\u001b[0m \u001b[0mhidden_states\u001b[0m\u001b[0;34m\u001b[0m\u001b[0;34m\u001b[0m\u001b[0m\n",
            "\u001b[0;32m/usr/local/lib/python3.10/dist-packages/torch/nn/modules/module.py\u001b[0m in \u001b[0;36m_wrapped_call_impl\u001b[0;34m(self, *args, **kwargs)\u001b[0m\n\u001b[1;32m   1530\u001b[0m             \u001b[0;32mreturn\u001b[0m \u001b[0mself\u001b[0m\u001b[0;34m.\u001b[0m\u001b[0m_compiled_call_impl\u001b[0m\u001b[0;34m(\u001b[0m\u001b[0;34m*\u001b[0m\u001b[0margs\u001b[0m\u001b[0;34m,\u001b[0m \u001b[0;34m**\u001b[0m\u001b[0mkwargs\u001b[0m\u001b[0;34m)\u001b[0m  \u001b[0;31m# type: ignore[misc]\u001b[0m\u001b[0;34m\u001b[0m\u001b[0;34m\u001b[0m\u001b[0m\n\u001b[1;32m   1531\u001b[0m         \u001b[0;32melse\u001b[0m\u001b[0;34m:\u001b[0m\u001b[0;34m\u001b[0m\u001b[0;34m\u001b[0m\u001b[0m\n\u001b[0;32m-> 1532\u001b[0;31m             \u001b[0;32mreturn\u001b[0m \u001b[0mself\u001b[0m\u001b[0;34m.\u001b[0m\u001b[0m_call_impl\u001b[0m\u001b[0;34m(\u001b[0m\u001b[0;34m*\u001b[0m\u001b[0margs\u001b[0m\u001b[0;34m,\u001b[0m \u001b[0;34m**\u001b[0m\u001b[0mkwargs\u001b[0m\u001b[0;34m)\u001b[0m\u001b[0;34m\u001b[0m\u001b[0;34m\u001b[0m\u001b[0m\n\u001b[0m\u001b[1;32m   1533\u001b[0m \u001b[0;34m\u001b[0m\u001b[0m\n\u001b[1;32m   1534\u001b[0m     \u001b[0;32mdef\u001b[0m \u001b[0m_call_impl\u001b[0m\u001b[0;34m(\u001b[0m\u001b[0mself\u001b[0m\u001b[0;34m,\u001b[0m \u001b[0;34m*\u001b[0m\u001b[0margs\u001b[0m\u001b[0;34m,\u001b[0m \u001b[0;34m**\u001b[0m\u001b[0mkwargs\u001b[0m\u001b[0;34m)\u001b[0m\u001b[0;34m:\u001b[0m\u001b[0;34m\u001b[0m\u001b[0;34m\u001b[0m\u001b[0m\n",
            "\u001b[0;32m/usr/local/lib/python3.10/dist-packages/torch/nn/modules/module.py\u001b[0m in \u001b[0;36m_call_impl\u001b[0;34m(self, *args, **kwargs)\u001b[0m\n\u001b[1;32m   1539\u001b[0m                 \u001b[0;32mor\u001b[0m \u001b[0m_global_backward_pre_hooks\u001b[0m \u001b[0;32mor\u001b[0m \u001b[0m_global_backward_hooks\u001b[0m\u001b[0;34m\u001b[0m\u001b[0;34m\u001b[0m\u001b[0m\n\u001b[1;32m   1540\u001b[0m                 or _global_forward_hooks or _global_forward_pre_hooks):\n\u001b[0;32m-> 1541\u001b[0;31m             \u001b[0;32mreturn\u001b[0m \u001b[0mforward_call\u001b[0m\u001b[0;34m(\u001b[0m\u001b[0;34m*\u001b[0m\u001b[0margs\u001b[0m\u001b[0;34m,\u001b[0m \u001b[0;34m**\u001b[0m\u001b[0mkwargs\u001b[0m\u001b[0;34m)\u001b[0m\u001b[0;34m\u001b[0m\u001b[0;34m\u001b[0m\u001b[0m\n\u001b[0m\u001b[1;32m   1542\u001b[0m \u001b[0;34m\u001b[0m\u001b[0m\n\u001b[1;32m   1543\u001b[0m         \u001b[0;32mtry\u001b[0m\u001b[0;34m:\u001b[0m\u001b[0;34m\u001b[0m\u001b[0;34m\u001b[0m\u001b[0m\n",
            "\u001b[0;32m/usr/local/lib/python3.10/dist-packages/torch/nn/modules/linear.py\u001b[0m in \u001b[0;36mforward\u001b[0;34m(self, input)\u001b[0m\n\u001b[1;32m    114\u001b[0m \u001b[0;34m\u001b[0m\u001b[0m\n\u001b[1;32m    115\u001b[0m     \u001b[0;32mdef\u001b[0m \u001b[0mforward\u001b[0m\u001b[0;34m(\u001b[0m\u001b[0mself\u001b[0m\u001b[0;34m,\u001b[0m \u001b[0minput\u001b[0m\u001b[0;34m:\u001b[0m \u001b[0mTensor\u001b[0m\u001b[0;34m)\u001b[0m \u001b[0;34m->\u001b[0m \u001b[0mTensor\u001b[0m\u001b[0;34m:\u001b[0m\u001b[0;34m\u001b[0m\u001b[0;34m\u001b[0m\u001b[0m\n\u001b[0;32m--> 116\u001b[0;31m         \u001b[0;32mreturn\u001b[0m \u001b[0mF\u001b[0m\u001b[0;34m.\u001b[0m\u001b[0mlinear\u001b[0m\u001b[0;34m(\u001b[0m\u001b[0minput\u001b[0m\u001b[0;34m,\u001b[0m \u001b[0mself\u001b[0m\u001b[0;34m.\u001b[0m\u001b[0mweight\u001b[0m\u001b[0;34m,\u001b[0m \u001b[0mself\u001b[0m\u001b[0;34m.\u001b[0m\u001b[0mbias\u001b[0m\u001b[0;34m)\u001b[0m\u001b[0;34m\u001b[0m\u001b[0;34m\u001b[0m\u001b[0m\n\u001b[0m\u001b[1;32m    117\u001b[0m \u001b[0;34m\u001b[0m\u001b[0m\n\u001b[1;32m    118\u001b[0m     \u001b[0;32mdef\u001b[0m \u001b[0mextra_repr\u001b[0m\u001b[0;34m(\u001b[0m\u001b[0mself\u001b[0m\u001b[0;34m)\u001b[0m \u001b[0;34m->\u001b[0m \u001b[0mstr\u001b[0m\u001b[0;34m:\u001b[0m\u001b[0;34m\u001b[0m\u001b[0;34m\u001b[0m\u001b[0m\n",
            "\u001b[0;31mKeyboardInterrupt\u001b[0m: "
          ]
        }
      ]
    },
    {
      "cell_type": "code",
      "source": [
        "#@title 7- Function to calculate similarity for each priority\n",
        "def calculate_priorities_similarity(proposal_embedding, strategic_texts):\n",
        "    similarities = {}\n",
        "    for key, value in strategic_texts[\"oman_vision_2040\"].items():\n",
        "        similarity = calculate_similarity(proposal_embedding, get_bert_embeddings(value))\n",
        "        similarities[key] = similarity\n",
        "    return similarities\n",
        "\n",
        "def calculate_squ_similarity(proposal_embedding, squ_focus):\n",
        "    similarities = {}\n",
        "    for idx, focus in enumerate(squ_focus, start=1):\n",
        "        similarity = calculate_similarity(proposal_embedding, get_bert_embeddings(focus))\n",
        "        similarities[str(idx)] = similarity\n",
        "    return similarities"
      ],
      "metadata": {
        "id": "L989otLdWfiX"
      },
      "execution_count": null,
      "outputs": []
    },
    {
      "cell_type": "code",
      "source": [
        "#@title 8- Function to classify all proposals in a given folder and calculate similarity\n",
        "import pandas as pd\n",
        "import ipywidgets as widgets\n",
        "from IPython.display import display, clear_output\n",
        "\n",
        "\n",
        "def classify_all_proposals(folder_path):\n",
        "    for filename in os.listdir(folder_path):\n",
        "        file_path = os.path.join(folder_path, filename)\n",
        "        if file_path.endswith('.pdf') or file_path.endswith('.json'):\n",
        "            try:\n",
        "                text = extract_text(file_path)\n",
        "\n",
        "                # Classify using the trained model\n",
        "                score = model.predict_proba([text])[0][1]\n",
        "                classification = 'Approved' if score >= 0.5 else 'Rejected'\n",
        "\n",
        "                if classification == 'Approved':\n",
        "                    # Get BERT embeddings for the proposal\n",
        "                    proposal_embedding = get_bert_embeddings(text)\n",
        "\n",
        "                    # Calculate similarity with Oman Vision 2040 and SQU focus areas\n",
        "                    oman_similarities = calculate_priorities_similarity(proposal_embedding, strategic_texts)\n",
        "                    squ_similarities = calculate_squ_similarity(proposal_embedding, strategic_texts['squ_focus_2021_2025'])\n",
        "\n",
        "                    # Print the detailed report\n",
        "                    print(f\"Proposal: {filename}\")\n",
        "                    print(f\"Classification: {classification}, Score: {score:.2f}\")\n",
        "                    print(\"Similarity to Oman Vision 2040:\")\n",
        "                    for key, similarity in oman_similarities.items():\n",
        "                        print(f\"  Priority {key}: {similarity:.2f}\")\n",
        "                    print(\"Similarity to SQU Focus Areas:\")\n",
        "                    for key, similarity in squ_similarities.items():\n",
        "                        print(f\"  Focus {key}: {similarity:.2f}\")\n",
        "                else:\n",
        "                    print(f\"Proposal: {filename}\")\n",
        "                    print(f\"Classification: {classification}, Score: {score:.2f}\")\n",
        "            except Exception as e:\n",
        "                print(f\"Error processing file {filename}: {e}\")"
      ],
      "metadata": {
        "id": "ND_B9QI8qJmr"
      },
      "execution_count": null,
      "outputs": []
    },
    {
      "cell_type": "markdown",
      "source": [
        "#keys\n",
        "For Oman Vision 2040:\n",
        "1.\tالرفاه والحماية الاجتماعيـة\n",
        "2.\tالمواطنة والهوية والتراث والثقافة الوطنية\n",
        "3.\tالصحة\n",
        "4.\tالتعليم والتعلم والبحث العلمي والقدرات الوطنية\n",
        "5.\tحوكمة الجهاز الإداري للدولة والموارد والمشاريع\n",
        "6.\tالتشريع والقضاء والرقابة\n",
        "7.\tالبيئة والموارد الطبيعية\n",
        "8.\tتنمية المحافظات والمدن المستدامة\n",
        "9.\tالقطاع الخاص والاستثمار والتعاون الدولي\n",
        "10.\tسوق العمل والتشغيل\n",
        "11.\tالتنويع الاقتصادي والاستدامة المالية\n",
        "12.\tالقيادة والإدارة الاقتصادية\n",
        "\n",
        "for SQU:\n",
        "1. جودة المخرجات\n",
        "2. البحث العلمي والابتكار\n",
        "3. بناء الشراكات\n",
        "4. الاستدامة المالية\n",
        "5. الحوكمة والاداء المؤسسي\n",
        "\n"
      ],
      "metadata": {
        "id": "7QB0S8FPqeZK"
      }
    },
    {
      "cell_type": "code",
      "source": [
        "# Example use:\n",
        "classify_all_proposals(folder_path)"
      ],
      "metadata": {
        "colab": {
          "base_uri": "https://localhost:8080/",
          "height": 1000
        },
        "id": "vXd0ZCsNqP6Q",
        "outputId": "73cba3c2-c807-492c-e86a-7b6f956dd3b3"
      },
      "execution_count": null,
      "outputs": [
        {
          "output_type": "stream",
          "name": "stdout",
          "text": [
            "Proposal: 90ccd7ad-34fb-4fb4-8e68-4358aee6b63d.pdf\n",
            "Classification: Approved, Score: 0.82\n",
            "Similarity to Oman Vision 2040:\n",
            "  Priority 1: 0.90\n",
            "  Priority 2: 0.24\n",
            "  Priority 3: 0.90\n",
            "  Priority 4: 0.91\n",
            "  Priority 5: 0.85\n",
            "  Priority 6: 0.85\n",
            "  Priority 7: 0.89\n",
            "  Priority 8: 0.90\n",
            "  Priority 9: 0.76\n",
            "  Priority 10: 0.89\n",
            "  Priority 11: 0.72\n",
            "  Priority 12: 0.88\n",
            "Similarity to SQU Focus Areas:\n",
            "  Focus 1: 0.90\n",
            "  Focus 2: 0.90\n",
            "  Focus 3: 0.88\n",
            "  Focus 4: 0.93\n",
            "  Focus 5: 0.80\n",
            "Proposal: bc4d151c-d8eb-4e58-9a47-d77f70d0c60c.pdf\n",
            "Classification: Approved, Score: 0.69\n",
            "Similarity to Oman Vision 2040:\n",
            "  Priority 1: 0.92\n",
            "  Priority 2: 0.27\n",
            "  Priority 3: 0.92\n",
            "  Priority 4: 0.92\n",
            "  Priority 5: 0.89\n",
            "  Priority 6: 0.89\n",
            "  Priority 7: 0.92\n",
            "  Priority 8: 0.92\n",
            "  Priority 9: 0.84\n",
            "  Priority 10: 0.91\n",
            "  Priority 11: 0.81\n",
            "  Priority 12: 0.91\n",
            "Similarity to SQU Focus Areas:\n",
            "  Focus 1: 0.91\n",
            "  Focus 2: 0.91\n",
            "  Focus 3: 0.91\n",
            "  Focus 4: 0.93\n",
            "  Focus 5: 0.85\n",
            "Proposal: 7b8b302e-86f0-4aba-b0ab-0ab3943fd01a.pdf\n",
            "Classification: Approved, Score: 0.60\n",
            "Similarity to Oman Vision 2040:\n",
            "  Priority 1: 0.93\n",
            "  Priority 2: 0.22\n",
            "  Priority 3: 0.93\n",
            "  Priority 4: 0.93\n",
            "  Priority 5: 0.89\n",
            "  Priority 6: 0.90\n",
            "  Priority 7: 0.92\n",
            "  Priority 8: 0.92\n",
            "  Priority 9: 0.83\n",
            "  Priority 10: 0.92\n",
            "  Priority 11: 0.80\n",
            "  Priority 12: 0.91\n",
            "Similarity to SQU Focus Areas:\n",
            "  Focus 1: 0.92\n",
            "  Focus 2: 0.92\n",
            "  Focus 3: 0.91\n",
            "  Focus 4: 0.94\n",
            "  Focus 5: 0.85\n",
            "Proposal: 4b81228a-59e3-450b-aa7b-ee2b62e33636.pdf\n",
            "Classification: Approved, Score: 0.65\n",
            "Similarity to Oman Vision 2040:\n",
            "  Priority 1: 0.85\n",
            "  Priority 2: 0.25\n",
            "  Priority 3: 0.85\n",
            "  Priority 4: 0.87\n",
            "  Priority 5: 0.78\n",
            "  Priority 6: 0.78\n",
            "  Priority 7: 0.84\n",
            "  Priority 8: 0.85\n",
            "  Priority 9: 0.68\n",
            "  Priority 10: 0.83\n",
            "  Priority 11: 0.64\n",
            "  Priority 12: 0.83\n",
            "Similarity to SQU Focus Areas:\n",
            "  Focus 1: 0.85\n",
            "  Focus 2: 0.86\n",
            "  Focus 3: 0.83\n",
            "  Focus 4: 0.90\n",
            "  Focus 5: 0.74\n",
            "Proposal: c11ec4ae-c4b9-4e2d-85dc-c75f404f8703.pdf\n",
            "Classification: Approved, Score: 0.64\n",
            "Similarity to Oman Vision 2040:\n",
            "  Priority 1: 0.87\n",
            "  Priority 2: 0.26\n",
            "  Priority 3: 0.87\n",
            "  Priority 4: 0.88\n",
            "  Priority 5: 0.81\n",
            "  Priority 6: 0.81\n",
            "  Priority 7: 0.86\n",
            "  Priority 8: 0.87\n",
            "  Priority 9: 0.71\n",
            "  Priority 10: 0.85\n",
            "  Priority 11: 0.66\n",
            "  Priority 12: 0.85\n",
            "Similarity to SQU Focus Areas:\n",
            "  Focus 1: 0.86\n",
            "  Focus 2: 0.88\n",
            "  Focus 3: 0.85\n",
            "  Focus 4: 0.92\n",
            "  Focus 5: 0.76\n",
            "Proposal: d2e6f389-bfef-48b3-84b5-8d9fff08241c.pdf\n",
            "Classification: Approved, Score: 0.75\n",
            "Similarity to Oman Vision 2040:\n",
            "  Priority 1: 0.93\n",
            "  Priority 2: 0.21\n",
            "  Priority 3: 0.93\n",
            "  Priority 4: 0.93\n",
            "  Priority 5: 0.89\n",
            "  Priority 6: 0.90\n",
            "  Priority 7: 0.92\n",
            "  Priority 8: 0.92\n",
            "  Priority 9: 0.84\n",
            "  Priority 10: 0.92\n",
            "  Priority 11: 0.80\n",
            "  Priority 12: 0.91\n",
            "Similarity to SQU Focus Areas:\n",
            "  Focus 1: 0.92\n",
            "  Focus 2: 0.91\n",
            "  Focus 3: 0.90\n",
            "  Focus 4: 0.93\n",
            "  Focus 5: 0.85\n"
          ]
        },
        {
          "output_type": "error",
          "ename": "KeyboardInterrupt",
          "evalue": "",
          "traceback": [
            "\u001b[0;31m---------------------------------------------------------------------------\u001b[0m",
            "\u001b[0;31mKeyboardInterrupt\u001b[0m                         Traceback (most recent call last)",
            "\u001b[0;32m<ipython-input-42-1f9a9d5a6bfb>\u001b[0m in \u001b[0;36m<cell line: 2>\u001b[0;34m()\u001b[0m\n\u001b[1;32m      1\u001b[0m \u001b[0;31m# Example use:\u001b[0m\u001b[0;34m\u001b[0m\u001b[0;34m\u001b[0m\u001b[0m\n\u001b[0;32m----> 2\u001b[0;31m \u001b[0mclassify_all_proposals\u001b[0m\u001b[0;34m(\u001b[0m\u001b[0mfolder_path\u001b[0m\u001b[0;34m)\u001b[0m\u001b[0;34m\u001b[0m\u001b[0;34m\u001b[0m\u001b[0m\n\u001b[0m",
            "\u001b[0;32m<ipython-input-41-a18ee5b723e4>\u001b[0m in \u001b[0;36mclassify_all_proposals\u001b[0;34m(folder_path)\u001b[0m\n\u001b[1;32m     13\u001b[0m                 \u001b[0;32mif\u001b[0m \u001b[0mclassification\u001b[0m \u001b[0;34m==\u001b[0m \u001b[0;34m'Approved'\u001b[0m\u001b[0;34m:\u001b[0m\u001b[0;34m\u001b[0m\u001b[0;34m\u001b[0m\u001b[0m\n\u001b[1;32m     14\u001b[0m                     \u001b[0;31m# Get BERT embeddings for the proposal\u001b[0m\u001b[0;34m\u001b[0m\u001b[0;34m\u001b[0m\u001b[0m\n\u001b[0;32m---> 15\u001b[0;31m                     \u001b[0mproposal_embedding\u001b[0m \u001b[0;34m=\u001b[0m \u001b[0mget_bert_embeddings\u001b[0m\u001b[0;34m(\u001b[0m\u001b[0mtext\u001b[0m\u001b[0;34m)\u001b[0m\u001b[0;34m\u001b[0m\u001b[0;34m\u001b[0m\u001b[0m\n\u001b[0m\u001b[1;32m     16\u001b[0m \u001b[0;34m\u001b[0m\u001b[0m\n\u001b[1;32m     17\u001b[0m                     \u001b[0;31m# Calculate similarity with Oman Vision 2040 and SQU focus areas\u001b[0m\u001b[0;34m\u001b[0m\u001b[0;34m\u001b[0m\u001b[0m\n",
            "\u001b[0;32m<ipython-input-16-1026c246fcd2>\u001b[0m in \u001b[0;36mget_bert_embeddings\u001b[0;34m(text)\u001b[0m\n\u001b[1;32m      3\u001b[0m     \u001b[0minputs\u001b[0m \u001b[0;34m=\u001b[0m \u001b[0mtokenizer\u001b[0m\u001b[0;34m(\u001b[0m\u001b[0mtext\u001b[0m\u001b[0;34m,\u001b[0m \u001b[0mreturn_tensors\u001b[0m\u001b[0;34m=\u001b[0m\u001b[0;34m\"pt\"\u001b[0m\u001b[0;34m,\u001b[0m \u001b[0mmax_length\u001b[0m\u001b[0;34m=\u001b[0m\u001b[0;36m512\u001b[0m\u001b[0;34m,\u001b[0m \u001b[0mtruncation\u001b[0m\u001b[0;34m=\u001b[0m\u001b[0;32mTrue\u001b[0m\u001b[0;34m)\u001b[0m\u001b[0;34m\u001b[0m\u001b[0;34m\u001b[0m\u001b[0m\n\u001b[1;32m      4\u001b[0m     \u001b[0;32mwith\u001b[0m \u001b[0mtorch\u001b[0m\u001b[0;34m.\u001b[0m\u001b[0mno_grad\u001b[0m\u001b[0;34m(\u001b[0m\u001b[0;34m)\u001b[0m\u001b[0;34m:\u001b[0m\u001b[0;34m\u001b[0m\u001b[0;34m\u001b[0m\u001b[0m\n\u001b[0;32m----> 5\u001b[0;31m         \u001b[0moutputs\u001b[0m \u001b[0;34m=\u001b[0m \u001b[0mbert_model\u001b[0m\u001b[0;34m(\u001b[0m\u001b[0;34m**\u001b[0m\u001b[0minputs\u001b[0m\u001b[0;34m)\u001b[0m\u001b[0;34m\u001b[0m\u001b[0;34m\u001b[0m\u001b[0m\n\u001b[0m\u001b[1;32m      6\u001b[0m     \u001b[0;32mreturn\u001b[0m \u001b[0moutputs\u001b[0m\u001b[0;34m.\u001b[0m\u001b[0mpooler_output\u001b[0m\u001b[0;34m[\u001b[0m\u001b[0;36m0\u001b[0m\u001b[0;34m]\u001b[0m\u001b[0;34m.\u001b[0m\u001b[0mnumpy\u001b[0m\u001b[0;34m(\u001b[0m\u001b[0;34m)\u001b[0m\u001b[0;34m\u001b[0m\u001b[0;34m\u001b[0m\u001b[0m\n\u001b[1;32m      7\u001b[0m \u001b[0;34m\u001b[0m\u001b[0m\n",
            "\u001b[0;32m/usr/local/lib/python3.10/dist-packages/torch/nn/modules/module.py\u001b[0m in \u001b[0;36m_wrapped_call_impl\u001b[0;34m(self, *args, **kwargs)\u001b[0m\n\u001b[1;32m   1530\u001b[0m             \u001b[0;32mreturn\u001b[0m \u001b[0mself\u001b[0m\u001b[0;34m.\u001b[0m\u001b[0m_compiled_call_impl\u001b[0m\u001b[0;34m(\u001b[0m\u001b[0;34m*\u001b[0m\u001b[0margs\u001b[0m\u001b[0;34m,\u001b[0m \u001b[0;34m**\u001b[0m\u001b[0mkwargs\u001b[0m\u001b[0;34m)\u001b[0m  \u001b[0;31m# type: ignore[misc]\u001b[0m\u001b[0;34m\u001b[0m\u001b[0;34m\u001b[0m\u001b[0m\n\u001b[1;32m   1531\u001b[0m         \u001b[0;32melse\u001b[0m\u001b[0;34m:\u001b[0m\u001b[0;34m\u001b[0m\u001b[0;34m\u001b[0m\u001b[0m\n\u001b[0;32m-> 1532\u001b[0;31m             \u001b[0;32mreturn\u001b[0m \u001b[0mself\u001b[0m\u001b[0;34m.\u001b[0m\u001b[0m_call_impl\u001b[0m\u001b[0;34m(\u001b[0m\u001b[0;34m*\u001b[0m\u001b[0margs\u001b[0m\u001b[0;34m,\u001b[0m \u001b[0;34m**\u001b[0m\u001b[0mkwargs\u001b[0m\u001b[0;34m)\u001b[0m\u001b[0;34m\u001b[0m\u001b[0;34m\u001b[0m\u001b[0m\n\u001b[0m\u001b[1;32m   1533\u001b[0m \u001b[0;34m\u001b[0m\u001b[0m\n\u001b[1;32m   1534\u001b[0m     \u001b[0;32mdef\u001b[0m \u001b[0m_call_impl\u001b[0m\u001b[0;34m(\u001b[0m\u001b[0mself\u001b[0m\u001b[0;34m,\u001b[0m \u001b[0;34m*\u001b[0m\u001b[0margs\u001b[0m\u001b[0;34m,\u001b[0m \u001b[0;34m**\u001b[0m\u001b[0mkwargs\u001b[0m\u001b[0;34m)\u001b[0m\u001b[0;34m:\u001b[0m\u001b[0;34m\u001b[0m\u001b[0;34m\u001b[0m\u001b[0m\n",
            "\u001b[0;32m/usr/local/lib/python3.10/dist-packages/torch/nn/modules/module.py\u001b[0m in \u001b[0;36m_call_impl\u001b[0;34m(self, *args, **kwargs)\u001b[0m\n\u001b[1;32m   1539\u001b[0m                 \u001b[0;32mor\u001b[0m \u001b[0m_global_backward_pre_hooks\u001b[0m \u001b[0;32mor\u001b[0m \u001b[0m_global_backward_hooks\u001b[0m\u001b[0;34m\u001b[0m\u001b[0;34m\u001b[0m\u001b[0m\n\u001b[1;32m   1540\u001b[0m                 or _global_forward_hooks or _global_forward_pre_hooks):\n\u001b[0;32m-> 1541\u001b[0;31m             \u001b[0;32mreturn\u001b[0m \u001b[0mforward_call\u001b[0m\u001b[0;34m(\u001b[0m\u001b[0;34m*\u001b[0m\u001b[0margs\u001b[0m\u001b[0;34m,\u001b[0m \u001b[0;34m**\u001b[0m\u001b[0mkwargs\u001b[0m\u001b[0;34m)\u001b[0m\u001b[0;34m\u001b[0m\u001b[0;34m\u001b[0m\u001b[0m\n\u001b[0m\u001b[1;32m   1542\u001b[0m \u001b[0;34m\u001b[0m\u001b[0m\n\u001b[1;32m   1543\u001b[0m         \u001b[0;32mtry\u001b[0m\u001b[0;34m:\u001b[0m\u001b[0;34m\u001b[0m\u001b[0;34m\u001b[0m\u001b[0m\n",
            "\u001b[0;32m/usr/local/lib/python3.10/dist-packages/transformers/models/bert/modeling_bert.py\u001b[0m in \u001b[0;36mforward\u001b[0;34m(self, input_ids, attention_mask, token_type_ids, position_ids, head_mask, inputs_embeds, encoder_hidden_states, encoder_attention_mask, past_key_values, use_cache, output_attentions, output_hidden_states, return_dict)\u001b[0m\n\u001b[1;32m   1135\u001b[0m         \u001b[0mhead_mask\u001b[0m \u001b[0;34m=\u001b[0m \u001b[0mself\u001b[0m\u001b[0;34m.\u001b[0m\u001b[0mget_head_mask\u001b[0m\u001b[0;34m(\u001b[0m\u001b[0mhead_mask\u001b[0m\u001b[0;34m,\u001b[0m \u001b[0mself\u001b[0m\u001b[0;34m.\u001b[0m\u001b[0mconfig\u001b[0m\u001b[0;34m.\u001b[0m\u001b[0mnum_hidden_layers\u001b[0m\u001b[0;34m)\u001b[0m\u001b[0;34m\u001b[0m\u001b[0;34m\u001b[0m\u001b[0m\n\u001b[1;32m   1136\u001b[0m \u001b[0;34m\u001b[0m\u001b[0m\n\u001b[0;32m-> 1137\u001b[0;31m         encoder_outputs = self.encoder(\n\u001b[0m\u001b[1;32m   1138\u001b[0m             \u001b[0membedding_output\u001b[0m\u001b[0;34m,\u001b[0m\u001b[0;34m\u001b[0m\u001b[0;34m\u001b[0m\u001b[0m\n\u001b[1;32m   1139\u001b[0m             \u001b[0mattention_mask\u001b[0m\u001b[0;34m=\u001b[0m\u001b[0mextended_attention_mask\u001b[0m\u001b[0;34m,\u001b[0m\u001b[0;34m\u001b[0m\u001b[0;34m\u001b[0m\u001b[0m\n",
            "\u001b[0;32m/usr/local/lib/python3.10/dist-packages/torch/nn/modules/module.py\u001b[0m in \u001b[0;36m_wrapped_call_impl\u001b[0;34m(self, *args, **kwargs)\u001b[0m\n\u001b[1;32m   1530\u001b[0m             \u001b[0;32mreturn\u001b[0m \u001b[0mself\u001b[0m\u001b[0;34m.\u001b[0m\u001b[0m_compiled_call_impl\u001b[0m\u001b[0;34m(\u001b[0m\u001b[0;34m*\u001b[0m\u001b[0margs\u001b[0m\u001b[0;34m,\u001b[0m \u001b[0;34m**\u001b[0m\u001b[0mkwargs\u001b[0m\u001b[0;34m)\u001b[0m  \u001b[0;31m# type: ignore[misc]\u001b[0m\u001b[0;34m\u001b[0m\u001b[0;34m\u001b[0m\u001b[0m\n\u001b[1;32m   1531\u001b[0m         \u001b[0;32melse\u001b[0m\u001b[0;34m:\u001b[0m\u001b[0;34m\u001b[0m\u001b[0;34m\u001b[0m\u001b[0m\n\u001b[0;32m-> 1532\u001b[0;31m             \u001b[0;32mreturn\u001b[0m \u001b[0mself\u001b[0m\u001b[0;34m.\u001b[0m\u001b[0m_call_impl\u001b[0m\u001b[0;34m(\u001b[0m\u001b[0;34m*\u001b[0m\u001b[0margs\u001b[0m\u001b[0;34m,\u001b[0m \u001b[0;34m**\u001b[0m\u001b[0mkwargs\u001b[0m\u001b[0;34m)\u001b[0m\u001b[0;34m\u001b[0m\u001b[0;34m\u001b[0m\u001b[0m\n\u001b[0m\u001b[1;32m   1533\u001b[0m \u001b[0;34m\u001b[0m\u001b[0m\n\u001b[1;32m   1534\u001b[0m     \u001b[0;32mdef\u001b[0m \u001b[0m_call_impl\u001b[0m\u001b[0;34m(\u001b[0m\u001b[0mself\u001b[0m\u001b[0;34m,\u001b[0m \u001b[0;34m*\u001b[0m\u001b[0margs\u001b[0m\u001b[0;34m,\u001b[0m \u001b[0;34m**\u001b[0m\u001b[0mkwargs\u001b[0m\u001b[0;34m)\u001b[0m\u001b[0;34m:\u001b[0m\u001b[0;34m\u001b[0m\u001b[0;34m\u001b[0m\u001b[0m\n",
            "\u001b[0;32m/usr/local/lib/python3.10/dist-packages/torch/nn/modules/module.py\u001b[0m in \u001b[0;36m_call_impl\u001b[0;34m(self, *args, **kwargs)\u001b[0m\n\u001b[1;32m   1539\u001b[0m                 \u001b[0;32mor\u001b[0m \u001b[0m_global_backward_pre_hooks\u001b[0m \u001b[0;32mor\u001b[0m \u001b[0m_global_backward_hooks\u001b[0m\u001b[0;34m\u001b[0m\u001b[0;34m\u001b[0m\u001b[0m\n\u001b[1;32m   1540\u001b[0m                 or _global_forward_hooks or _global_forward_pre_hooks):\n\u001b[0;32m-> 1541\u001b[0;31m             \u001b[0;32mreturn\u001b[0m \u001b[0mforward_call\u001b[0m\u001b[0;34m(\u001b[0m\u001b[0;34m*\u001b[0m\u001b[0margs\u001b[0m\u001b[0;34m,\u001b[0m \u001b[0;34m**\u001b[0m\u001b[0mkwargs\u001b[0m\u001b[0;34m)\u001b[0m\u001b[0;34m\u001b[0m\u001b[0;34m\u001b[0m\u001b[0m\n\u001b[0m\u001b[1;32m   1542\u001b[0m \u001b[0;34m\u001b[0m\u001b[0m\n\u001b[1;32m   1543\u001b[0m         \u001b[0;32mtry\u001b[0m\u001b[0;34m:\u001b[0m\u001b[0;34m\u001b[0m\u001b[0;34m\u001b[0m\u001b[0m\n",
            "\u001b[0;32m/usr/local/lib/python3.10/dist-packages/transformers/models/bert/modeling_bert.py\u001b[0m in \u001b[0;36mforward\u001b[0;34m(self, hidden_states, attention_mask, head_mask, encoder_hidden_states, encoder_attention_mask, past_key_values, use_cache, output_attentions, output_hidden_states, return_dict)\u001b[0m\n\u001b[1;32m    688\u001b[0m                 )\n\u001b[1;32m    689\u001b[0m             \u001b[0;32melse\u001b[0m\u001b[0;34m:\u001b[0m\u001b[0;34m\u001b[0m\u001b[0;34m\u001b[0m\u001b[0m\n\u001b[0;32m--> 690\u001b[0;31m                 layer_outputs = layer_module(\n\u001b[0m\u001b[1;32m    691\u001b[0m                     \u001b[0mhidden_states\u001b[0m\u001b[0;34m,\u001b[0m\u001b[0;34m\u001b[0m\u001b[0;34m\u001b[0m\u001b[0m\n\u001b[1;32m    692\u001b[0m                     \u001b[0mattention_mask\u001b[0m\u001b[0;34m,\u001b[0m\u001b[0;34m\u001b[0m\u001b[0;34m\u001b[0m\u001b[0m\n",
            "\u001b[0;32m/usr/local/lib/python3.10/dist-packages/torch/nn/modules/module.py\u001b[0m in \u001b[0;36m_wrapped_call_impl\u001b[0;34m(self, *args, **kwargs)\u001b[0m\n\u001b[1;32m   1530\u001b[0m             \u001b[0;32mreturn\u001b[0m \u001b[0mself\u001b[0m\u001b[0;34m.\u001b[0m\u001b[0m_compiled_call_impl\u001b[0m\u001b[0;34m(\u001b[0m\u001b[0;34m*\u001b[0m\u001b[0margs\u001b[0m\u001b[0;34m,\u001b[0m \u001b[0;34m**\u001b[0m\u001b[0mkwargs\u001b[0m\u001b[0;34m)\u001b[0m  \u001b[0;31m# type: ignore[misc]\u001b[0m\u001b[0;34m\u001b[0m\u001b[0;34m\u001b[0m\u001b[0m\n\u001b[1;32m   1531\u001b[0m         \u001b[0;32melse\u001b[0m\u001b[0;34m:\u001b[0m\u001b[0;34m\u001b[0m\u001b[0;34m\u001b[0m\u001b[0m\n\u001b[0;32m-> 1532\u001b[0;31m             \u001b[0;32mreturn\u001b[0m \u001b[0mself\u001b[0m\u001b[0;34m.\u001b[0m\u001b[0m_call_impl\u001b[0m\u001b[0;34m(\u001b[0m\u001b[0;34m*\u001b[0m\u001b[0margs\u001b[0m\u001b[0;34m,\u001b[0m \u001b[0;34m**\u001b[0m\u001b[0mkwargs\u001b[0m\u001b[0;34m)\u001b[0m\u001b[0;34m\u001b[0m\u001b[0;34m\u001b[0m\u001b[0m\n\u001b[0m\u001b[1;32m   1533\u001b[0m \u001b[0;34m\u001b[0m\u001b[0m\n\u001b[1;32m   1534\u001b[0m     \u001b[0;32mdef\u001b[0m \u001b[0m_call_impl\u001b[0m\u001b[0;34m(\u001b[0m\u001b[0mself\u001b[0m\u001b[0;34m,\u001b[0m \u001b[0;34m*\u001b[0m\u001b[0margs\u001b[0m\u001b[0;34m,\u001b[0m \u001b[0;34m**\u001b[0m\u001b[0mkwargs\u001b[0m\u001b[0;34m)\u001b[0m\u001b[0;34m:\u001b[0m\u001b[0;34m\u001b[0m\u001b[0;34m\u001b[0m\u001b[0m\n",
            "\u001b[0;32m/usr/local/lib/python3.10/dist-packages/torch/nn/modules/module.py\u001b[0m in \u001b[0;36m_call_impl\u001b[0;34m(self, *args, **kwargs)\u001b[0m\n\u001b[1;32m   1539\u001b[0m                 \u001b[0;32mor\u001b[0m \u001b[0m_global_backward_pre_hooks\u001b[0m \u001b[0;32mor\u001b[0m \u001b[0m_global_backward_hooks\u001b[0m\u001b[0;34m\u001b[0m\u001b[0;34m\u001b[0m\u001b[0m\n\u001b[1;32m   1540\u001b[0m                 or _global_forward_hooks or _global_forward_pre_hooks):\n\u001b[0;32m-> 1541\u001b[0;31m             \u001b[0;32mreturn\u001b[0m \u001b[0mforward_call\u001b[0m\u001b[0;34m(\u001b[0m\u001b[0;34m*\u001b[0m\u001b[0margs\u001b[0m\u001b[0;34m,\u001b[0m \u001b[0;34m**\u001b[0m\u001b[0mkwargs\u001b[0m\u001b[0;34m)\u001b[0m\u001b[0;34m\u001b[0m\u001b[0;34m\u001b[0m\u001b[0m\n\u001b[0m\u001b[1;32m   1542\u001b[0m \u001b[0;34m\u001b[0m\u001b[0m\n\u001b[1;32m   1543\u001b[0m         \u001b[0;32mtry\u001b[0m\u001b[0;34m:\u001b[0m\u001b[0;34m\u001b[0m\u001b[0;34m\u001b[0m\u001b[0m\n",
            "\u001b[0;32m/usr/local/lib/python3.10/dist-packages/transformers/models/bert/modeling_bert.py\u001b[0m in \u001b[0;36mforward\u001b[0;34m(self, hidden_states, attention_mask, head_mask, encoder_hidden_states, encoder_attention_mask, past_key_value, output_attentions)\u001b[0m\n\u001b[1;32m    620\u001b[0m             \u001b[0mpresent_key_value\u001b[0m \u001b[0;34m=\u001b[0m \u001b[0mpresent_key_value\u001b[0m \u001b[0;34m+\u001b[0m \u001b[0mcross_attn_present_key_value\u001b[0m\u001b[0;34m\u001b[0m\u001b[0;34m\u001b[0m\u001b[0m\n\u001b[1;32m    621\u001b[0m \u001b[0;34m\u001b[0m\u001b[0m\n\u001b[0;32m--> 622\u001b[0;31m         layer_output = apply_chunking_to_forward(\n\u001b[0m\u001b[1;32m    623\u001b[0m             \u001b[0mself\u001b[0m\u001b[0;34m.\u001b[0m\u001b[0mfeed_forward_chunk\u001b[0m\u001b[0;34m,\u001b[0m \u001b[0mself\u001b[0m\u001b[0;34m.\u001b[0m\u001b[0mchunk_size_feed_forward\u001b[0m\u001b[0;34m,\u001b[0m \u001b[0mself\u001b[0m\u001b[0;34m.\u001b[0m\u001b[0mseq_len_dim\u001b[0m\u001b[0;34m,\u001b[0m \u001b[0mattention_output\u001b[0m\u001b[0;34m\u001b[0m\u001b[0;34m\u001b[0m\u001b[0m\n\u001b[1;32m    624\u001b[0m         )\n",
            "\u001b[0;32m/usr/local/lib/python3.10/dist-packages/transformers/pytorch_utils.py\u001b[0m in \u001b[0;36mapply_chunking_to_forward\u001b[0;34m(forward_fn, chunk_size, chunk_dim, *input_tensors)\u001b[0m\n\u001b[1;32m    236\u001b[0m         \u001b[0;32mreturn\u001b[0m \u001b[0mtorch\u001b[0m\u001b[0;34m.\u001b[0m\u001b[0mcat\u001b[0m\u001b[0;34m(\u001b[0m\u001b[0moutput_chunks\u001b[0m\u001b[0;34m,\u001b[0m \u001b[0mdim\u001b[0m\u001b[0;34m=\u001b[0m\u001b[0mchunk_dim\u001b[0m\u001b[0;34m)\u001b[0m\u001b[0;34m\u001b[0m\u001b[0;34m\u001b[0m\u001b[0m\n\u001b[1;32m    237\u001b[0m \u001b[0;34m\u001b[0m\u001b[0m\n\u001b[0;32m--> 238\u001b[0;31m     \u001b[0;32mreturn\u001b[0m \u001b[0mforward_fn\u001b[0m\u001b[0;34m(\u001b[0m\u001b[0;34m*\u001b[0m\u001b[0minput_tensors\u001b[0m\u001b[0;34m)\u001b[0m\u001b[0;34m\u001b[0m\u001b[0;34m\u001b[0m\u001b[0m\n\u001b[0m\u001b[1;32m    239\u001b[0m \u001b[0;34m\u001b[0m\u001b[0m\n\u001b[1;32m    240\u001b[0m \u001b[0;34m\u001b[0m\u001b[0m\n",
            "\u001b[0;32m/usr/local/lib/python3.10/dist-packages/transformers/models/bert/modeling_bert.py\u001b[0m in \u001b[0;36mfeed_forward_chunk\u001b[0;34m(self, attention_output)\u001b[0m\n\u001b[1;32m    633\u001b[0m     \u001b[0;32mdef\u001b[0m \u001b[0mfeed_forward_chunk\u001b[0m\u001b[0;34m(\u001b[0m\u001b[0mself\u001b[0m\u001b[0;34m,\u001b[0m \u001b[0mattention_output\u001b[0m\u001b[0;34m)\u001b[0m\u001b[0;34m:\u001b[0m\u001b[0;34m\u001b[0m\u001b[0;34m\u001b[0m\u001b[0m\n\u001b[1;32m    634\u001b[0m         \u001b[0mintermediate_output\u001b[0m \u001b[0;34m=\u001b[0m \u001b[0mself\u001b[0m\u001b[0;34m.\u001b[0m\u001b[0mintermediate\u001b[0m\u001b[0;34m(\u001b[0m\u001b[0mattention_output\u001b[0m\u001b[0;34m)\u001b[0m\u001b[0;34m\u001b[0m\u001b[0;34m\u001b[0m\u001b[0m\n\u001b[0;32m--> 635\u001b[0;31m         \u001b[0mlayer_output\u001b[0m \u001b[0;34m=\u001b[0m \u001b[0mself\u001b[0m\u001b[0;34m.\u001b[0m\u001b[0moutput\u001b[0m\u001b[0;34m(\u001b[0m\u001b[0mintermediate_output\u001b[0m\u001b[0;34m,\u001b[0m \u001b[0mattention_output\u001b[0m\u001b[0;34m)\u001b[0m\u001b[0;34m\u001b[0m\u001b[0;34m\u001b[0m\u001b[0m\n\u001b[0m\u001b[1;32m    636\u001b[0m         \u001b[0;32mreturn\u001b[0m \u001b[0mlayer_output\u001b[0m\u001b[0;34m\u001b[0m\u001b[0;34m\u001b[0m\u001b[0m\n\u001b[1;32m    637\u001b[0m \u001b[0;34m\u001b[0m\u001b[0m\n",
            "\u001b[0;32m/usr/local/lib/python3.10/dist-packages/torch/nn/modules/module.py\u001b[0m in \u001b[0;36m_wrapped_call_impl\u001b[0;34m(self, *args, **kwargs)\u001b[0m\n\u001b[1;32m   1530\u001b[0m             \u001b[0;32mreturn\u001b[0m \u001b[0mself\u001b[0m\u001b[0;34m.\u001b[0m\u001b[0m_compiled_call_impl\u001b[0m\u001b[0;34m(\u001b[0m\u001b[0;34m*\u001b[0m\u001b[0margs\u001b[0m\u001b[0;34m,\u001b[0m \u001b[0;34m**\u001b[0m\u001b[0mkwargs\u001b[0m\u001b[0;34m)\u001b[0m  \u001b[0;31m# type: ignore[misc]\u001b[0m\u001b[0;34m\u001b[0m\u001b[0;34m\u001b[0m\u001b[0m\n\u001b[1;32m   1531\u001b[0m         \u001b[0;32melse\u001b[0m\u001b[0;34m:\u001b[0m\u001b[0;34m\u001b[0m\u001b[0;34m\u001b[0m\u001b[0m\n\u001b[0;32m-> 1532\u001b[0;31m             \u001b[0;32mreturn\u001b[0m \u001b[0mself\u001b[0m\u001b[0;34m.\u001b[0m\u001b[0m_call_impl\u001b[0m\u001b[0;34m(\u001b[0m\u001b[0;34m*\u001b[0m\u001b[0margs\u001b[0m\u001b[0;34m,\u001b[0m \u001b[0;34m**\u001b[0m\u001b[0mkwargs\u001b[0m\u001b[0;34m)\u001b[0m\u001b[0;34m\u001b[0m\u001b[0;34m\u001b[0m\u001b[0m\n\u001b[0m\u001b[1;32m   1533\u001b[0m \u001b[0;34m\u001b[0m\u001b[0m\n\u001b[1;32m   1534\u001b[0m     \u001b[0;32mdef\u001b[0m \u001b[0m_call_impl\u001b[0m\u001b[0;34m(\u001b[0m\u001b[0mself\u001b[0m\u001b[0;34m,\u001b[0m \u001b[0;34m*\u001b[0m\u001b[0margs\u001b[0m\u001b[0;34m,\u001b[0m \u001b[0;34m**\u001b[0m\u001b[0mkwargs\u001b[0m\u001b[0;34m)\u001b[0m\u001b[0;34m:\u001b[0m\u001b[0;34m\u001b[0m\u001b[0;34m\u001b[0m\u001b[0m\n",
            "\u001b[0;32m/usr/local/lib/python3.10/dist-packages/torch/nn/modules/module.py\u001b[0m in \u001b[0;36m_call_impl\u001b[0;34m(self, *args, **kwargs)\u001b[0m\n\u001b[1;32m   1539\u001b[0m                 \u001b[0;32mor\u001b[0m \u001b[0m_global_backward_pre_hooks\u001b[0m \u001b[0;32mor\u001b[0m \u001b[0m_global_backward_hooks\u001b[0m\u001b[0;34m\u001b[0m\u001b[0;34m\u001b[0m\u001b[0m\n\u001b[1;32m   1540\u001b[0m                 or _global_forward_hooks or _global_forward_pre_hooks):\n\u001b[0;32m-> 1541\u001b[0;31m             \u001b[0;32mreturn\u001b[0m \u001b[0mforward_call\u001b[0m\u001b[0;34m(\u001b[0m\u001b[0;34m*\u001b[0m\u001b[0margs\u001b[0m\u001b[0;34m,\u001b[0m \u001b[0;34m**\u001b[0m\u001b[0mkwargs\u001b[0m\u001b[0;34m)\u001b[0m\u001b[0;34m\u001b[0m\u001b[0;34m\u001b[0m\u001b[0m\n\u001b[0m\u001b[1;32m   1542\u001b[0m \u001b[0;34m\u001b[0m\u001b[0m\n\u001b[1;32m   1543\u001b[0m         \u001b[0;32mtry\u001b[0m\u001b[0;34m:\u001b[0m\u001b[0;34m\u001b[0m\u001b[0;34m\u001b[0m\u001b[0m\n",
            "\u001b[0;32m/usr/local/lib/python3.10/dist-packages/transformers/models/bert/modeling_bert.py\u001b[0m in \u001b[0;36mforward\u001b[0;34m(self, hidden_states, input_tensor)\u001b[0m\n\u001b[1;32m    545\u001b[0m \u001b[0;34m\u001b[0m\u001b[0m\n\u001b[1;32m    546\u001b[0m     \u001b[0;32mdef\u001b[0m \u001b[0mforward\u001b[0m\u001b[0;34m(\u001b[0m\u001b[0mself\u001b[0m\u001b[0;34m,\u001b[0m \u001b[0mhidden_states\u001b[0m\u001b[0;34m:\u001b[0m \u001b[0mtorch\u001b[0m\u001b[0;34m.\u001b[0m\u001b[0mTensor\u001b[0m\u001b[0;34m,\u001b[0m \u001b[0minput_tensor\u001b[0m\u001b[0;34m:\u001b[0m \u001b[0mtorch\u001b[0m\u001b[0;34m.\u001b[0m\u001b[0mTensor\u001b[0m\u001b[0;34m)\u001b[0m \u001b[0;34m->\u001b[0m \u001b[0mtorch\u001b[0m\u001b[0;34m.\u001b[0m\u001b[0mTensor\u001b[0m\u001b[0;34m:\u001b[0m\u001b[0;34m\u001b[0m\u001b[0;34m\u001b[0m\u001b[0m\n\u001b[0;32m--> 547\u001b[0;31m         \u001b[0mhidden_states\u001b[0m \u001b[0;34m=\u001b[0m \u001b[0mself\u001b[0m\u001b[0;34m.\u001b[0m\u001b[0mdense\u001b[0m\u001b[0;34m(\u001b[0m\u001b[0mhidden_states\u001b[0m\u001b[0;34m)\u001b[0m\u001b[0;34m\u001b[0m\u001b[0;34m\u001b[0m\u001b[0m\n\u001b[0m\u001b[1;32m    548\u001b[0m         \u001b[0mhidden_states\u001b[0m \u001b[0;34m=\u001b[0m \u001b[0mself\u001b[0m\u001b[0;34m.\u001b[0m\u001b[0mdropout\u001b[0m\u001b[0;34m(\u001b[0m\u001b[0mhidden_states\u001b[0m\u001b[0;34m)\u001b[0m\u001b[0;34m\u001b[0m\u001b[0;34m\u001b[0m\u001b[0m\n\u001b[1;32m    549\u001b[0m         \u001b[0mhidden_states\u001b[0m \u001b[0;34m=\u001b[0m \u001b[0mself\u001b[0m\u001b[0;34m.\u001b[0m\u001b[0mLayerNorm\u001b[0m\u001b[0;34m(\u001b[0m\u001b[0mhidden_states\u001b[0m \u001b[0;34m+\u001b[0m \u001b[0minput_tensor\u001b[0m\u001b[0;34m)\u001b[0m\u001b[0;34m\u001b[0m\u001b[0;34m\u001b[0m\u001b[0m\n",
            "\u001b[0;32m/usr/local/lib/python3.10/dist-packages/torch/nn/modules/module.py\u001b[0m in \u001b[0;36m_wrapped_call_impl\u001b[0;34m(self, *args, **kwargs)\u001b[0m\n\u001b[1;32m   1530\u001b[0m             \u001b[0;32mreturn\u001b[0m \u001b[0mself\u001b[0m\u001b[0;34m.\u001b[0m\u001b[0m_compiled_call_impl\u001b[0m\u001b[0;34m(\u001b[0m\u001b[0;34m*\u001b[0m\u001b[0margs\u001b[0m\u001b[0;34m,\u001b[0m \u001b[0;34m**\u001b[0m\u001b[0mkwargs\u001b[0m\u001b[0;34m)\u001b[0m  \u001b[0;31m# type: ignore[misc]\u001b[0m\u001b[0;34m\u001b[0m\u001b[0;34m\u001b[0m\u001b[0m\n\u001b[1;32m   1531\u001b[0m         \u001b[0;32melse\u001b[0m\u001b[0;34m:\u001b[0m\u001b[0;34m\u001b[0m\u001b[0;34m\u001b[0m\u001b[0m\n\u001b[0;32m-> 1532\u001b[0;31m             \u001b[0;32mreturn\u001b[0m \u001b[0mself\u001b[0m\u001b[0;34m.\u001b[0m\u001b[0m_call_impl\u001b[0m\u001b[0;34m(\u001b[0m\u001b[0;34m*\u001b[0m\u001b[0margs\u001b[0m\u001b[0;34m,\u001b[0m \u001b[0;34m**\u001b[0m\u001b[0mkwargs\u001b[0m\u001b[0;34m)\u001b[0m\u001b[0;34m\u001b[0m\u001b[0;34m\u001b[0m\u001b[0m\n\u001b[0m\u001b[1;32m   1533\u001b[0m \u001b[0;34m\u001b[0m\u001b[0m\n\u001b[1;32m   1534\u001b[0m     \u001b[0;32mdef\u001b[0m \u001b[0m_call_impl\u001b[0m\u001b[0;34m(\u001b[0m\u001b[0mself\u001b[0m\u001b[0;34m,\u001b[0m \u001b[0;34m*\u001b[0m\u001b[0margs\u001b[0m\u001b[0;34m,\u001b[0m \u001b[0;34m**\u001b[0m\u001b[0mkwargs\u001b[0m\u001b[0;34m)\u001b[0m\u001b[0;34m:\u001b[0m\u001b[0;34m\u001b[0m\u001b[0;34m\u001b[0m\u001b[0m\n",
            "\u001b[0;32m/usr/local/lib/python3.10/dist-packages/torch/nn/modules/module.py\u001b[0m in \u001b[0;36m_call_impl\u001b[0;34m(self, *args, **kwargs)\u001b[0m\n\u001b[1;32m   1539\u001b[0m                 \u001b[0;32mor\u001b[0m \u001b[0m_global_backward_pre_hooks\u001b[0m \u001b[0;32mor\u001b[0m \u001b[0m_global_backward_hooks\u001b[0m\u001b[0;34m\u001b[0m\u001b[0;34m\u001b[0m\u001b[0m\n\u001b[1;32m   1540\u001b[0m                 or _global_forward_hooks or _global_forward_pre_hooks):\n\u001b[0;32m-> 1541\u001b[0;31m             \u001b[0;32mreturn\u001b[0m \u001b[0mforward_call\u001b[0m\u001b[0;34m(\u001b[0m\u001b[0;34m*\u001b[0m\u001b[0margs\u001b[0m\u001b[0;34m,\u001b[0m \u001b[0;34m**\u001b[0m\u001b[0mkwargs\u001b[0m\u001b[0;34m)\u001b[0m\u001b[0;34m\u001b[0m\u001b[0;34m\u001b[0m\u001b[0m\n\u001b[0m\u001b[1;32m   1542\u001b[0m \u001b[0;34m\u001b[0m\u001b[0m\n\u001b[1;32m   1543\u001b[0m         \u001b[0;32mtry\u001b[0m\u001b[0;34m:\u001b[0m\u001b[0;34m\u001b[0m\u001b[0;34m\u001b[0m\u001b[0m\n",
            "\u001b[0;32m/usr/local/lib/python3.10/dist-packages/torch/nn/modules/linear.py\u001b[0m in \u001b[0;36mforward\u001b[0;34m(self, input)\u001b[0m\n\u001b[1;32m    114\u001b[0m \u001b[0;34m\u001b[0m\u001b[0m\n\u001b[1;32m    115\u001b[0m     \u001b[0;32mdef\u001b[0m \u001b[0mforward\u001b[0m\u001b[0;34m(\u001b[0m\u001b[0mself\u001b[0m\u001b[0;34m,\u001b[0m \u001b[0minput\u001b[0m\u001b[0;34m:\u001b[0m \u001b[0mTensor\u001b[0m\u001b[0;34m)\u001b[0m \u001b[0;34m->\u001b[0m \u001b[0mTensor\u001b[0m\u001b[0;34m:\u001b[0m\u001b[0;34m\u001b[0m\u001b[0;34m\u001b[0m\u001b[0m\n\u001b[0;32m--> 116\u001b[0;31m         \u001b[0;32mreturn\u001b[0m \u001b[0mF\u001b[0m\u001b[0;34m.\u001b[0m\u001b[0mlinear\u001b[0m\u001b[0;34m(\u001b[0m\u001b[0minput\u001b[0m\u001b[0;34m,\u001b[0m \u001b[0mself\u001b[0m\u001b[0;34m.\u001b[0m\u001b[0mweight\u001b[0m\u001b[0;34m,\u001b[0m \u001b[0mself\u001b[0m\u001b[0;34m.\u001b[0m\u001b[0mbias\u001b[0m\u001b[0;34m)\u001b[0m\u001b[0;34m\u001b[0m\u001b[0;34m\u001b[0m\u001b[0m\n\u001b[0m\u001b[1;32m    117\u001b[0m \u001b[0;34m\u001b[0m\u001b[0m\n\u001b[1;32m    118\u001b[0m     \u001b[0;32mdef\u001b[0m \u001b[0mextra_repr\u001b[0m\u001b[0;34m(\u001b[0m\u001b[0mself\u001b[0m\u001b[0;34m)\u001b[0m \u001b[0;34m->\u001b[0m \u001b[0mstr\u001b[0m\u001b[0;34m:\u001b[0m\u001b[0;34m\u001b[0m\u001b[0;34m\u001b[0m\u001b[0m\n",
            "\u001b[0;31mKeyboardInterrupt\u001b[0m: "
          ]
        }
      ]
    },
    {
      "cell_type": "code",
      "source": [],
      "metadata": {
        "id": "wX-Y3SvzqR4p"
      },
      "execution_count": null,
      "outputs": []
    }
  ],
  "metadata": {
    "colab": {
      "provenance": [],
      "machine_shape": "hm"
    },
    "kernelspec": {
      "display_name": "Python 3",
      "name": "python3"
    },
    "language_info": {
      "name": "python"
    },
    "widgets": {
      "application/vnd.jupyter.widget-state+json": {
        "cf6d4ba03773405bb025bddb66698fc5": {
          "model_module": "@jupyter-widgets/controls",
          "model_name": "TextModel",
          "model_module_version": "1.5.0",
          "state": {
            "_dom_classes": [],
            "_model_module": "@jupyter-widgets/controls",
            "_model_module_version": "1.5.0",
            "_model_name": "TextModel",
            "_view_count": null,
            "_view_module": "@jupyter-widgets/controls",
            "_view_module_version": "1.5.0",
            "_view_name": "TextView",
            "continuous_update": true,
            "description": "Dataset Path:",
            "description_tooltip": null,
            "disabled": false,
            "layout": "IPY_MODEL_5f1a9835057546c488f594388ffd3380",
            "placeholder": "Enter dataset path",
            "style": "IPY_MODEL_3bf176331b7c4b4cb8bbbeaaa850a92e",
            "value": "/content/drive/MyDrive/TDM/"
          }
        },
        "5f1a9835057546c488f594388ffd3380": {
          "model_module": "@jupyter-widgets/base",
          "model_name": "LayoutModel",
          "model_module_version": "1.2.0",
          "state": {
            "_model_module": "@jupyter-widgets/base",
            "_model_module_version": "1.2.0",
            "_model_name": "LayoutModel",
            "_view_count": null,
            "_view_module": "@jupyter-widgets/base",
            "_view_module_version": "1.2.0",
            "_view_name": "LayoutView",
            "align_content": null,
            "align_items": null,
            "align_self": null,
            "border": null,
            "bottom": null,
            "display": null,
            "flex": null,
            "flex_flow": null,
            "grid_area": null,
            "grid_auto_columns": null,
            "grid_auto_flow": null,
            "grid_auto_rows": null,
            "grid_column": null,
            "grid_gap": null,
            "grid_row": null,
            "grid_template_areas": null,
            "grid_template_columns": null,
            "grid_template_rows": null,
            "height": null,
            "justify_content": null,
            "justify_items": null,
            "left": null,
            "margin": null,
            "max_height": null,
            "max_width": null,
            "min_height": null,
            "min_width": null,
            "object_fit": null,
            "object_position": null,
            "order": null,
            "overflow": null,
            "overflow_x": null,
            "overflow_y": null,
            "padding": null,
            "right": null,
            "top": null,
            "visibility": null,
            "width": null
          }
        },
        "3bf176331b7c4b4cb8bbbeaaa850a92e": {
          "model_module": "@jupyter-widgets/controls",
          "model_name": "DescriptionStyleModel",
          "model_module_version": "1.5.0",
          "state": {
            "_model_module": "@jupyter-widgets/controls",
            "_model_module_version": "1.5.0",
            "_model_name": "DescriptionStyleModel",
            "_view_count": null,
            "_view_module": "@jupyter-widgets/base",
            "_view_module_version": "1.2.0",
            "_view_name": "StyleView",
            "description_width": ""
          }
        },
        "e08ec931d5ff48479834af18dcee8ead": {
          "model_module": "@jupyter-widgets/controls",
          "model_name": "SelectMultipleModel",
          "model_module_version": "1.5.0",
          "state": {
            "_dom_classes": [],
            "_model_module": "@jupyter-widgets/controls",
            "_model_module_version": "1.5.0",
            "_model_name": "SelectMultipleModel",
            "_options_labels": [
              "IG",
              "SR",
              "RC"
            ],
            "_view_count": null,
            "_view_module": "@jupyter-widgets/controls",
            "_view_module_version": "1.5.0",
            "_view_name": "SelectMultipleView",
            "description": "Proposal Types:",
            "description_tooltip": null,
            "disabled": false,
            "index": [
              0,
              1,
              2
            ],
            "layout": "IPY_MODEL_7a389ec125cb40a09900e3a500195a53",
            "rows": 5,
            "style": "IPY_MODEL_be83152045d7441db48bfcb84a5a1305"
          }
        },
        "7a389ec125cb40a09900e3a500195a53": {
          "model_module": "@jupyter-widgets/base",
          "model_name": "LayoutModel",
          "model_module_version": "1.2.0",
          "state": {
            "_model_module": "@jupyter-widgets/base",
            "_model_module_version": "1.2.0",
            "_model_name": "LayoutModel",
            "_view_count": null,
            "_view_module": "@jupyter-widgets/base",
            "_view_module_version": "1.2.0",
            "_view_name": "LayoutView",
            "align_content": null,
            "align_items": null,
            "align_self": null,
            "border": null,
            "bottom": null,
            "display": null,
            "flex": null,
            "flex_flow": null,
            "grid_area": null,
            "grid_auto_columns": null,
            "grid_auto_flow": null,
            "grid_auto_rows": null,
            "grid_column": null,
            "grid_gap": null,
            "grid_row": null,
            "grid_template_areas": null,
            "grid_template_columns": null,
            "grid_template_rows": null,
            "height": null,
            "justify_content": null,
            "justify_items": null,
            "left": null,
            "margin": null,
            "max_height": null,
            "max_width": null,
            "min_height": null,
            "min_width": null,
            "object_fit": null,
            "object_position": null,
            "order": null,
            "overflow": null,
            "overflow_x": null,
            "overflow_y": null,
            "padding": null,
            "right": null,
            "top": null,
            "visibility": null,
            "width": null
          }
        },
        "be83152045d7441db48bfcb84a5a1305": {
          "model_module": "@jupyter-widgets/controls",
          "model_name": "DescriptionStyleModel",
          "model_module_version": "1.5.0",
          "state": {
            "_model_module": "@jupyter-widgets/controls",
            "_model_module_version": "1.5.0",
            "_model_name": "DescriptionStyleModel",
            "_view_count": null,
            "_view_module": "@jupyter-widgets/base",
            "_view_module_version": "1.2.0",
            "_view_name": "StyleView",
            "description_width": ""
          }
        },
        "1dead673ee5a43ea8758c2b23ad71d6c": {
          "model_module": "@jupyter-widgets/controls",
          "model_name": "ButtonModel",
          "model_module_version": "1.5.0",
          "state": {
            "_dom_classes": [],
            "_model_module": "@jupyter-widgets/controls",
            "_model_module_version": "1.5.0",
            "_model_name": "ButtonModel",
            "_view_count": null,
            "_view_module": "@jupyter-widgets/controls",
            "_view_module_version": "1.5.0",
            "_view_name": "ButtonView",
            "button_style": "",
            "description": "Load Data",
            "disabled": false,
            "icon": "",
            "layout": "IPY_MODEL_5bd38e23fba5476094a096b3fa47d223",
            "style": "IPY_MODEL_493548b9b71c4159bec349aca05137bc",
            "tooltip": ""
          }
        },
        "5bd38e23fba5476094a096b3fa47d223": {
          "model_module": "@jupyter-widgets/base",
          "model_name": "LayoutModel",
          "model_module_version": "1.2.0",
          "state": {
            "_model_module": "@jupyter-widgets/base",
            "_model_module_version": "1.2.0",
            "_model_name": "LayoutModel",
            "_view_count": null,
            "_view_module": "@jupyter-widgets/base",
            "_view_module_version": "1.2.0",
            "_view_name": "LayoutView",
            "align_content": null,
            "align_items": null,
            "align_self": null,
            "border": null,
            "bottom": null,
            "display": null,
            "flex": null,
            "flex_flow": null,
            "grid_area": null,
            "grid_auto_columns": null,
            "grid_auto_flow": null,
            "grid_auto_rows": null,
            "grid_column": null,
            "grid_gap": null,
            "grid_row": null,
            "grid_template_areas": null,
            "grid_template_columns": null,
            "grid_template_rows": null,
            "height": null,
            "justify_content": null,
            "justify_items": null,
            "left": null,
            "margin": null,
            "max_height": null,
            "max_width": null,
            "min_height": null,
            "min_width": null,
            "object_fit": null,
            "object_position": null,
            "order": null,
            "overflow": null,
            "overflow_x": null,
            "overflow_y": null,
            "padding": null,
            "right": null,
            "top": null,
            "visibility": null,
            "width": null
          }
        },
        "493548b9b71c4159bec349aca05137bc": {
          "model_module": "@jupyter-widgets/controls",
          "model_name": "ButtonStyleModel",
          "model_module_version": "1.5.0",
          "state": {
            "_model_module": "@jupyter-widgets/controls",
            "_model_module_version": "1.5.0",
            "_model_name": "ButtonStyleModel",
            "_view_count": null,
            "_view_module": "@jupyter-widgets/base",
            "_view_module_version": "1.2.0",
            "_view_name": "StyleView",
            "button_color": null,
            "font_weight": ""
          }
        },
        "40f38945e6a143db9ada614cd849d624": {
          "model_module": "@jupyter-widgets/output",
          "model_name": "OutputModel",
          "model_module_version": "1.0.0",
          "state": {
            "_dom_classes": [],
            "_model_module": "@jupyter-widgets/output",
            "_model_module_version": "1.0.0",
            "_model_name": "OutputModel",
            "_view_count": null,
            "_view_module": "@jupyter-widgets/output",
            "_view_module_version": "1.0.0",
            "_view_name": "OutputView",
            "layout": "IPY_MODEL_7b088a72c26b4226b030aba75d557522",
            "msg_id": "",
            "outputs": [
              {
                "output_type": "stream",
                "name": "stdout",
                "text": [
                  "Loaded 573 texts and 573 labels for IG\n"
                ]
              },
              {
                "output_type": "stream",
                "name": "stdout",
                "text": [
                  "Loaded 128 texts and 128 labels for SR\n"
                ]
              },
              {
                "output_type": "stream",
                "name": "stdout",
                "text": [
                  "Loaded 263 texts and 263 labels for RC\n"
                ]
              }
            ]
          }
        },
        "7b088a72c26b4226b030aba75d557522": {
          "model_module": "@jupyter-widgets/base",
          "model_name": "LayoutModel",
          "model_module_version": "1.2.0",
          "state": {
            "_model_module": "@jupyter-widgets/base",
            "_model_module_version": "1.2.0",
            "_model_name": "LayoutModel",
            "_view_count": null,
            "_view_module": "@jupyter-widgets/base",
            "_view_module_version": "1.2.0",
            "_view_name": "LayoutView",
            "align_content": null,
            "align_items": null,
            "align_self": null,
            "border": null,
            "bottom": null,
            "display": null,
            "flex": null,
            "flex_flow": null,
            "grid_area": null,
            "grid_auto_columns": null,
            "grid_auto_flow": null,
            "grid_auto_rows": null,
            "grid_column": null,
            "grid_gap": null,
            "grid_row": null,
            "grid_template_areas": null,
            "grid_template_columns": null,
            "grid_template_rows": null,
            "height": null,
            "justify_content": null,
            "justify_items": null,
            "left": null,
            "margin": null,
            "max_height": null,
            "max_width": null,
            "min_height": null,
            "min_width": null,
            "object_fit": null,
            "object_position": null,
            "order": null,
            "overflow": null,
            "overflow_x": null,
            "overflow_y": null,
            "padding": null,
            "right": null,
            "top": null,
            "visibility": null,
            "width": null
          }
        },
        "9279956ed6d64202b1ff42eaaa1c8c71": {
          "model_module": "@jupyter-widgets/controls",
          "model_name": "FloatSliderModel",
          "model_module_version": "1.5.0",
          "state": {
            "_dom_classes": [],
            "_model_module": "@jupyter-widgets/controls",
            "_model_module_version": "1.5.0",
            "_model_name": "FloatSliderModel",
            "_view_count": null,
            "_view_module": "@jupyter-widgets/controls",
            "_view_module_version": "1.5.0",
            "_view_name": "FloatSliderView",
            "continuous_update": false,
            "description": "Test Size:",
            "description_tooltip": null,
            "disabled": false,
            "layout": "IPY_MODEL_553e9301ffd04f72b1f19941fba69193",
            "max": 0.9,
            "min": 0.1,
            "orientation": "horizontal",
            "readout": true,
            "readout_format": ".2f",
            "step": 0.05,
            "style": "IPY_MODEL_d46a28c183a0439995ee05bf71097123",
            "value": 0.35
          }
        },
        "553e9301ffd04f72b1f19941fba69193": {
          "model_module": "@jupyter-widgets/base",
          "model_name": "LayoutModel",
          "model_module_version": "1.2.0",
          "state": {
            "_model_module": "@jupyter-widgets/base",
            "_model_module_version": "1.2.0",
            "_model_name": "LayoutModel",
            "_view_count": null,
            "_view_module": "@jupyter-widgets/base",
            "_view_module_version": "1.2.0",
            "_view_name": "LayoutView",
            "align_content": null,
            "align_items": null,
            "align_self": null,
            "border": null,
            "bottom": null,
            "display": null,
            "flex": null,
            "flex_flow": null,
            "grid_area": null,
            "grid_auto_columns": null,
            "grid_auto_flow": null,
            "grid_auto_rows": null,
            "grid_column": null,
            "grid_gap": null,
            "grid_row": null,
            "grid_template_areas": null,
            "grid_template_columns": null,
            "grid_template_rows": null,
            "height": null,
            "justify_content": null,
            "justify_items": null,
            "left": null,
            "margin": null,
            "max_height": null,
            "max_width": null,
            "min_height": null,
            "min_width": null,
            "object_fit": null,
            "object_position": null,
            "order": null,
            "overflow": null,
            "overflow_x": null,
            "overflow_y": null,
            "padding": null,
            "right": null,
            "top": null,
            "visibility": null,
            "width": null
          }
        },
        "d46a28c183a0439995ee05bf71097123": {
          "model_module": "@jupyter-widgets/controls",
          "model_name": "SliderStyleModel",
          "model_module_version": "1.5.0",
          "state": {
            "_model_module": "@jupyter-widgets/controls",
            "_model_module_version": "1.5.0",
            "_model_name": "SliderStyleModel",
            "_view_count": null,
            "_view_module": "@jupyter-widgets/base",
            "_view_module_version": "1.2.0",
            "_view_name": "StyleView",
            "description_width": "",
            "handle_color": null
          }
        },
        "f9241de216b6400bab43f3956a27f587": {
          "model_module": "@jupyter-widgets/controls",
          "model_name": "ButtonModel",
          "model_module_version": "1.5.0",
          "state": {
            "_dom_classes": [],
            "_model_module": "@jupyter-widgets/controls",
            "_model_module_version": "1.5.0",
            "_model_name": "ButtonModel",
            "_view_count": null,
            "_view_module": "@jupyter-widgets/controls",
            "_view_module_version": "1.5.0",
            "_view_name": "ButtonView",
            "button_style": "",
            "description": "Split Data",
            "disabled": false,
            "icon": "",
            "layout": "IPY_MODEL_45f27eddffa7485bb6b7afc1aabc4d84",
            "style": "IPY_MODEL_27330a24fdc34a76aa3c634dff1659ae",
            "tooltip": ""
          }
        },
        "45f27eddffa7485bb6b7afc1aabc4d84": {
          "model_module": "@jupyter-widgets/base",
          "model_name": "LayoutModel",
          "model_module_version": "1.2.0",
          "state": {
            "_model_module": "@jupyter-widgets/base",
            "_model_module_version": "1.2.0",
            "_model_name": "LayoutModel",
            "_view_count": null,
            "_view_module": "@jupyter-widgets/base",
            "_view_module_version": "1.2.0",
            "_view_name": "LayoutView",
            "align_content": null,
            "align_items": null,
            "align_self": null,
            "border": null,
            "bottom": null,
            "display": null,
            "flex": null,
            "flex_flow": null,
            "grid_area": null,
            "grid_auto_columns": null,
            "grid_auto_flow": null,
            "grid_auto_rows": null,
            "grid_column": null,
            "grid_gap": null,
            "grid_row": null,
            "grid_template_areas": null,
            "grid_template_columns": null,
            "grid_template_rows": null,
            "height": null,
            "justify_content": null,
            "justify_items": null,
            "left": null,
            "margin": null,
            "max_height": null,
            "max_width": null,
            "min_height": null,
            "min_width": null,
            "object_fit": null,
            "object_position": null,
            "order": null,
            "overflow": null,
            "overflow_x": null,
            "overflow_y": null,
            "padding": null,
            "right": null,
            "top": null,
            "visibility": null,
            "width": null
          }
        },
        "27330a24fdc34a76aa3c634dff1659ae": {
          "model_module": "@jupyter-widgets/controls",
          "model_name": "ButtonStyleModel",
          "model_module_version": "1.5.0",
          "state": {
            "_model_module": "@jupyter-widgets/controls",
            "_model_module_version": "1.5.0",
            "_model_name": "ButtonStyleModel",
            "_view_count": null,
            "_view_module": "@jupyter-widgets/base",
            "_view_module_version": "1.2.0",
            "_view_name": "StyleView",
            "button_color": null,
            "font_weight": ""
          }
        },
        "bc689b58032e4ed78a29f4a5780bb345": {
          "model_module": "@jupyter-widgets/output",
          "model_name": "OutputModel",
          "model_module_version": "1.0.0",
          "state": {
            "_dom_classes": [],
            "_model_module": "@jupyter-widgets/output",
            "_model_module_version": "1.0.0",
            "_model_name": "OutputModel",
            "_view_count": null,
            "_view_module": "@jupyter-widgets/output",
            "_view_module_version": "1.0.0",
            "_view_name": "OutputView",
            "layout": "IPY_MODEL_8bbaca3c24c04dbd8068611548379653",
            "msg_id": "",
            "outputs": [
              {
                "output_type": "stream",
                "name": "stdout",
                "text": [
                  "Training set size: 626\n",
                  "Testing set size: 338\n"
                ]
              }
            ]
          }
        },
        "8bbaca3c24c04dbd8068611548379653": {
          "model_module": "@jupyter-widgets/base",
          "model_name": "LayoutModel",
          "model_module_version": "1.2.0",
          "state": {
            "_model_module": "@jupyter-widgets/base",
            "_model_module_version": "1.2.0",
            "_model_name": "LayoutModel",
            "_view_count": null,
            "_view_module": "@jupyter-widgets/base",
            "_view_module_version": "1.2.0",
            "_view_name": "LayoutView",
            "align_content": null,
            "align_items": null,
            "align_self": null,
            "border": null,
            "bottom": null,
            "display": null,
            "flex": null,
            "flex_flow": null,
            "grid_area": null,
            "grid_auto_columns": null,
            "grid_auto_flow": null,
            "grid_auto_rows": null,
            "grid_column": null,
            "grid_gap": null,
            "grid_row": null,
            "grid_template_areas": null,
            "grid_template_columns": null,
            "grid_template_rows": null,
            "height": null,
            "justify_content": null,
            "justify_items": null,
            "left": null,
            "margin": null,
            "max_height": null,
            "max_width": null,
            "min_height": null,
            "min_width": null,
            "object_fit": null,
            "object_position": null,
            "order": null,
            "overflow": null,
            "overflow_x": null,
            "overflow_y": null,
            "padding": null,
            "right": null,
            "top": null,
            "visibility": null,
            "width": null
          }
        },
        "d15d4b1bb5d04656b104190a7d27a032": {
          "model_module": "@jupyter-widgets/controls",
          "model_name": "IntSliderModel",
          "model_module_version": "1.5.0",
          "state": {
            "_dom_classes": [],
            "_model_module": "@jupyter-widgets/controls",
            "_model_module_version": "1.5.0",
            "_model_name": "IntSliderModel",
            "_view_count": null,
            "_view_module": "@jupyter-widgets/controls",
            "_view_module_version": "1.5.0",
            "_view_name": "IntSliderView",
            "continuous_update": false,
            "description": "Num Rows:",
            "description_tooltip": null,
            "disabled": false,
            "layout": "IPY_MODEL_983b816ecfeb4418bc39f756503cff87",
            "max": 50,
            "min": 1,
            "orientation": "horizontal",
            "readout": true,
            "readout_format": "d",
            "step": 1,
            "style": "IPY_MODEL_2f98fe57e1e84207807a48f0cbddd717",
            "value": 6
          }
        },
        "983b816ecfeb4418bc39f756503cff87": {
          "model_module": "@jupyter-widgets/base",
          "model_name": "LayoutModel",
          "model_module_version": "1.2.0",
          "state": {
            "_model_module": "@jupyter-widgets/base",
            "_model_module_version": "1.2.0",
            "_model_name": "LayoutModel",
            "_view_count": null,
            "_view_module": "@jupyter-widgets/base",
            "_view_module_version": "1.2.0",
            "_view_name": "LayoutView",
            "align_content": null,
            "align_items": null,
            "align_self": null,
            "border": null,
            "bottom": null,
            "display": null,
            "flex": null,
            "flex_flow": null,
            "grid_area": null,
            "grid_auto_columns": null,
            "grid_auto_flow": null,
            "grid_auto_rows": null,
            "grid_column": null,
            "grid_gap": null,
            "grid_row": null,
            "grid_template_areas": null,
            "grid_template_columns": null,
            "grid_template_rows": null,
            "height": null,
            "justify_content": null,
            "justify_items": null,
            "left": null,
            "margin": null,
            "max_height": null,
            "max_width": null,
            "min_height": null,
            "min_width": null,
            "object_fit": null,
            "object_position": null,
            "order": null,
            "overflow": null,
            "overflow_x": null,
            "overflow_y": null,
            "padding": null,
            "right": null,
            "top": null,
            "visibility": null,
            "width": null
          }
        },
        "2f98fe57e1e84207807a48f0cbddd717": {
          "model_module": "@jupyter-widgets/controls",
          "model_name": "SliderStyleModel",
          "model_module_version": "1.5.0",
          "state": {
            "_model_module": "@jupyter-widgets/controls",
            "_model_module_version": "1.5.0",
            "_model_name": "SliderStyleModel",
            "_view_count": null,
            "_view_module": "@jupyter-widgets/base",
            "_view_module_version": "1.2.0",
            "_view_name": "StyleView",
            "description_width": "",
            "handle_color": null
          }
        },
        "5c83bd48d59242ae86f48c74bd3a544b": {
          "model_module": "@jupyter-widgets/controls",
          "model_name": "ButtonModel",
          "model_module_version": "1.5.0",
          "state": {
            "_dom_classes": [],
            "_model_module": "@jupyter-widgets/controls",
            "_model_module_version": "1.5.0",
            "_model_name": "ButtonModel",
            "_view_count": null,
            "_view_module": "@jupyter-widgets/controls",
            "_view_module_version": "1.5.0",
            "_view_name": "ButtonView",
            "button_style": "",
            "description": "Predict and Create Table",
            "disabled": false,
            "icon": "",
            "layout": "IPY_MODEL_f79cb9bf84d5412baa72578794f15377",
            "style": "IPY_MODEL_9890c8cc3e514f2589b73333f1dd2f28",
            "tooltip": ""
          }
        },
        "f79cb9bf84d5412baa72578794f15377": {
          "model_module": "@jupyter-widgets/base",
          "model_name": "LayoutModel",
          "model_module_version": "1.2.0",
          "state": {
            "_model_module": "@jupyter-widgets/base",
            "_model_module_version": "1.2.0",
            "_model_name": "LayoutModel",
            "_view_count": null,
            "_view_module": "@jupyter-widgets/base",
            "_view_module_version": "1.2.0",
            "_view_name": "LayoutView",
            "align_content": null,
            "align_items": null,
            "align_self": null,
            "border": null,
            "bottom": null,
            "display": null,
            "flex": null,
            "flex_flow": null,
            "grid_area": null,
            "grid_auto_columns": null,
            "grid_auto_flow": null,
            "grid_auto_rows": null,
            "grid_column": null,
            "grid_gap": null,
            "grid_row": null,
            "grid_template_areas": null,
            "grid_template_columns": null,
            "grid_template_rows": null,
            "height": null,
            "justify_content": null,
            "justify_items": null,
            "left": null,
            "margin": null,
            "max_height": null,
            "max_width": null,
            "min_height": null,
            "min_width": null,
            "object_fit": null,
            "object_position": null,
            "order": null,
            "overflow": null,
            "overflow_x": null,
            "overflow_y": null,
            "padding": null,
            "right": null,
            "top": null,
            "visibility": null,
            "width": null
          }
        },
        "9890c8cc3e514f2589b73333f1dd2f28": {
          "model_module": "@jupyter-widgets/controls",
          "model_name": "ButtonStyleModel",
          "model_module_version": "1.5.0",
          "state": {
            "_model_module": "@jupyter-widgets/controls",
            "_model_module_version": "1.5.0",
            "_model_name": "ButtonStyleModel",
            "_view_count": null,
            "_view_module": "@jupyter-widgets/base",
            "_view_module_version": "1.2.0",
            "_view_name": "StyleView",
            "button_color": null,
            "font_weight": ""
          }
        },
        "42cde5794cba4b98b768ae339b22f9d4": {
          "model_module": "@jupyter-widgets/output",
          "model_name": "OutputModel",
          "model_module_version": "1.0.0",
          "state": {
            "_dom_classes": [],
            "_model_module": "@jupyter-widgets/output",
            "_model_module_version": "1.0.0",
            "_model_name": "OutputModel",
            "_view_count": null,
            "_view_module": "@jupyter-widgets/output",
            "_view_module_version": "1.0.0",
            "_view_name": "OutputView",
            "layout": "IPY_MODEL_d7a90cb09bea4954973c94892d94a9bc",
            "msg_id": "",
            "outputs": [
              {
                "output_type": "stream",
                "name": "stdout",
                "text": [
                  "Table of proposals with their actual and predicted classes:\n"
                ]
              },
              {
                "output_type": "display_data",
                "data": {
                  "text/plain": "                                            Proposal  Actual Class  \\\n0  sultan qaboos university compiled pdf research...             1   \n1  sultan qaboos university compiled pdf research...             0   \n2  page 1 of 14 f1 sultan qaboos university resea...             0   \n3  development of geochemical reference materials...             0   \n4  sultan qaboos university compiled pdf research...             1   \n5  innovation culture of smes in oman: current pr...             0   \n\n   Predicted Class  \n0                1  \n1                0  \n2                1  \n3                0  \n4                1  \n5                0  ",
                  "text/html": "\n  <div id=\"df-2af53660-5eb2-4574-80dc-9dc6d1da3b77\" class=\"colab-df-container\">\n    <div>\n<style scoped>\n    .dataframe tbody tr th:only-of-type {\n        vertical-align: middle;\n    }\n\n    .dataframe tbody tr th {\n        vertical-align: top;\n    }\n\n    .dataframe thead th {\n        text-align: right;\n    }\n</style>\n<table border=\"1\" class=\"dataframe\">\n  <thead>\n    <tr style=\"text-align: right;\">\n      <th></th>\n      <th>Proposal</th>\n      <th>Actual Class</th>\n      <th>Predicted Class</th>\n    </tr>\n  </thead>\n  <tbody>\n    <tr>\n      <th>0</th>\n      <td>sultan qaboos university compiled pdf research...</td>\n      <td>1</td>\n      <td>1</td>\n    </tr>\n    <tr>\n      <th>1</th>\n      <td>sultan qaboos university compiled pdf research...</td>\n      <td>0</td>\n      <td>0</td>\n    </tr>\n    <tr>\n      <th>2</th>\n      <td>page 1 of 14 f1 sultan qaboos university resea...</td>\n      <td>0</td>\n      <td>1</td>\n    </tr>\n    <tr>\n      <th>3</th>\n      <td>development of geochemical reference materials...</td>\n      <td>0</td>\n      <td>0</td>\n    </tr>\n    <tr>\n      <th>4</th>\n      <td>sultan qaboos university compiled pdf research...</td>\n      <td>1</td>\n      <td>1</td>\n    </tr>\n    <tr>\n      <th>5</th>\n      <td>innovation culture of smes in oman: current pr...</td>\n      <td>0</td>\n      <td>0</td>\n    </tr>\n  </tbody>\n</table>\n</div>\n    <div class=\"colab-df-buttons\">\n\n  <div class=\"colab-df-container\">\n    <button class=\"colab-df-convert\" onclick=\"convertToInteractive('df-2af53660-5eb2-4574-80dc-9dc6d1da3b77')\"\n            title=\"Convert this dataframe to an interactive table.\"\n            style=\"display:none;\">\n\n  <svg xmlns=\"http://www.w3.org/2000/svg\" height=\"24px\" viewBox=\"0 -960 960 960\">\n    <path d=\"M120-120v-720h720v720H120Zm60-500h600v-160H180v160Zm220 220h160v-160H400v160Zm0 220h160v-160H400v160ZM180-400h160v-160H180v160Zm440 0h160v-160H620v160ZM180-180h160v-160H180v160Zm440 0h160v-160H620v160Z\"/>\n  </svg>\n    </button>\n\n  <style>\n    .colab-df-container {\n      display:flex;\n      gap: 12px;\n    }\n\n    .colab-df-convert {\n      background-color: #E8F0FE;\n      border: none;\n      border-radius: 50%;\n      cursor: pointer;\n      display: none;\n      fill: #1967D2;\n      height: 32px;\n      padding: 0 0 0 0;\n      width: 32px;\n    }\n\n    .colab-df-convert:hover {\n      background-color: #E2EBFA;\n      box-shadow: 0px 1px 2px rgba(60, 64, 67, 0.3), 0px 1px 3px 1px rgba(60, 64, 67, 0.15);\n      fill: #174EA6;\n    }\n\n    .colab-df-buttons div {\n      margin-bottom: 4px;\n    }\n\n    [theme=dark] .colab-df-convert {\n      background-color: #3B4455;\n      fill: #D2E3FC;\n    }\n\n    [theme=dark] .colab-df-convert:hover {\n      background-color: #434B5C;\n      box-shadow: 0px 1px 3px 1px rgba(0, 0, 0, 0.15);\n      filter: drop-shadow(0px 1px 2px rgba(0, 0, 0, 0.3));\n      fill: #FFFFFF;\n    }\n  </style>\n\n    <script>\n      const buttonEl =\n        document.querySelector('#df-2af53660-5eb2-4574-80dc-9dc6d1da3b77 button.colab-df-convert');\n      buttonEl.style.display =\n        google.colab.kernel.accessAllowed ? 'block' : 'none';\n\n      async function convertToInteractive(key) {\n        const element = document.querySelector('#df-2af53660-5eb2-4574-80dc-9dc6d1da3b77');\n        const dataTable =\n          await google.colab.kernel.invokeFunction('convertToInteractive',\n                                                    [key], {});\n        if (!dataTable) return;\n\n        const docLinkHtml = 'Like what you see? Visit the ' +\n          '<a target=\"_blank\" href=https://colab.research.google.com/notebooks/data_table.ipynb>data table notebook</a>'\n          + ' to learn more about interactive tables.';\n        element.innerHTML = '';\n        dataTable['output_type'] = 'display_data';\n        await google.colab.output.renderOutput(dataTable, element);\n        const docLink = document.createElement('div');\n        docLink.innerHTML = docLinkHtml;\n        element.appendChild(docLink);\n      }\n    </script>\n  </div>\n\n\n<div id=\"df-491a1056-3608-4179-93c8-dee931d5d67a\">\n  <button class=\"colab-df-quickchart\" onclick=\"quickchart('df-491a1056-3608-4179-93c8-dee931d5d67a')\"\n            title=\"Suggest charts\"\n            style=\"display:none;\">\n\n<svg xmlns=\"http://www.w3.org/2000/svg\" height=\"24px\"viewBox=\"0 0 24 24\"\n     width=\"24px\">\n    <g>\n        <path d=\"M19 3H5c-1.1 0-2 .9-2 2v14c0 1.1.9 2 2 2h14c1.1 0 2-.9 2-2V5c0-1.1-.9-2-2-2zM9 17H7v-7h2v7zm4 0h-2V7h2v10zm4 0h-2v-4h2v4z\"/>\n    </g>\n</svg>\n  </button>\n\n<style>\n  .colab-df-quickchart {\n      --bg-color: #E8F0FE;\n      --fill-color: #1967D2;\n      --hover-bg-color: #E2EBFA;\n      --hover-fill-color: #174EA6;\n      --disabled-fill-color: #AAA;\n      --disabled-bg-color: #DDD;\n  }\n\n  [theme=dark] .colab-df-quickchart {\n      --bg-color: #3B4455;\n      --fill-color: #D2E3FC;\n      --hover-bg-color: #434B5C;\n      --hover-fill-color: #FFFFFF;\n      --disabled-bg-color: #3B4455;\n      --disabled-fill-color: #666;\n  }\n\n  .colab-df-quickchart {\n    background-color: var(--bg-color);\n    border: none;\n    border-radius: 50%;\n    cursor: pointer;\n    display: none;\n    fill: var(--fill-color);\n    height: 32px;\n    padding: 0;\n    width: 32px;\n  }\n\n  .colab-df-quickchart:hover {\n    background-color: var(--hover-bg-color);\n    box-shadow: 0 1px 2px rgba(60, 64, 67, 0.3), 0 1px 3px 1px rgba(60, 64, 67, 0.15);\n    fill: var(--button-hover-fill-color);\n  }\n\n  .colab-df-quickchart-complete:disabled,\n  .colab-df-quickchart-complete:disabled:hover {\n    background-color: var(--disabled-bg-color);\n    fill: var(--disabled-fill-color);\n    box-shadow: none;\n  }\n\n  .colab-df-spinner {\n    border: 2px solid var(--fill-color);\n    border-color: transparent;\n    border-bottom-color: var(--fill-color);\n    animation:\n      spin 1s steps(1) infinite;\n  }\n\n  @keyframes spin {\n    0% {\n      border-color: transparent;\n      border-bottom-color: var(--fill-color);\n      border-left-color: var(--fill-color);\n    }\n    20% {\n      border-color: transparent;\n      border-left-color: var(--fill-color);\n      border-top-color: var(--fill-color);\n    }\n    30% {\n      border-color: transparent;\n      border-left-color: var(--fill-color);\n      border-top-color: var(--fill-color);\n      border-right-color: var(--fill-color);\n    }\n    40% {\n      border-color: transparent;\n      border-right-color: var(--fill-color);\n      border-top-color: var(--fill-color);\n    }\n    60% {\n      border-color: transparent;\n      border-right-color: var(--fill-color);\n    }\n    80% {\n      border-color: transparent;\n      border-right-color: var(--fill-color);\n      border-bottom-color: var(--fill-color);\n    }\n    90% {\n      border-color: transparent;\n      border-bottom-color: var(--fill-color);\n    }\n  }\n</style>\n\n  <script>\n    async function quickchart(key) {\n      const quickchartButtonEl =\n        document.querySelector('#' + key + ' button');\n      quickchartButtonEl.disabled = true;  // To prevent multiple clicks.\n      quickchartButtonEl.classList.add('colab-df-spinner');\n      try {\n        const charts = await google.colab.kernel.invokeFunction(\n            'suggestCharts', [key], {});\n      } catch (error) {\n        console.error('Error during call to suggestCharts:', error);\n      }\n      quickchartButtonEl.classList.remove('colab-df-spinner');\n      quickchartButtonEl.classList.add('colab-df-quickchart-complete');\n    }\n    (() => {\n      let quickchartButtonEl =\n        document.querySelector('#df-491a1056-3608-4179-93c8-dee931d5d67a button');\n      quickchartButtonEl.style.display =\n        google.colab.kernel.accessAllowed ? 'block' : 'none';\n    })();\n  </script>\n</div>\n\n    </div>\n  </div>\n",
                  "application/vnd.google.colaboratory.intrinsic+json": {
                    "type": "dataframe",
                    "summary": "{\n  \"name\": \"display(num_rows_slider, predict_button, output_predict)\",\n  \"rows\": 6,\n  \"fields\": [\n    {\n      \"column\": \"Proposal\",\n      \"properties\": {\n        \"dtype\": \"string\",\n        \"num_unique_values\": 6,\n        \"samples\": [\n          \"sultan qaboos university compiled pdf research management system https://squsys/squ.edu.om/rmsf1 form. research management system https://squsys/squ.edu.om/rms sultan qaboos universityf1 sultan qaboos university deanship of research research proposal principal investigator name alaa i. h. ibrahim squ id# 12651 e-mail aiibrahim@squ.edu.om department physics position associate professor telephone 2414-1452 mobile: 94702022 co-principal investigator family name: al-shidhani given names saleh said e-mail shidhani7@squ.edu.om department physics position assistant professor telephone 2315 co-investigators (other investigators contributing significantly to the proposal) name: dr. mohamed shokr name: eng. nashaat gad department: remote sensing, environment canada, canada department: aero-space engineering, cairo university, egypt name: name: department: department: grant requested (ro) total: 4550 year 1: 4550 year 2: 0 year 3: 0 short title investigation of the environmental impact of a space mission to mars key words space exploration, mars, environmental impact, remote sensing, particulate matter, albedo, dhofar themes (environmental and biological, energy and non-renewable resources, life and health sciences, humanities and social sciences, information and communication systems, fundamental, materials, educational, industry-related) fundamental, environmental summary human space missions to planet mars have entered the testing phase on mars-like environments on earth, with the most recent test/analog mission taking place in dhofar, oman in feb. 2018. while exploration missions aim to ensure minimal effect on the mars\\u2019 environment, a detailed investigation of the potential impacts is lacking. the proposed research will investigate the environmental impacts of a mission to mars in light of the recent analog mission in oman, utilizing satellite remote sensing and ground observations. the project outcomes will offer valuable insights to the development of further space exploration missions to mars. does the proposal need to be cleared by the university ethics-in -research committee? no signatures _________________ ___________________ _____________ principal investigator head of department dean outline of proposed research proposed research outline must include a literature review, long and short-term goals, protocol, practical significance of outcome, excusive plan and pertinent references. maximum of 3 pages of at least 10-point font, single spaced, times roman. introduction, rationale, and review because of its proximity to earth, possibility to have sustained life in the past, and suitability of its surface, atmosphere, and temperature that bear some similarity with earth, mars has been a priority target to space exploration programs. the top scientific pursuits include searching for signs of ancient forms of life, understanding how the planet had become inhabitable, and drawing parallels to the future of earth. mars has so far been explored with flyby missions, orbiting satellites, and robotic rovers on its surface [1,2]. in recent years, plans for human space missions entered the testing phase through analog or simulation missions that take place on earth in areas of close similarities to mars [3]. the most recent of such missions took place in oman in feb. 2018 (amadee18) in the dhofar region, which was described as the most mars-like surface on earth [4]. while the exploration programs aim to ensure minimal effect by the visiting mission and its activities on the mars\\u2019 environment, a detailed assessment of the potential impacts is lacking [5]. this proposal aims to investigate the environmental impact of a human mission to mars in light of the amadee18 analog mission. the utilization of equipment planned to be used in future mars exploration missions on the mars-like surface of dhofar offers an excellent opportunity to assess the impact of the mission activities to the environment and how this may in turn affect the mission itself, including the astronauts and their life support system. among the primary environmental parameters that are affected by ground exploration activities is the emission of dust or particulate matter (aerosols) from the surface and the change in the surface properties, such as its compactness and reflectivity (albedo). the similarities between the martian surface and dhofar desert calls careful assessment of the dust emission, especially as local dust storms were recently observed on mars [6] proposed work, long-, and short-term goals our project will utilize satellite remote sensing and ground-based observations to measure the levels of particulate matter and surface properties during the amadee18 mission in feb. 2018 and then compare them to the same period during the previous 10 years (2008-2018) as well as the upcoming 3 years (2019-2021) during the implementation of the project. the study of the past 10 years will allow us to establish a baseline of the measured properties while the upcoming 3 years will allow probing how the measured parameters will evolve in time. we will also compare the observed levels with those seen on mars [6]. we will utilize two types of remote sensing satellites: (1) atmospheric satellites that measures the parameters discussed below, and (2) land mapping satellites that probe the surface parameters. ground-based measurements will be performed to validate the results. squ-psr-1 methodology, protocols, and excusive plan we will use satellite data to map the spatial coverage of key particulate matter parameters over dhofar during the aforementioned period and to compare them to similar data obtained in the same period in previous and upcoming years. the target parameters include the aerosol optical depth (aod), single scattering albedo (function of the scattering or absorptivity of the aerosol), angstrom exponent (function of aerosol particle size), all obtained from nasa\\u2019s satellites. these parameters have been used in a recent study to characterize aerosols over areas in the region [7]. the project work plan include the following tasks: (1) from the aerosol optical parameters, the dust aerosol during the amadee18 activities will be measured (expected as coarse, non-absorptive aerosols, typical of desert) and its spatial distribution will be mapped. (2) the source of the dust in relation to amadee18 activities will also be confirmed. this will be achieved by using the hybrid single-particle lagrangian integrated trajectory (hysplit) model that generates air mass forward trajectories [8]. here, the purpose is to exclude the possibility that the observed dust is transported from an external source outside the mission site in dhofar. (3) perform the above two steps to the month of feb. during the 10 years preceding amadee18 and estimate the difference between aod during the amadee18 period and same period during the previous 10 years while factoring in the meteorological parameters to assess the significance of a difference due to amadee18 activities. (4) perform the above steps to the month of feb. during the upcoming 3 years after amadee18. the particulate matter (aerosol) optical parameters will be obtained from the moderate resolution imaging spectroradiometer (modis) sensor onboard nasa\\u2019s satellites aqua, which provides a large-scale regional view and daily frequency of coverage [9]. data from a second sensor on the same satellite, the multi-angle imaging spectroradiometer (misr), will also be examined. spatial resolution of 3 km, 10 km, and 17 km will be used and compared. the sensor views the earth from nine different angles, which allows calculations of more aerosol parameters such as the particle shape and size [8]. these are important parameter in the scheme of the proposed investigation. (5) the surface parameters of the amadee18 site in dhofar, a fine resolution optical data will be obtained from the surface remote sensing satellites: landsat-8 (usa) and sentinel-2 (europe). the images will be used to identify changes in surface reflectivity (albedo) and compactness at 30 m resolution. possible changes in the albedo may be attributed to compactness of the soil as a result of the utilization of martian rover and other equipment used by the astronauts during the amadee18 activities. (6) ground-based measurements will be performed to validate the results obtained from the remote sensing satellites (7) comparison of the obtained dust and surface parameters will be made with those recently observed from mars [6], providing further assessment on the similarity of the two regions. deliverables, long and short-term goals the project deliverables and goals as follows: short-term goals: - obtaining daily-average or swath-image maps of aerosol optical depth over the amadee18 site in dhofar from two space-borne sensors, modis and misr. maps will be produced for the month of february 2018 and the 10 previous and 3 upcoming years. - maps of the air mass trajectories over the study area during the month of february will be constructed to determine the source of particulate matter. - surface mapping of the amadee18 site will be performed during the above period to infer changes in the albedo and other surface parameters. - peer-reviewed papers(s) will be published to assess the impact of amadee18 activities on dust aerosol emission and changes to the surface properties, and compare to those seen on mars. long-term goals: - the project will help develop environmental assessment tools for future mars exploration missions using the test/analog missions performed in mars-like areas on earth - data analysis methods for future use to retrieve, visualize and analyze satellite remote sensing data for monitoring aerosols over oman. this will be particularly useful in developing information about severe aerosol events associated with high aod from natural or anthropogenic sources. this will support the ph.d. student (siham al-kilbany) who is working on surveying particulate matter over oman. - capacity building and transfer of expertise to junior scientists such as phd and msc students as well as advanced undergraduate students (a number of final year projects can be performed on the tasks of the project. practical significance of outcome the availability of a scientific investigation on the environmental impact of a mars exploration mission is a vital resource. the published results will be valuable to future missions that can scale the results to derive estimates of the expected dust emission and surface changes as a result of the mission activities. those results are essential to the astronaut life support system and the performance of the equipment used. the project will also sustain and maximize the scientific benefits of the amadee18 missions in oman. references [1] grotzinger, j.p.; et al. (2012), space sci. rev. 170, 5\\u201356 [2] grotzinger, j.p.; et al. (2014), science. 343 (6169), 1242777 [3] cates, g.; stromgren, c.; cirillo, w.; goodliff, k. (2013), proc. aerospace eng. ieee, 978, 4673 [4] amadee-18 mars simulation, http://oewf.org/en/portfolio/amadee-18/ [5] losiak, a.; at al. (2014), astrobiology 14:5, pp 417-430 [6] oliva, f.; et al. (2018), icarus, 300, 1-11 [7] shokr, m., el-tahan, m., ibrahim, a., steiner, a., & gad, n. (2017), remote sensing, 9, 1027 [8] martonchik, j. v., diner, d. j., crean, k. a., & bull, m. a. (2002), ieee transactions on geoscience and remote sensing 40, 1520-1531. [9] remer, l. a.; et al. (2005), journal of the atmospheric sciences, 62, 947-973. please provide arabic translation: \\ufef2\\ufeb3\\ufbfe\\ufe8b\\u0631\\ufedf\\u0627 \\u062b\\ufea3\\ufe8e\\ufe91\\ufedf\\u0627 \\ufee2\\ufbff\\u06be\\u0627\\ufeae\\ufe91\\u0627 \\u0621\\ufefc\\ufecb : \\ufee2\\ufeb3\\ufefb\\u0627 \\u0621\\ufe8e\\ufbfe\\ufeb0\\ufbff\\ufed4\\ufedf\\u0627 :\\u0645\\ufeb3\\ufed8\\ufedf\\u0627 \\u0643\\u0631\\ufe8e\\ufeb8\\ufee3 \\u0630\\ufe8e\\ufe98\\ufeb3\\u0623 :\\ufe94\\ufed4\\ufbfe\\u0638\\u0648\\ufedf\\u0627 :\\u0641\\ufe97\\ufe8e\\ufbad\\ufedf\\u0627 1452 / 97402022 \\ufef2\\ufeb3\\ufbfe\\ufe8b\\u0631\\ufedf\\u0627 \\u062b\\ufea3\\ufe8e\\ufe91\\ufedf\\u0627 \\u0628\\u0648\\ufe8e\\ufee7\\ufee3\\ufedf\\u0627 \\u0645\\ufeb3\\ufefb\\u0627 :\\ufef2\\ufee7\\u0627\\u0630\\ufbfe\\ufeb7\\ufedf\\u0627 \\u062f\\ufbfe\\ufecc\\ufeb3 \\u0646\\ufe91 \\ufea2\\ufedf\\ufe8e\\ufebb :\\u0645\\ufeb3\\ufed8\\ufedf\\u0627 \\u0621\\ufe8e\\ufbfe\\u0632\\ufbfe\\ufed4\\ufedf\\u0627 :\\ufe94\\ufed4\\ufbfe\\u0638\\u0648\\ufedf\\u0627 \\u062f\\ufecb\\ufe8e\\ufeb3\\ufee3 \\u0630\\ufe8e\\ufe97\\ufeb3\\u0623 :\\u0641\\ufe97\\ufe8e\\ufbad\\ufedf\\u0627 1439 / 95217145 ) \\u0646\\u0648\\ufedb\\u0631\\ufe8e\\ufeb7\\ufee3\\ufedf\\u0627 \\u0646\\u0648\\ufe9b\\ufea3\\ufe8e\\ufe91\\ufedf\\u0627 - (\\u062f\\ufe9f\\u0648 \\u0646\\u0625 : \\u0645\\ufeb3\\ufefb\\u0627 \\u0631\\ufedb\\ufeb7 \\u062f\\ufee3\\ufea3\\ufee3 : \\u0645\\ufeb3\\ufed8\\ufedf\\u0627 \\u0627\\u062f\\ufee7\\ufedb \\u060c\\ufe94\\ufbfe\\u062f\\ufee7\\ufedb\\ufedf\\u0627 \\ufe94\\ufe8b\\ufbfe\\ufe91\\ufedf\\u0627 \\ufe94\\ufe8b\\ufbfe\\u06be \\u060c\\u062f\\ufecc\\ufe91 \\u0646\\ufecb \\u0631\\ufe8e\\ufecc\\ufeb7\\ufe97\\ufeb3\\ufefb\\u0627 : \\u0645\\ufeb3\\ufefb\\u0627 : \\u0645\\ufeb3\\ufed8\\ufedf\\u0627 : \\u0645\\ufeb3\\ufefb\\u0627 \\u062f\\ufe8e\\ufe9f \\u062a\\ufe84\\ufeb7\\ufee7 : \\u0645\\ufeb3\\ufed8\\ufedf\\u0627 \\u0631\\ufebb\\ufee3 \\u060c\\u0629\\u0631\\u06be\\ufe8e\\ufed8\\ufedf\\u0627 \\ufe94\\ufecc\\ufee3\\ufe8e\\ufe9f \\u060c\\ufe94\\ufeb3\\u062f\\ufee7\\ufbad\\ufedf\\u0627 \\ufe94\\ufbfe\\ufee0\\ufedb \\u060c\\u0621\\ufe8e\\ufebf\\ufed4\\ufedf\\u0627 \\ufe94\\ufeb3\\u062f\\ufee7\\u06be : \\u0645\\ufeb3\\ufefb\\u0627 : \\u0645\\ufeb3\\ufed8\\ufedf\\u0627 (\\u0639.\\u0631) \\u0629\\u062f\\ufee3\\ufe97\\ufecc\\ufee3\\ufedf\\u0627 \\ufe94\\ufea3\\ufee7\\ufee3\\ufedf\\u0627 4550 :\\u0644\\u0648\\ufef7\\u0627 \\u0645\\ufe8e\\ufecc\\ufedf\\u0627 4550 :\\ufef2\\ufee7\\ufe8e\\ufe9b\\ufedf\\u0627 \\u0645\\ufe8e\\ufecc\\ufedf\\u0627 0 \\ufedf\\ufe8e\\ufe9b\\ufedf\\u0627 \\u0645\\ufe8e\\ufecc\\ufedf\\u0627 :\\u062b0 (\\ufe94\\ufbfe\\ufeb3\\ufe8e\\ufeb3\\ufef7\\u0627 \\u062a\\u0627\\u0631\\ufbfe\\ufed0\\ufe97\\ufee3\\ufedf\\u0627 \\ufbab\\ufbfe\\ufed3 \\u0631\\ufbad\\u0638\\ufe97) \\u062b\\ufea3\\ufe91\\ufedf\\u0627 \\u0639\\u0648\\u0631\\ufeb7\\ufee3 \\u0646\\u0627\\u0648\\ufee7\\ufecb \\ufea6\\ufbfe\\u0631\\ufee3\\ufedf\\u0627 \\ufef0\\ufee0\\ufecb \\ufe94\\ufbfe\\ufe8b\\ufe8e\\ufebf\\ufed3 \\ufe94\\ufee3\\ufbad\\ufee3\\ufedf \\ufef2\\ufe8b\\ufbfe\\ufe91\\ufedf\\u0627 \\u0631\\ufe9b\\ufef7\\u0627 \\ufe94\\ufeb3\\u0627\\u0631\\u062f \\u062b\\ufea3\\ufe91\\ufedf\\u0627 \\u0639\\u0648\\u0631\\ufeb7\\ufee3 \\u0635\\ufea7\\ufee0\\ufee3 \\ufef0\\ufee0\\ufecb \\ufea6\\ufbfe\\u0631\\ufee3\\ufedf\\u0627 \\ufea2\\u0637\\ufeb3 \\ufbab\\ufe91\\ufeb7\\ufe97 \\u062a\\ufe8e\\ufe8b\\ufbfe\\ufe91 \\ufef0\\ufee0\\ufecb \\u0631\\ufe8e\\ufe91\\ufe97\\ufea7\\ufefb\\u0627 \\ufe94\\ufee0\\ufea3\\u0631\\ufee3 \\ufea6\\ufbfe\\u0631\\ufee3\\ufedf\\u0627 \\u0628\\ufedb\\u0648\\ufedb \\ufef0\\ufedf\\u0625 \\u0621\\ufe8e\\ufebf\\ufed3 \\u062f\\u0627\\u0648\\u0631\\ufe91 \\ufe94\\ufedf\\u0648\\u06be\\ufe84\\ufee3\\ufedf\\u0627 \\u0621\\ufe8e\\ufebf\\ufed4\\ufedf\\u0627 \\u062a\\ufe8e\\ufe9b\\ufecc\\ufe91 \\u062a\\ufee0\\ufea7\\u062f \\u0631\\u0638\\ufe8e\\ufee7\\ufe97 \\u0631\\ufe8e\\ufe91\\ufe97\\ufea7\\u0627 \\ufe94\\ufe9b\\ufecc\\ufe91 \\u062b\\u062f\\ufea3\\u0623 \\ufeca\\ufee3 \\u060c\\u0636\\u0631\\ufef7\\u0627 \\u0628\\ufedb\\u0648\\ufedb \\ufef2\\ufed3 \\u064a\\u0631\\ufe9f\\ufe97 \\ufe94\\ufbfe \\u0621\\u0627\\u0631\\ufea3\\ufebb \\u0638\\ufed4\\ufe8e\\u0631 \\ufe91\\ufeb3\\ufee0\\u0637\\ufee7\\ufe94 \\ufecb\\u064f\\ufee3\\ufe8e\\u0646 \\ufed3\\ufef2 \\ufed3\\ufe91\\u0631\\u0627\\ufbfe\\u0631 2018. \\u0641\\u062f\\ufbad\\ufe97 \\ufe8e\\ufee3\\ufee7\\ufbfe\\ufe91 \\u0641\\ufe8e\\ufeb7\\ufedb\\ufe97\\ufeb3\\ufefb\\u0627 \\u062a\\ufe8e\\ufe9b\\ufecc\\ufe91 \\ufee3\\ufedf\\u0627 \\ufef2\\ufee3\\ufee0\\ufecc\\ufedf\\u0627 \\u062b\\ufea3\\ufe91\\ufedf\\u0627 \\ufef2\\ufed3 \\u0635\\ufed8\\ufee7 \\u0643\\ufe8e\\ufee7\\u06be \\u060c\\ufea6\\ufbfe\\u0631\\ufee3\\ufedf\\u0627 \\ufef0\\ufee0\\ufecb \\ufe94\\ufe8b\\ufbfe\\ufe91\\ufedf\\u0627 \\u062a\\u0627\\u0631\\ufbfe\\ufe9b\\ufe84\\ufe97\\ufedf\\u0627 \\u0646\\ufee3 \\ufef0\\ufee7\\u062f\\ufef7\\u0627 \\u062f\\ufea3\\ufedf\\u0627 \\u0646\\ufe8e\\ufee3\\ufebf \\ufef0\\ufedf\\u0625 \\ufed4\\ufebb\\u0651\\u0644 \\ufe94\\ufe9b\\ufecc\\ufe91\\ufedf \\ufe94\\ufbfe\\ufe8b\\ufbfe\\ufe91\\ufedf\\u0627 \\u062a\\u0627\\u0631\\ufbfe\\ufe9b\\ufe84\\ufe97\\ufedf\\u0627 \\u062d\\u0631\\ufe97\\ufed8\\ufee3\\ufedf\\u0627 \\u0639\\u0648\\u0631\\ufeb7\\ufee3\\ufedf\\u0627 \\u062b\\ufea3\\ufe91\\ufbfe \\u0641\\u0648\\ufeb3 .\\ufe94\\ufee0\\ufee3\\ufe97\\ufea3\\ufee3\\ufedf\\u0627 \\u062a\\u0627\\u0631\\ufbfe\\ufe9b\\ufe84\\ufe97\\ufedf\\u0627 \\u0644\\u0648\\ufea3 \\ufe94\\ufbfe\\ufed3\\ufe8e\\ufeb7\\ufedb\\ufe97\\ufeb3\\u0627 \\u0628\\ufedb\\u0648\\ufedb\\ufedf \\ufee3\\ufedf\\u0627 \\u0621\\u0648\\ufebf \\ufef2\\ufed3 \\ufea6\\ufbfe\\u0631 \\u0641\\u0648\\ufeb3 .\\ufe94\\ufbfe\\ufebf\\u0631\\ufef7\\u0627 \\u062a\\ufe8e\\ufeb3\\ufe8e\\ufbfe\\ufed8\\ufedf\\u0627\\u0648 \\ufe94\\ufbfe\\ufecb\\ufe8e\\ufee7\\ufebb\\ufedf\\u0627 \\u0631\\ufe8e\\ufee3\\ufed7\\ufef7\\ufe8e\\ufe91 \\u062f\\ufecc\\ufe91 \\u0646\\ufecb \\u0631\\ufe8e\\ufecc\\ufeb7\\ufe97\\ufeb3\\ufefb\\u0627 \\u0645\\u0627\\u062f\\ufea7\\ufe97\\ufeb3\\ufe8e\\ufe91 \\u0643\\ufedf\\u0630\\u0648 \\u060c\\u0646\\ufe8e\\ufee3\\ufecb \\ufef2\\ufed3 \\u0629\\u0631\\ufbfe\\ufea7\\ufef7\\u0627 \\ufe94\\ufbfe\\u0631\\u0638\\ufe8e\\ufee7\\ufe97\\ufedf\\u0627 \\ufe94\\ufee3\\ufbad\\ufee3\\ufedf\\u0627 \\ufe9e\\ufee3\\u0627\\u0631\\ufe91\\ufedf \\u0644\\ufebf\\ufed3\\u0623 \\u0631\\ufbfe\\u0648\\u0637\\ufe97 \\ufef2\\ufed3 \\u0645\\u06be\\ufe8e\\ufeb3\\ufe97 \\ufe9e\\ufe8b\\ufe8e\\ufe97\\ufee7\\u0648 \\u062a\\ufe8e\\ufee7\\ufe8e\\ufbfe\\ufe91 \\u0639\\u0648\\u0631\\ufeb7\\ufee3\\ufedf\\u0627 \\ufe9e\\ufe8b\\ufe8e\\ufe97\\ufee7 \\u0631\\ufed3\\u0648\\ufe97 \\ufea6\\ufbfe\\u0631\\ufee3\\ufee0\\ufedf \\u0641\\ufe8e\\ufeb7\\ufedb\\ufe97\\ufeb3\\u0627 \\ufe94\\ufbfe\\ufee0\\ufe91\\ufed8\\ufe97\\ufeb3\\ufee3\\ufedf\\u0627 . squ-psr-1 summary of budget summary of funds requested (ro) year 1 year 2 year 3 total capital equipment 1000 1000 recurrent items (consumables) 450 450 computing costs 100 100 use of university facilities conference attendance overseas travel local travel and transport costs 450 450 insurance research assistants 750 750 consultants 1500 1500 publication costs miscellaneous 300 300 total 4550 4550 personnel time allocation year 1 (hrs/wk) year 2 (hrs/wk) year 3 (hrs/wk) principal investigator 8 co-investigator 4 co-investigator 2 co-investigator 2 co-investigator 8 technician squ-psr-1 project costs breakdown (ro) capital equipment year 1 year 2 year 3 total ground-based measurement device for particulate matter (aerosols aod/pm2.5, pm10) 1000 1000 subtotal 1000 1000 recurrent items(consumables year 1 year 2 year 3 total hardware and laboratory consumables/materials and supplies 450 450 subtotal 450 450 computing costs year 1 year 2 year 3 total co-payment to purchasing optimized gpu-based compiler and idl software to enhance the development of specialized codes and algorithms for the analysis and visualization of the atmospheric and surface satellite remote sensing data 100 100 subtotal 50 50 use of university facilities year 1 year 2 year 3 total subtotal squ-psr-1 conference attendance destination year 1 year 2 year 3 total (ro) estimated expenses estimated expenses estimated expenses within oman (where & why?) overseas (where& why?) subtotal overseas travel destination & purpose of visit year 1 year 2 year 3 total (ro) estimated expenses estimated expenses estimated expenses subtotal local travel and transport costs destination year 1 year 2 year 3 total (ro) estimated expenses estimated expenses estimated expenses travel & accommodation to dhofar region for ground observations and data validation measurements 450 450 travel & accommodation to dhofar region subtotal 450 450 insurance year 1 year 2 year 3 total subtotal squ-psr-1 research assistants name country present position period of visit or work job description expenses (ro) eng. nashaat gad canada/ egypt aero-space engineer year 1 performing data analysis and collection tasks with the satellite and ground-based data 750 subtotal 750 consultants name country present position period of visit or work job description expenses (ro) dr. mohamed shokr canada senior scientist year 1 consulting on the tasks of the satellite remote sensing 1500 subtotal 1500 publication costs year 1 year 2 year 3 total publication of project results in high impact factor journals subtotal squ-psr-1 miscellaneous year 1 year 2 year 3 total miscellaneous and incidental items supporting all project tasks 300 300 subtotal 300 300 grand total 4550 4550 collaboration 1. are there expected to be any collaborative arrangement in existence relating to the research project? 2. name and address of the collaborating organization: name of the organization/institution address 3. contribution provided by collaborating organization particulars year 1 year 2 year 3 total (ro) (i) consumables (ii) use of facilities/equipment (iii) others (specify) (iv) total contributions squ-psr-1 other attachments research management system https://squsys/squ.edu.om/rms sultan qaboos universityf2 sultan qaboos university deanship of research research proposal family name given names department position shokr mohammed remote sensing, environment and climate change canada, canada scientist emeritus telephone e-mail squ id # +1-905-330-7682 mohammed.shokr@ec.gc.ca mo.shokr.ms@gmail.com n/a degrees college, university, institution country year master aerospace engineering, cairo university egypt 1974 doctorate aerospace engineering, cairo university egypt 1979 teaching, research and industrial experience positions held dates department institution scientist emeritus 2014 \\u2013 now remote sensing environment and climate change canada senior scientist 1982 - 2014 remote sensing environment and climate change canada visiting professor 2015 \\u2013 2017 beijing normal university visiting professor 2014 \\u2013 2015 zewail university of science and technology any committees involvements institution year committee name __________ _______ 2010-2012 member of the science team for developing the radarsat constellation mission (rcm), canada, to be launched in 2018 2008-2011 nato-sponsored project to establish a remote sensing observation center at cairo and al-azhar universities 1992-2010 committee member to develop specifications of spaceborne radar sensors onboard the european satellites (ers and envisat) and the canadian satellites radarsat-1 and radarsat-2 research training information master doctorate number of graduate degrees conferred upon students under the applicant\\u2019s supervision during the past six (6) years ___7___ ___5___ number of graduate students currently supervised by the applicant ______ __1___ type sponsor year research grants (title) __________ ________ _______ 2017 collaborator, \\u201csea ice type distribution in the antarctic from microwave satellite observations\\u201d, university of bremen, germany, funded by dfg, germany euro 200,000 2014 collaborator, \\u201cthe impact of biogenic and anthropogenic atmospheric aerosols to climate in egypt\\u201d, us nas \\u2013 usaid us $ 170,000 2012 co-pi, \\u201carctic sea ice mapping using radar remote sensing data\\u201d, natural science and engineering council, canada can $ 300,000 signature ___________ __________ signature date significant research contributions (last 5 years only, including this year). maximum of 2 pages. list all publications that you have authored/co-authored using the following categories: refereed journal publications, books/chapters of books, refereed conference proceedings, patent applications. - current research includes: remote sensing of aerosols, remote sensing of cryosphere, expert in, satellite remote sensor applications, taught undergraduate and graduate courses in remote sensing. and supervised m.sc. and ph.d. students working on aerosol remote sensing, authored with n. k. sinha in 2015 the book \\u201csea ice: physics and remote sensing\\u201d, published by john wiley publisher, 600p. 2016 invited speaker to a few universities in china to talk about remote sensing of polar region: beijing normal university, wuhan university, nanjing university and chongqing university. october 2016 invited speaker to the \\u201cinternational symposium on polar environmental change and public governance\\u201d, wuhan, china; and the china symposium on polar science, polar research institute of china. nov. 2015 invited speaker to the african leadership conference, sharm ek-shiekh, egypt. march 2015 invited speaker to the workshop \\u201coptimal estimation of ocean, ice and atmosphere parameters\\u201d at the danish institute of meteorology, copenhagen, denmark; related publications 1. shokr, m., el-tahan, m., ibrahim, a, steiner, a., and gad, n., (2017), \\u201clong-term, high-resolution survey of atmospheric aerosols over egypt with nasa\\u2019s modis data\\u201d, remote sensing, 9, 1207, doi:10.3390/rs9101027. 2. abdeen, m. m., gaber, a., shokr, m., and el-saadawy, o. a., (2017), \\u201cminimizing the labelling ambiguity during classification process of the geological units covering the central part of the suez canal corridor, egypt, using their radar scattering response\\u201d, egyptian j. of remote sensing, accepted for publication. 3. gad, n., shokr, m., ibrahim, a., (2017), \\u201cmicrophysical characteristics of atmospheric particulate matter from nasa\\u2019s modis, misr, and aeronet observations\\u201d, journal of physics: conf. series 869012081, doi :10.1088/1742-6596/869/1/012081. 4. fengming h., zhao, t, li, x, shokr, m., heil, p., zhao, j., zhang, l., cheng, x., (2017), *satellite-based sea ice navigation for prydz bay, east antarctica\\u201d, remote sensing, 9(6), 518, doi:10.3390/rs9060518 5. ye, y., shokr, m., heygster, and spreen, g., (2016), \\u201cimproving multiyear ice concentration estimates with ice drift\\u201d, remote sensing, 8(5), 397; doi:10.3390/rs8050397; 6. zeyada, h., shokr, m., ezz, m. m., nasr, a. h., and harb, h. m., (2016), \\u201cevaluation of the discrimination capability of full polarimetric sar data for crops classification\\u201d, int. j. of rem. sensing, vol. 37 (11), pp. 2585-2603. 7. hui, f., li, x., zhao, t., shokr, m., heil, p., zhao, j., liu, y., liang, s., and cheng, x., (2016), \\u201csemi-automatic mapping of tidal cracks in the fast ice region near zhongshan station in east antarctica using landsat-8 oli imagery\\u201d, remote sensing, vol. 8(3), 242: doi:10.3390/rs8030242 8. ye, y., shokr, m., and heygster, g (2016), \\u201cimproving multiyear ice concentration estimates with reanalysis air temperatures\\u201d ieee transactions on geoscience and remote sensing, vol. 54, no. 5, pp. 2602-2614 9. shokr, m., and sinha, n. k., (2015) \\u201csea ice: physics and remote sensing\\u201d, american geophysical union, monograph no. 209, john wiley publisher, 600p. 10. shokr, m., and dabboor, m., (2013), \\u201cinter-annual variability of young ice in the arctic estimated between 2002 and 2009\\u201d ieee transaction on geoscience and remote sensing\\u201d, 51, no. 6, pp. 3354-3370 f2 sultan qaboos university deanship of research research proposal family name given names department position ibrahim alaa physics associate professor telephone e-mail squ id # 94702022 2414 1452 aiibrahim@squ.edu.om 12651 degrees college, university, institution country year master university of maryland usa 1997 doctorate george washington university usa 2003 other teaching, research and industrial experience positions held dates department institution 2017- now associate professor, physics dept., sultan qaboos univ. 2015-2017 associate professor, physics of the earth and universe, zewail city of science and technology, egypt 2012-2015 associate professor, school of sciences and engineering, american university in cairo, egypt 2008 - 2009 fulbright scholar, massachusetts institute of technology, usa 2007-2012 assistant professor, school of sciences and engineering, american university in cairo, egypt 2004-2007 assistant professor, physics dept., cairo university, egypt 2003-2004 assistant professorial lecturer, george washington university, usa 1997-2003 research assistant, nasa goddard space flight center, md, usa 1994-1997 teaching assistant, university of maryland, md, usa 1991-1994 teaching assistant, physics dept., cairo university, egypt any committees involvements institution year committee name __________ _______ euro-science open forum euro-science 2014-present curriculum committee zewail city of sci. & tech. 2015-2017 science outreach american univ. in cairo 2011-2014 research training information master doctorate number of graduate degrees conferred upon students under the applicant\\u2019s supervision during the past six (6) years ___6___ ___2___ number of graduate students currently supervised by the applicant ______ __1___ type sponsor year research grants (title) __________ ________ _______ n/a signature ___________ __________ signature date significant research contributions (last 5 years only, including this year). maximum of 2 pages. list all publications that you have authored/co-authored using the following categories: refereed journal publications, books/chapters of books, refereed conference proceedings, patent applications. related research grants: principal investigator of peer 2-239: a partnerships for enhanced engagement in research (peer) project titled \\u201cthe impact of biogenic and anthropogenic atmospheric aerosols to climate in egypt\\u201d implemented during 2013-2016 (pi dr. alaa ibrahim, co-pi dr. mohamed shokr). the project studied the aerosols/particulate matter (pm) over egypt and selected cities and provided assessment of the impact of anthropogenic, natural, and biogenic aerosols to climate in egypt. the project built capacities in the various techniques to obtain pm levels using satellite remote sensing and ground observations. for more information, see the project page at the u.s. national academy of science website: http://sites.nationalacademies.org/pga/peer/peerscience/pga_084046 related publications \\u2022 long-term, high-resolution survey of atmospheric aerosols over egypt with nasa\\u2019s modis data, m. shokr, m. el-tahan, a. ibrahim, a. steiner, n. gad, remote sens. 2017, 9(10), 1027. link \\u2022 an optimized search for exoplanets with kepler data, k. mohamed, a. ibrahim, n. abd-allah, j. phys. 2017, 869, 012074. link \\u2022 searching for compton-thick agns with xmm-newton observations, r. mostafa, m. guainazzi, a. ibrahim, j. phys. 2017, 869, 012086. link \\u2022 microphysical characteristics of atmospheric particulate matter from nasa\\u2019s modis, misr, and aeronet sensors, n. gad, m. shokr, a. ibrahim, j. phys. 2017, 869, 012081. link \\u2022 invited editorial: \\u201cto combat air inequality, governments and researchers must open their data\\u201d, c. a. hasenkopf, d. c. adukpo, m. brauer, h. dewitt, s. guttikunda, a. ibrahim, et al., the clean air journal, vol. 26, no 2, 2016. link \\u2022 global spectral properties and comparative study of intermediate flares and recurrent short bursts from sgr 1900+14 observed by swift-bat, mona molham and alaa ibrahim, the astrophysical journal (impact factor 5.9) \\u2022 the x-ray spectrum of the black hole candidate swift j1753.5-0127, reham mostafa, alaa ibrahim, et al., monthly notices of the royal astronomical society, 2013, doi: 10.1093/mnras/stt332 (impact factor 4.9) \\u2022 discovery of quasi-periodic oscillation from magnetar emission, ahmed el mezeini and alaa ibrahim, the astrophysical journal letters, vol. 721, l121, 2010. doi 10.1088/2041-8205/721/2/l121 (impact factor 5.5) \\u2022 swift-bat observations of the recently discovered magnetar sgr 0501+4516, harsha kumar, alaa ibrahim, samar safi-harb, the astrophysical journal, vol. 716, 97, 2010. doi 10.1088/0004-637x/716/1/97 (impact factor 5.9) \\u2022 discovery of a transient magnetar xte j1810-197, alaa ibrahim et al., the astrophysical journal letters, vol. 609, l21, 2004. (impact factor 5.5) f2 sultan qaboos university deanship of research research proposal family name given names department position al shidhani saleh said hamed physics assist prof telephone e-mail squ id # 24141439 - 95217145 shidhani7@squ.edu.om 2844 degrees college, university, institution country year master university of sussex uk 1996 doctorate university of sussex uk 2004 other teaching, research and industrial experience positions held dates department institution demonstrator sept. 1992 physics squ lecturer oct. 2001 physics squ assistant prof. 2004 -- physics squ any committees involvements institution year committee name __________ _______ national team for capacity building in space science & technology, squ 2013- national committee for peaceful uses of outer space, motc, 2008 \\u2013 national committee for star-light reserve, moeca, 2014 - promotion committee squ-phys 2017- master doctorate number of graduate degrees conferred upon students under the applicant\\u2019s supervision during the past six (6) years __3___ ______ number of graduate students currently supervised by the applicant ______ ______ type sponsor year research grants (title) __________ ________ _______ quantifying the astronomical visibility and internal squ 2005 atmospheric conditions quasi crystallography from the projection of. internal squ 2014-2015 higher dimensional lattices probing the properties of the fastest spinning, external trc 2014-2015 white dwarf in the galaxy. digital shearography system using digital, external trc 2016-2018. still camera signature ___________ __________ signature date significant research contributions (last 5 years only, including this year). maximum of 2 pages. list all publications that you have authored/co-authored using the following categories: refereed journal publications, books/chapters of books, refereed conference proceedings, patent applications. 1. al-shidhani, saleh, oman recent approach in determining qibla direction, the 6th islamic astronomical conference, the arab union for astronomy and space sciences, amman, jordan, 2013. 2. al-shidhani, saleh, enhancing the teaching of space science in oman, the 2nd conference of the scientific preparatory academy for cosmic explorers, orlando, florida, usa, 2014. 3. koca, nazife; koca, mehmet and al-shidhani, saleh, h-fold symmetric quasi-crystallography from affine coxeter groups, journal of physics conference series, nov 2014 4. al-battashi sara and al-shidhani, saleh, investigating the galaxy distribution using redshift surveys, the 11th arab conference on astronomy and space sciences, university of sharjah, uae, 2014. 5. al-shidhani, saleh, omani astronomical contributions, in omani contributions to applied science symposium, oman, 2015. 6. al-shidhani, saleh, space missions and orbits, the first cubesat workshop in oman, jan 2016. 7. al-shidhani, saleh, modular payload-centered cubesat structure, (poster) the 30th annual aiaa/usu conference on small satellites, logan, usa, 2016. 8. al-shidhani, saleh, space technologies and applications for sustainable development, symposium on peaceful use of space technologies and applications for the overall social and economic development, muscat, oman, oct 2016 9. al-shidhani, saleh and al-rahbi, yusuf, prayer time methodologies evolution in oman: past experiences, present requirements & future aspirations, dubai prayer times symposium, uae, nov 2016. 10. ter-kazarian, gagik & al shidhani, saleh, plausible intermediate mass black hole from m82x-2 x-ray pulsations, advances in astrophysics journal, 2017 (accepted) investigation of the environmental impact of a space mission to mars preliminary analysis we checked the availability of data from the remote sensing satellites mentioned in the proposal and here are sample observations over the dhofar region. the coverage and frequency of observations are adequate to achieve the scientific goals of the project. (1) surface remote sensing images of dhofar sentinel \\u2013 2 satellite image of the dhofar region landsat-8 satellite image of the dhofar region sentinel2look esri, here, garmin, \\u00a9 openstreetmap contributors, and the gis usercommunitymarch 30, 20180408020mi06012030km1:2,311,162 (2) atmospheric remote sensing of dust/particulate matter over dhofar with modis r\\u00e9sum\\u00e9 of pi research management system https://squsys/squ.edu.om/rms sultan qaboos universityf2 sultan qaboos university deanship of research research proposal family name given names department position ibrahim alaa physics dept., college of science sultan qaboos univ. associate professor telephone e-mail squ id # 2414 1452 (office) 94702022 (mobile) aiibrahim@squ.edu.om ai@space.mit.edu 12651 degrees college, university, institution country year ph.d. george washington university usa 2003 m.ph. george washington university usa 2002 master of science university of maryland usa 1997 teaching, research and industrial experience positions held dates department institution ------------------------ --------------- ------------------ ------------------------------------------------------- associate professor 2017 - now physics dept., college of science, sultan qaboos univ, oman associate professor 2015 - 2017 physics dept., zewail city of science and technology, egypt associate professor 2012 - 2015 physics dept., american university in cairo, egypt fulbright scholar 2008 - 2009 physics dept., massachusetts institute of technology, usa assistant professor 2007 - 2012 physics dept., american university in cairo, egypt assistant professor 2004 - 2007 physics dept., cairo university, egypt assistant professor 2003 - 2004 physics dept., george washington university, usa research assistant 2003 - 2004 nasa goddard space flight center, md, usa research assistant 1997 - 2003 nasa goddard space flight center, md, usa teaching assistant 1994 - 1997 physics dept., university of maryland, md, usa teaching assistant 1991-1994 physics dept., cairo university, egypt any committee involvements committee name institution year ------------------------ -------------------------- -------------- library committee sultan qaboos univ. 2017-present euro-science open forum program committee university of toulouse 2016-2018 fulbright fellowship committee fulbright commission 2014-present daad fellowship committee daad, german exchange 2013-present science outreach american univ. in cairo 2011-2014 research training information master doctorate number of graduate degrees conferred upon students under the applicant\\u2019s supervision during the past six (6) years ___6___ ___2___ number of graduate students currently supervised by the applicant ______ __1___ research grants title type sponsor year ----------------------------------------------- ---------------------- ------------------ ------------ the environmental impact of a space squ / ig squ 2018-2010 mission to mars, principal investigator eu cost action: multi-messenger physics international (e.u.) e.u. 2017-2021 and astrophysics of neutron stars, the impact of biogenic and anthropogenic international (usa) national academy of sciences 2013-2016 atmospheric aerosols to climate in egypt hands-on and experiential stem education international (usa) usaid 2011-2013 through a mobile platform (science bus) x-ray observations of neutron stars international (usa) fulbright commission 2008-2009 capacity building in space astrophysics international (e.u.) committee on space research 2007-2008 with nasa and esa missions signature a. ibrahim 29 nov 2018 signature date significant research contributions (last 5 years only, including this year). maximum of 2 pages. list all publications that you have authored/co-authored using the following categories: refereed journal publications, books/chapters of books, refereed conference proceedings, patent applications. related publications in refereed journal \\u2022 measurement of pm10 and pm2.5 in the vicinity of squ, muscat during spring 2018, z. al-salhi, a. ibrahim, atmospheric environment 2018, submitted \\u2022 investigation of gravitational atmospheric tides over muscat, oman, y. al sinani, a. ibrahim, atmospheric research 2018, submitted \\u2022 long-term, high-resolution survey of atmospheric aerosols over egypt with nasa\\u2019s modis data, m. shokr, m. el-tahan, a. ibrahim, a. steiner, n. gad, remote sens. 2017, 9(10), 1027. link \\u2022 an optimized search for exoplanets with kepler data, k. mohamed, a. ibrahim, n. abd-allah, j. phys. 2017, 869, 012074. link \\u2022 searching for compton-thick agns with xmm-newton observations, r. mostafa, m. guainazzi, a. ibrahim, j. phys. 2017, 869, 012086. link \\u2022 microphysical characteristics of atmospheric particulate matter from nasa\\u2019s modis, misr, and aeronet sensors, n. gad, m. shokr, a. ibrahim, j. phys. 2017, 869, 012081. link \\u2022 invited editorial: \\u201cto combat air inequality, governments and researchers must open their data\\u201d, c. a. hasenkopf, d. c. adukpo, m. brauer, h. dewitt, s. guttikunda, a. ibrahim, et al., the clean air journal, vol. 26, no 2, 2016. link \\u2022 global spectral properties and comparative study of intermediate flares and recurrent short bursts from sgr 1900+14 observed by swift-bat, mona molham and alaa ibrahim, the astrophysical journal (impact factor 5.9) \\u2022 the x-ray spectrum of the black hole candidate swift j1753.5-0127, reham mostafa, alaa ibrahim, et al., monthly notices of the royal astronomical society, 2013, doi: 10.1093/mnras/stt332 (impact factor 4.9) \\u2022 discovery of quasi-periodic oscillation from magnetar emission, ahmed el mezeini and alaa ibrahim, the astrophysical journal letters, vol. 721, l121, 2010. doi 10.1088/2041-8205/721/2/l121 (impact factor 5.5) \\u2022 swift-bat observations of the recently discovered magnetar sgr 0501+4516, harsha kumar, alaa ibrahim, samar safi-harb, the astrophysical journal, vol. 716, 97, 2010. doi 10.1088/0004-637x/716/1/97 (impact factor 5.9) \\u2022 discovery of a transient magnetar xte j1810-197, alaa ibrahim et al., the astrophysical journal letters, vol. 609, l21, 2004. (impact factor 5.5) f2 sultan qaboos university deanship of research research proposal family name given names department position shokr mohammed remote sensing, environment and climate change canada, canada scientist emeritus telephone e-mail squ id # +1-905-330-7682 mohammed.shokr@ec.gc.ca mo.shokr.ms@gmail.com n/a degrees college, university, institution country year master aerospace engineering, cairo university egypt 1974 doctorate aerospace engineering, cairo university egypt 1979 teaching, research and industrial experience positions held dates department institution scientist emeritus 2014 \\u2013 now remote sensing environment and climate change canada senior scientist 1982 - 2014 remote sensing environment and climate change canada visiting professor 2015 \\u2013 2017 beijing normal university visiting professor 2014 \\u2013 2015 zewail university of science and technology any committees involvements institution year committee name __________ _______ 2010-2012 member of the science team for developing the radarsat constellation mission (rcm), canada, to be launched in 2018 2008-2011 nato-sponsored project to establish a remote sensing observation center at cairo and al-azhar universities 1992-2010 committee member to develop specifications of spaceborne radar sensors onboard the european satellites (ers and envisat) and the canadian satellites radarsat-1 and radarsat-2 research training information master doctorate number of graduate degrees conferred upon students under the applicant\\u2019s supervision during the past six (6) years ___7___ ___5___ number of graduate students currently supervised by the applicant ______ __1___ type sponsor year research grants (title) __________ ________ _______ 2017 collaborator, \\u201csea ice type distribution in the antarctic from microwave satellite observations\\u201d, university of bremen, germany, funded by dfg, germany euro 200,000 2014 collaborator, \\u201cthe impact of biogenic and anthropogenic atmospheric aerosols to climate in egypt\\u201d, us nas \\u2013 usaid us $ 170,000 2012 co-pi, \\u201carctic sea ice mapping using radar remote sensing data\\u201d, natural science and engineering council, canada can $ 300,000 signature ___________ __________ signature date significant research contributions (last 5 years only, including this year). maximum of 2 pages. list all publications that you have authored/co-authored using the following categories: refereed journal publications, books/chapters of books, refereed conference proceedings, patent applications. - current research includes: remote sensing of aerosols, remote sensing of cryosphere, expert in, satellite remote sensor applications, taught undergraduate and graduate courses in remote sensing. and supervised m.sc. and ph.d. students working on aerosol remote sensing, authored with n. k. sinha in 2015 the book \\u201csea ice: physics and remote sensing\\u201d, published by john wiley publisher, 600p. 2016 invited speaker to a few universities in china to talk about remote sensing of polar region: beijing normal university, wuhan university, nanjing university and chongqing university. october 2016 invited speaker to the \\u201cinternational symposium on polar environmental change and public governance\\u201d, wuhan, china; and the china symposium on polar science, polar research institute of china. nov. 2015 invited speaker to the african leadership conference, sharm ek-shiekh, egypt. march 2015 invited speaker to the workshop \\u201coptimal estimation of ocean, ice and atmosphere parameters\\u201d at the danish institute of meteorology, copenhagen, denmark; related publications 1. shokr, m., el-tahan, m., ibrahim, a, steiner, a., and gad, n., (2017), \\u201clong-term, high-resolution survey of atmospheric aerosols over egypt with nasa\\u2019s modis data\\u201d, remote sensing, 9, 1207, doi:10.3390/rs9101027. 2. abdeen, m. m., gaber, a., shokr, m., and el-saadawy, o. a., (2017), \\u201cminimizing the labelling ambiguity during classification process of the geological units covering the central part of the suez canal corridor, egypt, using their radar scattering response\\u201d, egyptian j. of remote sensing, accepted for publication. 3. gad, n., shokr, m., ibrahim, a., (2017), \\u201cmicrophysical characteristics of atmospheric particulate matter from nasa\\u2019s modis, misr, and aeronet observations\\u201d, journal of physics: conf. series 869012081, doi :10.1088/1742-6596/869/1/012081. 4. fengming h., zhao, t, li, x, shokr, m., heil, p., zhao, j., zhang, l., cheng, x., (2017), *satellite-based sea ice navigation for prydz bay, east antarctica\\u201d, remote sensing, 9(6), 518, doi:10.3390/rs9060518 5. ye, y., shokr, m., heygster, and spreen, g., (2016), \\u201cimproving multiyear ice concentration estimates with ice drift\\u201d, remote sensing, 8(5), 397; doi:10.3390/rs8050397; 6. zeyada, h., shokr, m., ezz, m. m., nasr, a. h., and harb, h. m., (2016), \\u201cevaluation of the discrimination capability of full polarimetric sar data for crops classification\\u201d, int. j. of rem. sensing, vol. 37 (11), pp. 2585-2603. 7. hui, f., li, x., zhao, t., shokr, m., heil, p., zhao, j., liu, y., liang, s., and cheng, x., (2016), \\u201csemi-automatic mapping of tidal cracks in the fast ice region near zhongshan station in east antarctica using landsat-8 oli imagery\\u201d, remote sensing, vol. 8(3), 242: doi:10.3390/rs8030242 8. ye, y., shokr, m., and heygster, g (2016), \\u201cimproving multiyear ice concentration estimates with reanalysis air temperatures\\u201d ieee transactions on geoscience and remote sensing, vol. 54, no. 5, pp. 2602-2614 9. shokr, m., and sinha, n. k., (2015) \\u201csea ice: physics and remote sensing\\u201d, american geophysical union, monograph no. 209, john wiley publisher, 600p. 10. shokr, m., and dabboor, m., (2013), \\u201cinter-annual variability of young ice in the arctic estimated between 2002 and 2009\\u201d ieee transaction on geoscience and remote sensing\\u201d, 51, no. 6, pp. 3354-3370 f2 sultan qaboos university deanship of research research proposal family name given names department position ibrahim alaa physics associate professor telephone e-mail squ id # 94702022 2414 1452 aiibrahim@squ.edu.om 12651 degrees college, university, institution country year master university of maryland usa 1997 doctorate george washington university usa 2003 other teaching, research and industrial experience positions held dates department institution 2017- now associate professor, physics dept., sultan qaboos univ. 2015-2017 associate professor, physics of the earth and universe, zewail city of science and technology, egypt 2012-2015 associate professor, school of sciences and engineering, american university in cairo, egypt 2008 - 2009 fulbright scholar, massachusetts institute of technology, usa 2007-2012 assistant professor, school of sciences and engineering, american university in cairo, egypt 2004-2007 assistant professor, physics dept., cairo university, egypt 2003-2004 assistant professorial lecturer, george washington university, usa 1997-2003 research assistant, nasa goddard space flight center, md, usa 1994-1997 teaching assistant, university of maryland, md, usa 1991-1994 teaching assistant, physics dept., cairo university, egypt any committees involvements institution year committee name __________ _______ euro-science open forum euro-science 2014-present curriculum committee zewail city of sci. & tech. 2015-2017 science outreach american univ. in cairo 2011-2014 research training information master doctorate number of graduate degrees conferred upon students under the applicant\\u2019s supervision during the past six (6) years ___6___ ___2___ number of graduate students currently supervised by the applicant ______ __1___ type sponsor year research grants (title) __________ ________ _______ n/a signature ___________ __________ signature date significant research contributions (last 5 years only, including this year). maximum of 2 pages. list all publications that you have authored/co-authored using the following categories: refereed journal publications, books/chapters of books, refereed conference proceedings, patent applications. related research grants: principal investigator of peer 2-239: a partnerships for enhanced engagement in research (peer) project titled \\u201cthe impact of biogenic and anthropogenic atmospheric aerosols to climate in egypt\\u201d implemented during 2013-2016 (pi dr. alaa ibrahim, co-pi dr. mohamed shokr). the project studied the aerosols/particulate matter (pm) over egypt and selected cities and provided assessment of the impact of anthropogenic, natural, and biogenic aerosols to climate in egypt. the project built capacities in the various techniques to obtain pm levels using satellite remote sensing and ground observations. for more information, see the project page at the u.s. national academy of science website: http://sites.nationalacademies.org/pga/peer/peerscience/pga_084046 related publications \\u2022 long-term, high-resolution survey of atmospheric aerosols over egypt with nasa\\u2019s modis data, m. shokr, m. el-tahan, a. ibrahim, a. steiner, n. gad, remote sens. 2017, 9(10), 1027. link \\u2022 an optimized search for exoplanets with kepler data, k. mohamed, a. ibrahim, n. abd-allah, j. phys. 2017, 869, 012074. link \\u2022 searching for compton-thick agns with xmm-newton observations, r. mostafa, m. guainazzi, a. ibrahim, j. phys. 2017, 869, 012086. link \\u2022 microphysical characteristics of atmospheric particulate matter from nasa\\u2019s modis, misr, and aeronet sensors, n. gad, m. shokr, a. ibrahim, j. phys. 2017, 869, 012081. link \\u2022 invited editorial: \\u201cto combat air inequality, governments and researchers must open their data\\u201d, c. a. hasenkopf, d. c. adukpo, m. brauer, h. dewitt, s. guttikunda, a. ibrahim, et al., the clean air journal, vol. 26, no 2, 2016. link \\u2022 global spectral properties and comparative study of intermediate flares and recurrent short bursts from sgr 1900+14 observed by swift-bat, mona molham and alaa ibrahim, the astrophysical journal (impact factor 5.9) \\u2022 the x-ray spectrum of the black hole candidate swift j1753.5-0127, reham mostafa, alaa ibrahim, et al., monthly notices of the royal astronomical society, 2013, doi: 10.1093/mnras/stt332 (impact factor 4.9) \\u2022 discovery of quasi-periodic oscillation from magnetar emission, ahmed el mezeini and alaa ibrahim, the astrophysical journal letters, vol. 721, l121, 2010. doi 10.1088/2041-8205/721/2/l121 (impact factor 5.5) \\u2022 swift-bat observations of the recently discovered magnetar sgr 0501+4516, harsha kumar, alaa ibrahim, samar safi-harb, the astrophysical journal, vol. 716, 97, 2010. doi 10.1088/0004-637x/716/1/97 (impact factor 5.9) \\u2022 discovery of a transient magnetar xte j1810-197, alaa ibrahim et al., the astrophysical journal letters, vol. 609, l21, 2004. (impact factor 5.5) f2 sultan qaboos university deanship of research research proposal family name given names department position al shidhani saleh said hamed physics assist prof telephone e-mail squ id # 24141439 - 95217145 shidhani7@squ.edu.om 2844 degrees college, university, institution country year master university of sussex uk 1996 doctorate university of sussex uk 2004 other teaching, research and industrial experience positions held dates department institution demonstrator sept. 1992 physics squ lecturer oct. 2001 physics squ assistant prof. 2004 -- physics squ any committees involvements institution year committee name __________ _______ national team for capacity building in space science & technology, squ 2013- national committee for peaceful uses of outer space, motc, 2008 \\u2013 national committee for star-light reserve, moeca, 2014 - promotion committee squ-phys 2017- master doctorate number of graduate degrees conferred upon students under the applicant\\u2019s supervision during the past six (6) years __3___ ______ number of graduate students currently supervised by the applicant ______ ______ type sponsor year research grants (title) __________ ________ _______ quantifying the astronomical visibility and internal squ 2005 atmospheric conditions quasi crystallography from the projection of. internal squ 2014-2015 higher dimensional lattices probing the properties of the fastest spinning, external trc 2014-2015 white dwarf in the galaxy. digital shearography system using digital, external trc 2016-2018. still camera signature ___________ __________ signature date significant research contributions (last 5 years only, including this year). maximum of 2 pages. list all publications that you have authored/co-authored using the following categories: refereed journal publications, books/chapters of books, refereed conference proceedings, patent applications. 1. al-shidhani, saleh, oman recent approach in determining qibla direction, the 6th islamic astronomical conference, the arab union for astronomy and space sciences, amman, jordan, 2013. 2. al-shidhani, saleh, enhancing the teaching of space science in oman, the 2nd conference of the scientific preparatory academy for cosmic explorers, orlando, florida, usa, 2014. 3. koca, nazife; koca, mehmet and al-shidhani, saleh, h-fold symmetric quasi-crystallography from affine coxeter groups, journal of physics conference series, nov 2014 4. al-battashi sara and al-shidhani, saleh, investigating the galaxy distribution using redshift surveys, the 11th arab conference on astronomy and space sciences, university of sharjah, uae, 2014. 5. al-shidhani, saleh, omani astronomical contributions, in omani contributions to applied science symposium, oman, 2015. 6. al-shidhani, saleh, space missions and orbits, the first cubesat workshop in oman, jan 2016. 7. al-shidhani, saleh, modular payload-centered cubesat structure, (poster) the 30th annual aiaa/usu conference on small satellites, logan, usa, 2016. 8. al-shidhani, saleh, space technologies and applications for sustainable development, symposium on peaceful use of space technologies and applications for the overall social and economic development, muscat, oman, oct 2016 9. al-shidhani, saleh and al-rahbi, yusuf, prayer time methodologies evolution in oman: past experiences, present requirements & future aspirations, dubai prayer times symposium, uae, nov 2016. 10. ter-kazarian, gagik & al shidhani, saleh, plausible intermediate mass black hole from m82x-2 x-ray pulsations, advances in astrophysics journal, 2017 (accepted) investigation of the environmental impact of a space mission to mars preliminary analysis we checked the availability of data from the remote sensing satellites mentioned in the proposal and here are sample observations over the dhofar region. the coverage and frequency of observations are adequate to achieve the scientific goals of the project. (1) surface remote sensing images of dhofar sentinel \\u2013 2 satellite image of the dhofar region landsat-8 satellite image of the dhofar region sentinel2look esri, here, garmin, \\u00a9 openstreetmap contributors, and the gis usercommunitymarch 30, 20180408020mi06012030km1:2,311,162 (2) atmospheric remote sensing of dust/particulate matter over dhofar with modis co-pi resume. research management system https://squsys/squ.edu.om/rms sultan qaboos universityf2 sultan qaboos university deanship of research research proposal family name given names department position al shidhani saleh said hamed physics assist prof telephone e-mail squ id # 24141439 - 95217145 shidhani7@squ.edu.om 2844 degrees college, university, institution country year master university of sussex uk 1996 doctorate university of sussex uk 2004 other teaching, research and industrial experience positions held dates department institution demonstrator sept. 1992 physics squ lecturer oct. 2001 physics squ assistant prof. 2004 -- physics squ any committees involvements institution year committee name __________ _______ national team for capacity building in space science & technology, squ 2013- national committee for peaceful uses of outer space, motc, 2008 \\u2013 national committee for star-light reserve, moeca, 2014 - promotion committee squ-phys 2017- master doctorate number of graduate degrees conferred upon students under the applicant\\u2019s supervision during the past six (6) years __3___ ______ number of graduate students currently supervised by the applicant ______ ______ type sponsor year research grants (title) __________ ________ _______ quantifying the astronomical visibility and internal squ 2005 atmospheric conditions quasi crystallography from the projection of. internal squ 2014-2015 higher dimensional lattices probing the properties of the fastest spinning, external trc 2014-2015 white dwarf in the galaxy. digital shearography system using digital, external trc 2016-2018. still camera signature ___________ __________ signature date significant research contributions (last 5 years only, including this year). maximum of 2 pages. list all publications that you have authored/co-authored using the following categories: refereed journal publications, books/chapters of books, refereed conference proceedings, patent applications. 1. al-shidhani, saleh, oman recent approach in determining qibla direction, the 6th islamic astronomical conference, the arab union for astronomy and space sciences, amman, jordan, 2013. 2. al-shidhani, saleh, enhancing the teaching of space science in oman, the 2nd conference of the scientific preparatory academy for cosmic explorers, orlando, florida, usa, 2014. 3. koca, nazife; koca, mehmet and al-shidhani, saleh, h-fold symmetric quasi-crystallography from affine coxeter groups, journal of physics conference series, nov 2014 4. al-battashi sara and al-shidhani, saleh, investigating the galaxy distribution using redshift surveys, the 11th arab conference on astronomy and space sciences, university of sharjah, uae, 2014. 5. al-shidhani, saleh, omani astronomical contributions, in omani contributions to applied science symposium, oman, 2015. 6. al-shidhani, saleh, space missions and orbits, the first cubesat workshop in oman, jan 2016. 7. al-shidhani, saleh, modular payload-centered cubesat structure, (poster) the 30th annual aiaa/usu conference on small satellites, logan, usa, 2016. 8. al-shidhani, saleh, space technologies and applications for sustainable development, symposium on peaceful use of space technologies and applications for the overall social and economic development, muscat, oman, oct 2016 9. al-shidhani, saleh and al-rahbi, yusuf, prayer time methodologies evolution in oman: past experiences, present requirements & future aspirations, dubai prayer times symposium, uae, nov 2016. 10. ter-kazarian, gagik & al shidhani, saleh, plausible intermediate mass black hole from m82x-2 x-ray pulsations, advances in astrophysics journal, 2017 (accepted) external-pi resume. research management system https://squsys/squ.edu.om/rms sultan qaboos universityco-investigators resume. research management system https://squsys/squ.edu.om/rms sultan qaboos universityf2 sultan qaboos university deanship of research research proposal family name given names department position shokr mohammed remote sensing, environment and climate change canada, canada scientist emeritus telephone e-mail squ id # +1-905-330-7682 mohammed.shokr@ec.gc.ca mo.shokr.ms@gmail.com n/a degrees college, university, institution country year master aerospace engineering, cairo university egypt 1974 doctorate aerospace engineering, cairo university egypt 1979 teaching, research and industrial experience positions held dates department institution scientist emeritus 2014 \\u2013 now remote sensing environment and climate change canada senior scientist 1982 - 2014 remote sensing environment and climate change canada visiting professor 2015 \\u2013 2017 beijing normal university visiting professor 2014 \\u2013 2015 zewail university of science and technology any committees involvements institution year committee name __________ _______ 2010-2012 member of the science team for developing the radarsat constellation mission (rcm), canada, to be launched in 2018 2008-2011 nato-sponsored project to establish a remote sensing observation center at cairo and al-azhar universities 1992-2010 committee member to develop specifications of spaceborne radar sensors onboard the european satellites (ers and envisat) and the canadian satellites radarsat-1 and radarsat-2 research training information master doctorate number of graduate degrees conferred upon students under the applicant\\u2019s supervision during the past six (6) years ___7___ ___5___ number of graduate students currently supervised by the applicant ______ __1___ type sponsor year research grants (title) __________ ________ _______ 2017 collaborator, \\u201csea ice type distribution in the antarctic from microwave satellite observations\\u201d, university of bremen, germany, funded by dfg, germany euro 200,000 2014 collaborator, \\u201cthe impact of biogenic and anthropogenic atmospheric aerosols to climate in egypt\\u201d, us nas \\u2013 usaid us $ 170,000 2012 co-pi, \\u201carctic sea ice mapping using radar remote sensing data\\u201d, natural science and engineering council, canada can $ 300,000 signature ___________ __________ signature date significant research contributions (last 5 years only, including this year). maximum of 2 pages. list all publications that you have authored/co-authored using the following categories: refereed journal publications, books/chapters of books, refereed conference proceedings, patent applications. - current research includes: remote sensing of aerosols, remote sensing of cryosphere, expert in, satellite remote sensor applications, taught undergraduate and graduate courses in remote sensing. and supervised m.sc. and ph.d. students working on aerosol remote sensing, authored with n. k. sinha in 2015 the book \\u201csea ice: physics and remote sensing\\u201d, published by john wiley publisher, 600p. 2016 invited speaker to a few universities in china to talk about remote sensing of polar region: beijing normal university, wuhan university, nanjing university and chongqing university. october 2016 invited speaker to the \\u201cinternational symposium on polar environmental change and public governance\\u201d, wuhan, china; and the china symposium on polar science, polar research institute of china. nov. 2015 invited speaker to the african leadership conference, sharm ek-shiekh, egypt. march 2015 invited speaker to the workshop \\u201coptimal estimation of ocean, ice and atmosphere parameters\\u201d at the danish institute of meteorology, copenhagen, denmark; related publications 1. shokr, m., el-tahan, m., ibrahim, a, steiner, a., and gad, n., (2017), \\u201clong-term, high-resolution survey of atmospheric aerosols over egypt with nasa\\u2019s modis data\\u201d, remote sensing, 9, 1207, doi:10.3390/rs9101027. 2. abdeen, m. m., gaber, a., shokr, m., and el-saadawy, o. a., (2017), \\u201cminimizing the labelling ambiguity during classification process of the geological units covering the central part of the suez canal corridor, egypt, using their radar scattering response\\u201d, egyptian j. of remote sensing, accepted for publication. 3. gad, n., shokr, m., ibrahim, a., (2017), \\u201cmicrophysical characteristics of atmospheric particulate matter from nasa\\u2019s modis, misr, and aeronet observations\\u201d, journal of physics: conf. series 869012081, doi :10.1088/1742-6596/869/1/012081. 4. fengming h., zhao, t, li, x, shokr, m., heil, p., zhao, j., zhang, l., cheng, x., (2017), *satellite-based sea ice navigation for prydz bay, east antarctica\\u201d, remote sensing, 9(6), 518, doi:10.3390/rs9060518 5. ye, y., shokr, m., heygster, and spreen, g., (2016), \\u201cimproving multiyear ice concentration estimates with ice drift\\u201d, remote sensing, 8(5), 397; doi:10.3390/rs8050397; 6. zeyada, h., shokr, m., ezz, m. m., nasr, a. h., and harb, h. m., (2016), \\u201cevaluation of the discrimination capability of full polarimetric sar data for crops classification\\u201d, int. j. of rem. sensing, vol. 37 (11), pp. 2585-2603. 7. hui, f., li, x., zhao, t., shokr, m., heil, p., zhao, j., liu, y., liang, s., and cheng, x., (2016), \\u201csemi-automatic mapping of tidal cracks in the fast ice region near zhongshan station in east antarctica using landsat-8 oli imagery\\u201d, remote sensing, vol. 8(3), 242: doi:10.3390/rs8030242 8. ye, y., shokr, m., and heygster, g (2016), \\u201cimproving multiyear ice concentration estimates with reanalysis air temperatures\\u201d ieee transactions on geoscience and remote sensing, vol. 54, no. 5, pp. 2602-2614 9. shokr, m., and sinha, n. k., (2015) \\u201csea ice: physics and remote sensing\\u201d, american geophysical union, monograph no. 209, john wiley publisher, 600p. 10. shokr, m., and dabboor, m., (2013), \\u201cinter-annual variability of young ice in the arctic estimated between 2002 and 2009\\u201d ieee transaction on geoscience and remote sensing\\u201d, 51, no. 6, pp. 3354-3370\",\n          \"sultan qaboos university compiled pdf research management system https://squsys/squ.edu.om/rmsf1 form. research management system https://squsys/squ.edu.om/rms sultan qaboos university1 form f1 sultan qaboos university deanship of postgraduate studies and research research proposal principal investigator family name: adham given names: sirin date 14-11- 2017 department: biology position assistant professor telephone :99417534 co-inves tigators (other investigators contributing significantly to the proposal) 1. name : prof. mansour al moundhari 4. name: dr. ahmed al shukaili department: medicine/ college of medicine department: biology/ university of nizwa 2. dr. fahad al zadjali 5. name: dr. adil al ajmi department: biochemistry / college of medicine department: surgery/ college of medicine 3. name: dr. marwa al riyami department: pathology/ college of medi cine total grant requested: 111,600 (ro) year 1: ( 49,800) year 2: ( 39,300) year 3 : (22,500) short title the use of molecular biology to understand the mechanism of cancer promoting molecules expresse d in omani breast cancer patients: towards personalized therapeutic approach summary breast cancer is the first leading cause of cancer -related deaths in omani women. omani patients with breast cancer present at a younger age with more advanced stage co mpared to their counterparts in the west. triple negative breast cancer (tnbc) is characterized by poor prognosis and reduced overall survival, which is further exacerbated due to lack of benefit from targeted h er-2 and hormonal therapeutics. furthermore, the incidence and mortality of tnbc in oman was shown to be higher compared to countries in the west. in this study we aim to decipher the general role of cancer related molecules which are specificly expressed in tnbc patients and compare them with other subtypes of breast cancer in order to find a spesific target for therapuetics . recently and from previuos research we found that vascular endothelial growth factor receptor 3 (vegfr3/flt -4) which is a key molecule in lymphangiogenesis an d tumour metastasis can differentiate between tnbc and non -tnbc. however, the exact functional mechanism of its action is not known yet. in addition, we also found through transcriptome analysis that tenacin c tnc oncogene is overexpressed in breast cancer cells which was re lated to overexpress ion of neuropilin -1 (nrp -1) another related molecule that is expressed more in tnbc . therefore, in this proposal we will assess vegfr3 , tnc and nrp -1 expression in an in vitro and in vivo model and in clinical patient tumour tissue and circulating plasma and compare them to those expression levels in the pbmcs. we further aim to dissect the specific mechanism of action of vegfr3 , tnc and nrp -1 in tnbc by manipulating in an in vitro and in vivo cell models to perform functional characteri zation of the tumourigenic properties of the modified cell line s by identifying novel downstream signalling/interacting molecules that drive vegfr3 , tnc and nrp -1-associated pathways using genomics, trascriptomics and proteomics technologies. results from the study will enable the development of a novel diagnostic/prognostic biomarker and additionally, establish its potential inhibitors as a feasible drug target for the treatment of the worst type of breast cancer. does the proposal need to be cleared by the university human/animal ethics committee? no signatures _______________________ _______________________ _____________________ principal investigator head of department dean for office use application no: date received : 2 outlin e of proposed research background extensive research in breast cancer management has led to the development of cytotoxic treatments er, in several howev 11driven targeted therapeutics contributing to improved survival - and biology developin g countries such as oman, where breast cancer is the most common cancer among women, , with a majority of the patients being 10year survival is still low as compared to the west - the 5 . triple negative breast cancer (tnbc) subtype, 1, 3, 8iagnosed at younger ages and advanced stage d does not benefit from targeted therapeutics or hormonal therapy due the lack of hormonal receptor . analysis on 542 breast 6, 7characterized by poor prognosis and overall survival expression and is cancer cases in oman by mehdi et al revealed that tnbc is more common in oman compared to other global studies, and it is associated with early onset, high grade tumours, advanced stage at presentation opment of personalized strategies aimed at the tnbc . thus, the devel4and a high mortality rate population in oman is of high priority . vascular endothelial growth factor receptor 3 (vegfr3/flt -4) is a receptor tyrosine kinase that drives lymphangiogenesis and angiogenesis on vegf -c binding, which p hosphorylates and activates . studies have proven the role of the 2, 9related transcriptional changes - vegfr3 signalling and e2f1 vegfr -3/vegf -c axis in cancer cell metastasis and highlighted increased vegfr3 express ion in tumour tissue compared to normal tissues and in advanced stage tumours with a low overall survival . however 14models indicated reduced tumour growth in vivoand in vitro . vegfr3 inhibition in 12rate and up to our knowledge there was no further studies investigating the clinical role that this tyrosin kinase play in the devel opment of tnbc. our preliminary data in vitro indicated that vegfr3 gene expression could only be detected in the mda -mb-231 triple negative breast cancer cell line compared to the mcf -7 (luminal b) and bt -474 (luminal b -like) breast cancer cell lines (fi g. 1a), similar to . moreover, our observations in peripheral blood mononuclear cells 13results previously reported (pbmcs) isolated from omani female breast cancer patients indicated significantly upregulated expre ssion of vegfr3 in pbmcs from patients with tnbc compared with the other subtypes (fig. could significantly distinguish plxna1and vegfr3 additionally, the combined expression of 5 1b) omani tnbc cases from non -tnbc patients (auc= 0.794 \\u00b1 0.112, p= 0.024 , 95% ci: 0.616 -0.973, sensitivity = 85.7% , specificity= 80%) (fig. 1c). based on these observations, we hypothesize that increased expression of vegfr3 in tnbc could play a potential novel role in the absence of the three main hormone receptors triggering the poor prognosis phenotype associated w ith tnbc. we further predict the potential of vegfr3 inhibitors for the treatment of tnbc . long -term goals 1) to understand the biological significance of vegfr3 , tnc and nrp -1 in triple negative breast cancer 2) to det ermine the potential of targeting vegfr3 in the management of triple negative breast cancer patients auc=0.794 \\u00b1 0.091 p value= 0.012, 95% ci: 0.616 - 0.973 fig. 1a fig. 1b fig. 1c 3 short -term goals 1) determine the expression of vegfr3 , tnc and nrp -1 in numerous subtypes of triple negative breast cancer cell lines the atcc triple -negative breast cancer panel 3 (atcc tcp -1003tm), which consists of 17 triple negative breast cancer cell lines with either basal -like, mesenchymal or luminal morphology, will be assessed for their baseline vegfr3 expression using quantitative real -time pcr (qrt -pcr) for gene expression and western blotting for protein expression. the gene and protein expression will be compared across the selected triple negative breast cancer cell lines. human dermal microvascular endothelial cells (hdmec) will be utiliz ed as a positive control. 2) knockdown the expression of vegfr3 , tnc and nrp -1 in tnbc cell line with high expression triple negative breast cancer cell line with the highest vegfr3 expression, as determined by gene and protein expression, will be subjected t o vegfr3 kno ckdown using crispr -cas9, generate a rescue line with recombinant vegfr3 or empty vector as a control, and then assess in vitro and in vivo effects of this genetic manipulation on a range of in vitro and in vivo parameters. additionally, the sa r131675 compound (selleck chemicals, usa), a selective inhibitor of vegfr3 will be utilized to inhibit this protein in the selected cell line at optimized doses. 3) functional assessment of vegfr3 , tnc and nrp -1 role in tumourigenecity in the genetically mod ified cell line to study their 2d metastatic potential, the vegfr3 -knockdown and sar131675 -treated cells will be subjected to the migration assay. the ability of the modified cell lines to undergo cell division and form colonies in vitro will be studied wi th the clonogenic assay. additionally, to ensure investigation of the modified cell lines in context of their behaviour in vivo as tumours, the ability of these cells to form spheroids will be determined and the proliferative and invasive properties of the spheroids will be assessed. wild -type untreated cells and vector -transfected cells will be used for comparison as negative controls. 4) in vivo mice orthotopic xenograft and experimental metastasis models will be generated the genetically modified cells with vegfr3 knockout and the rescue line with recombinant vegfr3 and control empty vector will be grafted in mice , 5 \\u00d7 106 cells w ill be injected subcutaneously into additional female rag1 null mice, and the tumors will be measured twice weekly. these studies will correlate vegfr3 expression in cancer cells with tumor growth rates at the orthotopic engraftment site. in addition, metastasis to the lungs and other organs; will be studied by injecting the cancer cells into the mouse tail vein and the survival and colonization of the lung and other organs with be determined by animal imaging techniques. the mice experiments will be performed in collaboration with dr. peter greer at queen\\u2019s university, canada. 5) identify and confirm downstream candidate proteins on v egfr3 and tnc modulation in order to identify differentially expressed genes (degs) on vegfr3 knockout, rna will be isolated from 3 replicates each of the wild -type, knockdown and vector control cells and subjected to high -throughput transcriptomic analyse s using the genseqtm next generation sequenci ng technology at cd genomics (ny , usa). the degs will be analysed in silico using the blast2go software to identify the pathways and functions (kegg pathways, gene ontology terms) associated with these genes. st ringently shortlisted genes (with >2 -fold expression fold -change, consistency in all replicates) will be selected for confirmation with qrt -pcr. candidate genes of interest will be further investigated to identify their interaction with vegfr3 using the co - immunoprecipitation assay. moreover, western blotting will be utilized to analyse the protein expression of these candidates and the activation/suppression of their relevant pathways in the vegfr3 knockdown and wild -type cells. 6) immunohistochemical staini ng for vegfr3 and tnc will be conducted on breast tumor and lymph node tissue sections of retrospective chemotherapy -na\\u00efve tnbc cases and non - tnbc cases with and without lymph node metastasis and compared to normal breast tissue/lymph nodes retrieved from the pathological archive at the sultan qaboos university hospital. as a confirmatory independent experiment, vegfr3 staining will also be conducted on 4 a commercially -available breast cancer tissue array (#bc081120a, biomax, usa) that includes all patient d iagnostic characteristics and adjacent normal breast tissue. moreover, the cancer genome atlas (tcga) database will be scanned to retrieve data pertaining to vegfr3 expression in triple negative breast cancer and hence, compare it with our results. 7) quantif y soluble vegfr3 and the oncogene tnc in plasma isolated from patients with breast cancer enzyme -linked immunosorbent assay (elisa) will be utilized to quantify the concentration of soluble vegfr3 in plasma isolated from the blood of tnbc cases, non -tnbc c ases and healthy controls. (collected in a previous research with approved ethical document #squ -eu/162/14 mrec#1018) 8) correlate the tissue and plasma expression of vegfr3 and tnc with patient disease characteristics multivariate and univariate models will be utilized to statistically analyze the correlation between vegfr3 expression in the tumour tissue and its soluble levels in plasma with the patients\\u2019 pathological and clinical diagnosis (e.g. tumour grade, nodal or distant metastasis, ki -67 proliferation index, tumour molecular type and overall disease stage). furthermore, roc analysis will be conducted to determine the predictive capability of vegfr3 expression with the patients\\u2019 characteristics. (collected in a previous research with approved ethical do cument #squ - eu/162/14 mrec#1018) protocol cell culturing all cell lines will be cultured according to atcc guidelines under sterile conditions in the in -house class iii laminar airflow and maintained in the incubator at 37 \\u00b0c with 5% co2 . quantitati ve real -time pcr rna will be extracted from each of the cultured cell lines using tri reagent solution (#am9738, ambion), followed up phase separation using chloroform and isopropanonl -based precipitation. the rna pellet with be washed in 70% ethanol and resuspended in depc -teated water (#am9922, ambion), 1 \\u03bcg of extracted rn a will be treated with dnase i (#am2222, ambion .) and converted to cdna using the high capacity reverse transcription kit (#4368814, thermo fisher scientific). the cdna will be diluted by 10 -fold and 15 ng of cdna will be utilized per reaction with 100 nm concentration of vegfr3 forward (caacggcatccagcgatt) and reverse primer (aagggattttcatgcacaatga) and fast sybr green mastermix (#4385612, applied biosystems) for qrt -pcr using the abi 7500 fast real time pcr system (in house). all primer sets will be designed using the in -house primer express software (thermo fisher scientific). two technical replicates and three biological replicates will be conduct ed to confirm the data obtained . western blotting western blotting protein will be extracted using cell lysis buffer (#9803s, cell signalling technologies) supplemented with the pmsf protease inhibitor and stored at -80\\u00b0c. extracted protein will be quantified using the 000111, biorad) and equal concentrations will be loaded and resolved on 7.5% protein assay (#5 tmdc sds-page gels (tgx stain -free fast -cast, #1610181, biorad) at 100 v, followed by transfer to 0.2 \\u03bcm pvdf membrane (#162 -0177, biorad) using the in house trans -blot turbo tranfer system (biorad). the membrane will blocked with 5% milk+tris buffered saline and incubated overnight with anti-vegf rexeptor 3 rabbit polyclonal primary antibody (#ab27278, ab cam, uk) at 4 \\u00b0c, followed by incubation with anti -rabbit igg hrp -linked secondary antibody (#a0545, sigma). clarity western ecl substrate (#1705061, biorad) will be utilized for detection and visualization in the in house chemidoc touch imaging system (bio rad). visualized bands will be quantified using the image lab software (biorad). three biological replicates will be conducted to confirm the data obtained vegfr3 and tnc knockdown vegfr3 will be knocked down using the geneart precision g uided rna (grna) sysnthesis kit (invitrogen). the target sequences to be designed by the available dadatbase online tools (invitrogen, usa). the synthesized grna sequences will be transfected to mda -mb-231 cells using the geneart platinum cas9 nuclease (invitrogen) for 48 h ours. the remaining cells will be diluted and single clones will be isolated for protein expression analysis that will be checked using the geneart dna 5 cleavage assay kit (thermofisher, usa). simillarly the control scrambeled grna will be prepared and transfected to the cells . migration assay fn, cell biolabs inc., -125- coated (#cba- well cell migration assay, fibronectin-24 tmthe radius cells will be 6usa), will be utilized according to manufacturers instructions. briefly, upto 0.5x10 seeded in individual wells of the migration plate and allowed to attach for 2 hours. the gel spot in the migration wells, where cells do not adhere, will be dissolved and hence provide tmcentre of the radius area for spreading. images will be captured pre -migration and at vari ous time intervals for the duration of the migration using an inverted light microscope. the assay will be conducted in triplicate wells per cell line for technical replication and the experiment will be conducted thrice as biological replicates . clonogeni c assay well plate and maintained in the incubator for 14 days, followed - cells will be seeded per well in a 6 310 by fixation and staining with 0.5% crystal violet solution in methanol. the size and shape of the colonies will be observed using an inverted light microscope and counted manually in each of the wells. the assay will be conducted in six wells per cell line for technical replication and the experiment will be conducted thrice as biological replicates spheroid formation/proliferation/invasion assa y the cultrex 3d spheroid fluorometric proliferation assay (#3510 -096-k, r&d biosystems, usa) will be utilized to generate spheroids in a 96 -well plate format in spheroid formation extracellular matrix, according to manufacturer\\u2019s instructions. spheroid ex pansion will be monitored microscopically at regular intervals over a period of 5 days and the viability of the cells will be assessed by fluorescence using resazurin. additionally, the ability of the spheroids to invade through a matrix of basement membra ne proteins will be assessed with the cultrex 3d spheroid cell invasion assay (#3500 -096-k, r&d systems, usa) according to manufacturer\\u2019s instructions. the extent of projection of the invading cells in the matrix will be monitored microscopically . mouse m odel: two mouse models will be generated at queen\\u2019s university cancer institute; one mouse model will be generated to study the effect of knockdown transformed cells by assessing the tumorigenic behavior of ubcutaneously and the xenografts will be monitored and cells will be injected s 6the cells in which 5x10 measured weekly. we expect to have smaller tumors with the transformed vegfr3 knockout cells and bigger tumors in the respective controls. in addition, we will generate another mouse model to test the cells into the mice tail vein and monitor the 6ability of the cells to metastasize by injecting 5x10 movement of cancer cells using sophisticated animal imaging techniques . immunoprecipitation assay the pierce co -immunoprecipitation (co -ip) kit (#26 149, thermo scientific) will be utilized according to manufacturer\\u2019s instructions . immunohistochemistry briefly, 3 \\u03bcm serial sections will be obtained from formalin -fixed paraffin -embedded tissue specimen. deparaffinization using xylene and rehyradation with gradually decreasing concentrations of ethanol 0, followed by treatment with 2% will be performed. antigen retrieval be done using 1mm etda ph 9. to degrade endogenous peroxidase. the sections will be washed in phosphate buffered saline and 2o2h 0.05% triton x -100. tissue section will be blocked using 5% goat serum (#x0907,dako) and then incubated with anti -vegf rexe ptor 3 rabbit polyclonal primary antibody (#ab27278, abcam, uk) overnight at 4 \\u00b0c followed by incubation with biotinylated secondary antibody (1:1000, #e0432, dako) for 30 min. the stain will be developed with the dab reagent (#k346711 -2, dako) and the sect ions will be counterstained using haemotoxylin patient blood collection and processing 5 ml of blood will be collected from chemotherapy -na\\u00efve female patients diagnosed with pathologically -confirmed triple negative breast cancer (tnbc), non -tnbc and from h ealthy cancer - free individuals in etda vacutainers. an informed written consent will be obtained from all individuals included in the study prior to blood collection. the anti -coagulated blood will be subjected to density gradient centrifugation with histo paque (sigma aldrich, uk) for 30 min at 400 g (break off) at room temperature. the plasma layer will be aliquoted and stored at -80\\u00b0c until analysis . 6 soluble vegfr3 and tnc quantification in patient plasma a commercially available elisa kit (human svegfr3 /flt4 duoset elisa #dy349, r&d systems, uk) will be utilized to quantify the concentration of soluble vegfr3 in plasma according to manufacturers instructions . significance of outcomes this study will primarily shed light on the functional role of vegfr3 i n tnbc. furthermore, it opens up avenues for multi -disciplinary translational research to develop vegfr3 as a diagnostic/prognostic biomarker and/or as a novel drug target in improving the management of tnbc cases in a personalized manner, especially in om an, where the incidence of tnbc is high and prognosis is poor. hence, the study has a major impact on the socio -economic improvement of the healthcare system in oman. the study aims at developing the available scientific facilities in oman with state -of-the-art technology and propagating internal and international collaborations to transfer scientific knowledge and technological know -how. moreover, it will focus on the development of young talent and rigorous training of phd and masters students to enable t hem to complete their higher education at globally recognizable standards. additionally, the study will promote breast cancer research and awareness in oman by presenting the study observations at international and local conferences and publishing in high -impact peer-reviewed journals . references 1- al-moundhri m, al -bahrani b, pervez i, ganguly s, nirmala v, al -madhani a et al. the outcome of treatment of breast cancer in a developing country \\u2014oman. the breast 2004; 13: 139-145. 2- engelmann d, mayoli -nussle d, mayrhofer c, furst k, alla v, stoll a et al. e2f1 promotes angiogenesis through the vegf -c/vegfr -3 axis in a feedback loop for cooperative induction of pdgf -b. j mol cell biol 2013; 5: 391 -403. 3- kumar s, burney ia, al -ajmi a, al -moundhri ms. changing trends of breast cancer survival in sultanate of oman. journal of oncology 2011; 2011: 1 -7. 4- mehdi i, monem aa, al bahrani b, ramadhan fa. breast cancer molecular subtypes in oman: correlation with age, histology, and stage distribution - analysis of 542 cases. gulf j oncolog 2014; 1: 38 -48. 5- naik a, al -zeheimi n, bakheit cs, al riyami m, al jarrah a, al moundhri ms et al. neuropilin -1 associated molecules in the blood distinguish poor prognosis breast cancer: a cross -sectional study. scientific reports 2017; 7: 3301 . 6- onitilo aa, engel jm, greenlee rt, mukesh bn. breast cancer subtypes based on er/pr and her2 expression: comparison of clinicopathologic features and survival. clin med res 2009 ; 7: 4-13. 7- ovcaricek t, frkovic sg, matos e, mozina b, borstnar s. triple negative breast cancer - prognostic factors and survival. radiol oncol 2011; 45: 46 -52. 8- renganathan l, ramasubramaniam s, al -touby s, seshan v, al -balushi a, al -amri w et al. what do omani women kn ow about breast cancer symptoms? oman medical journal 2014; 29: 408. 9- saharinen p, tammela t, karkkainen mj, alitalo k. lymphatic vasculature: development, molecular regulation and role in tumor metastasis and inflammation. trends immunol 2004; 25: 387-395. 10- siegel rl, miller kd, jemal a. cancer statistics, 2016. ca: a cancer journal for clinicians 2016; 66: 7 -30. 7 11- sledge gw, mamounas ep, hortobagyi gn, burstein hj, goodwin pj, wolff ac. past, present, and future challenges in breast cancer tr eatment. journal of clinical oncology 2014 ; 32: 1979 -1986 . 12- su jl, yang pc, shih jy, yang cy, wei lh, hsieh cy et al. the vegf -c/flt -4 axis promotes invasion and metastasis of cancer cells. cancer cell 2006; 9: 209 -223. 13- su jl, chen ps, chien mh, chen pb, chen yh, lai cc et al. further evidence for expression and function of the vegf -c/vegfr -3 axis in cancer cells. cancer cell 2008; 13: 557-560. 14- varney ml, singh rk. vegf -c-vegfr3/flt4 axis regulates mammary tumor growth and metastasis in an autocrine manner. am j cancer res 2015; 5: 616 -628. 8 \\u0627\\u0644\\u0628\\u0627\\u062d\\u062b \\u0627\\u0644\\u0631\\u0626\\u064a\\u0633\\u064a \\u0627\\u0627\\u0644\\u0633\\u0645 : \\u062f. \\u0633\\u064a\\u0631\\u064a\\u0646 \\u0627\\u062f\\u0647\\u0645 \\u0627\\u0644\\u0642\\u0633\\u0645: \\u0627\\u0627\\u0644\\u062d\\u064a\\u0627\\u0621 \\u0627\\u0644\\u0648\\u0638\\u064a\\u0641\\u0629: \\u0627\\u0633\\u062a\\u0627\\u0630 \\u0645\\u0633\\u0627\\u0639\\u062f \\u0627\\u0644\\u0647\\u0627\\u062a\\u0641: 6869 \\u0627\\u0644\\u0628\\u0627\\u062d\\u062b \\u0627\\u0644\\u0631\\u0626\\u064a\\u0633\\u064a \\u0627\\u0644\\u0645\\u0646\\u0627\\u0648\\u0628 \\u0627\\u0627\\u0644\\u0633\\u0645 : \\u0628\\u0631\\u0648\\u0641\\u0633\\u0648\\u0631 \\u0645\\u0646\\u0635\\u0648\\u0631 \\u0627\\u0644\\u0645\\u0646\\u0630\\u0631\\u064a \\u0627\\u0644\\u0642\\u0633\\u0645: \\u0627\\u0644\\u0637\\u0628 \\u0627\\u0644\\u0648\\u0638\\u064a\\u0641\\u0629\\u0629\\u0629: \\u0628\\u0631\\u0648\\u0641\\u0633\\u0648\\u0648\\u0648\\u0631 \\u0637\\u0628\\u064a\\u0648\\u0648\\u0628 \\u0627\\u0645\\u0648\\u0648\\u0631\\u0627 \\u0627\\u0644\\u0633\\u0631\\u0637\\u0627\\u0646 \\u0627\\u0644\\u0647\\u0627\\u062a\\u0641: 1194 (\\u0627\\u0644\\u0628\\u0627\\u062d\\u062b\\u0648\\u0646 \\u0627\\u0644\\u0645\\u0634\\u0627\\u0631\\u0643\\u0648\\u0646- \\u0625\\u0646 \\u0648\\u062c\\u062f) \\u0627\\u0627\\u0644\\u0633\\u0645 : \\u062f. \\u0645\\u0631\\u0648\\u0647 \\u0627\\u0644\\u0631\\u064a\\u0627\\u0645\\u064a \\u0627\\u0644\\u0642\\u0633\\u0645 : \\u0639\\u0644\\u0645 \\u0627\\u0627\\u0644\\u0645\\u0631\\u0627 \\u0627\\u0627\\u0644\\u0633\\u0645 : \\u062f. \\u0639\\u0627\\u062f\\u0644 \\u0627\\u0644\\u0639\\u062c\\u0645\\u064a \\u0627\\u0644\\u0642\\u0633\\u0645 : \\u0627\\u0644\\u062c\\u0631\\u0627\\u062d\\u0647 \\u0627\\u0627\\u0644\\u0633\\u0645 : \\u062f.\\u0641\\u0647\\u062f \\u0627\\u0644\\u0632\\u062f\\u062c\\u0627\\u0644\\u064a \\u0627\\u0644\\u0642\\u0633\\u0645 : \\u0627\\u0644\\u0643\\u064a\\u0645\\u064a\\u0627\\u0621 \\u0627\\u0644\\u062d\\u064a\\u0648\\u064a\\u0647 \\u0627\\u0627\\u0644\\u0633\\u0645 : \\u062f.\\u0627\\u062d\\u0645\\u062f \\u0627\\u0644\\u0634\\u0643\\u064a\\u0644\\u064a \\u0627\\u0644\\u0642\\u0633\\u0645 : \\u0627\\u0627\\u0644\\u062d\\u064a\\u0627\\u0621 \\u0627\\u0644\\u0645\\u0646\\u062d\\u0629 \\u0627\\u0644\\u0645\\u0639\\u062a\\u0645\\u062f\\u0629 (\\u0631.\\u0639) 111,600 :\\u0627\\u0644\\u0639\\u0627\\u0645 \\u0627\\u0623\\u0644\\u0648\\u0644 49,800 :\\u0627\\u0644\\u0639\\u0627\\u0645 \\u0627\\u0644\\u062b\\u0627\\u0646\\u064a 39,300 : \\u0627\\u0644\\u0639\\u0627\\u0645 \\u0627\\u0644\\u062b\\u0627\\u0644\\u062b 22,500 )\\u0639\\u0646\\u0648\\u0627\\u0646 \\u0645\\u0634\\u0631\\u0648\\u0639 \\u0627\\u0644\\u0628\\u062d\\u062b (\\u062a\\u0638\\u0647\\u0631 \\u0641\\u064a\\u0647 \\u0627\\u0644\\u0645\\u062a\\u063a\\u064a\\u0631\\u0627\\u062a \\u0627\\u0623\\u0644\\u0633\\u0627\\u0633\\u064a\\u0629 \\u0627\\u0633\\u062a\\u062e\\u062f\\u0627\\u0645 \\u0627\\u0644\\u0628\\u064a\\u0648\\u0644\\u0648\\u062c\\u064a\\u0627 \\u0627\\u0644\\u062c\\u0632\\u064a\\u0626\\u064a\\u0629 \\u0644\\u0641\\u0647\\u0645 \\u0627\\u0644\\u064a\\u0629 \\u0627\\u0644\\u0645\\u0648\\u0631\\u062b\\u0627\\u062a \\u0627\\u0644\\u062c\\u0646\\u064a\\u0647 \\u0627\\u0644\\u0645\\u0631\\u062a\\u0628\\u0637\\u0647 \\u0628 \\u0633\\u0631\\u0637\\u0627\\u0646 \\u0627\\u0644\\u062b\\u062f\\u064a \\u0639\\u0646\\u062f \\u0627\\u0644\\u0646\\u0633\\u0627\\u0621 \\u0627\\u0644\\u0639\\u0645\\u0627\\u0646\\u064a\\u0627\\u062a: \\u0646\\u062d\\u0648 \\u0627\\u064a\\u062c\\u0627\\u062f \\u0639\\u0627\\u0644\\u062c \\u0641\\u0639\\u0627\\u0644 \\u0644\\u0647\\u0630\\u0627 \\u0627\\u0644\\u0645\\u0631 \\u0645\\u0644\\u062e\\u0635 \\u0645\\u0634\\u0631\\u0648\\u0639 \\u0627\\u0644\\u0628\\u062d\\u062b \\u064a\\u0639\\u062a\\u0628\\u0631 \\u0633\\u0631\\u0637\\u0627\\u0646 \\u0627\\u0644\\u062b\\u062f\\u064a \\u0627\\u0644\\u0645\\u0633\\u0628\\u0628 \\u0627\\u0644\\u0631\\u0626\\u064a\\u0633\\u064a \\u0644\\u0644\\u0648\\u0641\\u064a\\u0627\\u062a \\u0627\\u0644\\u0645\\u0631\\u062a\\u0628\\u0637\\u0629 \\u0628\\u0627\\u0644\\u0633\\u0631\\u0637\\u0627\\u0646 \\u0628\\u064a\\u0646 \\u0627\\u0644\\u0646\\u0633\\u0627\\u0621 \\u0627\\u0644\\u0639\\u0645\\u0627\\u0646\\u064a\\u0627\\u062a. \\u0643\\u0645\\u0627 \\u0627\\u0646 \\u0646\\u0633\\u0628\\u0629 \\u0627\\u0644\\u0646\\u0633\\u0627\\u0621 \\u0627\\u0644\\u0639\\u0645\\u0627\\u0646\\u064a\\u0627\\u062a \\u0627\\u0644\\u0634\\u0627\\u0628\\u0627\\u062a (\\u0635\\u063a\\u064a\\u0631\\u0627\\u062a \\u0627\\u0644\\u0633\\u0646) \\u0627\\u0644\\u0645\\u0635\\u0627\\u0628\\u0627\\u062a \\u0628\\u0633\\u0631\\u0637\\u0627\\u0646 \\u0627\\u0644\\u062b\\u062f\\u064a \\u0641\\u064a \\u0645\\u0631\\u0627\\u062d\\u0644 \\u0645\\u062a\\u0642\\u062f\\u0645\\u0629 \\u0645\\u0646 \\u0627\\u0644\\u0645\\u0631 \\u0643\\u0628\\u064a\\u0631\\u0629 \\u0645\\u0642\\u0627\\u0631\\u0646\\u0629 \\u0645\\u0639 \\u0646\\u0638\\u064a\\u0631\\u0627\\u062a\\u0647\\u0646 \\u0641\\u064a \\u0627\\u0644\\u0639\\u0627\\u0644\\u0645 \\u0627\\u0644\\u063a\\u0631\\u0628\\u064a\\u061b \\u0644\\u0630\\u0644\\u0643 \\u0648\\u062c\\u0628 \\u062a\\u0633\\u0644\\u064a\\u0637 \\u0627\\u0644\\u0636\\u0648\\u0621 \\u0641\\u064a \\u062a\\u0648\\u062c\\u064a\\u0647 \\u0627\\u0644\\u062c\\u0647\\u0648\\u062f \\u0627\\u0644\\u0645\\u0633\\u062a\\u0645\\u0631\\u0629 \\u062a\\u062c\\u0627\\u0647 \\u0627\\u0644\\u062a\\u062d\\u0643\\u0645 \\u0628\\u0627\\u0644\\u0645\\u0631 . \\u0645\\u0646 \\u0628\\u064a\\u0646 \\u0627\\u0627\\u0644\\u0646\\u0648\\u0627\\u0639 \\u0627\\u0644\\u0641\\u0631\\u0639\\u064a\\u0629 \\u0627\\u0644\\u062c\\u0632\\u064a\\u0626\\u064a\\u0629 \\u0644\\u0633\\u0631\\u0637\\u0627\\u0646 \\u0627\\u0644\\u062b\\u062f\\u064a\\u060c \\u064a\\u062a\\u0645\\u064a\\u0632 (\\u0633\\u0631\\u0637\\u0627\\u0646 \\u0627\\u0644\\u062b\\u062f\\u064a \\u0627\\u0644\\u062b\\u0627\\u0644\\u062b\\u064a \\u0627\\u0644\\u0633\\u0644\\u0628\\u064a) \\u0627\\u0644\\u063a\\u064a\\u0631 \\u0645\\u0639\\u062a\\u0645\\u062f \\u0639\\u0644\\u0649 \\u0627\\u0644\\u0647\\u0631\\u0645\\u0648\\u0646\\u0627\\u062a ( (tnbc \\u0628\\u0635\\u0639\\u0648\\u0628\\u0629 \\u0627\\u0644\\u0639\\u0627\\u0644\\u062c \\u0648 \\u0627\\u0646\\u062e\\u0641\\u0627 \\u0646\\u0633\\u0628\\u0629 \\u0627\\u0644\\u0646\\u062c\\u0627\\u0629 \\u0644\\u0644\\u0646\\u0633\\u0627\\u0621 \\u0627\\u0644\\u0645\\u0635\\u0627\\u0628\\u0627\\u062a \\u0628\\u0647\\u0630\\u0627 \\u0627\\u0644\\u0646\\u0648\\u0639 \\u062a\\u062d\\u062f\\u064a\\u062f\\u0627 \\u0648\\u0633\\u0628\\u0628 \\u0630\\u0644\\u0643 \\u0639\\u062f\\u0645 \\u062c\\u062f\\u0648\\u0649 \\u062c\\u0645\\u064a\\u0639 \\u0627\\u0644\\u0639\\u0627\\u0644\\u062c\\u0627\\u062a \\u0627\\u0644\\u0647\\u0631\\u0645\\u0648\\u0646\\u064a\\u0629 \\u0648\\u0627\\u0644\\u0645\\u0633\\u062a\\u0647\\u062f\\u0641\\u0629 \\u0648\\u0627\\u0644\\u062a\\u064a \\u0627\\u062b\\u0628\\u062a\\u062a \\u0641\\u0639\\u0627\\u0644\\u064a\\u062a\\u0647\\u0627 \\u0641\\u064a \\u0627\\u0627\\u0644\\u0646\\u0648\\u0627\\u0639 \\u0627\\u0627\\u0644\\u062e\\u0631\\u0649 \\u0645\\u0646 \\u0627\\u0627\\u0644\\u0646\\u0648\\u0627\\u0639 \\u0627\\u0644\\u062c\\u0632\\u0626\\u064a\\u0629 \\u0644\\u0633\\u0631\\u0637\\u0627\\u0646 \\u0627\\u0644\\u062b\\u062f\\u064a. \\u0648\\u0644\\u0627\\u0644\\u0633\\u0628\\u0627\\u0628 \\u0627\\u0644\\u0633\\u0627\\u0628\\u0642\\u0629 \\u0644\\u0648\\u062d\\u0638 \\u0627\\u0646 \\u0646\\u0633\\u0628\\u0629 \\u0627\\u0644\\u0648\\u0641\\u064a\\u0627\\u062a \\u0644\\u0644\\u0646\\u0633\\u0627\\u0621 \\u0627\\u0644\\u0645\\u0635\\u0627\\u0628\\u0627\\u062a \\u0628\\u0647\\u0630\\u0627 \\u0627\\u0644\\u0646\\u0648\\u0639 \\u0641\\u064a \\u0627\\u0644\\u0633\\u0644\\u0637\\u0646\\u0647 \\u0627\\u0639\\u0644\\u0649 \\u0645\\u0642\\u0627\\u0631\\u0646\\u0629 \\u0628\\u0627\\u0644\\u062f\\u0648\\u0644 \\u0627\\u0644\\u063a\\u0631\\u0628\\u064a\\u0629. \\u0639\\u0627\\u0644\\u0648\\u0629 \\u0639\\u0644\\u0649 \\u0630\\u0644\\u0643\\u060c \\u0641\\u0625\\u0646 \\u0647\\u0630\\u0647 \\u0627\\u0644\\u062f\\u0631\\u0627\\u0633\\u0629 \\u062a\\u0647\\u062f\\u0641 \\u0627\\u0644\\u0649 \\u0645\\u0639\\u0631\\u0641\\u0629 \\u0627\\u0644\\u062f\\u0648\\u0631 \\u0627\\u0627\\u0644\\u0633\\u0627\\u0633\\u064a \\u0644\\u0644\\u0645\\u0633\\u062a\\u0642\\u0628\\u0644 \\u0627\\u0644\\u062b\\u0627\\u0644\\u062b \\u0641\\u064a \\u0639\\u0627\\u0645\\u0644 \\u0627\\u0644\\u0646\\u0645\\u0648 \\u0644\\u063a\\u0634\\u0627\\u0621 \\u0627\\u0627\\u0644\\u0648\\u0639\\u064a\\u0629 \\u0627\\u0644\\u0644\\u0645\\u0641\\u0627\\u0648\\u064a\\u0647 (4 vegfr3/flt - ) \\u0648\\u0627\\u0644\\u0630\\u064a \\u064a\\u0639\\u062a\\u0628\\u0631 \\u0627\\u0644\\u062c\\u0632\\u0621 \\u0627\\u0644\\u0631\\u064a\\u0626\\u064a\\u0633\\u064a \\u0641\\u064a \\u062a\\u0643\\u0648\\u064a\\u0646 \\u0627\\u0627\\u0644\\u0648\\u0639\\u064a\\u0629 \\u0627\\u0644\\u0644\\u0645\\u0641\\u0627\\u0648\\u064a\\u0629 \\u0644\\u0644\\u0633\\u0631\\u0637\\u0627\\u0646 \\u0648\\u0627\\u0646\\u062a\\u0634\\u0627\\u0631\\u0647\\u060c \\u0641\\u064a \\u0645\\u0631 \\u0633\\u0631\\u0637\\u0627\\u0646 \\u0627\\u0644\\u062b\\u062f\\u064a \\u0648\\u062e\\u0635\\u0648\\u0635\\u0627 \\u0641\\u064a \\u0633\\u0631\\u0637\\u0627\\u0646 \\u0627\\u0644\\u062b\\u062f\\u064a \\u0627\\u0644\\u063a\\u064a\\u0631 \\u0645\\u0639\\u062a\\u0645\\u062f \\u0639\\u0644\\u0649 \\u0627\\u0644\\u0647\\u0631\\u0645\\u0648\\u0646\\u0627\\u062a (( tnbc . \\u0628\\u0646\\u0627\\u0621\\u0627 \\u0639\\u0644\\u0649 \\u0627\\u0644\\u0645\\u0627\\u0644\\u062d\\u0638\\u0627\\u062a \\u0645\\u0646 \\u0646\\u062a\\u0627\\u0626\\u062c \\u0627\\u0628\\u062d\\u0627\\u062b\\u0646\\u0627 \\u0627\\u0644\\u0633\\u0627\\u0628\\u0642\\u0647\\u060c \\u0648\\u062c\\u062f\\u0646\\u0627 \\u0627\\u0646 \\u0627\\u0644\\u062a\\u0639\\u0628\\u064a\\u0631 \\u0627\\u0644\\u062c\\u064a\\u0646\\u064a \\u0644 vegfr3 (\\u0627\\u0631\\u062a\\u0641\\u0627\\u0639 \\u0646\\u0633\\u0628\\u0629 \\u0627\\u0644\\u062c\\u064a\\u0646) \\u0641\\u064a \\u062e\\u0627\\u0644\\u064a\\u0627 \\u0627\\u0644\\u062f\\u0645 \\u0627\\u0644\\u0645\\u0646\\u0627\\u0639\\u064a\\u0629 \\u064a\\u0645\\u0643\\u0646 \\u0627\\u0646 \\u062a\\u0641\\u0631\\u0642 \\u0628\\u064a\\u0646 \\u0633\\u0631\\u0637\\u0627\\u0646 \\u0627\\u0644\\u062b\\u062f\\u064a \\u0645\\u0646 \\u0627\\u0644\\u0646\\u0648\\u0639 tnbc \\u0648\\u0627\\u0627\\u0644\\u0646\\u0648\\u0627\\u0639 \\u0627\\u0627\\u0644\\u062e\\u0631\\u0649. \\u0648\\u0645\\u0639 \\u0630\\u0644\\u0643 \\u0641\\u0625\\u0646 \\u0627\\u0627\\u0644\\u0644\\u064a\\u0629 \\u0627\\u0644\\u062f\\u0642\\u064a\\u0642\\u0629 \\u0627\\u0644\\u0645\\u0633\\u0624\\u0648\\u0644\\u0629 \\u0639\\u0646 \\u0647\\u0630\\u0647 \\u0627\\u0644\\u0639\\u0645\\u0644\\u064a\\u0629 \\u0627\\u0644 \\u062a\\u0632\\u0627\\u0644 \\u0645\\u062c\\u0647\\u0648\\u0644\\u0629. \\u0644\\u0630\\u0644\\u0643 \\u0641\\u064a \\u0647\\u0630\\u0627 \\u0627\\u0644\\u0645\\u0642\\u062a\\u0631\\u062d \\u0633\\u0648\\u0641 \\u0646\\u0642\\u064a\\u0645 \\u0627\\u0644\\u062a\\u0639\\u0628\\u064a\\u0631 \\u0627\\u0644\\u062c\\u064a\\u0646\\u064a \\u0644 vegfr3 ( \\u0641\\u064a \\u0627\\u0644\\u0646\\u0645\\u0627\\u0630\\u062c \\u0627\\u0644\\u0645\\u062e\\u0628\\u0631\\u064a\\u0629 in vitro )\\u060c \\u0648\\u0627\\u0627\\u0644\\u0646\\u0633\\u062c\\u0629 \\u0627\\u0644\\u0633\\u0631\\u0637\\u0627\\u0646\\u064a\\u0629 \\u0644\\u0644\\u0645\\u0631\\u0636\\u0649 ( in vivo ( ) \\u0648\\u0627\\u064a\\u0636\\u0627 \\u0641\\u064a \\u0628\\u0627\\u0644\\u0632\\u0645\\u0627 \\u0627\\u0644\\u062f\\u0645 \\u0648\\u0645\\u0642\\u0627\\u0631\\u0646\\u062a\\u0647\\u0627 \\u0645\\u0639 \\u062a\\u0644\\u0643 \\u0627\\u0644\\u0645\\u0633\\u062a\\u0648\\u064a\\u0627\\u062a \\u0641\\u064a \\u0627\\u0644\\u062e\\u0627\\u0644\\u064a\\u0627 \\u0627\\u0644\\u0645\\u0646\\u0627\\u0639\\u064a\\u0629 \\u0644\\u0644\\u062f\\u0645 pbmcs ). \\u0643\\u0645\\u0627 \\u0633\\u0646\\u062d\\u0627\\u0648\\u0644 \\u0641\\u064a \\u0647\\u0630\\u0647 \\u0627\\u0644\\u062f\\u0631\\u0627\\u0633\\u0629 \\u0627\\u0633\\u062a\\u0643\\u0634\\u0627\\u0641 \\u0648\\u0641\\u0647\\u0645 \\u062f\\u0648\\u0631 vegfr3 \\u0641\\u064a \\u0633\\u0631\\u0637\\u0627\\u0646 \\u0627\\u0644\\u062b\\u062f\\u064a \\u0627\\u0644\\u063a\\u064a\\u0631 \\u0645\\u0639\\u062a\\u0645\\u062f \\u0639\\u0644\\u0649 \\u0627\\u0644\\u0647\\u0631\\u0645\\u0648\\u0646\\u0627\\u062a tnbc ) ) \\u0639\\u0646 \\u0637\\u0631\\u064a\\u0642 \\u062f\\u0631\\u0627\\u0633\\u0629 \\u0648\\u0638\\u064a\\u0641\\u064a\\u0629 \\u0627\\u0644\\u062d\\u062f\\u0627\\u062b \\u062a\\u063a\\u064a\\u064a\\u0631\\u0627\\u062a \\u0641\\u064a \\u062e\\u0627\\u0644\\u064a\\u0627 \\u0627\\u0644\\u0646\\u0645\\u0627\\u0630\\u062c \\u0627\\u0644\\u0645\\u062e\\u0628\\u0631\\u064a\\u0629 \\u0648\\u062a\\u062c\\u0627\\u0631\\u0628 \\u0627\\u0644\\u0641\\u0626\\u0631\\u0627\\u0646 \\u0627\\u0644\\u0645\\u062e\\u0628\\u0631\\u064a\\u0647 (\\u0627\\u0644\\u0645\\u0639\\u062f\\u0644\\u0629 \\u0648\\u0631\\u0627\\u062b\\u064a\\u0627) \\u0648\\u0627\\u0633\\u062a\\u062e\\u062f\\u0627\\u0645\\u0647\\u0627 \\u0644\\u0645\\u0639\\u0631\\u0641\\u0629 \\u0627\\u0644\\u0648\\u0638\\u064a\\u0641\\u0629 \\u0627\\u0627\\u0644\\u0633\\u0627\\u0633\\u064a\\u0629 \\u0644\\u0647\\u0630\\u0627 \\u0627\\u0644\\u062c\\u064a\\u0646 \\u0648 \\u0627\\u0644\\u062c\\u064a\\u0646\\u0627\\u062a \\u0627\\u0644\\u0645\\u062a\\u0639\\u0644\\u0642\\u0647 \\u0628\\u0647 \\u0645\\u062b\\u0644 \\u0627\\u0644\\u062c\\u064a\\u0646 \\u0627\\u0644\\u0630\\u064a \\u064a\\u0633\\u0645\\u0649 \\u0644 tenascin c (tnc) }\\u0648\\u0628\\u0627\\u0644\\u0645\\u0633\\u0627\\u0631\\u0627\\u062a \\u0627\\u0644\\u0645\\u0631\\u062a\\u0628\\u0637\\u0629 \\u0628\\u0647 \\u0628\\u0627\\u0633\\u062a\\u062e\\u062f\\u0627\\u0645 \\u0648\\u0633\\u0627\\u0626\\u0644 \\u0627\\u0644\\u062a\\u0642\\u0646\\u064a\\u0629 \\u0627\\u0644\\u062d\\u062f\\u064a\\u062b\\u0629. \\u0633\\u062a\\u0633\\u0647\\u0645 \\u0646\\u062a\\u0627\\u0626\\u062c \\u0647\\u0630\\u0647 \\u0627\\u0644\\u062f\\u0631\\u0627\\u0633\\u0629 \\u0641\\u064a \\u062a\\u0637\\u0648\\u064a\\u0631 \\u0627\\u0644\\u0645\\u0639\\u0631\\u0641\\u0629 \\u0627\\u0644\\u0639\\u0644\\u0645\\u064a\\u0629 \\u0644 vegfr3 \\u0648\\u0628\\u0627\\u0644\\u062a\\u0627\\u0644\\u064a \\u0641\\u064a \\u0627\\u0633\\u062a\\u062e\\u062f\\u0627\\u0645\\u0647\\u0627 \\u0643\\u0639\\u0627\\u0644\\u0645\\u0629 \\u0628\\u064a\\u0648\\u0644\\u0648\\u062c\\u064a\\u0629 \\u0641\\u064a \\u0627\\u0644\\u062a\\u0634\\u062e\\u064a\\u0635 \\u0648 \\u0643\\u0639\\u0627\\u0644\\u062c \\u0628\\u064a\\u0644\\u0648\\u062c\\u064a \\u0645\\u062a\\u0648\\u0641\\u0631 \\u064a\\u0633\\u062a\\u0647\\u062f\\u0641 \\u0627\\u0627\\u0644\\u0646\\u0648\\u0627\\u0639 \\u0627\\u0644\\u0645\\u0633\\u062a\\u0639\\u0635\\u064a\\u0629 \\u0644\\u0633\\u0631\\u0637\\u0627\\u0646 \\u0627\\u0644\\u062b\\u062f\\u064a. 9 summary of budget personnel time allocation year 1 (hrs/wk) year 2 (hrs/wk) year 3 (hrs/wk) principal investigator 35 35 35 co-investigator 15 15 15 co-investigator 15 15 15 technician 10 10 10 overhead costs 40% of the personnel costs summary of funds requested (ro) year 1 year 2 year 3 total capital equipment (including computer hardware) recurrent items (consumables) 20,000 10,000 10,000 40,000 computer software use of university facilities conference attendance 1000 1000 travel and accomodation inside oman travel and accomodation outside overseas 1000 insurance research assistants postdoctral fellow 15,600 15,600 31,200 research consultants phd. student 12,000 12,000 12,000 36,000 publication costs 1000 500 500 2000 miscellaneous 200 200 400 total 49,800 39,300 22,500 111,600 squ -dogsar -110 project costs breakdown (ro) personnel time allocation year 1 (hrs/wk) year 2 (hrs/wk) year 3 (hrs/wk) principal investigator co-investigator co-investigator technician subtotal capital equipment (including computing hardware) year 1 year 2 year 3 total subtotal recurrent items(consumables) year 1 year 2 year 3 total 20,000 10,000 10,000 40,000 subtotal 20,000 10,000 30,000 comput er software year 1 year 2 year 3 total subtotal use of university facilities year 1 year 2 year 3 total subtotal squ -dogsar -1 11 conference attendance destination year 1 estimated expenses year 2 estimat ed expenses year 3 estimated expenses total (ro) north america 1000 1000 subtotal 1000 1000 travel and accomodation inside oman year 1 expenses year 2 expenses year 3 expenses destination travel accommodation travel accommodation travel accommodation total (ro) subtotal travel and accomodation outside oman year 1 expenses year 2 expenses year 3 expenses destination travel accommodation travel accommodation travel accommodation total (ro) north america 700 300 1000 subtotal 1000 insurance year 1 year 2 year 3 total subtotal research assistants name project duties work period expenses (ro) post doctorate with cancer re aserch experi ence to be employed carry out the clinical experiments supervise undergraduate and graduate students 8 hours a day (2 years contarct) 1300 ro/ month phd. student prepare a quality phd thesis with international publications 8 hours aday ( 3 years contract) 1000 ro/ month subtotal 67,200 12 research consultants name country present position period of visit travel (ro) accommodation (ro) sponsors prof. peter greer canada professor molecular medicine subtotal publication co sts year 1 year 2 year 3 total subtotal miscellaneous year 1 year 2 year 3 total 200 200 subtotal 200 200 grand total 400 collaboration 1. are there expected to be any collaborative arrangement in existence relating to the research project? 2. name and address of the collaborating organization : name of the organization/institution address 3. contribution provided by collaborating organization particulars year 1 year 2 year 3 total (ro) (i) consumables (ii) use of facilities/equipment (iii) others (specify) (iv) total contributions squ -dogsar -1 r\\u00e9sum\\u00e9 of pi research management system https://squsys/squ.edu.om/rms sultan qaboos universityf2 sultan qaboos university deanship of research research proposal family name given names department position adham sirin biology associate professor telephone e-mail squ i d # 99417534 sadham@squ.edu.om 9344 degrees college, university, institution country year master maich greece 1997 doctorate university of leon spain 2002 postdoctoral fellow university of waterloo canada 2003 -2006 postdoctoral associate university of guelph canada 2006 -2009 teaching, research and industrial experience positions held dates department institution assistant professor september 2010 - may 2019 biology sultan qaboos university associate pr ofessor june 2019 -present biology sultan qaboos university committee name : student training: dept. biology 2010 -2014 research committee college of science 2015 -2019 college board college of science 2019 -present teaching: enzyme biochemistry and genetic engineering master doctorate number of graduate degrees conferred upon students under the applicant\\u2019s supervision during the past six (6) years _5_____ __ 2____ number of graduate students currently supervised by the applicant ___ 1___ _____ research grants (title) neuropilin -1 validation as a biomarker for breast cancer type health sponsor trc / completed year 2015 - 2017. signature ___________ __________ signature date significant research contributions (last 5 years only, including this year). maximum of 2 pages. 1- noura al -zeheimi, sirin a. adham *. (2019) modeling neoadjuvant chemotherapy resistance in vitro increased nrp -1 and her2 expression and converted mcf7 breast cancer subtype . british journal of pharmacology may;177(9):2024 -2041. doi: 10.1111/bph.14966 . (if=6.58) affiliation= squ. 2- badreldin h. ali, suhail al -salam, sirin a. adham , khalid al balushi, mohammed al za'abi, sumaya beegam, priya yuvaraju, priyadarsini manoj, and abderrah im nemmar. (2019) testicular toxicity of water pipe smoke exposure in mice and the effect of treatment with nootkatone thereon. oxidative medicine and cell longevity. jun 25;2019:2416935. doi: 10.1155/2019/2416935. ( if= 4.868/ci=0) affiliation=squ . 3- noura a l-zeheimi, adviti naik, charles saki bakheit, marwa al riyami, adil al ajarrah, suaad al badi, khalid al baimani, kamran malik, zamzam al habsi, mansour s. al moundhri , sirin a. adham *. (2019) neoadjuvant chemotherapy alters neuropilin -1, plgf, and snai1 expression levels and predicts breast cancer patients response. frontiers in oncology. 2019 apr 25;9:323. doi: 10.3389/fonc.2019.00323. (if=4.41/ci=0 ) affiliation=squ . 4- adviti naik, aida al -yahyaee, nada abdullah, juda el sam. noura al -zeheimi, mahmoud w yaish, sirin a adham *. (2018) neuropilin -1 promotes the oncogenic tenascin -c/integrin ?3 pathway and modulates chemoresistance in breast cancer cells. bmc cancer. doi: 10.1186/s12885 -018-4446 -y. (if=3.288/ci= 8), affiliation=squ . 5- badreldin h. ali, suhail a l salam, yousuf al suleimani, mohammed al za'abi, aly m. abdelrahman, mohammed ashique, priyadarsini manoj, sirin a adham , christina hartmann, nicole schupp, abderrahim nemmar. (2018) effects of the sglt - 2 inhibitor canagliflozin on adenine -induced chroni c kidney disease in rats. cellular physiology and biochemistry , (in press ). (if= 5.5/ci= 0), affiliation=squ . 6- badreldin h. ali, mohammed al za'abi, sirin a. adham , yousuf alsuleimani, turan karaca, priyadarsin manoj, jamila al kalbani, javid yasin, abderra him nemmar. (2018) the effect of sildenafil on rats with adenine induced chronic kidney disease. biomedicine & pharmacotherapy. volume 108, december 2018, pages 391 -402. ( if= 3.457/ci=0), affiliation=squ. 7- badreldin h. ali, khalid a. al balushi, mohammed as hique, asem shalaby, mohammed a. al kindi, sirin a. adham , turan karaca, sumaya beegam, priya yuvaraju, and abderrahim nemmar. (2017) chronic water -pipe smoke exposure induces injurious effects to reproductive system in male mice. frontiers in physiology . (if= 4.134 /ci=4) affiliation=squ . 8- adviti naik, noura al -zeheimi, charles saki bakheit, marwa al riyami, adil al ajarrah, mansour al moundhri, zamzam al habsi, maysoon basheer, sirin a adham *. (2017) neuropilin -1 associated molecules in the blood distingui sh poor prognosis breast cancer: a cross -sectional study. scientific reports . doi: 10.1038/s41598 -017-03280 -0. (if= 4.122/ci= 5), affiliation=squ . 9- sana al sinani, el sadiq eltayeb, brenda l. coomber, sirin a adham *. (2016) solamargine triggers cellular nec rosis selectively in different types of human melanoma cancer cells through extrinsic lysosomal mitochondrial death pathway. cancer cell international . 2016. doi: 10.1186/s12935 -016-0287 -4. (if= 3.489/ci= 13), affiliation=squ . 10- badreldin h. ali , mohammed al za'abi , sirin a adham, javid yasin , abderrahim nemmar , nicole schupp . (2016) therapeutic effect of chrysin on adenine -induced chronic kidney disease in rats. cellular physiology biochemistry.;38(1):248 -57. doi:10.1159/000438626. (if= 5.5/ci= 10), affiliat ion=squ . 11- badreldin h. ali , sirin a adham, kalid al balushi, asem shalaby, mostafa i. waly , priyadarsini manoj , sumaya beegam , priya yuvaraju , abderrahim nemmar . (2015) reproductive toxicity to male mice of nose only exposure to water - pipe smoke. cellul ar physiology and biochemistry, 35 (1):29 -37. doi:10.1159/000369672 . (if= 5.5/ci= 5), affiliation=squ . 12- badreldin h. ali , s a adham , mohammed al za'abi , mostafa i. waly, javid yasin, abderrahim nemmar, nicole schupp. (2015) ameliorative effect of chrysin o n adenine -induced chronic kidney disease in rats. plos one.;10(4):e0125285. doi:10.1371/journal.pone.0125285. (if= 2.766/ ci=23). affiliation=squ . 13- sirin a adham *, ibtisam al harrasi, ibrahim al haddabi, afrah al rashdi, shadiya al sinawi, abdullah al manir i, taher ba -omar, brenda l. coomber. (2014) immunohistological insight into the correlation between neuropilin -1 and epithelial -mesenchymal transition markers in epithelial ovarian cancer. ( journal of histochemistry & cytochemistry. ;62(9):619 -31. doi:10.1 369/0022155414538821. (if= 2.816/ ci=19). affiliation=squ . 14- sirin a adham *, hasina al rawahi, sumaya habib, mansour s al moundhri, alicia viloria -petit a, brenda l. coomber. (2014) modeling of hypo/hyperglycemia and their impact on breast cancer progression related molecules. plos one.;9(11):e113103. doi:10.1371/journal.pone.0113103. (if= 2.766/ ci=12). affiliation=squ . 15- badreldin h. ali , suhail al -salam, khalid a. al balushi , aishwarya ramkumar, mostafa i waly, javid yasin, sirin a adham , abderrahim nemmar. (2014) does swimming exercise affect experimental chronic kidney disease in rats treated with gum acacia? plos one.. ;9(7):e102528. doi:10.1371/journal.pone.0102528. (if= 2.766 / ci=13). affiliation=squ . 16- badreldin h. ali , suhail al -salam, mohammed al za'abi , mostafa i waly, aishwarya ramkumar, sumyia beegam, intisar al -lawati, sirin a adham , abderrahim nemmar. (2013) new model for adenine -induced chronic renal failure in mice, and the effect of gum acacia treatment thereon: comparison with rats. journal pharmacology toxicology methods.;68(3):384 -93. doi:10.1016/j.vascn.2013.05.001. (if= 2.438/ ci=42). affiliation=squ . 17- sirin a adham , ifat sher, brenda l. coomber. (2010) molecular blockade of vegfr2 in human epithelial ovarian carcinoma cells. laboratory invest igation.;90(5):709 -23. doi:10.1038/labinvest.2010.52. (if= 4.254 / ci=31). affiliation= university of guelph 18- clair l. plumb, una adamcic, siranoush shahrzad, lanwal minhas, sirin a adham , brenda l. coomber. (2009) modulation of the tumor suppressor protein alpha -catenin by ischemic microenvironment. american journal of pathology .;175(4):1662 -74. doi:10.2353/ajpath.2009.090007. (if= 4.069 / ci=16). affiliation= university of guelph 19- sirin a adham , brenda l. coomber. (2009) glucose is a key regulator of vegfr 2/kdr in human epithelial ovarian carcinoma cells. biochemical biophysical research communication .;390(1):130 -5. doi:10.1016/j.bbrc.2009.09.081. (if= 2.466/ ci=24). affiliation= university of guelph 20- ifat sher$, sirin a adham$, james petrik, brenda l. coomb er. (2009) autocrine vegf -a/kdr loop protects epithelial ovarian carcinoma cells from anoikis. international journal of cancer . ;124(3):553 -61. doi:10.1002/ijc.23963. (if=7.36 / ci=81). affiliation= university of guelph. 21- asha i. jacob, sirin a. i. adham , dave s. capstick, scott r. d. clark, tara spence, trevor c. charles. (2008) mutational analysis of the sinorhizobium meliloti short -chain dehydrogenase/reductase family reveals substantial contribution to symbiosis and catabolic diversity. molecular plant m icrobe interaction.;21(7):979 - 87. doi:10.1094/mpmi -21-7-0979. (if=3.588 / ci=23). affiliation= university of waterloo. r\\u00e9sum\\u00e9 of co-principal investigator research management system https://squsys/squ.edu.om/rms sultan qaboos universitysqu-psr-1 f2 sultan qaboos university postgraduate studies and research personal data family name al-moundhri given names mansour department medicine position professor telephone e-mail degrees college, university, institution country year master doctorate (medical) glasgow university uk 1999 other -fellowship royal australasian college of physician -membership of royal college of physician australia uk 1997 teaching, research and industrial experience may 2011-now professor college of medicine & health sciences, squ 5/2006-5/2011 associate professor in medicine college of medicine and health science, squ june1999 \\u2013june 2006 assistant professor in medicine college of medicine and health science, squ feb 1997 - march 1999 honorary senior registrar and clinical research fellow royal marsden hospital and cancer research institute, sutton, surrey, uk. oct 1994 \\u2013 feb 1997 advanced trainee in medical oncology departments of medical oncology and haematological oncology st. vincent hospital, sydney, australia. department of radiation oncology, st george hospital, sydney, australia oct 1993 \\u2013 july 1994 basic trainee in medicine departments of medical oncology, palliative care, geriatrics medicine, and respiratory medicine, st. vincent hospital, sydney, australia oct 1991 \\u2013 sep 1993 senior house officer in medicine department of medicine, squh. jan 1991 - jul 1991 junior house officer in medicine for office use appl. no: date: department of medicine, glasgow royal infirmary, glasgow, uk. july 1990 - jan 1991 junior house officer in surgery department of surgery, stobhill hospital, glasgow, uk research training information master doctorate number of graduate degrees conferred upon students under the applicant\\u2019s supervision during the past six (6) years _5_____ ______ number of graduate students currently supervised by the applicant _1_____ __1___ signature 13/11/2017 ___________ __________ signature date significant research contributions (last 5 years only, including this year). maximum of 2 pages. list all publications that you have authored/co-authored using the following categories: refereed journal publications, books/chapters of books, refereed conference proceedings, patent applications. 1. al-moundhri m, ezzie j, ward r. rectal administration of ondansetron in uncontrolled emesis induced by chemotherapy. australian new zealand journal of medicine. 1995 oct; 25(5):538. 2. al-moundhri m, graham ph. splenic irradiation for hairy cell leukaemia. australasian radiology. 1997 nov; 41(4):361-2. 3. al-moundhri m, o'brien m, souberbielle be. immunotherapy in lung cancer. british journal of cancer. 1998 aug; 78(3):282-8. 4. smith ie, al-moundhri m. primary chemotherapy in breast cancer. biomedicine & pharmacotherapy. 1998; 52(3):116-21. 5. deleu d, lagopoulos m, al moundhry m, katchy k. isolated bilateral abducens nerve palsy in primary sphenoidal sinus non-hodgkin lymphoma. acta neurologica belgica. 2000 jun;100(2):103-6 6. al-moundhri m, mathew m, krolikowski a. synchronous bilateral endometrioid ovarian cancer and uterine adenocarcinoma in young women. squ journal for scientific research: medical sciences.2001(1):51-53 7. rogers pm, beale pj, al-moundhri m, boxall f, patterson l, valenti m, raynaud f, hobbs s, johnston s, kelland lr. overexpression of bclxl in a human ovarian carcinoma cell line: paradoxic effects on chemosensitivity in vitro versus in vivo. international journal of cancer. 2002 feb 20; 97(6):858-63. 8. al-moundhri m, nirmala v, al-mawaly k, et al.: significance of p53, bcl-2, and her-2/neu protein expression in omani arab females with breast cancer. pathology oncology reserach 2003;9:226-231. 9. al-moundhri m, al-bahrani b, pervez i, et al.: the outcome of treatment of breast cancer in a developing country--oman. breast 2004;13:139-145. 10. al-moundhri ms, nirmala v, al-hadabi i, et al.: the prognostic significance of p53, p27(kip1), p21(waf1), her-2/neu, and ki67 proteins expression in gastric cancer: a clinicopathological and immunohistochemical study of 121 arab patients. journal of surgical oncology 2005;91:243-252. 11. al-moundhri ms, al-bahrani b, burney ia, nirmala v, al-madhani a, al-mawaly k, al-nabhani m, thomas v, ganguly ss, grant cs. the prognostic determinants of gastric cancer treatment outcome in omani arab patients. oncology. 2006;70(2):90-6. 12. ali bh, al moundhri ms. agents ameliorating or augmenting the nephrotoxicity of cisplatin and other platinum compounds: a review of some recent research. food and chemical toxicology. 2006 aug;44(8):1173-83. 13. al-moundhri ms, al-bahrani b, burney ia, nirmala v, al-madhani a, al-nabhani m, thomas v, ganguly ss, grant cs. the clinicopathological features, treatment and survival of gastric adenocarcinoma in omani arab patients. asia-pacific journal of clinical oncology, vol. 2, no. 3. (september 2006), pp. 137-143 14. al-moundhri ms, al-thahli k, al-kindy s, salam j, rao l. metastatic gastrointestinal stromal tumor and hypercalcemia in a patient with ulcerative colitis. saudi medical journal. 2006 oct;27(10):1585-7. 15. al-moundhri ms, al nabhani m, al bahrani b, burney ia, al madhani a, ganguly ss, yahyayee sa, grant cg. interleukin-1beta gene (il-1b) and interleukin 1 receptor antagonist gene (il-1rn) polymorphisms and gastric cancer risk in an omani arab population. gastric cancer. 9(4):284-90, 2006. 16. al-shukaili a, al-jabri aa, al-moundhri ms. prognostic value of auto-antibodies in the serum of omani patients with gastric cancer. saudi medical journal. 2006 dec;27(12):1873-7. 17. al-moundhri ms, al-kindi m, al-nabhani m, al-bahrani b, burney ia, al-madhani a, ganguly ss, tanira m. nat2 polymorphism in omani gastric cancer patients-risk predisposition and clinicopathological associations. world journal of gastroenterology. 13(19):2697-702, 2007. 18. ali bh, al moundhri ms, tag eldin m, nemmard, a, tanira mo. the ameliorative effect of cysteine prodrug l-2-oxothiazolidine-4-carboxylic acid on cisplatin-induced nephrotoxicity in rats. fundamental clinical pharmacology. 2007 oct;21(5):547-53. 19. burney i a, nirmala v, al-moundhri ms, woodhouse nj. nodular lymphocyte predominant hodgkin\\u2019s lymphoma presenting as severe hypercalcaemia: a case report . sultan qaboos university medical journal, 2007 december ; 7 (3) :247-251 20. ashktorab h, brim h, al-riyami m, date a, al-mawaly k, kashoub m, al-mjeni r, smoot dt, al-moundhri m, al-hashemi s, ganguly ss, raeburn s. sporadic colon cancer: mismatch repair immunohistochemistry and microsatellite instability in omani subjects. digestive diseases and sciences. 2008 oct;53(10):2723-31. 21. alansari as, al-moundhri m, al-nabhani mm, al-zidjali sa. brca1 2080insa mutation in familial breast cancer. breast cancer research and treat. 2009 feb;113(3):605-6. 22. burney i a, al- moundhri ms, rizvi aj, ganguly ss, al abri r, rafi a. outcome as a measure of quality of care in oncology : experience at sultan qaboos university hospital, oman . sultan qaboos university medical journal 2008 march; 8( 1) :27-36 23. ali bh, al- moundhri ms, tag eldin m, nemmard, a, tanira mo. amelioration of cisplatin-induced nephrotoxicity in rats by tetramethylpyrazine, a pure compound from the chinese herb ligusticum wallich. experimental biology medicine (maywood). 2008 jul;233(7):891-6. 24. al-moundhri ms, al-shukaili a, al-nabhani m, al-bahrani b, burney ia, rizivi a, ganguly ss.measurement of circulating levels of vegf-a, -c, and -d and their receptors, vegfr-1 and -2 in gastric adenocarcinoma. world journal of gastroenterology. 2008 jun 28;14(24):3879-83. 25. burney i a and al-moundhri m s. major advances in the treatment of cancer: what does a non-oncologist need to know? sultan qaboos university medical journal. july 2008 ;. 8( 2) :137-148 26. brim h, mokarram p, naghibalhossaini f, saberi-firoozi m, al-mandhari m, al-mawaly k, al-mjeni r, al-sayegh a, raeburn s, lee e, giardiello f, smoot dt, vilkin a, boland cr, goel a, hafezi m, nouraie m, ashktorab h. impact of braf, mlh1 on the incidence of microsatellite instability high colorectal cancer in populations based study. molecular cancer. 2008 aug 21;7:68. (kindly note different spelling of last name) 27. ali bh, al-moundhri m, tageldin m, al husseini is, mansour ma, nemmar a, tanira mo. ontogenic aspects of cisplatin-induced nephrotoxicity in rats. food and chemical toxicology. 2008 nov;46(11):3355-9. 28. al-moundhri ms, al-kindi m, al-nabhani m, al-bahrani b, burney ia, al-habsi h, ganguly ss, tanira m. combined polymorphism analysis of glutathione s-transferase m1/g1 and interleukin 1 b (il-1b)/interleukin 1-receptor antagonist (il-1rn) and gastric cancer risk in an omani population. journal of clinical gastroenterology. 2009 feb;43(2):152-6. 29. ahmed s, burney i, sawhney s, al moundhri ms. gastric adenocarcinoma in association with tuberous sclerosis. sultan qaboos university medical journal ; april 2009; 9(1 ) :81-84. 30. al-moundhri ms, al-nabhani m, burney ia, al-farsi aa, al-bahrani b. gastric cancer risk predisposition and prognostic significance of vascular endothelial growth factor (vegf) gene polymorphisms--a case-control study in an omani population. molecular carcinogenesis. 2009 dec;48(12):1170-6. 31. al-azri m, al-awisi h, al-moundhri m. coping with a diagnosis of breast cancer-literature review and implications for developing countries. breast j. 2009 nov-dec;15(6):615-22 32. al-moundhri ms, al-khanbashi m, al-kindi m, al-nabhani m, burney ia, al-farsi a, al-bahrani b. association of e-cadherin (cdh1) gene polymorphisms and gastric cancer risk. world journal of gastroenterology. 2010 jul 21;16(27):3432-6 33. kumar s,. burney ia, al-ajmi a, and al-moundhri ms . changing trends of breast cancer survival in a developing country-oman. journal of oncology.2011;2011:316243. 34. al-moundhri ms, al-nabhani m, tarantini l, baccarelli a, rusiecki ja. the prognostic significance of whole blood global and specific dna methylation levels in gastric adenocarcinoma. plos one. 2010 dec 23;5(12):e15585. 35. waly mi, al- moundhri ms, ali bh..effect of curcumin on cisplatin- and oxaliplatin-induced oxidative stress in human embryonic kidney (hek) 293 cells. renal failure. 2011;33(5):518-23. 36. ali bh, abdelrahman am, al-salam s, sudhadevi m, almahruqi as, al-husseni is, beegam s, dhanasekaran s, nemmar a, al-moundhri m. the effect of sildenafil on cisplatin nephrotoxicity in rats. basic clinical pharmacology toxicology. 2011 may 16. doi: 10.1111/j.1742-7843.2011.00724.x. 37. rusiecki ja, al-nabhani m, tarantini l, chen l, baccarelli a, and al-moundhri ms. global dna methylation and tumor suppressor gene promoter methylation in whole blood and gastric cancer risk in an omani arab population. epigenomics, august 2011; 3(4); 417-429. 38. al-moundhri ms, al-hadabi i, al-mawaly k, kumar s, al-lawati fa, bhatnager g, kuruvila s, al-hamdani a, el-sayed sm, al-bahrani b prognostic significance of cyclooxygenase-2, epidermal growth factor receptor 1, and microvascular density in gastric cancer. med oncol. 2011 nov 3 39. burney ia, al-moundhri ms. from transplant to tablets: a paradigm shift in oncology.sultan qaboos univ med j. 2012 nov;12(4):402-5. epub 2012 nov 20. 40. aljarrah a, al-hashmi m, malik ka, sukhpal s, hussein s, al-riyami m, al-moundhri m.mucinous breast cancer with solitary metastasis to humeral head: a case report.oman med j. 2013 sep;28(5):350-3. 41. al-moundhri m. the need for holistic cancer care framework: breast cancer care as an example.oman med j. 2013 sep;28(5):300-1. 42. al-moundhri ms, al-ansari a, al-mawali k, al-bahrani b.brca1 gene molecular alterations in omani breast cancer patients. gulf j oncolog. 2013 jul;1(14):45-51. 43. furrukh m, al-moundhri m, zahid kf, kumar s, burney i.customised, individualised treatment of metastatic non-small-cell lung carcinoma (nsclc).sultan qaboos univ med j. 2013 may;13(2):202-17. 44. ali a, al-belushi bs, waly mi, al-moundhri m, burney ia. dietary and lifestyle factors and risk of non-hodgkin's lymphoma in oman. asian pac j cancer prev. 2013;14(2):841-8. 45. furrukh m, burney ia, kumar s, zahid kf, al-moundhri m.improving outcomes in advanced lung cancer: maintenance therapy in non-small-cell lung carcinoma. sultan qaboos univ med j. 2013 feb;13(1):3-18. epub 2013 feb 27.machado l, al-hamdani a, sankhla dk, al-moundhri 46. ms.extraosseous ewing sarcoma of the vagina: a rare entity.ann saudi med. 2013 mar-apr;33(2):182-6. 47. al-azri mh, al-awisi h, al-rasbi s, al-moundhri m.coping with a diagnosis of breast cancer amongst omani women.j health psychol. 2013 mar 21. 48. aljarrah a, al-hashmi m, malik ka, sukhpal s, hussein s, al-riyami m, al-moundhri m.mucinous breast cancer with solitary metastasis to humeral head: a case report.oman med j. 2013 sep;28(5):350-3. doi: 10.5001/omj.2013.100. 49. tamimi y, al-harthy s, al-haddabi i, al-kindi m, babiker h, al-moundhri m, burney i.the p53 mutation/deletion profile in a small cohort of the omani population with diffuse large b-cell lymphoma.sultan qaboos univ med j. 2014 feb;14(1):e50-8. epub 2014 jan 27. 50. machado l, al-hamdani a, sankhla dk, al-moundhri. ms. extraosseous ewing sarcoma of the vagina: a rare entity.ann saudi med. 2013 mar-apr;33(2):182-6. 51. al-azri mh, al-awisi h, al-rasbi s, al-moundhri m. coping with a diagnosis of breast cancer amongst omani women.j health psychol. 2013 mar 21. 52. tamimi y, al-harthy s, al-haddabi i, al-kindi m, babiker h, al-moundhri m, burney i.the p53 mutation/deletion profile in a small cohort of the omani population with diffuse large b-cell lymphoma. sultan qaboos univ med j. 2014 feb;14(1):e50-8. epub 2014 jan 27. 53. kumar s, burney ia, al-moundhri ms.near complete resolution of refractory, relapsed, metastatic wilms' tumour in an adolescent with bevacizumab. j coll physicians surg pak. 2014 mar;24 suppl 1:s71-2. doi: 03.2014/jcpsp.s71s72. 54. burney ia, furrukh m, al-moundhri ms.what are our options in the fight against breast cancer? sultan qaboos univ med j. 2014 may;14(2):e149-51. epub 2014 apr 7 55. galaal k, al moundhri m, bryant a, lopes ad, lawrie ta.adjuvant chemotherapy for advanced endometrial cancer. cochrane database syst rev. 2014 may 15;5:cd010681. doi: 10.1002/14651858.cd010681.pub2 56. adham sa, al rawahi h, habib s, al moundhri ms, viloria-petit a, coomber bl.modeling of hypo/hyperglycemia and their impact on breast cancer progression related molecules. plos one. 2014 nov 17;9(11):e113103. doi: 10.1371/journal.pone.0113103. ecollection 2014. 57. yahya tamimi1, ishita gupta, mansour al-moundhri, ikram bureny. micrometastatic circulating tumor cells; a challenge for an early detection 58. and better survival rates. j carcinog mutagen 6: 229. doi:10.4172/2157-2518.1000229 59. kumar s, burney ia, zahid kf, d souza pc, belushi ma, mufti td, meki wa, furrukh m, al moundhri ms. colorectal cancer patient characteristics, treatment and survival in oman - a single center study. asian pac j cancer prev. 2015; 16(12):4853-8. 60. m al-khanbashi, m al-moundhri. micro-ribonucleic acid and carcinogenesis: breast cancer as an example. http://dx.doi.org/10.4081/oncol.2015.279 61. al-khanbashi m, caramuta s, alajmi am, al-haddabi i, al-riyami m, lui w-o, al-moundhri m. (2016) tissue and serum mirna profile in locally advanced breast cancer (labc) in response to neo-adjuvant chemotherapy (nac) treatment. plos one 11(4): e0152032. doi:10.1371/journal.pone.0152032 62. alkhasawneh e, siddiqui st, leocadio m, seshan v, al-farsi y, al-moundhri ms. i do not even say \\\"it\\\" - a mixed methods study on breast cancer awareness of omani women. asian pac j cancer prev. 2016;17(4):2247-54. 63. naik a, al-zeheimi n, bakheit cs, al riyami m, al jarrah a, al moundhri ms, al habsi z, basheer m, adham sa. neuropilin-1 associated molecules in the blood distinguish poor prognosis breast cancer: a cross-sectional study. sci rep. 2017 jun 12;7(1):3301. doi: 10.1038/s41598-017-03280-0 64. gupta i, burney i, al-moundhri ms, tamimi y. molecular genetics complexity impeding research progress in breast and ovarian cancers.mol clin oncol. 2017 jul;7(1):3-14. doi: 10.3892/mco.2017.1275. 65. furrukh m, kumar s, zahid kf, al-shamly hs, al-jabri za, burney ia, al-moundhri ms. trends and outcomes of non-small-cell lung cancer in omani patients: experience at a university hospital.sultan qaboos univ med j. 2017 aug;17(3):e301-e308. doi:10.18295/squmj.2017.17.03.007. r\\u00e9sum\\u00e9 of co-investigator research management system https://squsys/squ.edu.om/rms sultan qaboos universityf2 sultan qaboos university postgraduate studies and research personal data family name given names department position al zadjali fahad biochemsitry assistant prof telephone e-mail squ id # 1170 fahadz@squ.edu.om 6219 degrees college, university, institution country year master sultan qaboos university oman 2002 doctorate karolinska isntitutet oman 2011 other teaching, research and industrial experience positions held dates department institution asssitant professor 2011 biochemsitry sultan qaboos university any committees involvements institution year various administrative committee _squ__ ___2012-onwards research training information master doctorate number of graduate degrees conferred upon students under the applicant\\u2019s supervision during the past six (6) years _6__ __4__ number of graduate students currently supervised by the applicant ___2_ __2_ signature 12/11/17 __________ signature date significant research contributions (last 5 years only, including this year). maximum of 2 pages. for office use appl. no: date: list all publications that you have authored/co-authored using the following categories: refereed journal publications, books/chapters of books, refereed conference proceedings, patent applications. 1) ines barkia, fahad zadjali, nazamid saari, muta harah zakaria, chun l. li, andrzej witkowski, lamya al-haj. isolation and identification of indigenous marine diatoms (bacillariophyta) for biomass production in open raceway ponds. aquaculture research, accepted october 2017. 2) paul i, batth ts, iglesias-gato d, al-araimi a, al-haddabi i, alkharusi a, norstedt g, olsen jv, zadjali f, flores-morales a. the ubiquitin ligase cullin5socs2 regulates ndr1/stk38 stability and nf-\\u03bab transactivation. sci rep. 2017 feb. 3) alkharusi a, mirecki-garrido m, ma z, zadjali f, flores-morales a, nystr\\u00f6m t, castrillo a, bjorklund a, norstedt g, fernandez-p\\u00e9rez l. suppressor of cytokine signaling 2 (socs2) deletion protects against multiple low dose streptozotocin-induced type 1 diabetes in adult male mice. horm mol biol clin investig. 2016 apr 1;26(1):67-76. 4) said ea, al-yafei f, zadjali f, al-balushi ms, hasson ss, al-mahroqi sh, koh cy, al-naamani k, al-busaidi jz, idris ma, balkhair a, al-jabri aa. frequency of tlr4 (1063a/g and 1363c/t) polymorphisms in healthy and hiv-infected omani individuals and their relationship to viral load and t cell count.. genet mol res. 2016 apr 4;15(2). 5) el-beeli m, al-mahrooqi sh, youssef rm, zadjali f, balkhair a, al-balushi ms, said ea, hasson ss, al-jabri aa. hla-a68 and hla-b15 alleles correlate with poor immune response among aids patients on combined antiretroviral therapy. hum immunol. 2016 jun;77(6):490-7 6) al-dughaishi t, nikolic d, zadjali f, al-hashmi k, al-waili k, rizzo m, al-rasadi k. nutraceuticals as lipid-lowering treatment in pregnancy and their effects on the metabolic syndromecurr pharm biotechnol. 2016;17(7):614-23. 7) al-balushi k, zadjali f, al-sinani s, al-zadjali am, bayoumi r. frequencies of the arg16gly, gln27glu and thr164ile adrenoceptor \\u03b22 polymorphisms among omanis.. sultan qaboos univ med j. 2015 nov;15(4):e486-90. 8) zadjali f, al-bulushi a, alhassani f, al hinai m. proportion of night eating syndrome in arab population of oman. j eat disord. 2015 nov 25;3:43 9) alkharusi a, mirecki-garrido m, ma z, zadjali f, flores-morales a, nystr\\u00f6m t, castrillo a, bjorklund a, norstedt g, fernandez-p\\u00e9rez l. suppressor of cytokine signaling 2 (socs2) deletion protects against multiple low dose streptozotocin-induced type 1 diabetes in adult male mice. horm mol biol clin investig. 2016 apr 1;26(1):67-76. 10) al-asmakh m, zadjali f. use of germ-free animal models in microbiota-related research.. j microbiol biotechnol. 2015 oct 28;25(10):1583-8 11) al-sinani s, hassan mo, zadjali f, al-yahyaee s, albarwani s, rizvi s, jaju d, comuzzie a, voruganti v, bayoumi r. utility of large consanguineous family-based model for investigating the genetics of type 2 diabetes mellitus. gene. 2014 jun 30. pii: s0378-1119(14)00733-1. 12) said ea, al-yafei f, zadjali f, hasson ss, al-balushi ms, al-mahruqi s, koh cy, al-naamani k, al-busaidi jz, idris ma, balkhair a, al-jabri aa. association of single-nucleotide polymorphisms in tlr7 (gln11leu) and tlr9 (1635a/g) with a higher cd4t cell count during hiv infection. immunol lett. 2014 jul;160(1):58-64 13) zadjali f, al-zadjali s, dennison d, elnour ib , alkindi s, al-tameimi s. complete dominant interferon-gamma receptor signaling chain 2 deficiency in a patient with mendelian susceptibility to mycobacterial diseases. submitted 14) al-mahruqi sh, zadjali f, koh cy, balkhair a, said ea, al-balushi ms, hasson ss, al-jabri aa. new genetic variants in the ccr5 gene and the distribution of known polymorphisms in omani population. int j immunogenet 2014 feb;41(1):20-28. doi: 10.1111/iji.12081. epub 2013 aug 16. 15) al-mahruqi sh , zadjali f, beja-pereira a, koh cy , balkhair a, al-jabri aa. genetic diversity and prevalence of ccr2-ccr5 gene polymorphisms in omani population. accepted int genetic and molecular biology, feb 2014. 16) zadjali f, al-yahyaee s, hassan mo, albarwani s, bayoumi ra. association of adiponectin promoter variants with traits and clusters of metabolic syndrome in arabs: family-based study. gene. 2013 sep 25;527(2):663-9. doi: 10.1016/j.gene.2013.06.057. epub 2013 jul 9. 17) kazi ju, sun j, phung b, zadjali f, flores-morales a, ronnstrand l. suppressor of cytokine signaling 6 (socs6) negatively regulates flt3 signal transduction through direct binding to phosphorylated tyr 591 and tyr 919 of flt3. j biol chem. 2012 sep 5. [epub ahead of print] 18) anuar f, zadjali f, rafter j, pettersson s, al-asmakh m. gut microbial communities modulating brain development and function. gut microbes. 2012 jul 1;3(4). 19) zadjali f, santana-farre r, vesterlund m, carow b, mirecki-garrido m, hernandez-hernandez i, flodstr\\u00f6m-tullberg m, parini p, rottenberg m, norstedt g, fernandez-perez l, flores-morales a. socs2 deletion protects against hepatic steatosis but worsens insulin resistance in high-fat-diet-fed mice. faseb j. 2012 aug;26(8):3282-91. 20) al-hashmi s, boels pj, zadjali f, sadeghi b, s\\u00e4llstr\\u00f6m j, hultenby k, hassan z, arner a, hassan m. busulphan-cyclophosphamide cause endothelial injury, remodeling of resistance arteries and enhanced expression of endothelial nitric oxide synthase. plos one. 2012;7(1):e30897. epub 2012 jan 27. 21) zadjali f* , santana-farre r, mirecki-garrido m, ellis e, norstedt g, fernandez-perez l and flores-morales a. liver x receptor agonist downregulates growth hormone signaling in the liver . horm mol biol clin invest 2011;8(2):471\\u2013478 22) vesterlund m, zadjali f, persson t, nielsen ml, kessler bm, norstedt g, flores-morales a. the socs2 ubiquitin ligase complex regulates growth hormone receptor levels. plos one. 2011;6(9):e25358. epub 2011 sep 29. 23) zadjali f, pike ac, vesterlund m, sun j, wu c, li ss, r\\u00f6nnstrand l, knapp s, bullock an, flores-morales a.structural basis for c-kit inhibition by the suppressor of cytokine signaling 6 (socs6) ubiquitin ligase. j biol chem. 2011 jan 7;286(1):480-90. epub 2010 oct 28. 24) gustavsson c, parini p, ostojic j, cheung l, hu j, zadjali f, tahir f, brismar k, norstedt g, tollet-egnell p. cocoa butter and safflower oil elicit different effects on hepatic gene expression and lipid metabolism in rats. lipids. 2009 nov;44(11):1011-27. epub 2009 oct 6. 25) al-yahyaee s, gaffar u, al-ameri mm, qureshi m, zadjali f, ali bh, bayoumi r. n-acetyltransferase polymorphism among northern sudanese. hum biol. 2007 aug;79(4):445-52. r\\u00e9sum\\u00e9 of co-investigator research management system https://squsys/squ.edu.om/rms sultan qaboos universityr\\u00e9sum\\u00e9 of co-investigator research management system https://squsys/squ.edu.om/rms sultan qaboos universityr\\u00e9sum\\u00e9 of co-investigator research management system https://squsys/squ.edu.om/rms sultan qaboos universityf2 sultan qaboos university deanship of research research proposal family name given names department position al-shukaili ahmed biology university of nizwa assistant professor telephone e-mail squ id # 99362524 ashukaily@hotmail.com degrees college, university, institution country year master doctorate university of bath, uk 2004 other teaching, research and industrial experience positions held dates department institution assitant dean for rsearch april -2017 -present director of health research july 2011 -july 2016 health sector the research council of oman researcher associate /researcher 2004 -2011 microbiology & immunology colleg e of medicine squ any committees involvements institution year committee name national bioethics committee _squ___ 2013 -present research bioethics committee comed, squ 2013 -present non communicable diseases moh july 2015 -july 2016 road safety strategic program steering committee , trc 2012 -2016 research training information master doctorate number of graduate degrees conferred upon students under the applicant\\u2019s supervisio n during the p ast six (6) y co -supervision ___2___ ____ 1__ number of graduate students currently supervised by the applicant ______ ______ type sponso r yea r research grants (title) __________ ________ _______ signature ____ ____ 13nov 2017 ______ signature date signifi cant research contributions (last 5 years only, including this year). maximum of 2 pages. list all publications that you have authored/co -authored using the following categories: refereed journal publications, books/chapters of books, refereed conference proceedings, patent applications. publication in refereed journals ahmed al shukaili and abdullah al maniri , writing a research proposal to the research council of oman. accepted for publication in oman medical journal ahmed al -shukaili, saif al -ghafri , safia al -marhoobi, said al -abri, jawad al - lawati, and masoud al -maskari. analysis of inflammatory mediators in type 2 diabetes patients . international journal of endocrinology volume 2013 (2013), pages1 -7. ali bh, al -husseni i, beegam s, al-shukaili a , nemmar a, schierling s, queisser n, schupp n effect of gum arabic on oxidative stress and inflammation in adenine - induced chronic renal failure in rats . plos one. 2013;8(2):e55242. doi: 10.1371/journal.pone.0055242. epub 2013 feb 1. ahmed al -shukaili, saif al-gafri, safia al -marhoobi, juma al -kaabi, evaluation of anti -mutated citrullinated vimentin antibodies, anti - cyclic citrullinated peptide antibodies and rheumatoid factor in omani patients with rheumatoid arthritis. international j ournal of rheumatol ogy. volume 2012, article id 285854,pp1 -5. al-shukaili, j . al-kaabi, b. hassan, t. al -araimi, m. al -tobi, m. alkindi, a. al - maniri, a. al -gheilani \\u2013 & a. al -ansari. (2011) p2x7 receptor gene polymorphism analysis in rheumatoid arthritis. international jou rnal of immunogenetics 00, 1 \\u20138. al-maskari m, al-shukaili a , al-mammari a. pro -inflammatory cytokines in omani type 2 diabetic patients presenting anxiety and depression. iran j immunol. 2010 jun;7(2):124 -9. ahmed al -shukaili , juma alkaabi, saif al -gafri , batool hassan, abdullah al - muneeri .quantification of cd4+ cd25+ regulatory t cells in peripheral blood of patients with systemic lupus erythematosus and rheumatoid arthritis. the open autoimmunity journal 2009 1:5 -9 ahmed al -shukaili1, suad al -abri2, alia al -ansari2, michele a. monteil1 effect of n -acetylcysteine on cytokine production by human peripheral blood mononuclear cells. accepted for publication on squ med j. april 2009 vol.9.iss.1: 70 -74. al-moundhri ms, al-shukaili a, al -nabhani m, al -bahran i b, burney ia, rizivi a, ganguly ss. measurement of circulating levels of vegf -a, -c, and -d and their receptors, vegfr -1 and -2 in gastric adenocarcinoma. world j gastroenterol. 2008 jun 28;14(24):3879 -83. al-shukaili a , al-kaabi j, hassan b.a comparati ve study of interleukin -1beta production and p2x(7) expression after atp stimulation by peripheral blood mononuclear cells isolated from rheumatoid arthritis patients and normal healthy controls. inflammation. 2008; 31(2):84 -90. other attachments research management system https://squsys/squ.edu.om/rms sultan qaboos universitysqu-psr-1 f2 sultan qaboos university postgraduate studies and research personal data family name al-moundhri given names mansour department medicine position professor telephone e-mail degrees college, university, institution country year master doctorate (medical) glasgow university uk 1999 other -fellowship royal australasian college of physician -membership of royal college of physician australia uk 1997 teaching, research and industrial experience may 2011-now professor college of medicine & health sciences, squ 5/2006-5/2011 associate professor in medicine college of medicine and health science, squ june1999 \\u2013june 2006 assistant professor in medicine college of medicine and health science, squ feb 1997 - march 1999 honorary senior registrar and clinical research fellow royal marsden hospital and cancer research institute, sutton, surrey, uk. oct 1994 \\u2013 feb 1997 advanced trainee in medical oncology departments of medical oncology and haematological oncology st. vincent hospital, sydney, australia. department of radiation oncology, st george hospital, sydney, australia oct 1993 \\u2013 july 1994 basic trainee in medicine departments of medical oncology, palliative care, geriatrics medicine, and respiratory medicine, st. vincent hospital, sydney, australia oct 1991 \\u2013 sep 1993 senior house officer in medicine department of medicine, squh. jan 1991 - jul 1991 junior house officer in medicine for office use appl. no: date: department of medicine, glasgow royal infirmary, glasgow, uk. july 1990 - jan 1991 junior house officer in surgery department of surgery, stobhill hospital, glasgow, uk research training information master doctorate number of graduate degrees conferred upon students under the applicant\\u2019s supervision during the past six (6) years _5_____ ______ number of graduate students currently supervised by the applicant _1_____ __1___ signature 13/11/2017 ___________ __________ signature date significant research contributions (last 5 years only, including this year). maximum of 2 pages. list all publications that you have authored/co-authored using the following categories: refereed journal publications, books/chapters of books, refereed conference proceedings, patent applications. 1. al-moundhri m, ezzie j, ward r. rectal administration of ondansetron in uncontrolled emesis induced by chemotherapy. australian new zealand journal of medicine. 1995 oct; 25(5):538. 2. al-moundhri m, graham ph. splenic irradiation for hairy cell leukaemia. australasian radiology. 1997 nov; 41(4):361-2. 3. al-moundhri m, o'brien m, souberbielle be. immunotherapy in lung cancer. british journal of cancer. 1998 aug; 78(3):282-8. 4. smith ie, al-moundhri m. primary chemotherapy in breast cancer. biomedicine & pharmacotherapy. 1998; 52(3):116-21. 5. deleu d, lagopoulos m, al moundhry m, katchy k. isolated bilateral abducens nerve palsy in primary sphenoidal sinus non-hodgkin lymphoma. acta neurologica belgica. 2000 jun;100(2):103-6 6. al-moundhri m, mathew m, krolikowski a. synchronous bilateral endometrioid ovarian cancer and uterine adenocarcinoma in young women. squ journal for scientific research: medical sciences.2001(1):51-53 7. rogers pm, beale pj, al-moundhri m, boxall f, patterson l, valenti m, raynaud f, hobbs s, johnston s, kelland lr. overexpression of bclxl in a human ovarian carcinoma cell line: paradoxic effects on chemosensitivity in vitro versus in vivo. international journal of cancer. 2002 feb 20; 97(6):858-63. 8. al-moundhri m, nirmala v, al-mawaly k, et al.: significance of p53, bcl-2, and her-2/neu protein expression in omani arab females with breast cancer. pathology oncology reserach 2003;9:226-231. 9. al-moundhri m, al-bahrani b, pervez i, et al.: the outcome of treatment of breast cancer in a developing country--oman. breast 2004;13:139-145. 10. al-moundhri ms, nirmala v, al-hadabi i, et al.: the prognostic significance of p53, p27(kip1), p21(waf1), her-2/neu, and ki67 proteins expression in gastric cancer: a clinicopathological and immunohistochemical study of 121 arab patients. journal of surgical oncology 2005;91:243-252. 11. al-moundhri ms, al-bahrani b, burney ia, nirmala v, al-madhani a, al-mawaly k, al-nabhani m, thomas v, ganguly ss, grant cs. the prognostic determinants of gastric cancer treatment outcome in omani arab patients. oncology. 2006;70(2):90-6. 12. ali bh, al moundhri ms. agents ameliorating or augmenting the nephrotoxicity of cisplatin and other platinum compounds: a review of some recent research. food and chemical toxicology. 2006 aug;44(8):1173-83. 13. al-moundhri ms, al-bahrani b, burney ia, nirmala v, al-madhani a, al-nabhani m, thomas v, ganguly ss, grant cs. the clinicopathological features, treatment and survival of gastric adenocarcinoma in omani arab patients. asia-pacific journal of clinical oncology, vol. 2, no. 3. (september 2006), pp. 137-143 14. al-moundhri ms, al-thahli k, al-kindy s, salam j, rao l. metastatic gastrointestinal stromal tumor and hypercalcemia in a patient with ulcerative colitis. saudi medical journal. 2006 oct;27(10):1585-7. 15. al-moundhri ms, al nabhani m, al bahrani b, burney ia, al madhani a, ganguly ss, yahyayee sa, grant cg. interleukin-1beta gene (il-1b) and interleukin 1 receptor antagonist gene (il-1rn) polymorphisms and gastric cancer risk in an omani arab population. gastric cancer. 9(4):284-90, 2006. 16. al-shukaili a, al-jabri aa, al-moundhri ms. prognostic value of auto-antibodies in the serum of omani patients with gastric cancer. saudi medical journal. 2006 dec;27(12):1873-7. 17. al-moundhri ms, al-kindi m, al-nabhani m, al-bahrani b, burney ia, al-madhani a, ganguly ss, tanira m. nat2 polymorphism in omani gastric cancer patients-risk predisposition and clinicopathological associations. world journal of gastroenterology. 13(19):2697-702, 2007. 18. ali bh, al moundhri ms, tag eldin m, nemmard, a, tanira mo. the ameliorative effect of cysteine prodrug l-2-oxothiazolidine-4-carboxylic acid on cisplatin-induced nephrotoxicity in rats. fundamental clinical pharmacology. 2007 oct;21(5):547-53. 19. burney i a, nirmala v, al-moundhri ms, woodhouse nj. nodular lymphocyte predominant hodgkin\\u2019s lymphoma presenting as severe hypercalcaemia: a case report . sultan qaboos university medical journal, 2007 december ; 7 (3) :247-251 20. ashktorab h, brim h, al-riyami m, date a, al-mawaly k, kashoub m, al-mjeni r, smoot dt, al-moundhri m, al-hashemi s, ganguly ss, raeburn s. sporadic colon cancer: mismatch repair immunohistochemistry and microsatellite instability in omani subjects. digestive diseases and sciences. 2008 oct;53(10):2723-31. 21. alansari as, al-moundhri m, al-nabhani mm, al-zidjali sa. brca1 2080insa mutation in familial breast cancer. breast cancer research and treat. 2009 feb;113(3):605-6. 22. burney i a, al- moundhri ms, rizvi aj, ganguly ss, al abri r, rafi a. outcome as a measure of quality of care in oncology : experience at sultan qaboos university hospital, oman . sultan qaboos university medical journal 2008 march; 8( 1) :27-36 23. ali bh, al- moundhri ms, tag eldin m, nemmard, a, tanira mo. amelioration of cisplatin-induced nephrotoxicity in rats by tetramethylpyrazine, a pure compound from the chinese herb ligusticum wallich. experimental biology medicine (maywood). 2008 jul;233(7):891-6. 24. al-moundhri ms, al-shukaili a, al-nabhani m, al-bahrani b, burney ia, rizivi a, ganguly ss.measurement of circulating levels of vegf-a, -c, and -d and their receptors, vegfr-1 and -2 in gastric adenocarcinoma. world journal of gastroenterology. 2008 jun 28;14(24):3879-83. 25. burney i a and al-moundhri m s. major advances in the treatment of cancer: what does a non-oncologist need to know? sultan qaboos university medical journal. july 2008 ;. 8( 2) :137-148 26. brim h, mokarram p, naghibalhossaini f, saberi-firoozi m, al-mandhari m, al-mawaly k, al-mjeni r, al-sayegh a, raeburn s, lee e, giardiello f, smoot dt, vilkin a, boland cr, goel a, hafezi m, nouraie m, ashktorab h. impact of braf, mlh1 on the incidence of microsatellite instability high colorectal cancer in populations based study. molecular cancer. 2008 aug 21;7:68. (kindly note different spelling of last name) 27. ali bh, al-moundhri m, tageldin m, al husseini is, mansour ma, nemmar a, tanira mo. ontogenic aspects of cisplatin-induced nephrotoxicity in rats. food and chemical toxicology. 2008 nov;46(11):3355-9. 28. al-moundhri ms, al-kindi m, al-nabhani m, al-bahrani b, burney ia, al-habsi h, ganguly ss, tanira m. combined polymorphism analysis of glutathione s-transferase m1/g1 and interleukin 1 b (il-1b)/interleukin 1-receptor antagonist (il-1rn) and gastric cancer risk in an omani population. journal of clinical gastroenterology. 2009 feb;43(2):152-6. 29. ahmed s, burney i, sawhney s, al moundhri ms. gastric adenocarcinoma in association with tuberous sclerosis. sultan qaboos university medical journal ; april 2009; 9(1 ) :81-84. 30. al-moundhri ms, al-nabhani m, burney ia, al-farsi aa, al-bahrani b. gastric cancer risk predisposition and prognostic significance of vascular endothelial growth factor (vegf) gene polymorphisms--a case-control study in an omani population. molecular carcinogenesis. 2009 dec;48(12):1170-6. 31. al-azri m, al-awisi h, al-moundhri m. coping with a diagnosis of breast cancer-literature review and implications for developing countries. breast j. 2009 nov-dec;15(6):615-22 32. al-moundhri ms, al-khanbashi m, al-kindi m, al-nabhani m, burney ia, al-farsi a, al-bahrani b. association of e-cadherin (cdh1) gene polymorphisms and gastric cancer risk. world journal of gastroenterology. 2010 jul 21;16(27):3432-6 33. kumar s,. burney ia, al-ajmi a, and al-moundhri ms . changing trends of breast cancer survival in a developing country-oman. journal of oncology.2011;2011:316243. 34. al-moundhri ms, al-nabhani m, tarantini l, baccarelli a, rusiecki ja. the prognostic significance of whole blood global and specific dna methylation levels in gastric adenocarcinoma. plos one. 2010 dec 23;5(12):e15585. 35. waly mi, al- moundhri ms, ali bh..effect of curcumin on cisplatin- and oxaliplatin-induced oxidative stress in human embryonic kidney (hek) 293 cells. renal failure. 2011;33(5):518-23. 36. ali bh, abdelrahman am, al-salam s, sudhadevi m, almahruqi as, al-husseni is, beegam s, dhanasekaran s, nemmar a, al-moundhri m. the effect of sildenafil on cisplatin nephrotoxicity in rats. basic clinical pharmacology toxicology. 2011 may 16. doi: 10.1111/j.1742-7843.2011.00724.x. 37. rusiecki ja, al-nabhani m, tarantini l, chen l, baccarelli a, and al-moundhri ms. global dna methylation and tumor suppressor gene promoter methylation in whole blood and gastric cancer risk in an omani arab population. epigenomics, august 2011; 3(4); 417-429. 38. al-moundhri ms, al-hadabi i, al-mawaly k, kumar s, al-lawati fa, bhatnager g, kuruvila s, al-hamdani a, el-sayed sm, al-bahrani b prognostic significance of cyclooxygenase-2, epidermal growth factor receptor 1, and microvascular density in gastric cancer. med oncol. 2011 nov 3 39. burney ia, al-moundhri ms. from transplant to tablets: a paradigm shift in oncology.sultan qaboos univ med j. 2012 nov;12(4):402-5. epub 2012 nov 20. 40. aljarrah a, al-hashmi m, malik ka, sukhpal s, hussein s, al-riyami m, al-moundhri m.mucinous breast cancer with solitary metastasis to humeral head: a case report.oman med j. 2013 sep;28(5):350-3. 41. al-moundhri m. the need for holistic cancer care framework: breast cancer care as an example.oman med j. 2013 sep;28(5):300-1. 42. al-moundhri ms, al-ansari a, al-mawali k, al-bahrani b.brca1 gene molecular alterations in omani breast cancer patients. gulf j oncolog. 2013 jul;1(14):45-51. 43. furrukh m, al-moundhri m, zahid kf, kumar s, burney i.customised, individualised treatment of metastatic non-small-cell lung carcinoma (nsclc).sultan qaboos univ med j. 2013 may;13(2):202-17. 44. ali a, al-belushi bs, waly mi, al-moundhri m, burney ia. dietary and lifestyle factors and risk of non-hodgkin's lymphoma in oman. asian pac j cancer prev. 2013;14(2):841-8. 45. furrukh m, burney ia, kumar s, zahid kf, al-moundhri m.improving outcomes in advanced lung cancer: maintenance therapy in non-small-cell lung carcinoma. sultan qaboos univ med j. 2013 feb;13(1):3-18. epub 2013 feb 27.machado l, al-hamdani a, sankhla dk, al-moundhri 46. ms.extraosseous ewing sarcoma of the vagina: a rare entity.ann saudi med. 2013 mar-apr;33(2):182-6. 47. al-azri mh, al-awisi h, al-rasbi s, al-moundhri m.coping with a diagnosis of breast cancer amongst omani women.j health psychol. 2013 mar 21. 48. aljarrah a, al-hashmi m, malik ka, sukhpal s, hussein s, al-riyami m, al-moundhri m.mucinous breast cancer with solitary metastasis to humeral head: a case report.oman med j. 2013 sep;28(5):350-3. doi: 10.5001/omj.2013.100. 49. tamimi y, al-harthy s, al-haddabi i, al-kindi m, babiker h, al-moundhri m, burney i.the p53 mutation/deletion profile in a small cohort of the omani population with diffuse large b-cell lymphoma.sultan qaboos univ med j. 2014 feb;14(1):e50-8. epub 2014 jan 27. 50. machado l, al-hamdani a, sankhla dk, al-moundhri. ms. extraosseous ewing sarcoma of the vagina: a rare entity.ann saudi med. 2013 mar-apr;33(2):182-6. 51. al-azri mh, al-awisi h, al-rasbi s, al-moundhri m. coping with a diagnosis of breast cancer amongst omani women.j health psychol. 2013 mar 21. 52. tamimi y, al-harthy s, al-haddabi i, al-kindi m, babiker h, al-moundhri m, burney i.the p53 mutation/deletion profile in a small cohort of the omani population with diffuse large b-cell lymphoma. sultan qaboos univ med j. 2014 feb;14(1):e50-8. epub 2014 jan 27. 53. kumar s, burney ia, al-moundhri ms.near complete resolution of refractory, relapsed, metastatic wilms' tumour in an adolescent with bevacizumab. j coll physicians surg pak. 2014 mar;24 suppl 1:s71-2. doi: 03.2014/jcpsp.s71s72. 54. burney ia, furrukh m, al-moundhri ms.what are our options in the fight against breast cancer? sultan qaboos univ med j. 2014 may;14(2):e149-51. epub 2014 apr 7 55. galaal k, al moundhri m, bryant a, lopes ad, lawrie ta.adjuvant chemotherapy for advanced endometrial cancer. cochrane database syst rev. 2014 may 15;5:cd010681. doi: 10.1002/14651858.cd010681.pub2 56. adham sa, al rawahi h, habib s, al moundhri ms, viloria-petit a, coomber bl.modeling of hypo/hyperglycemia and their impact on breast cancer progression related molecules. plos one. 2014 nov 17;9(11):e113103. doi: 10.1371/journal.pone.0113103. ecollection 2014. 57. yahya tamimi1, ishita gupta, mansour al-moundhri, ikram bureny. micrometastatic circulating tumor cells; a challenge for an early detection 58. and better survival rates. j carcinog mutagen 6: 229. doi:10.4172/2157-2518.1000229 59. kumar s, burney ia, zahid kf, d souza pc, belushi ma, mufti td, meki wa, furrukh m, al moundhri ms. colorectal cancer patient characteristics, treatment and survival in oman - a single center study. asian pac j cancer prev. 2015; 16(12):4853-8. 60. m al-khanbashi, m al-moundhri. micro-ribonucleic acid and carcinogenesis: breast cancer as an example. http://dx.doi.org/10.4081/oncol.2015.279 61. al-khanbashi m, caramuta s, alajmi am, al-haddabi i, al-riyami m, lui w-o, al-moundhri m. (2016) tissue and serum mirna profile in locally advanced breast cancer (labc) in response to neo-adjuvant chemotherapy (nac) treatment. plos one 11(4): e0152032. doi:10.1371/journal.pone.0152032 62. alkhasawneh e, siddiqui st, leocadio m, seshan v, al-farsi y, al-moundhri ms. i do not even say \\\"it\\\" - a mixed methods study on breast cancer awareness of omani women. asian pac j cancer prev. 2016;17(4):2247-54. 63. naik a, al-zeheimi n, bakheit cs, al riyami m, al jarrah a, al moundhri ms, al habsi z, basheer m, adham sa. neuropilin-1 associated molecules in the blood distinguish poor prognosis breast cancer: a cross-sectional study. sci rep. 2017 jun 12;7(1):3301. doi: 10.1038/s41598-017-03280-0 64. gupta i, burney i, al-moundhri ms, tamimi y. molecular genetics complexity impeding research progress in breast and ovarian cancers.mol clin oncol. 2017 jul;7(1):3-14. doi: 10.3892/mco.2017.1275. 65. furrukh m, kumar s, zahid kf, al-shamly hs, al-jabri za, burney ia, al-moundhri ms. trends and outcomes of non-small-cell lung cancer in omani patients: experience at a university hospital.sultan qaboos univ med j. 2017 aug;17(3):e301-e308. doi:10.18295/squmj.2017.17.03.007.\",\n          \"innovation culture of smes in oman: current practices and future movements title: innovation culture of smes in oman: current practices and future movements proposal id : bfp/rgp/cbs/20/153 type of project application : research grant program current status : for institutional internal evaluation committee review sector name culture humanities and basic sciences principal investigator taghizadeh, seyedeh khadijeh (s.taghizadeh@squ.edu.om) co-prinicipal investigator alabri, salem (salemabri@squ.edu.om) co-investigators rahman, syed abidur (abidur@squ.edu.om) al riyami, said (saidalriyami@squ.edu.om) khan, golam (gmkhan@squ.edu.om) other team members team members not speci\\ufb01ed technology readiness level (trl) 7 \\u2013 9: business development (usually private sector) e.g. scaling up, clinical trials, commercialization, market launching priority area other executive summary the research intends to expolre the state of innovation culture of the small and medium enterprises (smes) in oman. the objectives of this research are (1) to explore the factors that a\\ufb00ect innovation adoption, (2) to study the in\\ufb02uence of innovation culture on smes performance, (3) to examine the moderating e\\ufb00ect of owner knowledge on innovation, technological capabilities and environmental turbulence on the relationship between innovation culture and smes performance, and (4) to investigate the level of innovation adoption and its e\\ufb00ect on smes performance as a control variable. there twenty one (21) hypotheses propsoed out of this research study. the research design of this study will be the mixed method, both qualitative and quantitative. the data will be collected from smes operating in oman. the smes owner will be the unit of analysis. the research will start with qualitative study to explore the factors that a\\ufb00ect the adoption of innovation on smes. interviews will be conducted with 20 smes owners. the population of the qualitative study will be all the registered smes with riyada. sampling will be purposive in consultation with the riyada. after qualitative research, the study will move forward with quantitative research approach, which will conduct a cross-sectional survey with valid structured questionnaire. the quantitative approach will help in validating the relationships between innovation culture dimensions and \\ufb01nancial and non-\\ufb01nancial performance of smes in oman, and to \\ufb01nd out the e\\ufb00ect of owner knowledge, technological capability and environment turbulence on these relationships. the population will be the same as for the qualitative study and will use random sampling based on the list generated by riyada. data will be analysed using the structural equation modelling technique using smart partial least square software version 3.0. this research holds a great extent of signi\\ufb01cance in context of the current trend and situation of the sultanate of oman. the policy makers of the country are now putting more emphasis for the development of the smes sector in oman through a culture of innovation, in accordance to oman vision 2040. therefore, this study will compliment and provide further contribution in the path of smes development in oman. the research will provide an insight to the academicians and other vested interested groups, assist riyada to provide required assistance such as training program to the smes, open up the scope to adopt innovation, and it will generate a guideline on innovation related practices. introduction and statement of the problem / project introduction it has been acknowledged that small and medium enterprises (smes) are the necessary driven forces of countries\\u2019 economic development as well as for the employment growth (ramayah et al., 2016). in addition, smes plays important role in job creation and economic growth not only in developed country but also its contribution is noteworthy in developing nations (audretsch and keilbach, 2004). it has been proven that almost all segments of the society around the world are currently identifying the importance of smes which contribute in improvement of income distribution as well as assist in redesigning new economic structures in need of large organizations (ahmad, 2007, abdullah, 1999, savlovschi and robu, 2011, fu-lai yu, 2001). speci\\ufb01cally, it has been reported that smes in the developing countries take in the largest chunk of the gross domestic product (gdp) (beck et al., 2005, chowdhury et al., 2015). although a large number of developing countries are mainly dependent on the sme ventures, there are few developing countries yet largely depend on their natural resources e.g. oil and gas. one of the countries which is mostly depending on oil and gas is, the sultanate of oman (unctad, 2014). a country although considered as high income, progressive and full of potentials. the current gni per capita of oman is usd 41,230 (the world bank, 2018) yet according to the united nations\\u2019 reports on world economic situation and prospects, it is classi\\ufb01ed as developing economies (united nations, 2019). having high income, yet it is a developing country mainly because of number of reasons. one of the reasons identi\\ufb01ed by the united nations conference on trade and development (unctad, 2014) is the level of innovation in the country. it has been reported that oman is ranked 80th in the global innovation index, whereas other gulf countries such as uae at 36, kuwait at 60, qatar at 65, saudi arabia at 68, and bahrain at 78 (world economic forum, 2019). in addition, a study comparing the regional issues indicate that an e\\ufb00ective and e\\ufb03cient innovation system should be developed in oman, including improved innovation infrastructure and climate, to augment its innovative outputs. however, the global innovation index report 2019 con\\ufb01rms that oman has su\\ufb03cient institutional strengths, but the main challenge is, its economy is not su\\ufb03ciently diversi\\ufb01ed (world economic forum, 2019). for the diversi\\ufb01cation, it is therefore, important to focus on innovation in the sme sector of oman. despite the increased attention paid to smes sector, relatively little attention has been given to the issue of innovation, which perhaps in\\ufb02uence on performance and ultimately on economic development. innovation has been identi\\ufb01ed as a means to improve a \\ufb01rm\\u2019s performance (halim et al., 2015, taghizadeh et al., 2017). however, it requires an innovation mindset, which can be derived from behavioral aspects of individuals (taghizadeh et al., 2017). there is a great deal of interest in the concept of innovation in organizations by practitioners and academic, particularly the link between innovation culture and \\ufb01rm performance (dobni, 2008, taghizadeh et al., 2019, govindarajan and trimble, 2005). but, much of them evidences a unidimensional view of innovation. in this paper we measure innovation culture with a broader scope to examine the important drivers of innovation in smes, oman. on this context, the current study will embark upon to propose a framework to \\ufb01nd out the e\\ufb00ect of innovation culture on smes performance. the framework demonstrates that innovation culture measured by multi-dimensional construct, which includes the infrastructure to support innovation, the intention to be innovative, the environment to implement innovation, and operational level behaviors necessary to in\\ufb02uence a market and value orientation. having said, this research also considers that these relationships can be moderated by internal and external factors of the smes. literature review and analysis of related work literature review innovation culture in the literature, innovation has been de\\ufb01ned as the successful implementation of creative ideas starting from the individuals to team\\u2019s creativity in order to commercialize in an organization (gallouj, 1998, amabile et al., 1996). it is a process from converting new ideas into action which makes an organization capable to successfully introduce something new in the market or recombine old elements to new one (schumpeter et al., 1934, amabile et al., 1996). there are various de\\ufb01nitions of innovation in the literature but the matter of facts is, it depends on the context and scope of analysis. some of the de\\ufb01nitions are based on very general concept, for instance, having creative and innovative employees in organization, or to lead the market. however, other de\\ufb01nitions are more speci\\ufb01c, which refers to the organizational behavior and culture that are performed by the employees (dobni, 2008). it is particularly comprehended that culture plays an important role for any type of organization in any context, such as, innovation. having a culture of innovation is important for an organization because it strengthens the cohesion, loyalty, rules, attitudes, and behaviors (mahmoud et al., 2016, dobni, 2008). in the context of smes, innovation culture plays a signi\\ufb01cant role in enhancing innovation performance (halim et al., 2018). successful organizations set the innovation activities in their organizational culture and implement the innovation practices in the management processes, which leads to enhancing \\ufb01rm performances (tushman and o'reilly, 2013, taghizadeh et al., 2019). according to the scholar organizational culture is at the heart of innovation that impact on creativity and innovation in several ways, such as, socialization processes and the value proposition communicated through structures, policies, practices, and procedures (tushman and o'reilly, 2013). culture in organizations has been de\\ufb01ned as a complex set of beliefs, symbols, values, beliefs, and shared by employees at all levels of organizational structure, and it is established in the characteristics of an organization (barney, 1986). it is communicated and strengthened through behaviors, language, symbolism, physical settings, feelings, artifacts, relationships, and the like (schein, 1990). organization culture refers to a pattern of beliefs and expectations shared by employees, which result in certain norms shaping the behavior of individuals and groups (schwartz, 1981). research shows that organizational culture in\\ufb02uences the innovative performance of a \\ufb01rm in two ways: \\ufb01rst through the socialization process and second through basic assumptions, beliefs, and values re\\ufb02ecting the structure of organization, procedure, policy, and management perception (martins and terblanche, 2003). according to naranjo-valencia et al. (2011), in order to enable successful implication of innovation, organizations should consider the requirements of internal behavior and external relation complying with the organizational culture. organizational culture may also include the ideas shared by the people working for the organization and those ideas are communicated between each other (uzkurt et al., 2013). literature reveals signi\\ufb01cant in\\ufb02uence of organizational culture on implementation of tools/ technology, the innovation process, and innovative organization (cross-functional organization) (rahman et al., 2015). therefore, it is quite understandable that organization culture is a critical factor for an organization for its survival (chang and lin, 2007). considering the importance of innovation culture, it is also important the measure the innovation culture within organizations. in measuring innovation culture in an organization, according to dobni (2008), many researchers have studied innovativeness of an organization as a uni-dimensional concept, such as, product development, market development focus, process related measurement, technology/research development, or behavioral based determinants. however, this research follows the work of dobni (2008), who has conceptualized the innovation culture as a multi- dimensional context including the \\ufb01rm\\u2019s intention to be innovative, the infrastructure to support innovation in the \\ufb01rms, the operational level behaviors necessary to in\\ufb02uence a market and value orientation, and the environment to implement innovation in the \\ufb01rm (figure 1). dobni (2008), structured these multi-dimensional innovation culture with seven factors identi\\ufb01ed as organizational learning and creativity and empowerment (innovation infrastructure); innovation propensity and organizational constituency (innovation intention); market orientation and value orientation (innovation in\\ufb02uence); implementation context (innovation implementation). it has been de\\ufb01ned by dobni (2008, p.551) as follows: \\u201cinnovation infrastructure has been operationalized in terms of organizational learning; and creativity and empowerment. organizational learning: the degree to which the training and educational opportunities of employees are aligned with innovation objectives. creativity and empowerment: determination of the creative capacity of employees and the amount of creativity that employees are allowed to express in their work. as well, it assesses the degree of empowerment held by employees, and the ability of employees to improvise and enact at will.\\u201d \\u201cinnovation intention has been operationalized with two variables: innovation propensity and organizational constituency. innovation propensity: the degree to which the organization has a formally established \\u2013 within their business model \\u2013 architecture to develop and sustain innovation. this would be communicated through vision, goals, objectives, and operationalized through the business model and business processes. organizational constituency: considers the level to which employees are engaged in the innovation imperative and how employees think of themselves vs tier colleagues in respect to value, equity, and contributions made within the organization.\\u201d \\u201cinnovation in\\ufb02uence has also been operationalized with two dimensions: market orientation and value orientation. market orientation: this involves the market sensing and contextual awareness behaviors of employees. it considers the extent to which employees generate and disseminate knowledge on customers, competitors, the industry, as well as their understanding of the value chain or cluster in which they operate. value orientation: the degree to which employees are focused on and involved in the process to create value for customer/clients.\\u201d \\u201cinnovation implementation has been operationalized considering the variable, implementation context. implementation context: involves the organization\\u2019s ability to execute value-added ideas. it considers the ability to proactively co-align systems and processes with changes in the competitive environment.\\u201d these multi-dimensional approaches are more appropriate in this research context because it suggests that innovativeness can be consequent of activities, which are connected to one another by a common thread of culture (dobni, 2008). researchers have also noted that along with many factors, managerial knowledge of the owners is very important in operating the smes venture (rahman et.al. 2016). owner/managerial knowledge on innovation managerial knowledge has been de\\ufb01ned as capabilities and expertise necessary to e\\ufb03ciently and successfully manage and control organizational resources and processes (sammarra and biggiero, 2008). this knowledge comprises to equally applied and operational knowledge, and more abstract and complex knowledge (sammarra and biggiero, 2008). knowledge is a critical characteristic to foster innovation, particularly it is important for smes, which are normally focused in one or a few phases of the production cycle and, therefore, dependent on managerial capabilities (sammarra and biggiero, 2008). managerial knowledge links with several disciplinary arenas of organizational capabilities, organizational knowledge, and knowledge management systems (grant, 1996, nonaka et al., 2006, gallupe, 2001). managerial knowledge contains strategic networking capabilities (hagedoorn et al., 2006), which are vital basis of competitive advantage (sammarra and biggiero, 2008). scholars noted that managerial knowledge on information technology acts an important role in adoption of innovation in an organization (thong, 2001, ramayah et al., 2016). small businesses with manager who are knowledgeable about innovation and information technology are more likely to adopt it (thong and yap, 1995) and persuade other people as well. however, some of smes were interested to reschedule adoption of an innovation while waiting for the knowledge barriers are dropped down (thong, 1999). smes\\u2019 owners typically lack basic knowledge and awareness of innovation, subsequently, some of them possibly will refuse to more allocate resources because of their incapability to identify the long-run bene\\ufb01ts of innovation (ramayah et al., 2016). in this regards, the current research proposes that the positive relationship of smes performance and its determinants will be stronger when a \\ufb01rm managerial knowledge on innovation is at an advanced level. however, to achieve enhanced performance and innovation, it is also important to consider technological capabilities along with the managerial knowledge of the sme owners. in this era of industrial revolution 4.0, technology has become a tool to enhance the performance. technological capabilities technological capability of a \\ufb01rm is advanced over time and gathered by the past experiences and knowledge (zhou and wu, 2010). technological capability denotes a \\ufb01rm\\u2019s capacity to employ several technological and technical resources (afuah, 2002). according to scholars, the accumulation of technological knowledge, enrich the \\ufb01rm\\u2019s capability to estimate and apply new technologies and skills in innovation (zahra and george, 2002), which improve the \\ufb01rm performance. levinthal and march (1993) propose that \\ufb01rms with a higher competence in a \\ufb01eld are more likely to explore further information and improve their knowledge to attain competitive advantages. an entrepreneurial venture, according to rothaermel and deeds (2004), strong technological capabilities engage the \\ufb01rm in more incremental innovation activities to gain access to manufacturing and marketing resources aiming to commercialize its new products. this research suggest that technological capability may facilitate a stronger relationship between innovation culture and smes performance. in recent years due to the rapid technological capabilities\\u2019 development, the environment of business has become much more volatile than before. hence, businesses are getting more concern regarding the environmental turbulence. environmental turbulences environment turbulence has been proposed to play moderating role on the relationship between innovation culture and smes performance. environment turbulence has two dimensions, which are market turbulence and technological turbulence. market and technological turbulence have been referred as the variations in the customer\\u2019s demands and preferences and innovative technology in the market (zairi, 2011). it is also de\\ufb01ned as an organization\\u2019s competitive market conditions, which are unpredictable and often modify or change over a time period (jaworski & kohli, 1993; slater & narver, 1994). dynamism in the organizational work environment and the continuous changes necessitate \\ufb01rms to recognize the customer upcoming requirements and expectations. it necessitates organizations to identify the average variation of changes of the competitors and understand the environmental uncertainty in the market in which it operates. therefore, the current research proposes that the positive relationship of smes performance and its determinants will be weaker when environmental turbulences are high. however, in such relationship it is also important to consider the innovation adoption level of the smes, which would create positive impact in the business overall performance. innovation adoption level this research proposes that the level of innovation adoption can moderates on the relationship between innovation culture and smes performance. innovation adoption level is divided to two groups (i.e., basic and advanced) in \\ufb01ve sub-categories, starting from level 0 (no adoption) to level 4 (highest level of adoption) adopted from ramayah et al. (2016). in literature, brand and huizingh (2008) studied the e\\ufb00ect of innovation adoption level as moderator for further technology adoption in the e-commerce context brand and huizingh (2008) found that a better understanding of how several factors a\\ufb00ect the intention to adopt an innovation by including the innovation adoption level. following the work of ramayah et al. (2016) and brand and huizingh (2008), in this research we will ask the respondent to illustrate the level of technology adoption in their company based on the following scales; (1) in our company there is culture of technology adoption, (2) our company is in the level of technology presence (we made adoption decision but the implementation is still in process), (3) our company is in the level of business integration (we incorporated technology adoption into the business model and integration of business processes is taking place), and (4) our company is in the level of business transformation (we have the highest level of adoption). this research proposes that the smes\\u2019 performance with the positive e\\ufb00ect of its determinants will be stronger, and a negative relationship will be weaker when a \\ufb01rm is at an advanced innovation adoption level. smes performance in this research, smes performance are measured through \\ufb01nancial and non-\\ufb01nancial performance. performance determines business initiatives and strategies taken by the \\ufb01rm. financial performance - according to venkatraman and ramanujam (1986), business performance has been measured by the indicators of \\ufb01nancial performance which is expected to achieve economic goal of a \\ufb01rm. in the literature, scholars usually used sales growth, pro\\ufb01tability, and return on investment in order to measure \\ufb01nancial performance (venkatraman and ramanujam, 1986, chandler and hanks, 1993). sometimes \\ufb01nancial performance has been measured using subjective indicators such as sales turnover, return on investment, satisfaction with pro\\ufb01tability, and sales growth. however, scholars have clearly proved that subjective indicators are appropriately valid indicators of \\ufb01rm performance (vickery et al., 2003). subjective measurement of \\ufb01nancial performance highlighted by other scholars such as dess and robinson (1984) who suggested that as the objective measures of \\ufb01nancial performance are usually unavailable, it is reasonable and valid to measure \\ufb01nancial performance based on the satisfaction in subjective manner. furthermore, rowe and morrow (1999) noted that subjective measurements of a \\ufb01rm\\u2019s \\ufb01nancial performance are theoretically distinguished from both accounting and market-based measures because subjective measure of \\ufb01nancial performance has no speci\\ufb01c time-based perception. instead, subjective indicators in measuring \\ufb01nancial performance is a shaped perception with the accumulation of satisfaction over the time. non-\\ufb01nancial performance - non-\\ufb01nancial performance has been de\\ufb01ned as measuring a \\ufb01rm\\u2019s intangible value (ittner and larcker, 2003, rahman et al., 2019). in order to measure non-\\ufb01nancial performance, there are diverse indicators in the literature which have been applied to study non-\\ufb01nancial performance. in a study conducted by hafeez et al. (2002) non\\ufb01nancial performance measured by using three indicators which are market share, new product introduction, and customer satisfaction. in the domain of smes related research, scholars believe that very few business \\ufb01rms have made any e\\ufb00ort to identify the non-\\ufb01nancial performance (ahmad et al., 2010). from a comprehensive review of western and eastern context literature, ahmad et al. (2010) suggested a range of indicators of non-\\ufb01nancial performance for smes business success, such as customer satisfaction, customer retention, owner\\u2019s self-satisfaction, \\ufb01rm\\u2019s image and reputation, employee satisfaction, and good workplace relations. based on the problem statement, discussed literature review, and research objectives, the following framework (figure 1) will be used for quantitative research methodology parts. figure 1: research framework, develop by researcher hypotheses: h1&h2: innovation propensity has positive e\\ufb00ect on smes\\u2019 \\ufb01nancial, and non\\ufb01nancial performance h3&h4: organizational constituency has positive e\\ufb00ect on smes\\u2019 \\ufb01nancial, and non\\ufb01nancial performance h5&h6: organizational learning has positive e\\ufb00ect on smes\\u2019 \\ufb01nancial, and non\\ufb01nancial performance h7&h8: creativity and empowerment has positive e\\ufb00ect on smes\\u2019 \\ufb01nancial, and non\\ufb01nancial performance h9&h10: market orientation has positive e\\ufb00ect on smes\\u2019 \\ufb01nancial, and non\\ufb01nancial performance h11&h12: value orientation has positive e\\ufb00ect on smes\\u2019 \\ufb01nancial, and non\\ufb01nancial performance h13&h14: implementation context has positive e\\ufb00ect on smes\\u2019 \\ufb01nancial, and non\\ufb01nancial performanceh15&h21: o wner knowledge on innovation, technological capabilities and environmental turbulence have direct and moderating e\\ufb00ect on smes\\u2019 \\ufb01nancial, and non\\ufb01nancial performance. objectives objectives the current research has few objectives which adjoins the few main domains in the entrepreneurship study, namely: innovation culture, external factors, internal factors, adoption level of innovation, and performance. thus, the current research presents the following research objectives for innovation culture in the context of smes in oman: \\u2022to explore what are the factors a\\ufb00ect or hinder the innovation adoption \\u2022to study the positive in\\ufb02uence of innovation culture factors on smes performance \\u2022to examine the moderating e\\ufb00ect of owner knowledge on innovation, technological capabilities and environmental turbulence on the relationship between innovation culture and smes performance. \\u2022to investigate the level of the innovation adoption and its e\\ufb00ect on smes performance as control variable research methodology [describe your implementation plan,time-line and milestones] methodology this research uses mixed method design considering both quantitative and qualitative to obtain research objective. the data will be collected from all smes in oman and the owner will be the respondents. the research will start with qualitative study to explore the factors that a\\ufb00ect the adoption of innovation in smes. it has been found from previous research that the innovation adoption level is not high among smes in oman (ref: completed grant awarded by sohar university no: susf-2018-03). the low level of adoption brings the curiosity to explore factors a\\ufb00ecting or hindering the adoption of innovation. the interview will be conducted with 20 smes owner. the population of the qualitative study will be all the registered smes with riyada. sampling will be purposive in consultation with the riyada. the unit of analysis for the interview will be the owner who regularly and closely operate the business. in addition, an extensive literature review, discussion will be carried out to explore the a\\ufb00ecting or hindering the adoption of innovation. after qualitative research, the study will move forward with quantitative research approach, which will conduct a cross sectional survey with valid structured questionnaire. the quantitative approach is to validate the relationships between innovation culture dimensions and \\ufb01nancial and non-\\ufb01nancial performance of smes in oman and to \\ufb01nd out the e\\ufb00ect of owner knowledge, technological capability and environment turbulence on these relationships. the population will be same as for the qualitative study and will choose random sampling based on the list generated by riyada. the unit of analysis will be the smes\\u2019 owner. according to the report published by al-abri et al. (2018), majority of the smes about 10,945 are located in muscat governorate (the capital of oman), about 5153 are located in al-batinah north governorate , around 4546 are located in ad-dakhiliyah governorate , about 2495 are located in al-batinah south, about 2938 are located in dhofar governorate, about 2145 are located in ad dhahirah , about 632 are located in al buraimi governorate, about 2349 are located in ash sharqiyah north, about 2956 are located in ash sharqiyah south, about 126 are located in musandam , and about 376 are located in al wusta. data will be collected through drop o\\ufb00 and pick up method and will be analyzed with the \\ufb01rst-generation statistical approach for the descriptive results with spss latest software. further, second-generation statistical technique, structural equation modelling (sem) will be employed to analyze the multiple regressions, adopting the partial least square method using smartpls v.3 software. bene\\ufb01ts to oman this research highlights the signi\\ufb01cance of the study with the following points: \\u2022the study will assist to understand the factors that a\\ufb00ect or hinder innovation adoption by smes in oman. \\u2022the results of the research will help understand various issues about and increase awareness of innovation adoption level in oman. \\u2022the study will reveal the current status of the innovation culture and signi\\ufb01cant determinants of performance. \\u2022it will identify the status of innovation intention and owner\\u2019s knowledge on innovation and adoption \\u2022the study will help in identifying the performance level of smes under high level of environment turbulences \\u2022the study will identify the contribution of technological capabilities in adopting innovation \\u2022the study can be applied as a guideline for omani sme entrepreneurs in the domain of innovation practices. \\u2022it will provide important insights to decision makers, academicians and other vested interested groups on innovation and its impact of smes performance \\u2022it is envisaged that the study results will assist riyada to provide required assistance such as more focused training program to the smes academic, scienti\\ufb01c and/or innovation signi\\ufb01cance there are a number of application issues for researcher, academician, and management consideration. it proposes seven dimensions\\u2019 model of innovation culture o\\ufb00erings a practical method to measure an smes innovation culture along with the managerial knowledge, technological capability in environmental turbulence. a signi\\ufb01cant managerial practices and its focus on dimensions and activities that need to be present for the smes to be considered innovative. moreover, the \\ufb01nal research model could be used to establish a guideline level of innovation culture within an smes. comparative measures of this research model with other countries will helps the smes to \\ufb01nd areas of strength and weakness of the dimensions of innovation. therefore, researchers can address these areas for future e\\ufb00orts and studies. is this project going to result in a patent? no patent review (e.g. any previous similar patents in literature, the potential of this project to result in a patent ...) references reference abdullah, m.a.h. (1999) small and medium enterprises in malaysia: policy issues and challenges, ashgate pub limited. afuah, a. (2002) 'mapping technological capabilities into product markets and competitive advantage: the case of cholesterol drugs', strategic management journal, vol. 23 no. 2, pp.171-179. ahmad, n.h. (2007) a cross cultural study of entrepreneurial competencies and entrepreneurial success in smes in australia and malaysia. ahmad, n.h., halim, h.a. and zainal, s.r.m. (2010) 'is entrepreneurial competency the silver bullet for sme success in a developing nation', international business management, vol. 4 no. 2, pp.67-75. al-abri, m.y., rahim, a.a. and hussain, n. (2018) 'entrepreneurial ecosystem: an exploration of the entrepreneurship model for smes in sultanate of oman', mediterranean journal of social sciences, vol. 9 no. 6, pp.193. amabile, t.m., conti, r., coon, h., lazenby, j. and herron, m. (1996) 'assessing the work environment for creativity', academy of management journal, vol. 39 no. 5, pp.1154-1184.audretsch, d.b. and keilbach, m. (2004) 'does entrepreneurship capital matter?', entrepreneurship theory and practice, vol. 28 no. 5, pp.419-429. barney (1986) 'organizational culture: can it be a source of sustained competitive advantage?', academy of management review, vol. 11 no. 3, pp.656-665. beck, t., demirguc-kunt, a. and levine, r. (2005) 'smes, growth, and poverty: cross-country evidence', journal of economic growth, vol. 10 no. 3, pp.199-229. chandler, g.n. and hanks, s.h. (1993) 'measuring the performance of emerging businesses: a validation study', journal of business venturing, vol. 8 no. 5, pp.391-408. chang, s.e. and lin, c.-s. (2007) 'exploring organizational culture for information security management', industrial management & data systems, vol. 107 no. 3, pp.438-458. chowdhury, m.s.a., azam, m.k.g. and islam, s. (2015) 'problems and prospects of sme \\ufb01nancing in bangladesh', asian business review, vol. 2 no. 2, pp.51-58. dess, g.g. and robinson , r.b. (1984) 'measuring organizational performance in the absence of objective measures: the case of the privately\\u2010held \\ufb01rm and conglomerate business unit', strategic management journal, vol. 5 no. 3, pp.265-273. dobni, c.b. (2008) 'measuring innovation culture in organizations: the development of a generalized innovation culture construct using exploratory factor analysis', european journal of innovation management, vol. 11 no. 4, pp.539-559. fu-lai yu, t. (2001) 'the chinese family business as a strategic system: an evolutionary perspective', international journal of entrepreneurial behavior & research, vol. 7 no. 1, pp.22-40. gallouj, f. (1998) 'innovation in reverse: services and the reverse product cycle', european journal of innovation management, vol. 1 no. 3, pp.123-138. gallupe, b. (2001) 'knowledge management systems: surveying the landscape', international journal of management reviews, vol. 3 no. 1, pp.61-77. govindarajan, v. and trimble, c. (2005) 'organizational dna for strategic innovation', california management review, vol. 47 no. 3, pp.47-76. grant, r.m. (1996) 'toward a knowledge\\u2010based theory of the \\ufb01rm', strategic management journal, vol. 17 no. s2, pp.109-122. hafeez, k., zhang, y. and malak, n. (2002) 'determining key capabilities of a \\ufb01rm using analytic hierarchy process', international journal of production economics, vol. 76 no. 1, pp.39-51. hagedoorn, j., roijakkers, n. and van kranenburg, h. (2006) 'inter\\u2010firm r&d networks: the importance of strategic network capabilities for high\\u2010tech partnership formation 1', british journal of management, vol. 17 no. 1, pp.39-53. halim, h.a., ahmad, n.h., geare, a. and thurasamy, r. (2018) 'innovation culture in smes: the importance of organizational culture, organizational learning and market orientation', entrepreneurship research journal, vol. 9 no. 3, pp.1-14. hazlina ahmad, n., ramayah, t., wilson, c. and kummerow, l. (2010) 'is entrepreneurial competency and business success relationship contingent upon business environment? a study of malaysian smes', international journal of entrepreneurial behavior & research, vol. 16 no. 3, pp.182-203. ittner, c.d. and larcker, d.f. (2003) 'coming up short on non\\ufb01nancial performance measurement', harvard business review, vol. 81 no. 11, pp.88-95. levinthal, d.a. and march, j.g. (1993) 'the myopia of learning', strategic management journal, vol. 14 no. s2, pp.95-112 mahmoud, m.a., blankson, c., owusu-frimpong, n., nwankwo, s. and trang, t.p. (2016) 'market orientation, learning orientation and business performance: the mediating role of innovation', international journal of bank marketing, vol. 34 no. 5, pp.623-648. martins, e. and terblanche, f. (2003) 'building organisational culture that stimulates creativity and innovation', european journal of innovation management, vol. 6 no. 1, pp.64-74. naranjo-valencia, j.c., jim\\u00e9nez-jim\\u00e9nez, d. and sanz-valle, r. (2011) 'innovation or imitation? the role of organizational culture', management decision, vol. 49 no. 1, pp.55-72. nonaka, i., von krogh, g. and voelpel, s. (2006) 'organizational knowledge creation theory: evolutionary paths and future advances', organization studies, vol. 27 no. 8, pp.1179-1208.rahman, s.a., amran, a., ahmad, n.h. and khadijeh taghizadeh, s. (2019) 'the contrasting role of government and ngo support towards the entrepreneurs at base of pyramid and e\\ufb00ect on subjective wellbeing', journal of small business & entrepreneurship, vol. 31 no. 4, pp.269-295. rahman, s.a., taghizadeh, s.k., ramayah, t. and ahmad, n.h. (2015) 'service innovation management practices in the telecommunications industry: what does cross country analysis reveal?', springerplus, vol. 4 no. 1, pp.1-25. ramayah, t., ling, n.s., taghizadeh, s.k. and rahman, s.a. (2016) 'factors in\\ufb02uencing smes website continuance intention in malaysia', telematics and informatics, vol. 33 no. 1, pp.150-164. rothaermel, f.t. and deeds, d.l. (2004) 'exploration and exploitation alliances in biotechnology: a system of new product development', strategic management journal, vol. 25 no. 3, pp.201-221. rowe, w.g. and morrow , j.l. (1999) 'a note on the dimensionality of the \\ufb01rm \\ufb01nancial performance construct using accounting, market, and subjective measures', canadian journal of administrative sciences/revue canadienne des sciences de l'administration, vol. 16 no. 1, pp.58-71. sammarra, a. and biggiero, l. (2008) 'heterogeneity and speci\\ufb01city of inter\\u2010firm knowledge \\ufb02ows in innovation networks', journal of management studies, vol. 45 no. 4, pp.800-829. savlovschi, l.i. and robu, n.r. (2011) 'the role of smes in modern economy', economia, seria management, vol. 14 no. 1, pp.277-281. schein, e.h. (1990) 'organizational culture', american psychologist, vol. 45 no. 2, pp.109. schumpeter, j.a., opie, r. and elliott, j.e. (1934) the theory of economic development: an inquiry into pro\\ufb01ts, capital, credit, interest, and the business cycle, harvard university press, usa. schwartz, b. (1981) vertical classi\\ufb01cation: a study in structuralism and the sociology of knowledge, university of chicago press, chicago, il. taghizadeh, s.k., rahman, s.a., hossain, m.m. and haque, m.m. (2019) 'characteristics of organizational culture in stimulating service innovation and performance', marketing intelligence & planning, vol. vol. ahead-of-print no. ahead-of-print no. thong, j.y. (1999) 'an integrated model of information systems adoption in small businesses', journal of management information systems, vol. 15 no. 4, pp.187-214. thong, j.y. (2001) 'resource constraints and information systems implementation in singaporean small businesses', omega, vol. 29 no. 2, pp.143-156. thong, j.y. and yap, c.-s. (1995) 'ceo characteristics, organizational characteristics and information technology adoption in small businesses', omega, vol. 23 no. 4, pp.429-442. tushman, m.l. and o'reilly, c.a. (2013) winning through innovation: a practical guide to leading organizational change and renewal, harvard business press, usa. uzkurt, c., kumar, r., kimzan, h.s. and eminoglu, g. (2013) 'role of innovation in the relationship between organizational culture and \\ufb01rm performance: a study of the banking sector in turkey', european journal of innovation management, vol. 16 no. 1, pp.92-117. venkatraman, n. and ramanujam, v. (1986) 'measurement of business performance in strategy research: a comparison of approaches', academy of management review, vol. 11 no. 4, pp.801-814. vickery, s.k., jayaram, j., droge, c. and calantone, r. (2003) 'the e\\ufb00ects of an integrative supply chain strategy on customer service and \\ufb01nancial performance: an analysis of direct versus indirect relationships', journal of operations management, vol. 21 no. 5, pp.523-539. zahra, s.a. and george, g. (2002) 'absorptive capacity: a review, reconceptualization, and extension', academy of management review, vol. 27 no. 2, pp.185-203. zhou, k.z. and wu, f. (2010) 'technological capability, strategic \\ufb02exibility, and product innovation', strategic management journal, vol. 31 no. 5, pp.547-561. budget summary : administration cost 0 0 0data collection/ analysis1,100 1,200 2,300 dissemination 0 500 500 equipment and facilities1,200 0 1,200 international conference0 0 0 local conference 0 1,000 1,000 materials and supplies400 400 800 research assistants (post graduate)6,600 5,400 12,000 research assistants (technician)0 0 0 research assistants (undergraduate)0 0 0 local travel 500 500 1,000 duration in months 24 overall trc requested funding (omr) 18,800.00\"\n        ],\n        \"semantic_type\": \"\",\n        \"description\": \"\"\n      }\n    },\n    {\n      \"column\": \"Actual Class\",\n      \"properties\": {\n        \"dtype\": \"number\",\n        \"std\": 0,\n        \"min\": 0,\n        \"max\": 1,\n        \"num_unique_values\": 2,\n        \"samples\": [\n          0,\n          1\n        ],\n        \"semantic_type\": \"\",\n        \"description\": \"\"\n      }\n    },\n    {\n      \"column\": \"Predicted Class\",\n      \"properties\": {\n        \"dtype\": \"number\",\n        \"std\": 0,\n        \"min\": 0,\n        \"max\": 1,\n        \"num_unique_values\": 2,\n        \"samples\": [\n          0,\n          1\n        ],\n        \"semantic_type\": \"\",\n        \"description\": \"\"\n      }\n    }\n  ]\n}"
                  }
                },
                "metadata": {}
              }
            ]
          }
        },
        "d7a90cb09bea4954973c94892d94a9bc": {
          "model_module": "@jupyter-widgets/base",
          "model_name": "LayoutModel",
          "model_module_version": "1.2.0",
          "state": {
            "_model_module": "@jupyter-widgets/base",
            "_model_module_version": "1.2.0",
            "_model_name": "LayoutModel",
            "_view_count": null,
            "_view_module": "@jupyter-widgets/base",
            "_view_module_version": "1.2.0",
            "_view_name": "LayoutView",
            "align_content": null,
            "align_items": null,
            "align_self": null,
            "border": null,
            "bottom": null,
            "display": null,
            "flex": null,
            "flex_flow": null,
            "grid_area": null,
            "grid_auto_columns": null,
            "grid_auto_flow": null,
            "grid_auto_rows": null,
            "grid_column": null,
            "grid_gap": null,
            "grid_row": null,
            "grid_template_areas": null,
            "grid_template_columns": null,
            "grid_template_rows": null,
            "height": null,
            "justify_content": null,
            "justify_items": null,
            "left": null,
            "margin": null,
            "max_height": null,
            "max_width": null,
            "min_height": null,
            "min_width": null,
            "object_fit": null,
            "object_position": null,
            "order": null,
            "overflow": null,
            "overflow_x": null,
            "overflow_y": null,
            "padding": null,
            "right": null,
            "top": null,
            "visibility": null,
            "width": null
          }
        },
        "45019b2b4ec64388851cc0249e75549a": {
          "model_module": "@jupyter-widgets/controls",
          "model_name": "HBoxModel",
          "model_module_version": "1.5.0",
          "state": {
            "_dom_classes": [],
            "_model_module": "@jupyter-widgets/controls",
            "_model_module_version": "1.5.0",
            "_model_name": "HBoxModel",
            "_view_count": null,
            "_view_module": "@jupyter-widgets/controls",
            "_view_module_version": "1.5.0",
            "_view_name": "HBoxView",
            "box_style": "",
            "children": [
              "IPY_MODEL_e8ecc70b0ea4459da5ce17127ac8459c",
              "IPY_MODEL_3fe95d4c29fe4e149ab2d7ddd71ed887",
              "IPY_MODEL_e4a9049e1201433b80e653d43c7a9048"
            ],
            "layout": "IPY_MODEL_377493d50c674ae8a2c0b9e3a20ddc2f"
          }
        },
        "e8ecc70b0ea4459da5ce17127ac8459c": {
          "model_module": "@jupyter-widgets/controls",
          "model_name": "HTMLModel",
          "model_module_version": "1.5.0",
          "state": {
            "_dom_classes": [],
            "_model_module": "@jupyter-widgets/controls",
            "_model_module_version": "1.5.0",
            "_model_name": "HTMLModel",
            "_view_count": null,
            "_view_module": "@jupyter-widgets/controls",
            "_view_module_version": "1.5.0",
            "_view_name": "HTMLView",
            "description": "",
            "description_tooltip": null,
            "layout": "IPY_MODEL_76bebc6c367940488ac556784b3701a0",
            "placeholder": "​",
            "style": "IPY_MODEL_548ca97942494799b589d0138e284a20",
            "value": "tokenizer_config.json: 100%"
          }
        },
        "3fe95d4c29fe4e149ab2d7ddd71ed887": {
          "model_module": "@jupyter-widgets/controls",
          "model_name": "FloatProgressModel",
          "model_module_version": "1.5.0",
          "state": {
            "_dom_classes": [],
            "_model_module": "@jupyter-widgets/controls",
            "_model_module_version": "1.5.0",
            "_model_name": "FloatProgressModel",
            "_view_count": null,
            "_view_module": "@jupyter-widgets/controls",
            "_view_module_version": "1.5.0",
            "_view_name": "ProgressView",
            "bar_style": "success",
            "description": "",
            "description_tooltip": null,
            "layout": "IPY_MODEL_ecf1f3802960445fb80481de3ccde403",
            "max": 49,
            "min": 0,
            "orientation": "horizontal",
            "style": "IPY_MODEL_75db2dfa8a154cb19eb01000c461d056",
            "value": 49
          }
        },
        "e4a9049e1201433b80e653d43c7a9048": {
          "model_module": "@jupyter-widgets/controls",
          "model_name": "HTMLModel",
          "model_module_version": "1.5.0",
          "state": {
            "_dom_classes": [],
            "_model_module": "@jupyter-widgets/controls",
            "_model_module_version": "1.5.0",
            "_model_name": "HTMLModel",
            "_view_count": null,
            "_view_module": "@jupyter-widgets/controls",
            "_view_module_version": "1.5.0",
            "_view_name": "HTMLView",
            "description": "",
            "description_tooltip": null,
            "layout": "IPY_MODEL_2860ddf2d6854931bbcae389c6b17bf3",
            "placeholder": "​",
            "style": "IPY_MODEL_758e34ca8e7f4ba39157ced88c5ee1f4",
            "value": " 49.0/49.0 [00:00&lt;00:00, 3.80kB/s]"
          }
        },
        "377493d50c674ae8a2c0b9e3a20ddc2f": {
          "model_module": "@jupyter-widgets/base",
          "model_name": "LayoutModel",
          "model_module_version": "1.2.0",
          "state": {
            "_model_module": "@jupyter-widgets/base",
            "_model_module_version": "1.2.0",
            "_model_name": "LayoutModel",
            "_view_count": null,
            "_view_module": "@jupyter-widgets/base",
            "_view_module_version": "1.2.0",
            "_view_name": "LayoutView",
            "align_content": null,
            "align_items": null,
            "align_self": null,
            "border": null,
            "bottom": null,
            "display": null,
            "flex": null,
            "flex_flow": null,
            "grid_area": null,
            "grid_auto_columns": null,
            "grid_auto_flow": null,
            "grid_auto_rows": null,
            "grid_column": null,
            "grid_gap": null,
            "grid_row": null,
            "grid_template_areas": null,
            "grid_template_columns": null,
            "grid_template_rows": null,
            "height": null,
            "justify_content": null,
            "justify_items": null,
            "left": null,
            "margin": null,
            "max_height": null,
            "max_width": null,
            "min_height": null,
            "min_width": null,
            "object_fit": null,
            "object_position": null,
            "order": null,
            "overflow": null,
            "overflow_x": null,
            "overflow_y": null,
            "padding": null,
            "right": null,
            "top": null,
            "visibility": null,
            "width": null
          }
        },
        "76bebc6c367940488ac556784b3701a0": {
          "model_module": "@jupyter-widgets/base",
          "model_name": "LayoutModel",
          "model_module_version": "1.2.0",
          "state": {
            "_model_module": "@jupyter-widgets/base",
            "_model_module_version": "1.2.0",
            "_model_name": "LayoutModel",
            "_view_count": null,
            "_view_module": "@jupyter-widgets/base",
            "_view_module_version": "1.2.0",
            "_view_name": "LayoutView",
            "align_content": null,
            "align_items": null,
            "align_self": null,
            "border": null,
            "bottom": null,
            "display": null,
            "flex": null,
            "flex_flow": null,
            "grid_area": null,
            "grid_auto_columns": null,
            "grid_auto_flow": null,
            "grid_auto_rows": null,
            "grid_column": null,
            "grid_gap": null,
            "grid_row": null,
            "grid_template_areas": null,
            "grid_template_columns": null,
            "grid_template_rows": null,
            "height": null,
            "justify_content": null,
            "justify_items": null,
            "left": null,
            "margin": null,
            "max_height": null,
            "max_width": null,
            "min_height": null,
            "min_width": null,
            "object_fit": null,
            "object_position": null,
            "order": null,
            "overflow": null,
            "overflow_x": null,
            "overflow_y": null,
            "padding": null,
            "right": null,
            "top": null,
            "visibility": null,
            "width": null
          }
        },
        "548ca97942494799b589d0138e284a20": {
          "model_module": "@jupyter-widgets/controls",
          "model_name": "DescriptionStyleModel",
          "model_module_version": "1.5.0",
          "state": {
            "_model_module": "@jupyter-widgets/controls",
            "_model_module_version": "1.5.0",
            "_model_name": "DescriptionStyleModel",
            "_view_count": null,
            "_view_module": "@jupyter-widgets/base",
            "_view_module_version": "1.2.0",
            "_view_name": "StyleView",
            "description_width": ""
          }
        },
        "ecf1f3802960445fb80481de3ccde403": {
          "model_module": "@jupyter-widgets/base",
          "model_name": "LayoutModel",
          "model_module_version": "1.2.0",
          "state": {
            "_model_module": "@jupyter-widgets/base",
            "_model_module_version": "1.2.0",
            "_model_name": "LayoutModel",
            "_view_count": null,
            "_view_module": "@jupyter-widgets/base",
            "_view_module_version": "1.2.0",
            "_view_name": "LayoutView",
            "align_content": null,
            "align_items": null,
            "align_self": null,
            "border": null,
            "bottom": null,
            "display": null,
            "flex": null,
            "flex_flow": null,
            "grid_area": null,
            "grid_auto_columns": null,
            "grid_auto_flow": null,
            "grid_auto_rows": null,
            "grid_column": null,
            "grid_gap": null,
            "grid_row": null,
            "grid_template_areas": null,
            "grid_template_columns": null,
            "grid_template_rows": null,
            "height": null,
            "justify_content": null,
            "justify_items": null,
            "left": null,
            "margin": null,
            "max_height": null,
            "max_width": null,
            "min_height": null,
            "min_width": null,
            "object_fit": null,
            "object_position": null,
            "order": null,
            "overflow": null,
            "overflow_x": null,
            "overflow_y": null,
            "padding": null,
            "right": null,
            "top": null,
            "visibility": null,
            "width": null
          }
        },
        "75db2dfa8a154cb19eb01000c461d056": {
          "model_module": "@jupyter-widgets/controls",
          "model_name": "ProgressStyleModel",
          "model_module_version": "1.5.0",
          "state": {
            "_model_module": "@jupyter-widgets/controls",
            "_model_module_version": "1.5.0",
            "_model_name": "ProgressStyleModel",
            "_view_count": null,
            "_view_module": "@jupyter-widgets/base",
            "_view_module_version": "1.2.0",
            "_view_name": "StyleView",
            "bar_color": null,
            "description_width": ""
          }
        },
        "2860ddf2d6854931bbcae389c6b17bf3": {
          "model_module": "@jupyter-widgets/base",
          "model_name": "LayoutModel",
          "model_module_version": "1.2.0",
          "state": {
            "_model_module": "@jupyter-widgets/base",
            "_model_module_version": "1.2.0",
            "_model_name": "LayoutModel",
            "_view_count": null,
            "_view_module": "@jupyter-widgets/base",
            "_view_module_version": "1.2.0",
            "_view_name": "LayoutView",
            "align_content": null,
            "align_items": null,
            "align_self": null,
            "border": null,
            "bottom": null,
            "display": null,
            "flex": null,
            "flex_flow": null,
            "grid_area": null,
            "grid_auto_columns": null,
            "grid_auto_flow": null,
            "grid_auto_rows": null,
            "grid_column": null,
            "grid_gap": null,
            "grid_row": null,
            "grid_template_areas": null,
            "grid_template_columns": null,
            "grid_template_rows": null,
            "height": null,
            "justify_content": null,
            "justify_items": null,
            "left": null,
            "margin": null,
            "max_height": null,
            "max_width": null,
            "min_height": null,
            "min_width": null,
            "object_fit": null,
            "object_position": null,
            "order": null,
            "overflow": null,
            "overflow_x": null,
            "overflow_y": null,
            "padding": null,
            "right": null,
            "top": null,
            "visibility": null,
            "width": null
          }
        },
        "758e34ca8e7f4ba39157ced88c5ee1f4": {
          "model_module": "@jupyter-widgets/controls",
          "model_name": "DescriptionStyleModel",
          "model_module_version": "1.5.0",
          "state": {
            "_model_module": "@jupyter-widgets/controls",
            "_model_module_version": "1.5.0",
            "_model_name": "DescriptionStyleModel",
            "_view_count": null,
            "_view_module": "@jupyter-widgets/base",
            "_view_module_version": "1.2.0",
            "_view_name": "StyleView",
            "description_width": ""
          }
        },
        "f4e6a45db38945758f54ce5a1734adf3": {
          "model_module": "@jupyter-widgets/controls",
          "model_name": "HBoxModel",
          "model_module_version": "1.5.0",
          "state": {
            "_dom_classes": [],
            "_model_module": "@jupyter-widgets/controls",
            "_model_module_version": "1.5.0",
            "_model_name": "HBoxModel",
            "_view_count": null,
            "_view_module": "@jupyter-widgets/controls",
            "_view_module_version": "1.5.0",
            "_view_name": "HBoxView",
            "box_style": "",
            "children": [
              "IPY_MODEL_bdf4b2f0fdad498e94a8d350e9440e86",
              "IPY_MODEL_26e7e15c4042472bb52e966ff4e0f53a",
              "IPY_MODEL_63a545e8977d4d73a4d7447aff600341"
            ],
            "layout": "IPY_MODEL_da4a2639f3b44ce19cd2751153cf4157"
          }
        },
        "bdf4b2f0fdad498e94a8d350e9440e86": {
          "model_module": "@jupyter-widgets/controls",
          "model_name": "HTMLModel",
          "model_module_version": "1.5.0",
          "state": {
            "_dom_classes": [],
            "_model_module": "@jupyter-widgets/controls",
            "_model_module_version": "1.5.0",
            "_model_name": "HTMLModel",
            "_view_count": null,
            "_view_module": "@jupyter-widgets/controls",
            "_view_module_version": "1.5.0",
            "_view_name": "HTMLView",
            "description": "",
            "description_tooltip": null,
            "layout": "IPY_MODEL_8359a2e21c3845ab9f12e32c7b6cb749",
            "placeholder": "​",
            "style": "IPY_MODEL_d3fad367617246c289d34b53d3990410",
            "value": "vocab.txt: 100%"
          }
        },
        "26e7e15c4042472bb52e966ff4e0f53a": {
          "model_module": "@jupyter-widgets/controls",
          "model_name": "FloatProgressModel",
          "model_module_version": "1.5.0",
          "state": {
            "_dom_classes": [],
            "_model_module": "@jupyter-widgets/controls",
            "_model_module_version": "1.5.0",
            "_model_name": "FloatProgressModel",
            "_view_count": null,
            "_view_module": "@jupyter-widgets/controls",
            "_view_module_version": "1.5.0",
            "_view_name": "ProgressView",
            "bar_style": "success",
            "description": "",
            "description_tooltip": null,
            "layout": "IPY_MODEL_1674d477f54249718a1fcc8e5cd07288",
            "max": 995526,
            "min": 0,
            "orientation": "horizontal",
            "style": "IPY_MODEL_a1727d0214234f03be888bc9b514e7e9",
            "value": 995526
          }
        },
        "63a545e8977d4d73a4d7447aff600341": {
          "model_module": "@jupyter-widgets/controls",
          "model_name": "HTMLModel",
          "model_module_version": "1.5.0",
          "state": {
            "_dom_classes": [],
            "_model_module": "@jupyter-widgets/controls",
            "_model_module_version": "1.5.0",
            "_model_name": "HTMLModel",
            "_view_count": null,
            "_view_module": "@jupyter-widgets/controls",
            "_view_module_version": "1.5.0",
            "_view_name": "HTMLView",
            "description": "",
            "description_tooltip": null,
            "layout": "IPY_MODEL_135adcf7687d4ee5ba118dfded7530de",
            "placeholder": "​",
            "style": "IPY_MODEL_c28cc942866c4f91baad735aa81af5c4",
            "value": " 996k/996k [00:00&lt;00:00, 1.44MB/s]"
          }
        },
        "da4a2639f3b44ce19cd2751153cf4157": {
          "model_module": "@jupyter-widgets/base",
          "model_name": "LayoutModel",
          "model_module_version": "1.2.0",
          "state": {
            "_model_module": "@jupyter-widgets/base",
            "_model_module_version": "1.2.0",
            "_model_name": "LayoutModel",
            "_view_count": null,
            "_view_module": "@jupyter-widgets/base",
            "_view_module_version": "1.2.0",
            "_view_name": "LayoutView",
            "align_content": null,
            "align_items": null,
            "align_self": null,
            "border": null,
            "bottom": null,
            "display": null,
            "flex": null,
            "flex_flow": null,
            "grid_area": null,
            "grid_auto_columns": null,
            "grid_auto_flow": null,
            "grid_auto_rows": null,
            "grid_column": null,
            "grid_gap": null,
            "grid_row": null,
            "grid_template_areas": null,
            "grid_template_columns": null,
            "grid_template_rows": null,
            "height": null,
            "justify_content": null,
            "justify_items": null,
            "left": null,
            "margin": null,
            "max_height": null,
            "max_width": null,
            "min_height": null,
            "min_width": null,
            "object_fit": null,
            "object_position": null,
            "order": null,
            "overflow": null,
            "overflow_x": null,
            "overflow_y": null,
            "padding": null,
            "right": null,
            "top": null,
            "visibility": null,
            "width": null
          }
        },
        "8359a2e21c3845ab9f12e32c7b6cb749": {
          "model_module": "@jupyter-widgets/base",
          "model_name": "LayoutModel",
          "model_module_version": "1.2.0",
          "state": {
            "_model_module": "@jupyter-widgets/base",
            "_model_module_version": "1.2.0",
            "_model_name": "LayoutModel",
            "_view_count": null,
            "_view_module": "@jupyter-widgets/base",
            "_view_module_version": "1.2.0",
            "_view_name": "LayoutView",
            "align_content": null,
            "align_items": null,
            "align_self": null,
            "border": null,
            "bottom": null,
            "display": null,
            "flex": null,
            "flex_flow": null,
            "grid_area": null,
            "grid_auto_columns": null,
            "grid_auto_flow": null,
            "grid_auto_rows": null,
            "grid_column": null,
            "grid_gap": null,
            "grid_row": null,
            "grid_template_areas": null,
            "grid_template_columns": null,
            "grid_template_rows": null,
            "height": null,
            "justify_content": null,
            "justify_items": null,
            "left": null,
            "margin": null,
            "max_height": null,
            "max_width": null,
            "min_height": null,
            "min_width": null,
            "object_fit": null,
            "object_position": null,
            "order": null,
            "overflow": null,
            "overflow_x": null,
            "overflow_y": null,
            "padding": null,
            "right": null,
            "top": null,
            "visibility": null,
            "width": null
          }
        },
        "d3fad367617246c289d34b53d3990410": {
          "model_module": "@jupyter-widgets/controls",
          "model_name": "DescriptionStyleModel",
          "model_module_version": "1.5.0",
          "state": {
            "_model_module": "@jupyter-widgets/controls",
            "_model_module_version": "1.5.0",
            "_model_name": "DescriptionStyleModel",
            "_view_count": null,
            "_view_module": "@jupyter-widgets/base",
            "_view_module_version": "1.2.0",
            "_view_name": "StyleView",
            "description_width": ""
          }
        },
        "1674d477f54249718a1fcc8e5cd07288": {
          "model_module": "@jupyter-widgets/base",
          "model_name": "LayoutModel",
          "model_module_version": "1.2.0",
          "state": {
            "_model_module": "@jupyter-widgets/base",
            "_model_module_version": "1.2.0",
            "_model_name": "LayoutModel",
            "_view_count": null,
            "_view_module": "@jupyter-widgets/base",
            "_view_module_version": "1.2.0",
            "_view_name": "LayoutView",
            "align_content": null,
            "align_items": null,
            "align_self": null,
            "border": null,
            "bottom": null,
            "display": null,
            "flex": null,
            "flex_flow": null,
            "grid_area": null,
            "grid_auto_columns": null,
            "grid_auto_flow": null,
            "grid_auto_rows": null,
            "grid_column": null,
            "grid_gap": null,
            "grid_row": null,
            "grid_template_areas": null,
            "grid_template_columns": null,
            "grid_template_rows": null,
            "height": null,
            "justify_content": null,
            "justify_items": null,
            "left": null,
            "margin": null,
            "max_height": null,
            "max_width": null,
            "min_height": null,
            "min_width": null,
            "object_fit": null,
            "object_position": null,
            "order": null,
            "overflow": null,
            "overflow_x": null,
            "overflow_y": null,
            "padding": null,
            "right": null,
            "top": null,
            "visibility": null,
            "width": null
          }
        },
        "a1727d0214234f03be888bc9b514e7e9": {
          "model_module": "@jupyter-widgets/controls",
          "model_name": "ProgressStyleModel",
          "model_module_version": "1.5.0",
          "state": {
            "_model_module": "@jupyter-widgets/controls",
            "_model_module_version": "1.5.0",
            "_model_name": "ProgressStyleModel",
            "_view_count": null,
            "_view_module": "@jupyter-widgets/base",
            "_view_module_version": "1.2.0",
            "_view_name": "StyleView",
            "bar_color": null,
            "description_width": ""
          }
        },
        "135adcf7687d4ee5ba118dfded7530de": {
          "model_module": "@jupyter-widgets/base",
          "model_name": "LayoutModel",
          "model_module_version": "1.2.0",
          "state": {
            "_model_module": "@jupyter-widgets/base",
            "_model_module_version": "1.2.0",
            "_model_name": "LayoutModel",
            "_view_count": null,
            "_view_module": "@jupyter-widgets/base",
            "_view_module_version": "1.2.0",
            "_view_name": "LayoutView",
            "align_content": null,
            "align_items": null,
            "align_self": null,
            "border": null,
            "bottom": null,
            "display": null,
            "flex": null,
            "flex_flow": null,
            "grid_area": null,
            "grid_auto_columns": null,
            "grid_auto_flow": null,
            "grid_auto_rows": null,
            "grid_column": null,
            "grid_gap": null,
            "grid_row": null,
            "grid_template_areas": null,
            "grid_template_columns": null,
            "grid_template_rows": null,
            "height": null,
            "justify_content": null,
            "justify_items": null,
            "left": null,
            "margin": null,
            "max_height": null,
            "max_width": null,
            "min_height": null,
            "min_width": null,
            "object_fit": null,
            "object_position": null,
            "order": null,
            "overflow": null,
            "overflow_x": null,
            "overflow_y": null,
            "padding": null,
            "right": null,
            "top": null,
            "visibility": null,
            "width": null
          }
        },
        "c28cc942866c4f91baad735aa81af5c4": {
          "model_module": "@jupyter-widgets/controls",
          "model_name": "DescriptionStyleModel",
          "model_module_version": "1.5.0",
          "state": {
            "_model_module": "@jupyter-widgets/controls",
            "_model_module_version": "1.5.0",
            "_model_name": "DescriptionStyleModel",
            "_view_count": null,
            "_view_module": "@jupyter-widgets/base",
            "_view_module_version": "1.2.0",
            "_view_name": "StyleView",
            "description_width": ""
          }
        },
        "6d12c4dfca35490b96da8f618f446c2c": {
          "model_module": "@jupyter-widgets/controls",
          "model_name": "HBoxModel",
          "model_module_version": "1.5.0",
          "state": {
            "_dom_classes": [],
            "_model_module": "@jupyter-widgets/controls",
            "_model_module_version": "1.5.0",
            "_model_name": "HBoxModel",
            "_view_count": null,
            "_view_module": "@jupyter-widgets/controls",
            "_view_module_version": "1.5.0",
            "_view_name": "HBoxView",
            "box_style": "",
            "children": [
              "IPY_MODEL_05c6c935e23246b3b789be6df26b6228",
              "IPY_MODEL_a1ad45fd02a141fb80c97e934268a75e",
              "IPY_MODEL_f84c321bf0c345ff879be9bac51ce583"
            ],
            "layout": "IPY_MODEL_e3ea2c4a55a54ad3b5a31dc692a608b2"
          }
        },
        "05c6c935e23246b3b789be6df26b6228": {
          "model_module": "@jupyter-widgets/controls",
          "model_name": "HTMLModel",
          "model_module_version": "1.5.0",
          "state": {
            "_dom_classes": [],
            "_model_module": "@jupyter-widgets/controls",
            "_model_module_version": "1.5.0",
            "_model_name": "HTMLModel",
            "_view_count": null,
            "_view_module": "@jupyter-widgets/controls",
            "_view_module_version": "1.5.0",
            "_view_name": "HTMLView",
            "description": "",
            "description_tooltip": null,
            "layout": "IPY_MODEL_0ee051b4eda9489d9968bf4c3f5a4c9c",
            "placeholder": "​",
            "style": "IPY_MODEL_f300ed43607b4345a096d72b3bae8eb8",
            "value": "tokenizer.json: 100%"
          }
        },
        "a1ad45fd02a141fb80c97e934268a75e": {
          "model_module": "@jupyter-widgets/controls",
          "model_name": "FloatProgressModel",
          "model_module_version": "1.5.0",
          "state": {
            "_dom_classes": [],
            "_model_module": "@jupyter-widgets/controls",
            "_model_module_version": "1.5.0",
            "_model_name": "FloatProgressModel",
            "_view_count": null,
            "_view_module": "@jupyter-widgets/controls",
            "_view_module_version": "1.5.0",
            "_view_name": "ProgressView",
            "bar_style": "success",
            "description": "",
            "description_tooltip": null,
            "layout": "IPY_MODEL_0a6219fd0d1d42f4b7678a4cff71f51f",
            "max": 1961828,
            "min": 0,
            "orientation": "horizontal",
            "style": "IPY_MODEL_9d8d0e64628247829a50671d3a626f5a",
            "value": 1961828
          }
        },
        "f84c321bf0c345ff879be9bac51ce583": {
          "model_module": "@jupyter-widgets/controls",
          "model_name": "HTMLModel",
          "model_module_version": "1.5.0",
          "state": {
            "_dom_classes": [],
            "_model_module": "@jupyter-widgets/controls",
            "_model_module_version": "1.5.0",
            "_model_name": "HTMLModel",
            "_view_count": null,
            "_view_module": "@jupyter-widgets/controls",
            "_view_module_version": "1.5.0",
            "_view_name": "HTMLView",
            "description": "",
            "description_tooltip": null,
            "layout": "IPY_MODEL_bddc406d535841d79349d91169590a3d",
            "placeholder": "​",
            "style": "IPY_MODEL_e0e03e5bf07a48fb9a4b43df39398859",
            "value": " 1.96M/1.96M [00:00&lt;00:00, 2.30MB/s]"
          }
        },
        "e3ea2c4a55a54ad3b5a31dc692a608b2": {
          "model_module": "@jupyter-widgets/base",
          "model_name": "LayoutModel",
          "model_module_version": "1.2.0",
          "state": {
            "_model_module": "@jupyter-widgets/base",
            "_model_module_version": "1.2.0",
            "_model_name": "LayoutModel",
            "_view_count": null,
            "_view_module": "@jupyter-widgets/base",
            "_view_module_version": "1.2.0",
            "_view_name": "LayoutView",
            "align_content": null,
            "align_items": null,
            "align_self": null,
            "border": null,
            "bottom": null,
            "display": null,
            "flex": null,
            "flex_flow": null,
            "grid_area": null,
            "grid_auto_columns": null,
            "grid_auto_flow": null,
            "grid_auto_rows": null,
            "grid_column": null,
            "grid_gap": null,
            "grid_row": null,
            "grid_template_areas": null,
            "grid_template_columns": null,
            "grid_template_rows": null,
            "height": null,
            "justify_content": null,
            "justify_items": null,
            "left": null,
            "margin": null,
            "max_height": null,
            "max_width": null,
            "min_height": null,
            "min_width": null,
            "object_fit": null,
            "object_position": null,
            "order": null,
            "overflow": null,
            "overflow_x": null,
            "overflow_y": null,
            "padding": null,
            "right": null,
            "top": null,
            "visibility": null,
            "width": null
          }
        },
        "0ee051b4eda9489d9968bf4c3f5a4c9c": {
          "model_module": "@jupyter-widgets/base",
          "model_name": "LayoutModel",
          "model_module_version": "1.2.0",
          "state": {
            "_model_module": "@jupyter-widgets/base",
            "_model_module_version": "1.2.0",
            "_model_name": "LayoutModel",
            "_view_count": null,
            "_view_module": "@jupyter-widgets/base",
            "_view_module_version": "1.2.0",
            "_view_name": "LayoutView",
            "align_content": null,
            "align_items": null,
            "align_self": null,
            "border": null,
            "bottom": null,
            "display": null,
            "flex": null,
            "flex_flow": null,
            "grid_area": null,
            "grid_auto_columns": null,
            "grid_auto_flow": null,
            "grid_auto_rows": null,
            "grid_column": null,
            "grid_gap": null,
            "grid_row": null,
            "grid_template_areas": null,
            "grid_template_columns": null,
            "grid_template_rows": null,
            "height": null,
            "justify_content": null,
            "justify_items": null,
            "left": null,
            "margin": null,
            "max_height": null,
            "max_width": null,
            "min_height": null,
            "min_width": null,
            "object_fit": null,
            "object_position": null,
            "order": null,
            "overflow": null,
            "overflow_x": null,
            "overflow_y": null,
            "padding": null,
            "right": null,
            "top": null,
            "visibility": null,
            "width": null
          }
        },
        "f300ed43607b4345a096d72b3bae8eb8": {
          "model_module": "@jupyter-widgets/controls",
          "model_name": "DescriptionStyleModel",
          "model_module_version": "1.5.0",
          "state": {
            "_model_module": "@jupyter-widgets/controls",
            "_model_module_version": "1.5.0",
            "_model_name": "DescriptionStyleModel",
            "_view_count": null,
            "_view_module": "@jupyter-widgets/base",
            "_view_module_version": "1.2.0",
            "_view_name": "StyleView",
            "description_width": ""
          }
        },
        "0a6219fd0d1d42f4b7678a4cff71f51f": {
          "model_module": "@jupyter-widgets/base",
          "model_name": "LayoutModel",
          "model_module_version": "1.2.0",
          "state": {
            "_model_module": "@jupyter-widgets/base",
            "_model_module_version": "1.2.0",
            "_model_name": "LayoutModel",
            "_view_count": null,
            "_view_module": "@jupyter-widgets/base",
            "_view_module_version": "1.2.0",
            "_view_name": "LayoutView",
            "align_content": null,
            "align_items": null,
            "align_self": null,
            "border": null,
            "bottom": null,
            "display": null,
            "flex": null,
            "flex_flow": null,
            "grid_area": null,
            "grid_auto_columns": null,
            "grid_auto_flow": null,
            "grid_auto_rows": null,
            "grid_column": null,
            "grid_gap": null,
            "grid_row": null,
            "grid_template_areas": null,
            "grid_template_columns": null,
            "grid_template_rows": null,
            "height": null,
            "justify_content": null,
            "justify_items": null,
            "left": null,
            "margin": null,
            "max_height": null,
            "max_width": null,
            "min_height": null,
            "min_width": null,
            "object_fit": null,
            "object_position": null,
            "order": null,
            "overflow": null,
            "overflow_x": null,
            "overflow_y": null,
            "padding": null,
            "right": null,
            "top": null,
            "visibility": null,
            "width": null
          }
        },
        "9d8d0e64628247829a50671d3a626f5a": {
          "model_module": "@jupyter-widgets/controls",
          "model_name": "ProgressStyleModel",
          "model_module_version": "1.5.0",
          "state": {
            "_model_module": "@jupyter-widgets/controls",
            "_model_module_version": "1.5.0",
            "_model_name": "ProgressStyleModel",
            "_view_count": null,
            "_view_module": "@jupyter-widgets/base",
            "_view_module_version": "1.2.0",
            "_view_name": "StyleView",
            "bar_color": null,
            "description_width": ""
          }
        },
        "bddc406d535841d79349d91169590a3d": {
          "model_module": "@jupyter-widgets/base",
          "model_name": "LayoutModel",
          "model_module_version": "1.2.0",
          "state": {
            "_model_module": "@jupyter-widgets/base",
            "_model_module_version": "1.2.0",
            "_model_name": "LayoutModel",
            "_view_count": null,
            "_view_module": "@jupyter-widgets/base",
            "_view_module_version": "1.2.0",
            "_view_name": "LayoutView",
            "align_content": null,
            "align_items": null,
            "align_self": null,
            "border": null,
            "bottom": null,
            "display": null,
            "flex": null,
            "flex_flow": null,
            "grid_area": null,
            "grid_auto_columns": null,
            "grid_auto_flow": null,
            "grid_auto_rows": null,
            "grid_column": null,
            "grid_gap": null,
            "grid_row": null,
            "grid_template_areas": null,
            "grid_template_columns": null,
            "grid_template_rows": null,
            "height": null,
            "justify_content": null,
            "justify_items": null,
            "left": null,
            "margin": null,
            "max_height": null,
            "max_width": null,
            "min_height": null,
            "min_width": null,
            "object_fit": null,
            "object_position": null,
            "order": null,
            "overflow": null,
            "overflow_x": null,
            "overflow_y": null,
            "padding": null,
            "right": null,
            "top": null,
            "visibility": null,
            "width": null
          }
        },
        "e0e03e5bf07a48fb9a4b43df39398859": {
          "model_module": "@jupyter-widgets/controls",
          "model_name": "DescriptionStyleModel",
          "model_module_version": "1.5.0",
          "state": {
            "_model_module": "@jupyter-widgets/controls",
            "_model_module_version": "1.5.0",
            "_model_name": "DescriptionStyleModel",
            "_view_count": null,
            "_view_module": "@jupyter-widgets/base",
            "_view_module_version": "1.2.0",
            "_view_name": "StyleView",
            "description_width": ""
          }
        },
        "78baa47220754a53aa390de16bb8101f": {
          "model_module": "@jupyter-widgets/controls",
          "model_name": "HBoxModel",
          "model_module_version": "1.5.0",
          "state": {
            "_dom_classes": [],
            "_model_module": "@jupyter-widgets/controls",
            "_model_module_version": "1.5.0",
            "_model_name": "HBoxModel",
            "_view_count": null,
            "_view_module": "@jupyter-widgets/controls",
            "_view_module_version": "1.5.0",
            "_view_name": "HBoxView",
            "box_style": "",
            "children": [
              "IPY_MODEL_a09f2a98a3fa49f9af3c28d9befd9861",
              "IPY_MODEL_ae22c32936654ae091176ede5eeadbbe",
              "IPY_MODEL_3e2b5af1228c4109bc402f27fc069e04"
            ],
            "layout": "IPY_MODEL_4fad1c07ba7741ec8ab6b554458935e9"
          }
        },
        "a09f2a98a3fa49f9af3c28d9befd9861": {
          "model_module": "@jupyter-widgets/controls",
          "model_name": "HTMLModel",
          "model_module_version": "1.5.0",
          "state": {
            "_dom_classes": [],
            "_model_module": "@jupyter-widgets/controls",
            "_model_module_version": "1.5.0",
            "_model_name": "HTMLModel",
            "_view_count": null,
            "_view_module": "@jupyter-widgets/controls",
            "_view_module_version": "1.5.0",
            "_view_name": "HTMLView",
            "description": "",
            "description_tooltip": null,
            "layout": "IPY_MODEL_240ae72ae21f48558d1771e57e8e8d40",
            "placeholder": "​",
            "style": "IPY_MODEL_96d3a831edc247daba1bb2ac384fcb51",
            "value": "config.json: 100%"
          }
        },
        "ae22c32936654ae091176ede5eeadbbe": {
          "model_module": "@jupyter-widgets/controls",
          "model_name": "FloatProgressModel",
          "model_module_version": "1.5.0",
          "state": {
            "_dom_classes": [],
            "_model_module": "@jupyter-widgets/controls",
            "_model_module_version": "1.5.0",
            "_model_name": "FloatProgressModel",
            "_view_count": null,
            "_view_module": "@jupyter-widgets/controls",
            "_view_module_version": "1.5.0",
            "_view_name": "ProgressView",
            "bar_style": "success",
            "description": "",
            "description_tooltip": null,
            "layout": "IPY_MODEL_ce870bd795a3492c8e4afd5ffe79f187",
            "max": 625,
            "min": 0,
            "orientation": "horizontal",
            "style": "IPY_MODEL_d3b42765a63c43bfafb9b93541c00b31",
            "value": 625
          }
        },
        "3e2b5af1228c4109bc402f27fc069e04": {
          "model_module": "@jupyter-widgets/controls",
          "model_name": "HTMLModel",
          "model_module_version": "1.5.0",
          "state": {
            "_dom_classes": [],
            "_model_module": "@jupyter-widgets/controls",
            "_model_module_version": "1.5.0",
            "_model_name": "HTMLModel",
            "_view_count": null,
            "_view_module": "@jupyter-widgets/controls",
            "_view_module_version": "1.5.0",
            "_view_name": "HTMLView",
            "description": "",
            "description_tooltip": null,
            "layout": "IPY_MODEL_77c82516772c46e59459719245609d0b",
            "placeholder": "​",
            "style": "IPY_MODEL_875c8a07bbd4446ca3a25ffa2746c057",
            "value": " 625/625 [00:00&lt;00:00, 62.8kB/s]"
          }
        },
        "4fad1c07ba7741ec8ab6b554458935e9": {
          "model_module": "@jupyter-widgets/base",
          "model_name": "LayoutModel",
          "model_module_version": "1.2.0",
          "state": {
            "_model_module": "@jupyter-widgets/base",
            "_model_module_version": "1.2.0",
            "_model_name": "LayoutModel",
            "_view_count": null,
            "_view_module": "@jupyter-widgets/base",
            "_view_module_version": "1.2.0",
            "_view_name": "LayoutView",
            "align_content": null,
            "align_items": null,
            "align_self": null,
            "border": null,
            "bottom": null,
            "display": null,
            "flex": null,
            "flex_flow": null,
            "grid_area": null,
            "grid_auto_columns": null,
            "grid_auto_flow": null,
            "grid_auto_rows": null,
            "grid_column": null,
            "grid_gap": null,
            "grid_row": null,
            "grid_template_areas": null,
            "grid_template_columns": null,
            "grid_template_rows": null,
            "height": null,
            "justify_content": null,
            "justify_items": null,
            "left": null,
            "margin": null,
            "max_height": null,
            "max_width": null,
            "min_height": null,
            "min_width": null,
            "object_fit": null,
            "object_position": null,
            "order": null,
            "overflow": null,
            "overflow_x": null,
            "overflow_y": null,
            "padding": null,
            "right": null,
            "top": null,
            "visibility": null,
            "width": null
          }
        },
        "240ae72ae21f48558d1771e57e8e8d40": {
          "model_module": "@jupyter-widgets/base",
          "model_name": "LayoutModel",
          "model_module_version": "1.2.0",
          "state": {
            "_model_module": "@jupyter-widgets/base",
            "_model_module_version": "1.2.0",
            "_model_name": "LayoutModel",
            "_view_count": null,
            "_view_module": "@jupyter-widgets/base",
            "_view_module_version": "1.2.0",
            "_view_name": "LayoutView",
            "align_content": null,
            "align_items": null,
            "align_self": null,
            "border": null,
            "bottom": null,
            "display": null,
            "flex": null,
            "flex_flow": null,
            "grid_area": null,
            "grid_auto_columns": null,
            "grid_auto_flow": null,
            "grid_auto_rows": null,
            "grid_column": null,
            "grid_gap": null,
            "grid_row": null,
            "grid_template_areas": null,
            "grid_template_columns": null,
            "grid_template_rows": null,
            "height": null,
            "justify_content": null,
            "justify_items": null,
            "left": null,
            "margin": null,
            "max_height": null,
            "max_width": null,
            "min_height": null,
            "min_width": null,
            "object_fit": null,
            "object_position": null,
            "order": null,
            "overflow": null,
            "overflow_x": null,
            "overflow_y": null,
            "padding": null,
            "right": null,
            "top": null,
            "visibility": null,
            "width": null
          }
        },
        "96d3a831edc247daba1bb2ac384fcb51": {
          "model_module": "@jupyter-widgets/controls",
          "model_name": "DescriptionStyleModel",
          "model_module_version": "1.5.0",
          "state": {
            "_model_module": "@jupyter-widgets/controls",
            "_model_module_version": "1.5.0",
            "_model_name": "DescriptionStyleModel",
            "_view_count": null,
            "_view_module": "@jupyter-widgets/base",
            "_view_module_version": "1.2.0",
            "_view_name": "StyleView",
            "description_width": ""
          }
        },
        "ce870bd795a3492c8e4afd5ffe79f187": {
          "model_module": "@jupyter-widgets/base",
          "model_name": "LayoutModel",
          "model_module_version": "1.2.0",
          "state": {
            "_model_module": "@jupyter-widgets/base",
            "_model_module_version": "1.2.0",
            "_model_name": "LayoutModel",
            "_view_count": null,
            "_view_module": "@jupyter-widgets/base",
            "_view_module_version": "1.2.0",
            "_view_name": "LayoutView",
            "align_content": null,
            "align_items": null,
            "align_self": null,
            "border": null,
            "bottom": null,
            "display": null,
            "flex": null,
            "flex_flow": null,
            "grid_area": null,
            "grid_auto_columns": null,
            "grid_auto_flow": null,
            "grid_auto_rows": null,
            "grid_column": null,
            "grid_gap": null,
            "grid_row": null,
            "grid_template_areas": null,
            "grid_template_columns": null,
            "grid_template_rows": null,
            "height": null,
            "justify_content": null,
            "justify_items": null,
            "left": null,
            "margin": null,
            "max_height": null,
            "max_width": null,
            "min_height": null,
            "min_width": null,
            "object_fit": null,
            "object_position": null,
            "order": null,
            "overflow": null,
            "overflow_x": null,
            "overflow_y": null,
            "padding": null,
            "right": null,
            "top": null,
            "visibility": null,
            "width": null
          }
        },
        "d3b42765a63c43bfafb9b93541c00b31": {
          "model_module": "@jupyter-widgets/controls",
          "model_name": "ProgressStyleModel",
          "model_module_version": "1.5.0",
          "state": {
            "_model_module": "@jupyter-widgets/controls",
            "_model_module_version": "1.5.0",
            "_model_name": "ProgressStyleModel",
            "_view_count": null,
            "_view_module": "@jupyter-widgets/base",
            "_view_module_version": "1.2.0",
            "_view_name": "StyleView",
            "bar_color": null,
            "description_width": ""
          }
        },
        "77c82516772c46e59459719245609d0b": {
          "model_module": "@jupyter-widgets/base",
          "model_name": "LayoutModel",
          "model_module_version": "1.2.0",
          "state": {
            "_model_module": "@jupyter-widgets/base",
            "_model_module_version": "1.2.0",
            "_model_name": "LayoutModel",
            "_view_count": null,
            "_view_module": "@jupyter-widgets/base",
            "_view_module_version": "1.2.0",
            "_view_name": "LayoutView",
            "align_content": null,
            "align_items": null,
            "align_self": null,
            "border": null,
            "bottom": null,
            "display": null,
            "flex": null,
            "flex_flow": null,
            "grid_area": null,
            "grid_auto_columns": null,
            "grid_auto_flow": null,
            "grid_auto_rows": null,
            "grid_column": null,
            "grid_gap": null,
            "grid_row": null,
            "grid_template_areas": null,
            "grid_template_columns": null,
            "grid_template_rows": null,
            "height": null,
            "justify_content": null,
            "justify_items": null,
            "left": null,
            "margin": null,
            "max_height": null,
            "max_width": null,
            "min_height": null,
            "min_width": null,
            "object_fit": null,
            "object_position": null,
            "order": null,
            "overflow": null,
            "overflow_x": null,
            "overflow_y": null,
            "padding": null,
            "right": null,
            "top": null,
            "visibility": null,
            "width": null
          }
        },
        "875c8a07bbd4446ca3a25ffa2746c057": {
          "model_module": "@jupyter-widgets/controls",
          "model_name": "DescriptionStyleModel",
          "model_module_version": "1.5.0",
          "state": {
            "_model_module": "@jupyter-widgets/controls",
            "_model_module_version": "1.5.0",
            "_model_name": "DescriptionStyleModel",
            "_view_count": null,
            "_view_module": "@jupyter-widgets/base",
            "_view_module_version": "1.2.0",
            "_view_name": "StyleView",
            "description_width": ""
          }
        },
        "f53160b18d6840358c9ccf8f01a0dccc": {
          "model_module": "@jupyter-widgets/controls",
          "model_name": "HBoxModel",
          "model_module_version": "1.5.0",
          "state": {
            "_dom_classes": [],
            "_model_module": "@jupyter-widgets/controls",
            "_model_module_version": "1.5.0",
            "_model_name": "HBoxModel",
            "_view_count": null,
            "_view_module": "@jupyter-widgets/controls",
            "_view_module_version": "1.5.0",
            "_view_name": "HBoxView",
            "box_style": "",
            "children": [
              "IPY_MODEL_84d51dccd9e04b00aff6bb06f729bfc4",
              "IPY_MODEL_2454c96b0525432b97e7617ac9c692e8",
              "IPY_MODEL_dbe7a52b96c347458888eb1e7c72282c"
            ],
            "layout": "IPY_MODEL_c24cb6fb30d54a2dbea1050797f4f96c"
          }
        },
        "84d51dccd9e04b00aff6bb06f729bfc4": {
          "model_module": "@jupyter-widgets/controls",
          "model_name": "HTMLModel",
          "model_module_version": "1.5.0",
          "state": {
            "_dom_classes": [],
            "_model_module": "@jupyter-widgets/controls",
            "_model_module_version": "1.5.0",
            "_model_name": "HTMLModel",
            "_view_count": null,
            "_view_module": "@jupyter-widgets/controls",
            "_view_module_version": "1.5.0",
            "_view_name": "HTMLView",
            "description": "",
            "description_tooltip": null,
            "layout": "IPY_MODEL_90db24ba536e4e71b4761bd1cfbdf986",
            "placeholder": "​",
            "style": "IPY_MODEL_0cc555dc218b4e7298da5b0c305acc3c",
            "value": "model.safetensors: 100%"
          }
        },
        "2454c96b0525432b97e7617ac9c692e8": {
          "model_module": "@jupyter-widgets/controls",
          "model_name": "FloatProgressModel",
          "model_module_version": "1.5.0",
          "state": {
            "_dom_classes": [],
            "_model_module": "@jupyter-widgets/controls",
            "_model_module_version": "1.5.0",
            "_model_name": "FloatProgressModel",
            "_view_count": null,
            "_view_module": "@jupyter-widgets/controls",
            "_view_module_version": "1.5.0",
            "_view_name": "ProgressView",
            "bar_style": "success",
            "description": "",
            "description_tooltip": null,
            "layout": "IPY_MODEL_7a7a68dca9484346b839dd083d5945ec",
            "max": 714290682,
            "min": 0,
            "orientation": "horizontal",
            "style": "IPY_MODEL_01a213dc982e4660a2fb5a2b9a950813",
            "value": 714290682
          }
        },
        "dbe7a52b96c347458888eb1e7c72282c": {
          "model_module": "@jupyter-widgets/controls",
          "model_name": "HTMLModel",
          "model_module_version": "1.5.0",
          "state": {
            "_dom_classes": [],
            "_model_module": "@jupyter-widgets/controls",
            "_model_module_version": "1.5.0",
            "_model_name": "HTMLModel",
            "_view_count": null,
            "_view_module": "@jupyter-widgets/controls",
            "_view_module_version": "1.5.0",
            "_view_name": "HTMLView",
            "description": "",
            "description_tooltip": null,
            "layout": "IPY_MODEL_c7765fe7d59044efa355a605bd47cf26",
            "placeholder": "​",
            "style": "IPY_MODEL_eb4477d8b74047298a484203b92a7412",
            "value": " 714M/714M [00:07&lt;00:00, 90.9MB/s]"
          }
        },
        "c24cb6fb30d54a2dbea1050797f4f96c": {
          "model_module": "@jupyter-widgets/base",
          "model_name": "LayoutModel",
          "model_module_version": "1.2.0",
          "state": {
            "_model_module": "@jupyter-widgets/base",
            "_model_module_version": "1.2.0",
            "_model_name": "LayoutModel",
            "_view_count": null,
            "_view_module": "@jupyter-widgets/base",
            "_view_module_version": "1.2.0",
            "_view_name": "LayoutView",
            "align_content": null,
            "align_items": null,
            "align_self": null,
            "border": null,
            "bottom": null,
            "display": null,
            "flex": null,
            "flex_flow": null,
            "grid_area": null,
            "grid_auto_columns": null,
            "grid_auto_flow": null,
            "grid_auto_rows": null,
            "grid_column": null,
            "grid_gap": null,
            "grid_row": null,
            "grid_template_areas": null,
            "grid_template_columns": null,
            "grid_template_rows": null,
            "height": null,
            "justify_content": null,
            "justify_items": null,
            "left": null,
            "margin": null,
            "max_height": null,
            "max_width": null,
            "min_height": null,
            "min_width": null,
            "object_fit": null,
            "object_position": null,
            "order": null,
            "overflow": null,
            "overflow_x": null,
            "overflow_y": null,
            "padding": null,
            "right": null,
            "top": null,
            "visibility": null,
            "width": null
          }
        },
        "90db24ba536e4e71b4761bd1cfbdf986": {
          "model_module": "@jupyter-widgets/base",
          "model_name": "LayoutModel",
          "model_module_version": "1.2.0",
          "state": {
            "_model_module": "@jupyter-widgets/base",
            "_model_module_version": "1.2.0",
            "_model_name": "LayoutModel",
            "_view_count": null,
            "_view_module": "@jupyter-widgets/base",
            "_view_module_version": "1.2.0",
            "_view_name": "LayoutView",
            "align_content": null,
            "align_items": null,
            "align_self": null,
            "border": null,
            "bottom": null,
            "display": null,
            "flex": null,
            "flex_flow": null,
            "grid_area": null,
            "grid_auto_columns": null,
            "grid_auto_flow": null,
            "grid_auto_rows": null,
            "grid_column": null,
            "grid_gap": null,
            "grid_row": null,
            "grid_template_areas": null,
            "grid_template_columns": null,
            "grid_template_rows": null,
            "height": null,
            "justify_content": null,
            "justify_items": null,
            "left": null,
            "margin": null,
            "max_height": null,
            "max_width": null,
            "min_height": null,
            "min_width": null,
            "object_fit": null,
            "object_position": null,
            "order": null,
            "overflow": null,
            "overflow_x": null,
            "overflow_y": null,
            "padding": null,
            "right": null,
            "top": null,
            "visibility": null,
            "width": null
          }
        },
        "0cc555dc218b4e7298da5b0c305acc3c": {
          "model_module": "@jupyter-widgets/controls",
          "model_name": "DescriptionStyleModel",
          "model_module_version": "1.5.0",
          "state": {
            "_model_module": "@jupyter-widgets/controls",
            "_model_module_version": "1.5.0",
            "_model_name": "DescriptionStyleModel",
            "_view_count": null,
            "_view_module": "@jupyter-widgets/base",
            "_view_module_version": "1.2.0",
            "_view_name": "StyleView",
            "description_width": ""
          }
        },
        "7a7a68dca9484346b839dd083d5945ec": {
          "model_module": "@jupyter-widgets/base",
          "model_name": "LayoutModel",
          "model_module_version": "1.2.0",
          "state": {
            "_model_module": "@jupyter-widgets/base",
            "_model_module_version": "1.2.0",
            "_model_name": "LayoutModel",
            "_view_count": null,
            "_view_module": "@jupyter-widgets/base",
            "_view_module_version": "1.2.0",
            "_view_name": "LayoutView",
            "align_content": null,
            "align_items": null,
            "align_self": null,
            "border": null,
            "bottom": null,
            "display": null,
            "flex": null,
            "flex_flow": null,
            "grid_area": null,
            "grid_auto_columns": null,
            "grid_auto_flow": null,
            "grid_auto_rows": null,
            "grid_column": null,
            "grid_gap": null,
            "grid_row": null,
            "grid_template_areas": null,
            "grid_template_columns": null,
            "grid_template_rows": null,
            "height": null,
            "justify_content": null,
            "justify_items": null,
            "left": null,
            "margin": null,
            "max_height": null,
            "max_width": null,
            "min_height": null,
            "min_width": null,
            "object_fit": null,
            "object_position": null,
            "order": null,
            "overflow": null,
            "overflow_x": null,
            "overflow_y": null,
            "padding": null,
            "right": null,
            "top": null,
            "visibility": null,
            "width": null
          }
        },
        "01a213dc982e4660a2fb5a2b9a950813": {
          "model_module": "@jupyter-widgets/controls",
          "model_name": "ProgressStyleModel",
          "model_module_version": "1.5.0",
          "state": {
            "_model_module": "@jupyter-widgets/controls",
            "_model_module_version": "1.5.0",
            "_model_name": "ProgressStyleModel",
            "_view_count": null,
            "_view_module": "@jupyter-widgets/base",
            "_view_module_version": "1.2.0",
            "_view_name": "StyleView",
            "bar_color": null,
            "description_width": ""
          }
        },
        "c7765fe7d59044efa355a605bd47cf26": {
          "model_module": "@jupyter-widgets/base",
          "model_name": "LayoutModel",
          "model_module_version": "1.2.0",
          "state": {
            "_model_module": "@jupyter-widgets/base",
            "_model_module_version": "1.2.0",
            "_model_name": "LayoutModel",
            "_view_count": null,
            "_view_module": "@jupyter-widgets/base",
            "_view_module_version": "1.2.0",
            "_view_name": "LayoutView",
            "align_content": null,
            "align_items": null,
            "align_self": null,
            "border": null,
            "bottom": null,
            "display": null,
            "flex": null,
            "flex_flow": null,
            "grid_area": null,
            "grid_auto_columns": null,
            "grid_auto_flow": null,
            "grid_auto_rows": null,
            "grid_column": null,
            "grid_gap": null,
            "grid_row": null,
            "grid_template_areas": null,
            "grid_template_columns": null,
            "grid_template_rows": null,
            "height": null,
            "justify_content": null,
            "justify_items": null,
            "left": null,
            "margin": null,
            "max_height": null,
            "max_width": null,
            "min_height": null,
            "min_width": null,
            "object_fit": null,
            "object_position": null,
            "order": null,
            "overflow": null,
            "overflow_x": null,
            "overflow_y": null,
            "padding": null,
            "right": null,
            "top": null,
            "visibility": null,
            "width": null
          }
        },
        "eb4477d8b74047298a484203b92a7412": {
          "model_module": "@jupyter-widgets/controls",
          "model_name": "DescriptionStyleModel",
          "model_module_version": "1.5.0",
          "state": {
            "_model_module": "@jupyter-widgets/controls",
            "_model_module_version": "1.5.0",
            "_model_name": "DescriptionStyleModel",
            "_view_count": null,
            "_view_module": "@jupyter-widgets/base",
            "_view_module_version": "1.2.0",
            "_view_name": "StyleView",
            "description_width": ""
          }
        }
      }
    }
  },
  "nbformat": 4,
  "nbformat_minor": 0
}